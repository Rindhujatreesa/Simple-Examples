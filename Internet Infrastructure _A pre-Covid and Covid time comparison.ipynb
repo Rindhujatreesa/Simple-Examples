{
 "cells": [
  {
   "cell_type": "code",
   "execution_count": 3,
   "id": "6adcfcb1",
   "metadata": {},
   "outputs": [],
   "source": [
    "import pandas as pd\n",
    "import numpy as np"
   ]
  },
  {
   "cell_type": "code",
   "execution_count": 4,
   "id": "d19d07d8",
   "metadata": {},
   "outputs": [],
   "source": [
    "data = pd.read_csv(\"E:\\Backup\\Academic\\Project Work\\Data\\Improvement Parameters\\Combined_data.csv\")\n",
    "N_data = pd.read_csv(\"E:\\Backup\\Academic\\Project Work\\Data\\Improvement Parameters\\\\N_Combined.csv\")"
   ]
  },
  {
   "cell_type": "code",
   "execution_count": 5,
   "id": "9ab964fb",
   "metadata": {},
   "outputs": [],
   "source": [
    "def normalize_to_csv(x,x_norm):\n",
    "    var = data[x]\n",
    "    N_data[x_norm] = (var - np.mean(var))/np.std(var)\n",
    "    N_data.to_csv(\"E:\\Backup\\Academic\\Project Work\\Data\\Improvement Parameters\\\\N_Combined.csv\")"
   ]
  },
  {
   "cell_type": "code",
   "execution_count": 6,
   "id": "e7c9c947",
   "metadata": {},
   "outputs": [
    {
     "data": {
      "text/plain": [
       "Index(['Quarter', 'Ethernet/LAN', 'Fibre', 'LTE/FW_LTE',\n",
       "       'Total ISP subscribers', 'Wireless Internet', 'Wired Internet',\n",
       "       'Broadband', 'Monthly ARPU', 'Minutes of Internet Usage per month',\n",
       "       'Internet Telephony in minutes (in millions)',\n",
       "       'Wireless Data usage (Gb) per month', 'Cost to subscriber per Gb'],\n",
       "      dtype='object')"
      ]
     },
     "execution_count": 6,
     "metadata": {},
     "output_type": "execute_result"
    }
   ],
   "source": [
    "data.columns"
   ]
  },
  {
   "cell_type": "code",
   "execution_count": 7,
   "id": "61162a5c",
   "metadata": {
    "scrolled": true
   },
   "outputs": [
    {
     "data": {
      "text/plain": [
       "Index(['Ethernet/LAN', 'Fibre', 'LTE/FW_LTE', 'Total ISP subscribers',\n",
       "       'Wireless Internet', 'Wired Internet', 'Broadband', 'Monthly ARPU',\n",
       "       'Minutes of Internet Usage per month',\n",
       "       'Internet Telephony in minutes (in millions)',\n",
       "       'Wireless Data usage (Gb) per month', 'Cost to subscriber per Gb'],\n",
       "      dtype='object')"
      ]
     },
     "execution_count": 7,
     "metadata": {},
     "output_type": "execute_result"
    }
   ],
   "source": [
    "N_data.columns"
   ]
  },
  {
   "cell_type": "code",
   "execution_count": 8,
   "id": "d377a2d0",
   "metadata": {},
   "outputs": [
    {
     "data": {
      "text/plain": [
       "array([[-1.4554684 , -0.72203749, -1.60883961, -1.50738224, -1.505376  ,\n",
       "        -1.19224382, -1.67620265,  1.29298486, -1.43884579,  1.27314714,\n",
       "        -1.33143535,  2.        ],\n",
       "       [-1.26486139, -0.71305879, -1.59682656, -1.4618024 , -1.4615016 ,\n",
       "        -1.00286569, -1.61972708,  1.2494665 , -1.46291431,  1.15115193,\n",
       "        -1.33011331,  2.        ],\n",
       "       [-1.02409465, -0.68163332, -1.5282861 , -1.36284235, -1.36510644,\n",
       "        -0.70696237, -1.48099263,  1.4670583 , -1.52910272,  1.06982179,\n",
       "        -1.31424893,  2.        ],\n",
       "       [-0.81342375, -0.69734605, -1.29486753, -1.22301762, -1.22618056,\n",
       "        -0.5590107 , -1.28009375,  1.9022419 , -1.56520549,  0.74450121,\n",
       "        -1.19639926,  2.        ],\n",
       "       [-0.8234557 , -0.68836735, -1.12944515, -1.04436563, -1.0472945 ,\n",
       "        -0.51758424, -1.09460982,  1.4670583 , -1.29443472,  0.88682896,\n",
       "        -1.17298041,  1.78192   ],\n",
       "       [-0.49240143, -0.67265462, -1.01083088, -0.99185859, -0.99512427,\n",
       "        -0.46432164, -0.98303502,  1.16242978, -1.15604077,  0.92749403,\n",
       "        -1.12803134,  1.36320516],\n",
       "       [-0.6127848 , -0.67489929, -0.87021214, -1.00338453, -1.00488063,\n",
       "        -0.65369977, -0.87269892, -0.5783046 , -1.10188661,  1.39514236,\n",
       "        -1.06192976,  2.3134622 ],\n",
       "       [-0.52249727, -0.66816526, -0.70560617, -0.90599619, -0.90679125,\n",
       "        -0.69512623, -0.69845505, -0.7958964 , -0.75289317,  2.18811125,\n",
       "        -0.99771679,  1.71923814],\n",
       "       [-0.45227364, -0.63000577, -0.51331966, -0.62657958, -0.62607685,\n",
       "        -0.7187985 , -0.47030476, -0.92645148, -0.21736876,  0.88682896,\n",
       "        -0.9070632 ,  0.7388938 ],\n",
       "       [-0.4021139 , -0.59409095, -0.33638963, -0.520052  , -0.51869848,\n",
       "        -0.76614303, -0.31193461, -1.23107999, -0.07295768, -0.52058916,\n",
       "        -0.76541696,  0.01679874],\n",
       "       [-0.56262506, -0.52899534, -0.12377035, -0.24209068, -0.24026251,\n",
       "        -0.71288043, -0.15328919, -1.30114455,  0.04136776, -0.29245811,\n",
       "         0.21288644, -0.27153783],\n",
       "       [-0.44224169, -0.5043039 ,  0.06326775,  0.01520544,  0.01696652,\n",
       "        -0.6122733 ,  0.04701327, -1.18190425,  0.28205289, -0.21112797,\n",
       "         0.29220833, -0.36932154],\n",
       "       [-0.36198611, -0.47287844,  0.22783483,  0.20450686,  0.20543367,\n",
       "        -0.45840357,  0.22111951, -1.12707111,  0.43248109, -0.35345572,\n",
       "         0.35264406, -1.01369109],\n",
       "       [-0.28173053, -0.42574024,  0.37968908,  0.37087678,  0.37298599,\n",
       "        -0.46432164,  0.36462526, -1.00043269,  0.48663525, -0.32621012,\n",
       "         0.48673584, -1.07637295],\n",
       "       [-0.12121937, -0.2506555 ,  0.53255414,  0.50076996,  0.49940971,\n",
       "        -0.11515571,  0.50606651, -0.99695122,  0.42646397, -0.35162579,\n",
       "         0.60005283, -1.25689672],\n",
       "       [ 0.05935569, -0.16984716,  0.71329413,  0.6819255 ,  0.68045735,\n",
       "        -0.03822085,  0.67361222, -0.81112783,  0.55282366, -0.67186323,\n",
       "         0.60571869, -0.88832736],\n",
       "       [ 0.2298988 , -0.11373026,  0.8329192 ,  0.82425596,  0.88154351,\n",
       "        -0.02638471,  0.7906006 , -0.25235209,  0.78147453, -0.67186323,\n",
       "         0.71903568, -0.19130505],\n",
       "       [ 0.61111281,  0.19603505,  0.87988283,  0.85846149,  0.85367654,\n",
       "         0.35828961,  0.84010274, -0.31197224,  0.74537176, -1.83630755,\n",
       "         0.93622659, -0.36179971],\n",
       "       [ 1.17290187,  0.46539619,  0.9945705 ,  1.01784538,  1.00609774,\n",
       "         1.12763826,  0.96897347, -0.01822331,  0.84766294, -0.64665088,\n",
       "         0.90034287, -0.26150873],\n",
       "       [ 1.49392419,  0.77516149,  1.08157762,  1.12687607,  1.10856872,\n",
       "         1.82597012,  1.06572975,  0.18979445,  0.99207402, -0.75563328,\n",
       "         0.93244935, -0.24646509],\n",
       "       [ 1.72465899,  1.10961824,  1.20361308,  1.30221   ,  1.28190475,\n",
       "         2.09228311,  1.20648283,  0.27378488,  1.19063925, -0.80300808,\n",
       "         0.97022169, -0.30663967],\n",
       "       [ 2.12593689,  1.48447915,  1.27028744,  1.35116612,  1.34511661,\n",
       "         0.66602907,  1.27387731,  0.32078471,  1.16055361, -1.23649775,\n",
       "         1.30450682, -0.5498453 ],\n",
       "       [ 2.0858091 ,  1.99626531,  1.27825726,  1.3545424 ,  1.34330555,\n",
       "         1.19273699,  1.36879847,  0.47309897,  1.24479341, -0.541735  ,\n",
       "         1.42348967, -0.61754171],\n",
       "       [ 0.12957932,  3.18145431,  1.2606459 ,  1.28072985,  1.30182642,\n",
       "         2.44144904,  1.31434153,  0.73420912,  1.40725587, -1.30400176,\n",
       "         1.46881646, -0.52226528]])"
      ]
     },
     "execution_count": 8,
     "metadata": {},
     "output_type": "execute_result"
    }
   ],
   "source": [
    "N_data_array = N_data.to_numpy()\n",
    "N_data_array"
   ]
  },
  {
   "cell_type": "code",
   "execution_count": 8,
   "id": "cfb877cf",
   "metadata": {},
   "outputs": [],
   "source": [
    "#normalize_to_csv('Ethernet/LAN','Ethernet/LAN')"
   ]
  },
  {
   "cell_type": "code",
   "execution_count": 9,
   "id": "1427f161",
   "metadata": {},
   "outputs": [],
   "source": [
    "#normalize_to_csv('Fibre','Fibre')"
   ]
  },
  {
   "cell_type": "code",
   "execution_count": 10,
   "id": "0f2e045d",
   "metadata": {},
   "outputs": [],
   "source": [
    "#normalize_to_csv('LTE/FW_LTE','LTE/FW_LTE')"
   ]
  },
  {
   "cell_type": "code",
   "execution_count": 11,
   "id": "66234e2a",
   "metadata": {},
   "outputs": [],
   "source": [
    "#normalize_to_csv('Total ISP subscribers','Total ISP subscribers')"
   ]
  },
  {
   "cell_type": "code",
   "execution_count": 12,
   "id": "52b966c3",
   "metadata": {},
   "outputs": [],
   "source": [
    "#normalize_to_csv('Wireless Internet','Wireless Internet')"
   ]
  },
  {
   "cell_type": "code",
   "execution_count": 13,
   "id": "42fdf083",
   "metadata": {},
   "outputs": [],
   "source": [
    "#normalize_to_csv('Wired Internet','Wired Internet')"
   ]
  },
  {
   "cell_type": "code",
   "execution_count": 14,
   "id": "ace079a2",
   "metadata": {},
   "outputs": [],
   "source": [
    "#normalize_to_csv('Broadband','Broadband')"
   ]
  },
  {
   "cell_type": "code",
   "execution_count": 15,
   "id": "64c26728",
   "metadata": {},
   "outputs": [],
   "source": [
    "#normalize_to_csv('Monthly ARPU','Monthly ARPU')"
   ]
  },
  {
   "cell_type": "code",
   "execution_count": 16,
   "id": "bb3633ca",
   "metadata": {},
   "outputs": [],
   "source": [
    "#normalize_to_csv('Minutes of Internet Usage per month','Minutes of Internet Usage per month')"
   ]
  },
  {
   "cell_type": "code",
   "execution_count": 17,
   "id": "7f3b1648",
   "metadata": {},
   "outputs": [],
   "source": [
    "#normalize_to_csv('Internet Telephony in minutes (in millions)','Internet Telephony in minutes (in millions)')"
   ]
  },
  {
   "cell_type": "code",
   "execution_count": 18,
   "id": "7a1d62f2",
   "metadata": {},
   "outputs": [],
   "source": [
    "#normalize_to_csv('Wireless Data usage (Gb) per month','Wireless Data usage (Gb) per month')"
   ]
  },
  {
   "cell_type": "code",
   "execution_count": 19,
   "id": "d9c187d8",
   "metadata": {},
   "outputs": [],
   "source": [
    "#normalize_to_csv(\"Cost to subscriber per Gb\",\"Cost to subscriber per Gb\")"
   ]
  },
  {
   "cell_type": "code",
   "execution_count": 9,
   "id": "644ca57a",
   "metadata": {},
   "outputs": [],
   "source": [
    "import matplotlib.pyplot as plt\n",
    "%matplotlib inline\n",
    "import seaborn as sns"
   ]
  },
  {
   "cell_type": "code",
   "execution_count": 10,
   "id": "5e21607c",
   "metadata": {},
   "outputs": [
    {
     "data": {
      "text/plain": [
       "<AxesSubplot:>"
      ]
     },
     "execution_count": 10,
     "metadata": {},
     "output_type": "execute_result"
    },
    {
     "data": {
      "image/png": "[encoded data removed]",
      "text/plain": [
       "<Figure size 720x720 with 2 Axes>"
      ]
     },
     "metadata": {
      "needs_background": "light"
     },
     "output_type": "display_data"
    }
   ],
   "source": [
    "plt.figure(figsize = (10,10))\n",
    "sns.heatmap(N_data.corr(), cmap = 'Spectral', square = True, annot = True)"
   ]
  },
  {
   "cell_type": "markdown",
   "id": "4a71625c",
   "metadata": {},
   "source": [
    "#### Singular Value Decomposition"
   ]
  },
  {
   "cell_type": "code",
   "execution_count": 11,
   "id": "4427f45e",
   "metadata": {},
   "outputs": [
    {
     "data": {
      "text/plain": [
       "(24, 12)"
      ]
     },
     "execution_count": 11,
     "metadata": {},
     "output_type": "execute_result"
    }
   ],
   "source": [
    "N_data.shape"
   ]
  },
  {
   "cell_type": "code",
   "execution_count": 12,
   "id": "305ff243",
   "metadata": {
    "scrolled": true
   },
   "outputs": [
    {
     "data": {
      "text/plain": [
       "array([[ 1.8154203 ,  1.75161229,  1.71361664,  1.64616836,  1.46014102,\n",
       "         1.24412164,  1.23647045,  1.11461213,  0.49758279, -0.04464843,\n",
       "        -0.22235134, -0.32093178, -0.57931065, -0.6374247 , -0.7634452 ,\n",
       "        -0.78359008, -0.60058717, -0.92477436, -0.77090348, -0.85387704,\n",
       "        -0.96062812, -1.08801319, -1.00428021, -0.99336172],\n",
       "       [ 1.75161229,  1.69564525,  1.66584014,  1.60558626,  1.42080025,\n",
       "         1.21239194,  1.20238976,  1.07189358,  0.47510919, -0.04440852,\n",
       "        -0.22801976, -0.3255947 , -0.57751134, -0.63574249, -0.75342935,\n",
       "        -0.76782833, -0.58876002, -0.88577973, -0.73157885, -0.80066319,\n",
       "        -0.90101991, -1.03811716, -0.95923505, -0.95369828],\n",
       "       [ 1.71361664,  1.66584014,  1.65013446,  1.60630426,  1.41346819,\n",
       "         1.20787935,  1.15637902,  1.0116692 ,  0.43465994, -0.06372723,\n",
       "        -0.25810854, -0.35415815, -0.59588464, -0.65273824, -0.75991794,\n",
       "        -0.76764413, -0.58860249, -0.85682405, -0.69787136, -0.74864962,\n",
       "        -0.84258757, -0.99530105, -0.91955828, -0.91253613],\n",
       "       [ 1.64616836,  1.60558626,  1.60630426,  1.59710303,  1.3889545 ,\n",
       "         1.18082753,  1.0497325 ,  0.87351658,  0.35216886, -0.09122739,\n",
       "        -0.29047824, -0.38122792, -0.60575891, -0.65542197, -0.75397056,\n",
       "        -0.7427397 , -0.55159634, -0.7709464 , -0.64278724, -0.67989532,\n",
       "        -0.76790415, -0.9033314 , -0.85331458, -0.83953135],\n",
       "       [ 1.46014102,  1.42080025,  1.41346819,  1.3889545 ,  1.22035664,\n",
       "         1.04093947,  0.97156946,  0.83912025,  0.3575364 , -0.0589448 ,\n",
       "        -0.23399198, -0.31186299, -0.51357464, -0.55911337, -0.65000635,\n",
       "        -0.64853809, -0.48790173, -0.71386752, -0.58525491, -0.62783276,\n",
       "        -0.70934964, -0.84598156, -0.7935544 , -0.79373143],\n",
       "       [ 1.24412164,  1.21239194,  1.20787935,  1.18082753,  1.04093947,\n",
       "         0.90070423,  0.84454937,  0.75357205,  0.32561014, -0.04910777,\n",
       "        -0.20618797, -0.27214632, -0.44151457, -0.48154694, -0.55691666,\n",
       "        -0.56542587, -0.43838858, -0.64520469, -0.50475322, -0.53930375,\n",
       "        -0.60821938, -0.72856645, -0.67425764, -0.73847218],\n",
       "       [ 1.23647045,  1.20238976,  1.15637902,  1.0497325 ,  0.97156946,\n",
       "         0.84454937,  1.17338672,  1.10683678,  0.56498563,  0.11835789,\n",
       "        -0.02781699, -0.11173575, -0.34944769, -0.40820933, -0.50275552,\n",
       "        -0.51841215, -0.41227118, -0.68260582, -0.53788855, -0.61715968,\n",
       "        -0.70634466, -0.85177434, -0.79993061, -0.92935848],\n",
       "       [ 1.11461213,  1.07189358,  1.0116692 ,  0.87351658,  0.83912025,\n",
       "         0.75357205,  1.10683678,  1.14582402,  0.60075813,  0.12241702,\n",
       "         0.01436902, -0.05320575, -0.2570899 , -0.30996494, -0.39909124,\n",
       "        -0.45810948, -0.40269074, -0.7427837 , -0.54047231, -0.63787489,\n",
       "        -0.72646243, -0.87254073, -0.78251505, -0.99465717],\n",
       "       [ 0.49758279,  0.47510919,  0.43465994,  0.35216886,  0.3575364 ,\n",
       "         0.32561014,  0.56498563,  0.60075813,  0.34442146,  0.11259576,\n",
       "         0.04806651,  0.02027708, -0.08325831, -0.1110852 , -0.16421081,\n",
       "        -0.18935047, -0.16290271, -0.34481438, -0.25471584, -0.31420515,\n",
       "        -0.35781369, -0.42183433, -0.39077091, -0.53097708],\n",
       "       [-0.04464843, -0.04440852, -0.06372723, -0.09122739, -0.0589448 ,\n",
       "        -0.04910777,  0.11835789,  0.12241702,  0.11259576,  0.10971881,\n",
       "         0.08317318,  0.08192767,  0.05421849,  0.04642797,  0.02860206,\n",
       "         0.04314818,  0.049245  ,  0.03369414,  0.00958712, -0.01226326,\n",
       "        -0.01714593, -0.00342399, -0.03301047, -0.09797807],\n",
       "       [-0.22235134, -0.22801976, -0.25810854, -0.29047824, -0.23399198,\n",
       "        -0.20618797, -0.02781699,  0.01436902,  0.04806651,  0.08317318,\n",
       "         0.15514482,  0.16335606,  0.16472721,  0.16893409,  0.16140126,\n",
       "         0.1537561 ,  0.12723882,  0.11173207,  0.06147242,  0.02074742,\n",
       "         0.01127772,  0.05626789,  0.03188517, -0.01105881],\n",
       "       [-0.32093178, -0.3255947 , -0.35415815, -0.38122792, -0.31186299,\n",
       "        -0.27214632, -0.11173575, -0.05320575,  0.02027708,  0.08192767,\n",
       "         0.16335606,  0.18264132,  0.20468544,  0.21485452,  0.21186888,\n",
       "         0.20402256,  0.16873737,  0.15691717,  0.09982624,  0.05862007,\n",
       "         0.05366918,  0.10572753,  0.07405395,  0.01892681],\n",
       "       [-0.57931065, -0.57751134, -0.59588464, -0.60575891, -0.51357464,\n",
       "        -0.44151457, -0.34944769, -0.2570899 , -0.08325831,  0.05421849,\n",
       "         0.16472721,  0.20468544,  0.2819025 ,  0.30481608,  0.32424088,\n",
       "         0.31089128,  0.24397764,  0.26838059,  0.20413605,  0.17907052,\n",
       "         0.19222165,  0.25638005,  0.22515021,  0.18122921],\n",
       "       [-0.6374247 , -0.63574249, -0.65273824, -0.65542197, -0.55911337,\n",
       "        -0.48154694, -0.40820933, -0.30996494, -0.1110852 ,  0.04642797,\n",
       "         0.16893409,  0.21485452,  0.30481608,  0.33330081,  0.3559195 ,\n",
       "         0.34326442,  0.27233237,  0.30216822,  0.22687873,  0.19819578,\n",
       "         0.21284149,  0.29627686,  0.25748525,  0.20220469],\n",
       "       [-0.7634452 , -0.75342935, -0.75991794, -0.75397056, -0.65000635,\n",
       "        -0.55691666, -0.50275552, -0.39909124, -0.16421081,  0.02860206,\n",
       "         0.16140126,  0.21186888,  0.32424088,  0.3559195 ,  0.39726328,\n",
       "         0.3823324 ,  0.2910899 ,  0.35319473,  0.28515017,  0.27619981,\n",
       "         0.30236097,  0.37006057,  0.34005902,  0.31154121],\n",
       "       [-0.78359008, -0.76782833, -0.76764413, -0.7427397 , -0.64853809,\n",
       "        -0.56542587, -0.51841215, -0.45810948, -0.18935047,  0.04314818,\n",
       "         0.1537561 ,  0.20402256,  0.31089128,  0.34326442,  0.3823324 ,\n",
       "         0.39408022,  0.32511076,  0.42732246,  0.31888761,  0.31601887,\n",
       "         0.34551017,  0.42945447,  0.36659278,  0.35108061],\n",
       "       [-0.60058717, -0.58876002, -0.58860249, -0.55159634, -0.48790173,\n",
       "        -0.43838858, -0.41227118, -0.40269074, -0.16290271,  0.049245  ,\n",
       "         0.12723882,  0.16873737,  0.24397764,  0.27233237,  0.2910899 ,\n",
       "         0.32511076,  0.30138836,  0.40077073,  0.2640785 ,  0.25174571,\n",
       "         0.26972988,  0.36665036,  0.27570107,  0.25622248],\n",
       "       [-0.92477436, -0.88577973, -0.85682405, -0.7709464 , -0.71386752,\n",
       "        -0.64520469, -0.68260582, -0.7427837 , -0.34481438,  0.03369414,\n",
       "         0.11173207,  0.15691717,  0.26838059,  0.30216822,  0.35319473,\n",
       "         0.42732246,  0.40077073,  0.66676967,  0.4560989 ,  0.49979234,\n",
       "         0.55179065,  0.67978642,  0.55005714,  0.61756927],\n",
       "       [-0.77090348, -0.73157885, -0.69787136, -0.64278724, -0.58525491,\n",
       "        -0.50475322, -0.53788855, -0.54047231, -0.25471584,  0.00958712,\n",
       "         0.06147242,  0.09982624,  0.20413605,  0.22687873,  0.28515017,\n",
       "         0.31888761,  0.2640785 ,  0.4560989 ,  0.37040284,  0.42900476,\n",
       "         0.47802069,  0.5108218 ,  0.44848801,  0.45409007],\n",
       "       [-0.85387704, -0.80066319, -0.74864962, -0.67989532, -0.62783276,\n",
       "        -0.53930375, -0.61715968, -0.63787489, -0.31420515, -0.01226326,\n",
       "         0.02074742,  0.05862007,  0.17907052,  0.19819578,  0.27619981,\n",
       "         0.31601887,  0.25174571,  0.49979234,  0.42900476,  0.52987138,\n",
       "         0.5969198 ,  0.58020258,  0.53098591,  0.60388859],\n",
       "       [-0.96062812, -0.90101991, -0.84258757, -0.76790415, -0.70934964,\n",
       "        -0.60821938, -0.70634466, -0.72646243, -0.35781369, -0.01714593,\n",
       "         0.01127772,  0.05366918,  0.19222165,  0.21284149,  0.30236097,\n",
       "         0.34551017,  0.26972988,  0.55179065,  0.47802069,  0.5969198 ,\n",
       "         0.67822567,  0.66348174,  0.61737612,  0.71947729],\n",
       "       [-1.08801319, -1.03811716, -0.99530105, -0.9033314 , -0.84598156,\n",
       "        -0.72856645, -0.85177434, -0.87254073, -0.42183433, -0.00342399,\n",
       "         0.05626789,  0.10572753,  0.25638005,  0.29627686,  0.37006057,\n",
       "         0.42945447,  0.36665036,  0.67978642,  0.5108218 ,  0.58020258,\n",
       "         0.66348174,  0.89134835,  0.7832383 ,  0.7219425 ],\n",
       "       [-1.00428021, -0.95923505, -0.91955828, -0.85331458, -0.7935544 ,\n",
       "        -0.67425764, -0.79993061, -0.78251505, -0.39077091, -0.03301047,\n",
       "         0.03188517,  0.07405395,  0.22515021,  0.25748525,  0.34005902,\n",
       "         0.36659278,  0.27570107,  0.55005714,  0.44848801,  0.53098591,\n",
       "         0.61737612,  0.7832383 ,  0.74052451,  0.75596183],\n",
       "       [-0.99336172, -0.95369828, -0.91253613, -0.83953135, -0.79373143,\n",
       "        -0.73847218, -0.92935848, -0.99465717, -0.53097708, -0.09797807,\n",
       "        -0.01105881,  0.01892681,  0.18122921,  0.20220469,  0.31154121,\n",
       "         0.35108061,  0.25622248,  0.61756927,  0.45409007,  0.60388859,\n",
       "         0.71947729,  0.7219425 ,  0.75596183,  1.45206104]])"
      ]
     },
     "execution_count": 12,
     "metadata": {},
     "output_type": "execute_result"
    }
   ],
   "source": [
    "cov = np.cov(N_data)\n",
    "cov"
   ]
  },
  {
   "cell_type": "code",
   "execution_count": 13,
   "id": "1393bad1",
   "metadata": {
    "scrolled": true
   },
   "outputs": [
    {
     "data": {
      "text/plain": [
       "(array([ 1.54708077e+01+0.00000000e+00j,  1.95582436e+00+0.00000000e+00j,\n",
       "         5.37401658e-01+0.00000000e+00j,  4.65037750e-01+0.00000000e+00j,\n",
       "         3.21038962e-01+0.00000000e+00j,  2.07592355e-01+0.00000000e+00j,\n",
       "         4.10626479e-02+0.00000000e+00j,  2.41813871e-02+0.00000000e+00j,\n",
       "         4.04041263e-03+0.00000000e+00j,  5.59756670e-04+0.00000000e+00j,\n",
       "         9.27097844e-05+0.00000000e+00j,  1.13738560e-15+0.00000000e+00j,\n",
       "         4.09346799e-16+0.00000000e+00j, -3.11958297e-16+0.00000000e+00j,\n",
       "        -2.19006203e-16+0.00000000e+00j,  2.21615757e-16+0.00000000e+00j,\n",
       "        -9.44577610e-17+1.83117256e-17j, -9.44577610e-17-1.83117256e-17j,\n",
       "        -3.78224568e-17+0.00000000e+00j,  5.81724893e-18+0.00000000e+00j,\n",
       "         2.58366101e-17+0.00000000e+00j,  9.92353537e-17+0.00000000e+00j,\n",
       "         6.49712944e-17+1.92101902e-18j,  6.49712944e-17-1.92101902e-18j]),\n",
       " array([[ 3.38343049e-01+0.00000000e+00j, -9.49832883e-02+0.00000000e+00j,\n",
       "          7.15476759e-02+0.00000000e+00j,  1.52781205e-01+0.00000000e+00j,\n",
       "         -1.34156863e-01+0.00000000e+00j,  1.55655331e-01+0.00000000e+00j,\n",
       "         -2.61659628e-02+0.00000000e+00j, -2.73161020e-01+0.00000000e+00j,\n",
       "          3.04297948e-01+0.00000000e+00j,  4.56801426e-01+0.00000000e+00j,\n",
       "          1.32883861e-01+0.00000000e+00j, -2.48141828e-01+0.00000000e+00j,\n",
       "         -1.25220454e-01+0.00000000e+00j,  1.13298791e-01+0.00000000e+00j,\n",
       "          1.59302711e-01+0.00000000e+00j,  1.23315604e-01+0.00000000e+00j,\n",
       "         -5.29453803e-02-2.24431045e-02j, -5.29453803e-02+2.24431045e-02j,\n",
       "         -3.00611499e-02+0.00000000e+00j, -2.85842077e-03+0.00000000e+00j,\n",
       "         -9.89753710e-03+0.00000000e+00j, -7.98857289e-02+0.00000000e+00j,\n",
       "          6.92944083e-02+3.69642648e-03j,  6.92944083e-02-3.69642648e-03j],\n",
       "        [ 3.27249573e-01+0.00000000e+00j, -1.15697363e-01+0.00000000e+00j,\n",
       "          2.91750240e-02+0.00000000e+00j,  6.86943841e-02+0.00000000e+00j,\n",
       "         -1.32277158e-01+0.00000000e+00j,  1.02850987e-01+0.00000000e+00j,\n",
       "          3.75140310e-02+0.00000000e+00j, -2.65625572e-01+0.00000000e+00j,\n",
       "          3.26253327e-01+0.00000000e+00j,  4.56451337e-02+0.00000000e+00j,\n",
       "          6.10469943e-02+0.00000000e+00j,  5.66626484e-01+0.00000000e+00j,\n",
       "         -1.71832593e-01+0.00000000e+00j,  1.03429418e-01+0.00000000e+00j,\n",
       "          6.01793355e-02+0.00000000e+00j,  8.57709923e-03+0.00000000e+00j,\n",
       "         -8.73892658e-02-9.83840268e-03j, -8.73892658e-02+9.83840268e-03j,\n",
       "          1.90394147e-02+0.00000000e+00j,  3.51259716e-02+0.00000000e+00j,\n",
       "          2.24169758e-03+0.00000000e+00j,  2.09691906e-02+0.00000000e+00j,\n",
       "          3.71064581e-04-3.83333406e-03j,  3.71064581e-04+3.83333406e-03j],\n",
       "        [ 3.20317583e-01+0.00000000e+00j, -1.71770985e-01+0.00000000e+00j,\n",
       "         -4.13590525e-02+0.00000000e+00j,  2.63309393e-02+0.00000000e+00j,\n",
       "         -9.43062628e-02+0.00000000e+00j, -1.60272525e-03+0.00000000e+00j,\n",
       "          9.52856901e-02+0.00000000e+00j, -1.09792828e-01+0.00000000e+00j,\n",
       "          1.97513010e-01+0.00000000e+00j, -5.19723623e-01+0.00000000e+00j,\n",
       "          9.13408833e-03+0.00000000e+00j, -3.33981687e-01+0.00000000e+00j,\n",
       "          2.53334303e-01+0.00000000e+00j, -3.14206851e-01+0.00000000e+00j,\n",
       "         -2.69121516e-01+0.00000000e+00j, -2.73741355e-01+0.00000000e+00j,\n",
       "         -6.83430264e-02+4.65550871e-02j, -6.83430264e-02-4.65550871e-02j,\n",
       "         -2.28544185e-02+0.00000000e+00j,  1.01810118e-01+0.00000000e+00j,\n",
       "         -2.94605092e-02+0.00000000e+00j,  2.72598037e-01+0.00000000e+00j,\n",
       "         -1.66750460e-01-4.57456768e-03j, -1.66750460e-01+4.57456768e-03j],\n",
       "        [ 3.04777145e-01+0.00000000e+00j, -2.56857019e-01+0.00000000e+00j,\n",
       "         -1.77155545e-01+0.00000000e+00j,  9.03419442e-02+0.00000000e+00j,\n",
       "         -1.60222357e-01+0.00000000e+00j, -5.86709531e-02+0.00000000e+00j,\n",
       "          9.98811974e-02+0.00000000e+00j,  1.45945567e-01+0.00000000e+00j,\n",
       "         -3.34827065e-01+0.00000000e+00j, -5.79402591e-02+0.00000000e+00j,\n",
       "         -3.31416758e-03+0.00000000e+00j,  3.60045096e-01+0.00000000e+00j,\n",
       "         -4.01368777e-01+0.00000000e+00j, -3.80397425e-01+0.00000000e+00j,\n",
       "          2.38442907e-01+0.00000000e+00j,  4.50118404e-01+0.00000000e+00j,\n",
       "          5.89428063e-02+3.17072197e-02j,  5.89428063e-02-3.17072197e-02j,\n",
       "         -2.84220585e-01+0.00000000e+00j,  1.67122552e-01+0.00000000e+00j,\n",
       "         -1.11668842e-01+0.00000000e+00j, -3.12642463e-02+0.00000000e+00j,\n",
       "          6.43053658e-02-2.61013045e-03j,  6.43053658e-02+2.61013045e-03j],\n",
       "        [ 2.73168181e-01+0.00000000e+00j, -1.60259773e-01+0.00000000e+00j,\n",
       "         -1.06574919e-01+0.00000000e+00j,  6.05183288e-02+0.00000000e+00j,\n",
       "         -1.16536832e-01+0.00000000e+00j, -1.04369296e-01+0.00000000e+00j,\n",
       "         -7.15320169e-02+0.00000000e+00j,  2.02027846e-01+0.00000000e+00j,\n",
       "         -2.44364861e-02+0.00000000e+00j, -2.97644630e-01+0.00000000e+00j,\n",
       "          1.62968420e-01+0.00000000e+00j, -5.66455207e-02+0.00000000e+00j,\n",
       "          2.54976895e-01+0.00000000e+00j,  3.39570972e-01+0.00000000e+00j,\n",
       "          2.77668679e-01+0.00000000e+00j,  1.11382112e-01+0.00000000e+00j,\n",
       "          4.81991096e-02+1.97259609e-03j,  4.81991096e-02-1.97259609e-03j,\n",
       "          2.25816407e-01+0.00000000e+00j, -1.54679292e-01+0.00000000e+00j,\n",
       "          1.91119229e-01+0.00000000e+00j, -7.73157161e-02+0.00000000e+00j,\n",
       "         -4.41192660e-02+9.73304506e-03j, -4.41192660e-02-9.73304506e-03j],\n",
       "        [ 2.35974534e-01+0.00000000e+00j, -1.13747950e-01+0.00000000e+00j,\n",
       "         -1.38743009e-01+0.00000000e+00j, -7.38116163e-03+0.00000000e+00j,\n",
       "          6.29676635e-02+0.00000000e+00j, -8.16228547e-02+0.00000000e+00j,\n",
       "         -8.92014029e-02+0.00000000e+00j,  1.19101889e-01+0.00000000e+00j,\n",
       "         -2.35834347e-01+0.00000000e+00j, -5.46492559e-02+0.00000000e+00j,\n",
       "         -5.25946703e-02+0.00000000e+00j, -3.89203104e-01+0.00000000e+00j,\n",
       "          2.83615730e-01+0.00000000e+00j,  3.55723506e-01+0.00000000e+00j,\n",
       "         -5.08147242e-02+0.00000000e+00j, -2.03567924e-02+0.00000000e+00j,\n",
       "         -3.23363032e-01-2.37406565e-01j, -3.23363032e-01+2.37406565e-01j,\n",
       "          1.39150023e-03+0.00000000e+00j, -4.06786509e-02+0.00000000e+00j,\n",
       "         -6.31832728e-02+0.00000000e+00j, -7.59167211e-02+0.00000000e+00j,\n",
       "          1.65217613e-01-1.49024535e-02j,  1.65217613e-01+1.49024535e-02j],\n",
       "        [ 2.47267618e-01+0.00000000e+00j,  2.12039532e-01+0.00000000e+00j,\n",
       "          7.03147006e-02+0.00000000e+00j, -4.67649515e-01+0.00000000e+00j,\n",
       "         -2.92222645e-01+0.00000000e+00j,  5.03943617e-02+0.00000000e+00j,\n",
       "          3.51244945e-01+0.00000000e+00j,  2.93817510e-01+0.00000000e+00j,\n",
       "          1.50580824e-01+0.00000000e+00j, -2.15402001e-02+0.00000000e+00j,\n",
       "          2.52130254e-02+0.00000000e+00j,  3.92844359e-03+0.00000000e+00j,\n",
       "         -1.72682414e-01+0.00000000e+00j,  7.31237642e-02+0.00000000e+00j,\n",
       "         -2.29063775e-01+0.00000000e+00j,  2.44938646e-02+0.00000000e+00j,\n",
       "          6.75460458e-02-8.47204954e-02j,  6.75460458e-02+8.47204954e-02j,\n",
       "          1.81354181e-02+0.00000000e+00j, -2.84540623e-01+0.00000000e+00j,\n",
       "          1.01924136e-01+0.00000000e+00j, -1.80256369e-01+0.00000000e+00j,\n",
       "          1.59971876e-01+1.34157174e-02j,  1.59971876e-01-1.34157174e-02j],\n",
       "        [ 2.30272178e-01+0.00000000e+00j,  3.51005436e-01+0.00000000e+00j,\n",
       "          1.62476919e-01+0.00000000e+00j, -3.72752682e-01+0.00000000e+00j,\n",
       "          1.10830062e-01+0.00000000e+00j,  2.61525567e-02+0.00000000e+00j,\n",
       "          1.37402912e-01+0.00000000e+00j,  1.86635710e-01+0.00000000e+00j,\n",
       "         -9.07143721e-03+0.00000000e+00j,  1.18447485e-01+0.00000000e+00j,\n",
       "         -9.58662736e-02+0.00000000e+00j, -6.19873737e-02+0.00000000e+00j,\n",
       "          2.32506925e-01+0.00000000e+00j, -7.02062429e-02+0.00000000e+00j,\n",
       "          3.09629450e-01+0.00000000e+00j,  3.17087495e-02+0.00000000e+00j,\n",
       "         -2.44881282e-01+1.49300748e-01j, -2.44881282e-01-1.49300748e-01j,\n",
       "         -1.03415967e-01+0.00000000e+00j,  3.63001080e-01+0.00000000e+00j,\n",
       "         -2.24208501e-01+0.00000000e+00j,  1.42358016e-01+0.00000000e+00j,\n",
       "         -4.35552053e-02-1.62700728e-02j, -4.35552053e-02+1.62700728e-02j],\n",
       "        [ 1.06200666e-01+0.00000000e+00j,  2.56066405e-01+0.00000000e+00j,\n",
       "          7.93890643e-02+0.00000000e+00j, -2.48435779e-01+0.00000000e+00j,\n",
       "         -2.06945041e-02+0.00000000e+00j,  5.74201064e-02+0.00000000e+00j,\n",
       "         -4.55678647e-01+0.00000000e+00j, -7.78112056e-02+0.00000000e+00j,\n",
       "          1.31394250e-01+0.00000000e+00j, -2.47380264e-01+0.00000000e+00j,\n",
       "          1.15127549e-01+0.00000000e+00j,  4.09496335e-02+0.00000000e+00j,\n",
       "         -1.18338404e-01+0.00000000e+00j,  2.08007420e-01+0.00000000e+00j,\n",
       "         -1.11077541e-01+0.00000000e+00j,  6.75427406e-02+0.00000000e+00j,\n",
       "          4.31307244e-01+0.00000000e+00j,  4.31307244e-01-0.00000000e+00j,\n",
       "         -2.55377160e-01+0.00000000e+00j, -3.21443712e-03+0.00000000e+00j,\n",
       "          1.42991659e-01+0.00000000e+00j,  1.31737287e-01+0.00000000e+00j,\n",
       "         -2.79229359e-01-3.31661725e-03j, -2.79229359e-01+3.31661725e-03j],\n",
       "        [-2.97223449e-03+0.00000000e+00j,  1.53901429e-01+0.00000000e+00j,\n",
       "         -5.48853600e-03+0.00000000e+00j, -2.29818808e-01+0.00000000e+00j,\n",
       "         -2.54867689e-01+0.00000000e+00j,  1.30521450e-01+0.00000000e+00j,\n",
       "         -5.78788818e-01+0.00000000e+00j, -8.70714438e-02+0.00000000e+00j,\n",
       "         -2.93328400e-01+0.00000000e+00j,  2.66012919e-02+0.00000000e+00j,\n",
       "          1.31248887e-01+0.00000000e+00j,  1.25748551e-01+0.00000000e+00j,\n",
       "         -1.21979809e-01+0.00000000e+00j, -2.47030077e-01+0.00000000e+00j,\n",
       "          5.65122996e-02+0.00000000e+00j,  1.20031574e-01+0.00000000e+00j,\n",
       "         -3.15402003e-01-5.36147999e-02j, -3.15402003e-01+5.36147999e-02j,\n",
       "          1.22176591e-01+0.00000000e+00j,  1.91360000e-02+0.00000000e+00j,\n",
       "         -5.74264549e-02+0.00000000e+00j, -1.14010784e-01+0.00000000e+00j,\n",
       "          2.09839240e-01+7.80296302e-03j,  2.09839240e-01-7.80296302e-03j],\n",
       "        [-3.84947498e-02+0.00000000e+00j,  2.22295752e-01+0.00000000e+00j,\n",
       "          9.71601513e-02+0.00000000e+00j,  1.08276712e-02+0.00000000e+00j,\n",
       "         -2.41329730e-01+0.00000000e+00j,  1.17854797e-01+0.00000000e+00j,\n",
       "          3.45094178e-01+0.00000000e+00j, -3.81449453e-01+0.00000000e+00j,\n",
       "         -3.34291828e-01+0.00000000e+00j,  1.07265459e-03+0.00000000e+00j,\n",
       "         -1.82729864e-01+0.00000000e+00j, -5.71948277e-02+0.00000000e+00j,\n",
       "          2.05625200e-01+0.00000000e+00j,  5.64140331e-03+0.00000000e+00j,\n",
       "          2.60314018e-01+0.00000000e+00j, -1.53600931e-01+0.00000000e+00j,\n",
       "         -2.56921020e-02-1.18154648e-01j, -2.56921020e-02+1.18154648e-01j,\n",
       "          3.47666305e-02+0.00000000e+00j, -3.14071545e-01+0.00000000e+00j,\n",
       "          5.03147476e-01+0.00000000e+00j,  3.63773581e-01+0.00000000e+00j,\n",
       "         -3.54435008e-01-6.88934870e-03j, -3.54435008e-01+6.88934870e-03j],\n",
       "        [-5.67850482e-02+0.00000000e+00j,  2.37441992e-01+0.00000000e+00j,\n",
       "          6.88242196e-02+0.00000000e+00j,  7.14181176e-02+0.00000000e+00j,\n",
       "         -2.05975123e-01+0.00000000e+00j,  6.26080031e-02+0.00000000e+00j,\n",
       "          1.46861123e-01+0.00000000e+00j, -3.03151456e-01+0.00000000e+00j,\n",
       "          1.11643967e-02+0.00000000e+00j, -2.24571381e-01+0.00000000e+00j,\n",
       "          1.49473654e-02+0.00000000e+00j, -3.24965843e-02+0.00000000e+00j,\n",
       "         -1.62137028e-02+0.00000000e+00j, -1.25186024e-01+0.00000000e+00j,\n",
       "          3.59722708e-03+0.00000000e+00j,  2.32495345e-01+0.00000000e+00j,\n",
       "          1.89288265e-02-4.80473205e-02j,  1.89288265e-02+4.80473205e-02j,\n",
       "          2.51922944e-01+0.00000000e+00j,  4.84461711e-01+0.00000000e+00j,\n",
       "         -6.29118486e-01+0.00000000e+00j, -5.35874769e-01+0.00000000e+00j,\n",
       "          4.87780528e-01+0.00000000e+00j,  4.87780528e-01-0.00000000e+00j],\n",
       "        [-1.06175279e-01+0.00000000e+00j,  2.15031194e-01+0.00000000e+00j,\n",
       "          6.21284764e-02+0.00000000e+00j,  1.69501791e-01+0.00000000e+00j,\n",
       "         -4.02035029e-02+0.00000000e+00j, -3.14512123e-02+0.00000000e+00j,\n",
       "         -6.25043663e-03+0.00000000e+00j, -1.87791002e-01+0.00000000e+00j,\n",
       "          5.84252573e-02+0.00000000e+00j, -2.47514851e-01+0.00000000e+00j,\n",
       "          1.01017654e-01+0.00000000e+00j, -1.82323954e-02+0.00000000e+00j,\n",
       "         -3.33293090e-02+0.00000000e+00j,  2.02605132e-01+0.00000000e+00j,\n",
       "          5.28159761e-02+0.00000000e+00j,  2.89113990e-01+0.00000000e+00j,\n",
       "         -6.94489326e-02+3.27302540e-02j, -6.94489326e-02-3.27302540e-02j,\n",
       "         -6.28854065e-02+0.00000000e+00j, -4.44958366e-01+0.00000000e+00j,\n",
       "          1.45284808e-01+0.00000000e+00j,  3.15430054e-01+0.00000000e+00j,\n",
       "         -2.99304193e-01+9.50697400e-03j, -2.99304193e-01-9.50697400e-03j],\n",
       "        [-1.17694488e-01+0.00000000e+00j,  2.16642732e-01+0.00000000e+00j,\n",
       "          3.22631634e-02+0.00000000e+00j,  2.37398774e-01+0.00000000e+00j,\n",
       "         -2.74124091e-02+0.00000000e+00j, -1.83245406e-02+0.00000000e+00j,\n",
       "          1.35973703e-02+0.00000000e+00j, -1.13863204e-02+0.00000000e+00j,\n",
       "          1.46652919e-01+0.00000000e+00j, -2.08698760e-01+0.00000000e+00j,\n",
       "          1.93590904e-01+0.00000000e+00j, -1.25368425e-01+0.00000000e+00j,\n",
       "          1.06119898e-01+0.00000000e+00j, -3.14269059e-02+0.00000000e+00j,\n",
       "         -1.31214941e-02+0.00000000e+00j,  1.33186004e-01+0.00000000e+00j,\n",
       "         -1.83479467e-01+4.74603097e-02j, -1.83479467e-01-4.74603097e-02j,\n",
       "         -2.48831390e-01+0.00000000e+00j,  2.34140801e-01+0.00000000e+00j,\n",
       "          5.97817525e-02+0.00000000e+00j, -2.13363437e-01+0.00000000e+00j,\n",
       "          4.86712613e-01-2.27098904e-02j,  4.86712613e-01+2.27098904e-02j],\n",
       "        [-1.40798089e-01+0.00000000e+00j,  1.84091854e-01+0.00000000e+00j,\n",
       "          5.54895456e-02+0.00000000e+00j,  1.86192281e-01+0.00000000e+00j,\n",
       "          5.79164749e-02+0.00000000e+00j, -1.11888359e-01+0.00000000e+00j,\n",
       "          2.06938035e-01+0.00000000e+00j,  2.07784020e-01+0.00000000e+00j,\n",
       "          8.22059093e-02+0.00000000e+00j, -3.21632770e-02+0.00000000e+00j,\n",
       "          1.91742746e-01+0.00000000e+00j,  1.29900884e-01+0.00000000e+00j,\n",
       "         -1.74822021e-01+0.00000000e+00j,  4.85796361e-02+0.00000000e+00j,\n",
       "         -2.07447474e-02+0.00000000e+00j,  2.59770086e-01+0.00000000e+00j,\n",
       "         -2.23101389e-01-1.75872761e-01j, -2.23101389e-01+1.75872761e-01j,\n",
       "         -4.22166949e-01+0.00000000e+00j,  7.06386421e-02+0.00000000e+00j,\n",
       "         -1.68371247e-01+0.00000000e+00j, -2.46439090e-01+0.00000000e+00j,\n",
       "          3.94722484e-03+2.61588426e-02j,  3.94722484e-03-2.61588426e-02j],\n",
       "        [-1.46696101e-01+0.00000000e+00j,  1.40455728e-01+0.00000000e+00j,\n",
       "         -3.66222801e-02+0.00000000e+00j,  1.40937840e-01+0.00000000e+00j,\n",
       "         -1.55383803e-01+0.00000000e+00j, -8.61360670e-02+0.00000000e+00j,\n",
       "          1.34210429e-02+0.00000000e+00j,  3.60577743e-01+0.00000000e+00j,\n",
       "          1.92521227e-01+0.00000000e+00j,  5.64586710e-02+0.00000000e+00j,\n",
       "          4.13843698e-01+0.00000000e+00j,  3.68059770e-02+0.00000000e+00j,\n",
       "          3.39355564e-03+0.00000000e+00j, -1.30852904e-01+0.00000000e+00j,\n",
       "          3.03610670e-01+0.00000000e+00j, -2.22476954e-01+0.00000000e+00j,\n",
       "          6.12853364e-02-4.81825175e-02j,  6.12853364e-02+4.81825175e-02j,\n",
       "          3.41863431e-01+0.00000000e+00j, -9.45435947e-03+0.00000000e+00j,\n",
       "          1.09426376e-01+0.00000000e+00j,  4.11427048e-01+0.00000000e+00j,\n",
       "         -2.00802904e-01-1.78471843e-02j, -2.00802904e-01+1.78471843e-02j],\n",
       "        [-1.15391471e-01+0.00000000e+00j,  9.71949780e-02+0.00000000e+00j,\n",
       "         -1.49056532e-01+0.00000000e+00j,  1.82684707e-01+0.00000000e+00j,\n",
       "         -3.77942844e-01+0.00000000e+00j, -3.24529824e-02+0.00000000e+00j,\n",
       "         -1.94006045e-01+0.00000000e+00j,  2.38328928e-01+0.00000000e+00j,\n",
       "          3.17739695e-01+0.00000000e+00j, -5.77568109e-02+0.00000000e+00j,\n",
       "         -7.36715105e-01+0.00000000e+00j,  4.04731838e-02+0.00000000e+00j,\n",
       "         -7.12794580e-02+0.00000000e+00j,  2.80186403e-02+0.00000000e+00j,\n",
       "          1.32512407e-01+0.00000000e+00j,  4.73224956e-02+0.00000000e+00j,\n",
       "         -6.28961965e-02-1.78703822e-02j, -6.28961965e-02+1.78703822e-02j,\n",
       "         -1.86355747e-02+0.00000000e+00j,  1.76981376e-02+0.00000000e+00j,\n",
       "         -4.59124538e-03+0.00000000e+00j,  2.63393887e-03+0.00000000e+00j,\n",
       "          6.04395894e-03+2.63406222e-05j,  6.04395894e-03-2.63406222e-05j],\n",
       "        [-1.82605570e-01+0.00000000e+00j, -7.45717338e-02+0.00000000e+00j,\n",
       "         -2.31854157e-01+0.00000000e+00j,  3.00927018e-03+0.00000000e+00j,\n",
       "         -5.86763718e-01+0.00000000e+00j,  3.03415668e-02+0.00000000e+00j,\n",
       "          7.18537015e-02+0.00000000e+00j,  1.54678780e-03+0.00000000e+00j,\n",
       "         -2.16423953e-01+0.00000000e+00j,  3.82344587e-02+0.00000000e+00j,\n",
       "          2.39066238e-01+0.00000000e+00j, -8.20750818e-02+0.00000000e+00j,\n",
       "          4.78139051e-02+0.00000000e+00j,  2.19541962e-01+0.00000000e+00j,\n",
       "         -7.14619108e-02+0.00000000e+00j, -3.28769176e-01+0.00000000e+00j,\n",
       "         -6.01596991e-03+1.15014743e-01j, -6.01596991e-03-1.15014743e-01j,\n",
       "         -2.43220932e-01+0.00000000e+00j,  1.18715026e-01+0.00000000e+00j,\n",
       "         -1.53643183e-01+0.00000000e+00j, -1.61654840e-03+0.00000000e+00j,\n",
       "         -9.78652484e-02+5.38614249e-04j, -9.78652484e-02-5.38614249e-04j],\n",
       "        [-1.45027929e-01+0.00000000e+00j, -4.47079454e-02+0.00000000e+00j,\n",
       "         -1.78711916e-01+0.00000000e+00j, -1.53402702e-01+0.00000000e+00j,\n",
       "         -9.98244830e-02+0.00000000e+00j, -2.09068092e-01+0.00000000e+00j,\n",
       "          1.28143842e-01+0.00000000e+00j, -3.15382021e-02+0.00000000e+00j,\n",
       "          6.04934031e-02+0.00000000e+00j,  4.77148502e-02+0.00000000e+00j,\n",
       "          5.28728199e-02+0.00000000e+00j,  1.68052643e-01+0.00000000e+00j,\n",
       "         -1.92052272e-01+0.00000000e+00j, -1.06371215e-01+0.00000000e+00j,\n",
       "         -1.95077215e-01+0.00000000e+00j,  3.72173875e-01+0.00000000e+00j,\n",
       "          6.31278538e-02+1.24723883e-01j,  6.31278538e-02-1.24723883e-01j,\n",
       "          4.54478601e-01+0.00000000e+00j, -8.15638375e-02+0.00000000e+00j,\n",
       "          2.77664410e-01+0.00000000e+00j, -1.69073037e-02+0.00000000e+00j,\n",
       "         -7.49795856e-02-1.26874017e-02j, -7.49795856e-02+1.26874017e-02j],\n",
       "        [-1.61219643e-01+0.00000000e+00j, -1.44005801e-01+0.00000000e+00j,\n",
       "         -1.55053474e-01+0.00000000e+00j, -3.03579049e-01+0.00000000e+00j,\n",
       "         -3.47678001e-02+0.00000000e+00j, -3.76075354e-01+0.00000000e+00j,\n",
       "          9.84482281e-02+0.00000000e+00j, -2.29160162e-01+0.00000000e+00j,\n",
       "          2.54509102e-02+0.00000000e+00j,  4.82641141e-02+0.00000000e+00j,\n",
       "         -5.19494678e-02+0.00000000e+00j, -1.25392562e-01+0.00000000e+00j,\n",
       "          2.97765046e-02+0.00000000e+00j,  3.59382838e-01+0.00000000e+00j,\n",
       "         -1.60871033e-01+0.00000000e+00j,  2.13815677e-01+0.00000000e+00j,\n",
       "          2.49523317e-01-1.02132005e-03j,  2.49523317e-01+1.02132005e-03j,\n",
       "         -1.93484152e-01+0.00000000e+00j,  2.87759077e-01+0.00000000e+00j,\n",
       "         -2.08555907e-01+0.00000000e+00j,  1.01264663e-01+0.00000000e+00j,\n",
       "          1.64487121e-01-1.06347503e-03j,  1.64487121e-01+1.06347503e-03j],\n",
       "        [-1.82261330e-01+0.00000000e+00j, -1.84273888e-01+0.00000000e+00j,\n",
       "         -1.26182478e-01+0.00000000e+00j, -3.64154372e-01+0.00000000e+00j,\n",
       "          1.35536365e-02+0.00000000e+00j, -3.53196186e-01+0.00000000e+00j,\n",
       "         -5.07264924e-02+0.00000000e+00j, -2.26123881e-01+0.00000000e+00j,\n",
       "          2.97914805e-01+0.00000000e+00j, -7.42528258e-02+0.00000000e+00j,\n",
       "          6.81315551e-02+0.00000000e+00j,  4.37071883e-02+0.00000000e+00j,\n",
       "          3.58318888e-02+0.00000000e+00j, -2.86635832e-01+0.00000000e+00j,\n",
       "          4.89971757e-01+0.00000000e+00j, -1.48100360e-01+0.00000000e+00j,\n",
       "         -4.04285658e-01-1.17653155e-01j, -4.04285658e-01+1.17653155e-01j,\n",
       "         -1.09309477e-01+0.00000000e+00j, -1.52350115e-01+0.00000000e+00j,\n",
       "          5.58922881e-02+0.00000000e+00j, -9.20939570e-02+0.00000000e+00j,\n",
       "         -2.55734598e-02+2.73104208e-03j, -2.55734598e-02-2.73104208e-03j],\n",
       "        [-2.13225746e-01+0.00000000e+00j, -1.62256661e-01+0.00000000e+00j,\n",
       "         -3.24067550e-01+0.00000000e+00j, -1.44722142e-01+0.00000000e+00j,\n",
       "         -5.34515255e-02+0.00000000e+00j,  5.76622034e-01+0.00000000e+00j,\n",
       "          1.66222487e-02+0.00000000e+00j,  7.77821318e-02+0.00000000e+00j,\n",
       "          2.13846462e-01+0.00000000e+00j,  1.47093005e-01+0.00000000e+00j,\n",
       "          8.89317562e-02+0.00000000e+00j, -2.28787862e-01+0.00000000e+00j,\n",
       "          3.97224937e-01+0.00000000e+00j, -5.41878214e-02+0.00000000e+00j,\n",
       "         -1.15998350e-01+0.00000000e+00j,  2.15494596e-01+0.00000000e+00j,\n",
       "         -1.07820973e-02-5.58695636e-02j, -1.07820973e-02+5.58695636e-02j,\n",
       "         -1.54755278e-01+0.00000000e+00j,  2.19109039e-02+0.00000000e+00j,\n",
       "         -8.62113369e-03+0.00000000e+00j,  7.52063609e-02+0.00000000e+00j,\n",
       "         -3.90416251e-02-3.16790667e-03j, -3.90416251e-02+3.16790667e-03j],\n",
       "        [-1.96061520e-01+0.00000000e+00j, -1.75093217e-01+0.00000000e+00j,\n",
       "         -8.16402023e-02+0.00000000e+00j, -1.82715078e-01+0.00000000e+00j,\n",
       "          2.27249126e-01+0.00000000e+00j,  4.86385951e-01+0.00000000e+00j,\n",
       "          1.54526987e-01+0.00000000e+00j,  8.44286175e-03+0.00000000e+00j,\n",
       "         -1.80556033e-02+0.00000000e+00j, -3.86417376e-01+0.00000000e+00j,\n",
       "         -3.94139901e-02+0.00000000e+00j,  2.26538760e-01+0.00000000e+00j,\n",
       "         -4.18589875e-01+0.00000000e+00j,  1.55061721e-01+0.00000000e+00j,\n",
       "          3.07545094e-01+0.00000000e+00j,  1.92320428e-02+0.00000000e+00j,\n",
       "         -7.29036855e-02+4.54864754e-03j, -7.29036855e-02-4.54864754e-03j,\n",
       "          9.55898484e-02+0.00000000e+00j,  2.97673513e-02+0.00000000e+00j,\n",
       "         -1.02420839e-02+0.00000000e+00j, -6.09417141e-02+0.00000000e+00j,\n",
       "          8.12932796e-02+6.53637683e-04j,  8.12932796e-02-6.53637683e-04j],\n",
       "        [-2.12592627e-01+0.00000000e+00j, -4.52546416e-01+0.00000000e+00j,\n",
       "          7.80764334e-01+0.00000000e+00j, -7.96143604e-02+0.00000000e+00j,\n",
       "         -2.56534145e-01+0.00000000e+00j,  2.52164977e-02+0.00000000e+00j,\n",
       "         -3.68609631e-02+0.00000000e+00j,  1.34602470e-01+0.00000000e+00j,\n",
       "          5.48062230e-03+0.00000000e+00j, -4.95542009e-02+0.00000000e+00j,\n",
       "         -7.83071347e-03+0.00000000e+00j, -6.02441563e-02+0.00000000e+00j,\n",
       "          7.99221773e-02+0.00000000e+00j,  2.83819392e-02+0.00000000e+00j,\n",
       "         -1.02221882e-02+0.00000000e+00j,  1.20555168e-01+0.00000000e+00j,\n",
       "         -2.80685810e-02-1.16771482e-02j, -2.80685810e-02+1.16771482e-02j,\n",
       "         -3.31654525e-02+0.00000000e+00j,  4.58074784e-02+0.00000000e+00j,\n",
       "         -1.27482815e-02+0.00000000e+00j,  1.09721658e-02+0.00000000e+00j,\n",
       "          1.81276673e-02-5.19245717e-03j,  1.81276673e-02+5.19245717e-03j]]))"
      ]
     },
     "execution_count": 13,
     "metadata": {},
     "output_type": "execute_result"
    }
   ],
   "source": [
    "dec = np.linalg.eig(cov)\n",
    "dec"
   ]
  },
  {
   "cell_type": "code",
   "execution_count": 14,
   "id": "3c872f5c",
   "metadata": {
    "scrolled": true
   },
   "outputs": [
    {
     "data": {
      "text/plain": [
       "(array([[-3.38343049e-01, -9.49832883e-02,  7.15476759e-02,\n",
       "         -1.52781205e-01,  1.34156863e-01,  1.55655331e-01,\n",
       "          2.61659628e-02, -2.73161020e-01, -3.04297948e-01,\n",
       "          4.56801426e-01,  1.32883861e-01,  6.24604466e-01,\n",
       "         -1.79726949e-02,  2.05231114e-02,  8.55527045e-02,\n",
       "          3.33330592e-02,  4.39853964e-02, -4.78981563e-03,\n",
       "         -3.74412275e-04, -3.17566164e-02, -3.42200750e-02,\n",
       "          8.98529450e-03,  1.18578805e-03,  8.98058498e-02],\n",
       "        [-3.27249573e-01, -1.15697363e-01,  2.91750240e-02,\n",
       "         -6.86943841e-02,  1.32277158e-01,  1.02850987e-01,\n",
       "         -3.75140310e-02, -2.65625572e-01, -3.26253327e-01,\n",
       "          4.56451337e-02,  6.10469943e-02, -4.89831126e-01,\n",
       "         -1.25785822e-01, -3.32227546e-01, -2.30841252e-01,\n",
       "         -1.64128954e-01, -3.75159727e-01, -6.45621921e-02,\n",
       "         -8.47933051e-02,  2.17989901e-01,  1.00882460e-01,\n",
       "         -4.64733849e-02, -3.64239302e-03, -5.77045453e-02],\n",
       "        [-3.20317583e-01, -1.71770985e-01, -4.13590525e-02,\n",
       "         -2.63309393e-02,  9.43062628e-02, -1.60272525e-03,\n",
       "         -9.52856901e-02, -1.09792828e-01, -1.97513010e-01,\n",
       "         -5.19723623e-01,  9.13408833e-03, -9.37208081e-02,\n",
       "         -1.67683907e-01,  3.75837707e-01,  2.43873392e-01,\n",
       "          2.27185838e-01,  5.96477750e-02, -2.99657422e-01,\n",
       "          1.54096321e-01, -1.77005593e-01,  9.94432003e-02,\n",
       "          1.58637001e-02, -9.78669273e-02,  2.62410413e-01],\n",
       "        [-3.04777145e-01, -2.56857019e-01, -1.77155545e-01,\n",
       "         -9.03419442e-02,  1.60222357e-01, -5.86709531e-02,\n",
       "         -9.98811974e-02,  1.45945567e-01,  3.34827065e-01,\n",
       "         -5.79402591e-02, -3.31416758e-03,  5.55283833e-02,\n",
       "          4.33513154e-01, -4.59661152e-01,  1.54041866e-01,\n",
       "          2.79690630e-01,  8.76435968e-02, -4.39455735e-02,\n",
       "          1.43223781e-01,  1.89399816e-01,  1.01155076e-01,\n",
       "          1.67612287e-02, -2.06961466e-01, -4.60116705e-02],\n",
       "        [-2.73168181e-01, -1.60259773e-01, -1.06574919e-01,\n",
       "         -6.05183288e-02,  1.16536832e-01, -1.04369296e-01,\n",
       "          7.15320169e-02,  2.02027846e-01,  2.44364861e-02,\n",
       "         -2.97644630e-01,  1.62968420e-01,  1.95667712e-01,\n",
       "          3.36189761e-01,  2.24897680e-01, -3.94272662e-01,\n",
       "         -3.31191486e-01, -2.02904165e-01,  1.01160890e-01,\n",
       "         -2.12315302e-01, -2.46234200e-01, -1.39234696e-01,\n",
       "          1.50640380e-01,  8.29098343e-02, -1.59463363e-01],\n",
       "        [-2.35974534e-01, -1.13747950e-01, -1.38743009e-01,\n",
       "          7.38116163e-03, -6.29676635e-02, -8.16228547e-02,\n",
       "          8.92014029e-02,  1.19101889e-01,  2.35834347e-01,\n",
       "         -5.46492559e-02, -5.25946703e-02,  1.17875349e-01,\n",
       "         -3.75687888e-01,  1.53149432e-01, -1.07703933e-01,\n",
       "          3.21274442e-01, -8.98896341e-02,  3.08450675e-01,\n",
       "         -3.64119205e-01,  3.92342208e-01,  6.63109806e-02,\n",
       "         -2.05408843e-01,  2.65308279e-01,  1.33826912e-01],\n",
       "        [-2.47267618e-01,  2.12039532e-01,  7.03147006e-02,\n",
       "          4.67649515e-01,  2.92222645e-01,  5.03943617e-02,\n",
       "         -3.51244945e-01,  2.93817510e-01, -1.50580824e-01,\n",
       "         -2.15402001e-02,  2.52130254e-02, -2.79717828e-02,\n",
       "         -1.08977186e-01, -2.00250266e-01, -3.51238502e-02,\n",
       "         -7.74659830e-02,  3.87441945e-01, -9.62547942e-03,\n",
       "         -4.92718181e-02,  3.53263070e-03, -2.43052660e-01,\n",
       "          2.14948629e-02,  2.70415218e-01,  5.95791187e-02],\n",
       "        [-2.30272178e-01,  3.51005436e-01,  1.62476919e-01,\n",
       "          3.72752682e-01, -1.10830062e-01,  2.61525567e-02,\n",
       "         -1.37402912e-01,  1.86635710e-01,  9.07143721e-03,\n",
       "          1.18447485e-01, -9.58662736e-02,  9.29562640e-02,\n",
       "          1.80916384e-01,  2.40672398e-01, -2.67723900e-02,\n",
       "          1.15182338e-01, -5.17049241e-01,  3.62683150e-02,\n",
       "          3.04222029e-01,  8.13574980e-02,  1.28758266e-01,\n",
       "         -1.80642748e-01, -1.94115133e-01, -2.11976027e-02],\n",
       "        [-1.06200666e-01,  2.56066405e-01,  7.93890643e-02,\n",
       "          2.48435779e-01,  2.06945041e-02,  5.74201064e-02,\n",
       "          4.55678647e-01, -7.78112056e-02, -1.31394250e-01,\n",
       "         -2.47380264e-01,  1.15127549e-01,  9.30238007e-02,\n",
       "         -8.91543063e-02, -9.43570744e-02, -3.14229268e-02,\n",
       "          3.07153506e-02,  2.44190779e-01,  2.40304286e-01,\n",
       "         -6.13250136e-02,  1.29828207e-01,  3.53171416e-01,\n",
       "          3.34571934e-01, -3.17490709e-01, -2.07589789e-01],\n",
       "        [ 2.97223449e-03,  1.53901429e-01, -5.48853600e-03,\n",
       "          2.29818808e-01,  2.54867689e-01,  1.30521450e-01,\n",
       "          5.78788818e-01, -8.70714438e-02,  2.93328400e-01,\n",
       "          2.66012919e-02,  1.31248887e-01, -2.59319111e-02,\n",
       "          5.89867588e-02, -1.32626857e-01,  7.23461301e-03,\n",
       "          4.82750004e-02, -1.74619412e-01, -3.62969324e-01,\n",
       "         -8.56963758e-02, -1.37891994e-01, -1.79238385e-01,\n",
       "         -1.17113962e-01,  1.18128621e-01,  3.49848749e-01],\n",
       "        [ 3.84947498e-02,  2.22295752e-01,  9.71601513e-02,\n",
       "         -1.08276712e-02,  2.41329730e-01,  1.17854797e-01,\n",
       "         -3.45094178e-01, -3.81449453e-01,  3.34291828e-01,\n",
       "          1.07265459e-03, -1.82729864e-01,  9.25641855e-03,\n",
       "          1.42608527e-01,  1.97760255e-01,  7.14050186e-02,\n",
       "         -1.83332877e-02, -9.57401197e-02, -1.17074105e-01,\n",
       "         -3.23203035e-01,  1.75528767e-01,  1.15536695e-01,\n",
       "          4.62223419e-01,  8.59970599e-02,  1.32293064e-02],\n",
       "        [ 5.67850482e-02,  2.37441992e-01,  6.88242196e-02,\n",
       "         -7.14181176e-02,  2.05975123e-01,  6.26080031e-02,\n",
       "         -1.46861123e-01, -3.03151456e-01, -1.11643967e-02,\n",
       "         -2.24571381e-01,  1.49473654e-02,  1.21106341e-02,\n",
       "          1.55872232e-01, -7.44972617e-02,  5.80071925e-02,\n",
       "          1.19376462e-01,  6.06283671e-02,  2.87976796e-01,\n",
       "         -3.09804137e-01, -2.61592126e-01, -4.89875578e-02,\n",
       "         -6.03815916e-01, -1.97546949e-01, -1.23784516e-01],\n",
       "        [ 1.06175279e-01,  2.15031194e-01,  6.21284764e-02,\n",
       "         -1.69501791e-01,  4.02035029e-02, -3.14512123e-02,\n",
       "          6.25043663e-03, -1.87791002e-01, -5.84252573e-02,\n",
       "         -2.47514851e-01,  1.01017654e-01,  1.64289269e-01,\n",
       "          7.44877596e-02, -1.07995199e-01, -2.99753714e-01,\n",
       "          2.99979655e-01,  4.21012491e-03, -1.17874355e-01,\n",
       "          3.90320616e-01,  6.48357131e-02,  1.33427369e-01,\n",
       "         -4.46786648e-02,  5.69300948e-01, -2.42270285e-01],\n",
       "        [ 1.17694488e-01,  2.16642732e-01,  3.22631634e-02,\n",
       "         -2.37398774e-01,  2.74124091e-02, -1.83245406e-02,\n",
       "         -1.35973703e-02, -1.13863204e-02, -1.46652919e-01,\n",
       "         -2.08698760e-01,  1.93590904e-01,  3.13317001e-02,\n",
       "          7.46240655e-02,  2.50807577e-02, -6.76071592e-02,\n",
       "          7.32667088e-02, -5.37624159e-02,  1.33967745e-01,\n",
       "          1.20704460e-01,  4.59741321e-01, -6.00402680e-01,\n",
       "          1.28984712e-01, -2.55004351e-01,  2.68026349e-01],\n",
       "        [ 1.40798089e-01,  1.84091854e-01,  5.54895456e-02,\n",
       "         -1.86192281e-01, -5.79164749e-02, -1.11888359e-01,\n",
       "         -2.06938035e-01,  2.07784020e-01, -8.22059093e-02,\n",
       "         -3.21632770e-02,  1.91742746e-01,  1.07623728e-01,\n",
       "          2.87702217e-02, -2.32213871e-01, -2.24949138e-01,\n",
       "         -3.03230917e-02, -4.37525302e-02,  1.50243482e-02,\n",
       "         -1.37102408e-01, -1.44551919e-01,  4.64432627e-01,\n",
       "          4.68427943e-02, -5.47612930e-02,  6.17683137e-01],\n",
       "        [ 1.46696101e-01,  1.40455728e-01, -3.66222801e-02,\n",
       "         -1.40937840e-01,  1.55383803e-01, -8.61360670e-02,\n",
       "         -1.34210429e-02,  3.60577743e-01, -1.92521227e-01,\n",
       "          5.64586710e-02,  4.13843698e-01,  1.45821625e-02,\n",
       "         -4.30894325e-03,  1.02616251e-01,  3.18398863e-01,\n",
       "          8.20263877e-02, -1.21458981e-01, -3.83932324e-01,\n",
       "         -3.26835471e-01,  1.97187500e-01,  1.16260052e-01,\n",
       "         -7.81471466e-02,  9.91477692e-05, -3.43391444e-01],\n",
       "        [ 1.15391471e-01,  9.71949780e-02, -1.49056532e-01,\n",
       "         -1.82684707e-01,  3.77942844e-01, -3.24529824e-02,\n",
       "          1.94006045e-01,  2.38328928e-01, -3.17739695e-01,\n",
       "         -5.77568109e-02, -7.36715105e-01,  1.26861321e-01,\n",
       "          2.33717075e-02, -5.27416667e-02,  4.18946674e-03,\n",
       "         -1.72105348e-02, -9.17832277e-02, -4.12998553e-02,\n",
       "         -3.24600382e-02,  5.28801238e-02,  4.11437854e-02,\n",
       "         -9.23188605e-03, -4.02040245e-03,  2.75753521e-02],\n",
       "        [ 1.82605570e-01, -7.45717338e-02, -2.31854157e-01,\n",
       "         -3.00927018e-03,  5.86763718e-01,  3.03415668e-02,\n",
       "         -7.18537015e-02,  1.54678780e-03,  2.16423953e-01,\n",
       "          3.82344587e-02,  2.39066238e-01,  2.88428668e-02,\n",
       "         -2.77966323e-01,  1.37643076e-01,  3.48292116e-02,\n",
       "         -2.84161391e-01, -7.65013242e-02,  2.50822913e-01,\n",
       "          3.93987704e-01,  6.61765294e-02,  1.78958373e-01,\n",
       "         -8.32352616e-02, -7.14213505e-02,  8.26732522e-03],\n",
       "        [ 1.45027929e-01, -4.47079454e-02, -1.78711916e-01,\n",
       "          1.53402702e-01,  9.98244830e-02, -2.09068092e-01,\n",
       "         -1.28143842e-01, -3.15382021e-02, -6.04934031e-02,\n",
       "          4.77148502e-02,  5.28728199e-02,  6.36411692e-02,\n",
       "         -2.87375034e-01, -2.28492476e-01, -3.24457012e-02,\n",
       "          4.56002362e-01, -3.54275551e-01,  1.10064560e-01,\n",
       "         -5.82306848e-02, -4.00278865e-01, -2.06342633e-01,\n",
       "          3.45768289e-01, -1.17439924e-01, -1.29140965e-01],\n",
       "        [ 1.61219643e-01, -1.44005801e-01, -1.55053474e-01,\n",
       "          3.03579049e-01,  3.47678001e-02, -3.76075354e-01,\n",
       "         -9.84482281e-02, -2.29160162e-01, -2.54509102e-02,\n",
       "          4.82641141e-02, -5.19494678e-02,  1.75199041e-01,\n",
       "         -2.69618488e-02,  7.98707832e-02, -4.57335827e-01,\n",
       "         -5.31575158e-03,  1.77606138e-01, -4.05208625e-01,\n",
       "         -6.36291030e-02,  2.15006012e-01,  2.48613702e-02,\n",
       "         -1.90224411e-01, -3.09276908e-01, -3.30116680e-02],\n",
       "        [ 1.82261330e-01, -1.84273888e-01, -1.26182478e-01,\n",
       "          3.64154372e-01, -1.35536365e-02, -3.53196186e-01,\n",
       "          5.07264924e-02, -2.26123881e-01, -2.97914805e-01,\n",
       "         -7.42528258e-02,  6.81315551e-02,  1.94394525e-02,\n",
       "          3.53106314e-01, -2.17178306e-02,  3.75085795e-01,\n",
       "         -9.21823392e-02, -1.36677251e-01,  2.44053666e-01,\n",
       "         -3.70529530e-02,  1.51755200e-01,  7.43915122e-02,\n",
       "          8.08541092e-03,  3.00219596e-01,  1.83442629e-01],\n",
       "        [ 2.13225746e-01, -1.62256661e-01, -3.24067550e-01,\n",
       "          1.44722142e-01,  5.34515255e-02,  5.76622034e-01,\n",
       "         -1.66222487e-02,  7.77821318e-02, -2.13846462e-01,\n",
       "          1.47093005e-01,  8.89317562e-02, -1.83548670e-01,\n",
       "          2.92986308e-01,  2.33227380e-01, -2.46916295e-01,\n",
       "          3.40010891e-01,  1.04411903e-01,  8.88430591e-02,\n",
       "         -5.86905628e-02,  1.52023651e-02,  7.74821507e-02,\n",
       "          3.91500058e-02,  3.03301370e-04,  6.91612354e-02],\n",
       "        [ 1.96061520e-01, -1.75093217e-01, -8.16402023e-02,\n",
       "          1.82715078e-01, -2.27249126e-01,  4.86385951e-01,\n",
       "         -1.54526987e-01,  8.44286175e-03,  1.80556033e-02,\n",
       "         -3.86417376e-01, -3.94139901e-02,  4.01367593e-01,\n",
       "         -1.69420791e-01, -2.84000467e-01,  1.03082721e-01,\n",
       "         -2.24437049e-01, -2.31740150e-01, -1.40916901e-01,\n",
       "         -5.01371734e-02,  1.13598810e-01, -1.67471594e-02,\n",
       "         -6.36604557e-02, -2.12581087e-02, -4.76755922e-02],\n",
       "        [ 2.12592627e-01, -4.52546416e-01,  7.80764334e-01,\n",
       "          7.96143604e-02,  2.56534145e-01,  2.52164977e-02,\n",
       "          3.68609631e-02,  1.34602470e-01, -5.48062230e-03,\n",
       "         -4.95542009e-02, -7.83071347e-03,  1.74084383e-02,\n",
       "          2.56045794e-02,  2.94675343e-02, -8.69466791e-02,\n",
       "          1.59955165e-01, -4.71626219e-02,  5.88163877e-02,\n",
       "         -2.79201408e-02,  5.31726262e-02,  1.60028997e-02,\n",
       "          3.15447931e-03, -3.25086697e-02,  4.44852617e-03]]),\n",
       " array([1.54708077e+01, 1.95582436e+00, 5.37401658e-01, 4.65037750e-01,\n",
       "        3.21038962e-01, 2.07592355e-01, 4.10626479e-02, 2.41813871e-02,\n",
       "        4.04041263e-03, 5.59756670e-04, 9.27097844e-05, 7.25494775e-16,\n",
       "        3.59240149e-16, 3.36383653e-16, 2.26999655e-16, 1.86607423e-16,\n",
       "        1.55284190e-16, 1.14903167e-16, 9.45273245e-17, 7.23353283e-17,\n",
       "        5.34261524e-17, 3.12514141e-17, 2.63145728e-17, 8.65514969e-19]),\n",
       " array([[-3.38343049e-01, -3.27249573e-01, -3.20317583e-01,\n",
       "         -3.04777145e-01, -2.73168181e-01, -2.35974534e-01,\n",
       "         -2.47267618e-01, -2.30272178e-01, -1.06200666e-01,\n",
       "          2.97223449e-03,  3.84947498e-02,  5.67850482e-02,\n",
       "          1.06175279e-01,  1.17694488e-01,  1.40798089e-01,\n",
       "          1.46696101e-01,  1.15391471e-01,  1.82605570e-01,\n",
       "          1.45027929e-01,  1.61219643e-01,  1.82261330e-01,\n",
       "          2.13225746e-01,  1.96061520e-01,  2.12592627e-01],\n",
       "        [-9.49832883e-02, -1.15697363e-01, -1.71770985e-01,\n",
       "         -2.56857019e-01, -1.60259773e-01, -1.13747950e-01,\n",
       "          2.12039532e-01,  3.51005436e-01,  2.56066405e-01,\n",
       "          1.53901429e-01,  2.22295752e-01,  2.37441992e-01,\n",
       "          2.15031194e-01,  2.16642732e-01,  1.84091854e-01,\n",
       "          1.40455728e-01,  9.71949780e-02, -7.45717338e-02,\n",
       "         -4.47079454e-02, -1.44005801e-01, -1.84273888e-01,\n",
       "         -1.62256661e-01, -1.75093217e-01, -4.52546416e-01],\n",
       "        [ 7.15476759e-02,  2.91750240e-02, -4.13590525e-02,\n",
       "         -1.77155545e-01, -1.06574919e-01, -1.38743009e-01,\n",
       "          7.03147006e-02,  1.62476919e-01,  7.93890643e-02,\n",
       "         -5.48853600e-03,  9.71601513e-02,  6.88242196e-02,\n",
       "          6.21284764e-02,  3.22631634e-02,  5.54895456e-02,\n",
       "         -3.66222801e-02, -1.49056532e-01, -2.31854157e-01,\n",
       "         -1.78711916e-01, -1.55053474e-01, -1.26182478e-01,\n",
       "         -3.24067550e-01, -8.16402023e-02,  7.80764334e-01],\n",
       "        [-1.52781205e-01, -6.86943841e-02, -2.63309393e-02,\n",
       "         -9.03419442e-02, -6.05183288e-02,  7.38116163e-03,\n",
       "          4.67649515e-01,  3.72752682e-01,  2.48435779e-01,\n",
       "          2.29818808e-01, -1.08276712e-02, -7.14181176e-02,\n",
       "         -1.69501791e-01, -2.37398774e-01, -1.86192281e-01,\n",
       "         -1.40937840e-01, -1.82684707e-01, -3.00927018e-03,\n",
       "          1.53402702e-01,  3.03579049e-01,  3.64154372e-01,\n",
       "          1.44722142e-01,  1.82715078e-01,  7.96143604e-02],\n",
       "        [ 1.34156863e-01,  1.32277158e-01,  9.43062628e-02,\n",
       "          1.60222357e-01,  1.16536832e-01, -6.29676635e-02,\n",
       "          2.92222645e-01, -1.10830062e-01,  2.06945041e-02,\n",
       "          2.54867689e-01,  2.41329730e-01,  2.05975123e-01,\n",
       "          4.02035029e-02,  2.74124091e-02, -5.79164749e-02,\n",
       "          1.55383803e-01,  3.77942844e-01,  5.86763718e-01,\n",
       "          9.98244830e-02,  3.47678001e-02, -1.35536365e-02,\n",
       "          5.34515255e-02, -2.27249126e-01,  2.56534145e-01],\n",
       "        [ 1.55655331e-01,  1.02850987e-01, -1.60272525e-03,\n",
       "         -5.86709531e-02, -1.04369296e-01, -8.16228547e-02,\n",
       "          5.03943617e-02,  2.61525567e-02,  5.74201064e-02,\n",
       "          1.30521450e-01,  1.17854797e-01,  6.26080031e-02,\n",
       "         -3.14512123e-02, -1.83245406e-02, -1.11888359e-01,\n",
       "         -8.61360670e-02, -3.24529824e-02,  3.03415668e-02,\n",
       "         -2.09068092e-01, -3.76075354e-01, -3.53196186e-01,\n",
       "          5.76622034e-01,  4.86385951e-01,  2.52164977e-02],\n",
       "        [ 2.61659628e-02, -3.75140310e-02, -9.52856901e-02,\n",
       "         -9.98811974e-02,  7.15320169e-02,  8.92014029e-02,\n",
       "         -3.51244945e-01, -1.37402912e-01,  4.55678647e-01,\n",
       "          5.78788818e-01, -3.45094178e-01, -1.46861123e-01,\n",
       "          6.25043663e-03, -1.35973703e-02, -2.06938035e-01,\n",
       "         -1.34210429e-02,  1.94006045e-01, -7.18537015e-02,\n",
       "         -1.28143842e-01, -9.84482281e-02,  5.07264924e-02,\n",
       "         -1.66222487e-02, -1.54526987e-01,  3.68609631e-02],\n",
       "        [-2.73161020e-01, -2.65625572e-01, -1.09792828e-01,\n",
       "          1.45945567e-01,  2.02027846e-01,  1.19101889e-01,\n",
       "          2.93817510e-01,  1.86635710e-01, -7.78112056e-02,\n",
       "         -8.70714438e-02, -3.81449453e-01, -3.03151456e-01,\n",
       "         -1.87791002e-01, -1.13863204e-02,  2.07784020e-01,\n",
       "          3.60577743e-01,  2.38328928e-01,  1.54678780e-03,\n",
       "         -3.15382021e-02, -2.29160162e-01, -2.26123881e-01,\n",
       "          7.77821318e-02,  8.44286175e-03,  1.34602470e-01],\n",
       "        [-3.04297948e-01, -3.26253327e-01, -1.97513010e-01,\n",
       "          3.34827065e-01,  2.44364861e-02,  2.35834347e-01,\n",
       "         -1.50580824e-01,  9.07143721e-03, -1.31394250e-01,\n",
       "          2.93328400e-01,  3.34291828e-01, -1.11643967e-02,\n",
       "         -5.84252573e-02, -1.46652919e-01, -8.22059093e-02,\n",
       "         -1.92521227e-01, -3.17739695e-01,  2.16423953e-01,\n",
       "         -6.04934031e-02, -2.54509102e-02, -2.97914805e-01,\n",
       "         -2.13846462e-01,  1.80556033e-02, -5.48062230e-03],\n",
       "        [ 4.56801426e-01,  4.56451337e-02, -5.19723623e-01,\n",
       "         -5.79402591e-02, -2.97644630e-01, -5.46492559e-02,\n",
       "         -2.15402001e-02,  1.18447485e-01, -2.47380264e-01,\n",
       "          2.66012919e-02,  1.07265459e-03, -2.24571381e-01,\n",
       "         -2.47514851e-01, -2.08698760e-01, -3.21632770e-02,\n",
       "          5.64586710e-02, -5.77568109e-02,  3.82344587e-02,\n",
       "          4.77148502e-02,  4.82641141e-02, -7.42528258e-02,\n",
       "          1.47093005e-01, -3.86417376e-01, -4.95542009e-02],\n",
       "        [ 1.32883861e-01,  6.10469943e-02,  9.13408833e-03,\n",
       "         -3.31416758e-03,  1.62968420e-01, -5.25946703e-02,\n",
       "          2.52130254e-02, -9.58662736e-02,  1.15127549e-01,\n",
       "          1.31248887e-01, -1.82729864e-01,  1.49473654e-02,\n",
       "          1.01017654e-01,  1.93590904e-01,  1.91742746e-01,\n",
       "          4.13843698e-01, -7.36715105e-01,  2.39066238e-01,\n",
       "          5.28728199e-02, -5.19494678e-02,  6.81315551e-02,\n",
       "          8.89317562e-02, -3.94139901e-02, -7.83071347e-03],\n",
       "        [-1.51982498e-01,  2.77631416e-03,  2.55768605e-01,\n",
       "          3.72899226e-01, -6.54492052e-01,  7.53820965e-02,\n",
       "          1.57931295e-01, -2.12304018e-01,  8.22548019e-02,\n",
       "          9.18584168e-02, -9.43034246e-02, -3.67759363e-02,\n",
       "          1.64592635e-01, -5.25221860e-02,  1.71911558e-01,\n",
       "         -5.17807409e-02, -5.82069948e-02, -1.63200543e-01,\n",
       "          1.60349843e-01, -1.85336713e-01,  4.21512090e-02,\n",
       "          1.67028247e-01, -2.44090404e-01,  3.86200331e-02],\n",
       "        [-4.94893035e-01,  6.20281892e-01, -1.75976710e-01,\n",
       "         -1.89025330e-01,  1.28193351e-01,  6.05007743e-02,\n",
       "          1.39148064e-02, -3.18504538e-02, -1.73376867e-02,\n",
       "          2.06113151e-03, -7.73561084e-02, -2.71809026e-02,\n",
       "          6.21935593e-02, -1.70339244e-02,  8.52098874e-02,\n",
       "         -1.90948052e-01, -7.19768891e-02,  3.75349702e-03,\n",
       "          9.28587221e-02,  1.63859457e-01, -3.05035816e-01,\n",
       "          1.91466777e-01, -2.34584228e-01,  4.49408334e-02],\n",
       "        [-1.79433183e-01, -1.30471274e-01,  5.04123576e-01,\n",
       "         -3.64027512e-01, -8.12803353e-02,  1.55959075e-01,\n",
       "         -2.43888555e-01,  2.57841797e-01, -1.04666562e-01,\n",
       "         -7.89955951e-02,  1.84841430e-01, -1.12252404e-01,\n",
       "         -1.97561400e-01,  1.33044729e-02, -2.00727348e-01,\n",
       "          1.44527443e-01, -7.86927789e-02,  1.53222221e-01,\n",
       "         -1.15280910e-01, -1.18924497e-01,  4.72267618e-02,\n",
       "          2.28565280e-01, -3.61219678e-01,  2.87519004e-02],\n",
       "        [ 1.15285156e-01, -3.01089368e-04,  4.96346690e-03,\n",
       "         -3.55453088e-01, -2.90647948e-01,  4.24959176e-01,\n",
       "          1.71506393e-01, -2.13272538e-01,  2.46407856e-01,\n",
       "         -2.61191149e-01, -1.27320833e-01, -1.96180278e-01,\n",
       "          6.71554547e-02, -8.64524685e-02, -2.64732471e-02,\n",
       "         -6.84534686e-02, -1.17209000e-02,  4.05452092e-01,\n",
       "         -2.28747094e-02,  2.83008882e-02, -1.97248182e-01,\n",
       "         -2.82839811e-01,  1.82779796e-01, -3.46322425e-02],\n",
       "        [ 1.99559697e-01, -1.15184939e-01, -5.57856284e-02,\n",
       "          1.72298771e-01,  7.03669583e-02,  3.75629934e-01,\n",
       "         -2.50603807e-01,  3.59738651e-01,  1.94011306e-01,\n",
       "         -1.62922431e-01,  5.09891176e-02,  2.15123699e-02,\n",
       "          4.56408924e-01,  4.53079762e-02, -9.61576668e-03,\n",
       "          8.03316997e-02,  6.09474096e-02, -7.02575569e-02,\n",
       "          2.86565487e-01,  2.61178258e-01, -1.54737913e-01,\n",
       "          2.75688342e-01, -2.36174548e-04,  1.80994698e-01],\n",
       "        [-4.65109285e-02,  4.25612993e-01,  3.94379318e-02,\n",
       "          3.36803924e-02, -2.10921060e-01,  1.00897042e-01,\n",
       "         -2.52148919e-01,  3.61980205e-01, -2.64479707e-01,\n",
       "          2.51065271e-01, -1.53451246e-02, -1.16025728e-01,\n",
       "          5.34334576e-02, -6.86542587e-02,  8.20809682e-02,\n",
       "          2.38757165e-01,  9.93471895e-02,  1.22184694e-01,\n",
       "          2.06674613e-01, -2.05490318e-01,  1.77418972e-01,\n",
       "         -2.87024305e-01,  3.50672602e-01, -1.26907477e-02],\n",
       "        [-4.76760137e-02,  5.55584671e-02, -2.82803327e-01,\n",
       "          7.53398476e-02,  4.65454657e-02,  2.93244043e-01,\n",
       "         -1.09391839e-01,  6.87649262e-02,  2.26928605e-01,\n",
       "         -2.51205261e-01, -1.36775111e-02,  3.87184854e-01,\n",
       "         -3.51194510e-01,  1.36514871e-01,  1.02759134e-01,\n",
       "         -2.04184627e-01, -8.54066236e-03,  1.16840255e-01,\n",
       "          1.53209684e-01, -4.31634837e-01,  3.29003635e-01,\n",
       "          6.47422213e-02, -7.42540017e-02,  6.12626606e-02],\n",
       "        [-2.76931021e-02,  1.08183985e-01,  7.87177732e-04,\n",
       "         -4.62422128e-02,  1.45250443e-02,  2.21633213e-01,\n",
       "         -4.54133174e-02, -2.63806817e-01,  2.19501775e-01,\n",
       "          1.15729838e-02,  3.46307281e-01,  1.76789396e-01,\n",
       "         -2.84385265e-01, -4.08287587e-01,  1.56105559e-01,\n",
       "          5.11691507e-01,  3.88740966e-02, -3.15792824e-01,\n",
       "         -3.14230811e-03,  1.42799478e-01, -5.39334441e-02,\n",
       "          6.64907655e-03,  8.07978386e-02,  3.66637201e-03],\n",
       "        [-1.18871643e-01,  9.19614493e-02, -1.18236306e-01,\n",
       "          1.34442855e-01, -1.91723239e-01,  1.56007355e-02,\n",
       "          8.05849643e-02, -6.78419317e-02, -3.82157191e-03,\n",
       "         -9.84946298e-02, -4.89142214e-02,  9.99969146e-02,\n",
       "         -1.61636483e-01,  4.30357078e-01, -6.98366429e-01,\n",
       "          3.03845066e-01, -3.97578766e-02, -1.37978020e-01,\n",
       "          1.50597428e-01,  6.74313031e-02, -1.51856444e-01,\n",
       "         -1.01985319e-01,  4.89915493e-02,  8.64202892e-03],\n",
       "        [-1.18353272e-01, -4.04991854e-02, -6.39243720e-03,\n",
       "          4.26264836e-02,  4.75538026e-02, -4.19252145e-01,\n",
       "         -1.22639167e-01,  6.45954329e-02,  1.82253974e-01,\n",
       "         -2.73954394e-01, -1.57221542e-01,  1.44497868e-01,\n",
       "          1.92717395e-01, -5.84464927e-01, -2.89078608e-01,\n",
       "          9.24651615e-02, -5.93389034e-02,  1.50362693e-01,\n",
       "          2.15983196e-01, -2.49832536e-01, -1.00649766e-01,\n",
       "         -8.53530588e-02, -7.02902661e-02, -5.45453395e-02],\n",
       "        [ 4.15215655e-02, -2.87041291e-02, -2.48942031e-03,\n",
       "         -1.17779992e-01,  2.13452990e-01, -1.02824415e-01,\n",
       "          6.24844535e-02, -1.83445479e-01,  1.37185831e-01,\n",
       "          6.78835356e-03,  4.03135404e-01, -5.28528219e-01,\n",
       "          9.02922824e-04,  1.32772004e-01, -1.33806271e-02,\n",
       "         -8.60848514e-02, -4.30979271e-03, -1.33898592e-01,\n",
       "          5.44698078e-01, -2.97505364e-01,  1.00152197e-02,\n",
       "         -2.59072332e-02, -4.56749353e-04,  3.52777402e-03],\n",
       "        [-1.60315852e-02,  9.47132076e-02,  1.09095372e-01,\n",
       "          2.78562527e-01, -1.61967999e-01, -3.60756066e-01,\n",
       "         -2.59029197e-01,  1.81941333e-01,  4.33282741e-01,\n",
       "         -1.55902890e-01,  6.34219827e-02, -2.15538935e-01,\n",
       "         -3.82768120e-01,  1.74789755e-01,  2.25689306e-01,\n",
       "         -3.78156724e-02,  2.94797444e-02,  2.01233630e-01,\n",
       "         -5.84590684e-02,  2.62354154e-01, -1.78039450e-01,\n",
       "         -5.11241063e-02,  6.94584689e-02, -1.08245926e-03],\n",
       "        [-1.51455746e-01,  1.75454197e-01, -2.55195888e-01,\n",
       "          2.05130275e-01,  3.67326527e-03,  2.34963636e-02,\n",
       "          4.32557579e-02, -9.75845850e-03,  1.42122557e-01,\n",
       "         -2.23805942e-01,  2.75359095e-01, -3.39140829e-01,\n",
       "          3.12171986e-01, -9.27386948e-03, -1.41948697e-01,\n",
       "          1.51204291e-01,  1.46013499e-02,  6.05620318e-02,\n",
       "         -5.25137481e-01, -9.46478648e-02,  3.73128731e-01,\n",
       "          6.99940863e-02, -4.25944016e-02, -1.78358106e-02]]))"
      ]
     },
     "execution_count": 14,
     "metadata": {},
     "output_type": "execute_result"
    }
   ],
   "source": [
    "svd = np.linalg.svd(cov)\n",
    "svd"
   ]
  },
  {
   "cell_type": "code",
   "execution_count": 15,
   "id": "f9722085",
   "metadata": {},
   "outputs": [],
   "source": [
    "eigen_values = svd[1]\n",
    "eigen_vectors = svd[0]\n",
    "r_eigen_vectors = svd[2]"
   ]
  },
  {
   "cell_type": "code",
   "execution_count": 16,
   "id": "1254b385",
   "metadata": {},
   "outputs": [],
   "source": [
    "Sort = eigen_values.argsort()[::-1]"
   ]
  },
  {
   "cell_type": "code",
   "execution_count": 17,
   "id": "28d7e172",
   "metadata": {},
   "outputs": [],
   "source": [
    "eigen_vals = eigen_values[Sort][:2]\n",
    "eigen_vec = eigen_vectors[:,Sort][:,:2]\n",
    "r_eigen_vec = r_eigen_vectors[:,Sort][:2]"
   ]
  },
  {
   "cell_type": "code",
   "execution_count": 18,
   "id": "d1e524a7",
   "metadata": {},
   "outputs": [
    {
     "data": {
      "text/plain": [
       "array([15.47080768,  1.95582436])"
      ]
     },
     "execution_count": 18,
     "metadata": {},
     "output_type": "execute_result"
    }
   ],
   "source": [
    "eigen_vals"
   ]
  },
  {
   "cell_type": "code",
   "execution_count": 19,
   "id": "e4f46777",
   "metadata": {
    "scrolled": true
   },
   "outputs": [
    {
     "data": {
      "text/plain": [
       "array([[-0.33834305, -0.09498329],\n",
       "       [-0.32724957, -0.11569736],\n",
       "       [-0.32031758, -0.17177099],\n",
       "       [-0.30477715, -0.25685702],\n",
       "       [-0.27316818, -0.16025977],\n",
       "       [-0.23597453, -0.11374795],\n",
       "       [-0.24726762,  0.21203953],\n",
       "       [-0.23027218,  0.35100544],\n",
       "       [-0.10620067,  0.2560664 ],\n",
       "       [ 0.00297223,  0.15390143],\n",
       "       [ 0.03849475,  0.22229575],\n",
       "       [ 0.05678505,  0.23744199],\n",
       "       [ 0.10617528,  0.21503119],\n",
       "       [ 0.11769449,  0.21664273],\n",
       "       [ 0.14079809,  0.18409185],\n",
       "       [ 0.1466961 ,  0.14045573],\n",
       "       [ 0.11539147,  0.09719498],\n",
       "       [ 0.18260557, -0.07457173],\n",
       "       [ 0.14502793, -0.04470795],\n",
       "       [ 0.16121964, -0.1440058 ],\n",
       "       [ 0.18226133, -0.18427389],\n",
       "       [ 0.21322575, -0.16225666],\n",
       "       [ 0.19606152, -0.17509322],\n",
       "       [ 0.21259263, -0.45254642]])"
      ]
     },
     "execution_count": 19,
     "metadata": {},
     "output_type": "execute_result"
    }
   ],
   "source": [
    "eigen_vec"
   ]
  },
  {
   "cell_type": "code",
   "execution_count": 20,
   "id": "9e1ca793",
   "metadata": {
    "scrolled": true
   },
   "outputs": [
    {
     "data": {
      "text/plain": [
       "array([[-0.33834305, -0.32724957, -0.32031758, -0.30477715, -0.27316818,\n",
       "        -0.23597453, -0.24726762, -0.23027218, -0.10620067,  0.00297223,\n",
       "         0.03849475,  0.05678505,  0.10617528,  0.11769449,  0.14079809,\n",
       "         0.1466961 ,  0.11539147,  0.18260557,  0.14502793,  0.16121964,\n",
       "         0.18226133,  0.21322575,  0.19606152,  0.21259263],\n",
       "       [-0.09498329, -0.11569736, -0.17177099, -0.25685702, -0.16025977,\n",
       "        -0.11374795,  0.21203953,  0.35100544,  0.2560664 ,  0.15390143,\n",
       "         0.22229575,  0.23744199,  0.21503119,  0.21664273,  0.18409185,\n",
       "         0.14045573,  0.09719498, -0.07457173, -0.04470795, -0.1440058 ,\n",
       "        -0.18427389, -0.16225666, -0.17509322, -0.45254642]])"
      ]
     },
     "execution_count": 20,
     "metadata": {},
     "output_type": "execute_result"
    }
   ],
   "source": [
    "r_eigen_vec"
   ]
  },
  {
   "cell_type": "code",
   "execution_count": 21,
   "id": "fec012b5",
   "metadata": {
    "scrolled": true
   },
   "outputs": [
    {
     "data": {
      "text/plain": [
       "array([[-5.23444024, -0.18577063],\n",
       "       [-5.0628152 , -0.22628372],\n",
       "       [-4.95557173, -0.33595388],\n",
       "       [-4.7151486 , -0.50236722],\n",
       "       [-4.22613239, -0.31343997],\n",
       "       [-3.65071664, -0.22247101],\n",
       "       [-3.82542977,  0.41471208],\n",
       "       [-3.56249658,  0.68650498],\n",
       "       [-1.64301007,  0.50082091],\n",
       "       [ 0.04598287,  0.30100416],\n",
       "       [ 0.59554487,  0.43477145],\n",
       "       [ 0.87851056,  0.46439483],\n",
       "       [ 1.64261732,  0.42056325],\n",
       "       [ 1.82082879,  0.42371513],\n",
       "       [ 2.17826016,  0.36005133],\n",
       "       [ 2.26950717,  0.27470674],\n",
       "       [ 1.78519926,  0.19009631],\n",
       "       [ 2.82505566, -0.14584921],\n",
       "       [ 2.24369919, -0.08744089],\n",
       "       [ 2.49419809, -0.28165005],\n",
       "       [ 2.81972998, -0.36040736],\n",
       "       [ 3.29877451, -0.31734553],\n",
       "       [ 3.03323008, -0.34245158],\n",
       "       [ 3.28897965, -0.88510131]])"
      ]
     },
     "execution_count": 21,
     "metadata": {},
     "output_type": "execute_result"
    }
   ],
   "source": [
    "transform = np.dot(cov.T,eigen_vec)\n",
    "transform"
   ]
  },
  {
   "cell_type": "code",
   "execution_count": 22,
   "id": "d4ace628",
   "metadata": {},
   "outputs": [
    {
     "data": {
      "text/plain": [
       "array([0.88776808, 0.11223192])"
      ]
     },
     "execution_count": 22,
     "metadata": {},
     "output_type": "execute_result"
    }
   ],
   "source": [
    "variance_ratio = eigen_vals/np.sum(eigen_vals)\n",
    "variance_ratio"
   ]
  },
  {
   "cell_type": "markdown",
   "id": "ee898037",
   "metadata": {},
   "source": [
    "### Principal Component Analysis"
   ]
  },
  {
   "cell_type": "code",
   "execution_count": 23,
   "id": "6e0ed437",
   "metadata": {},
   "outputs": [],
   "source": [
    "from sklearn.decomposition import PCA\n",
    "pca = PCA(n_components = 2).fit(N_data.T)\n",
    "assert np.allclose(np.abs(pca.components_),np.abs(eigen_vec.T))"
   ]
  },
  {
   "cell_type": "code",
   "execution_count": 24,
   "id": "7b407c7c",
   "metadata": {
    "scrolled": true
   },
   "outputs": [
    {
     "name": "stdout",
     "output_type": "stream",
     "text": [
      "[0.81307025 0.1027886 ]\n"
     ]
    }
   ],
   "source": [
    "print(pca.explained_variance_ratio_)"
   ]
  },
  {
   "cell_type": "code",
   "execution_count": 25,
   "id": "c96c2ea8",
   "metadata": {},
   "outputs": [
    {
     "data": {
      "image/png": "[encoded data removed]",
      "text/plain": [
       "<Figure size 432x288 with 1 Axes>"
      ]
     },
     "metadata": {
      "needs_background": "light"
     },
     "output_type": "display_data"
    }
   ],
   "source": [
    "pca = PCA().fit(N_data)\n",
    "plt.plot(np.cumsum(pca.explained_variance_ratio_))\n",
    "plt.xlabel('number of components')\n",
    "plt.ylabel('cumulative explained variance')\n",
    "plt.grid()\n",
    "plt.show()"
   ]
  },
  {
   "cell_type": "code",
   "execution_count": 26,
   "id": "ee095f63",
   "metadata": {
    "scrolled": false
   },
   "outputs": [
    {
     "data": {
      "image/png": "[encoded data removed]",
      "text/plain": [
       "<Figure size 432x288 with 1 Axes>"
      ]
     },
     "metadata": {
      "needs_background": "light"
     },
     "output_type": "display_data"
    }
   ],
   "source": [
    "#plt.scatter(N_data.T.iloc[:,0],N_data.T.iloc[:,1],alpha = 0.3,label = \"Samples\")\n",
    "for i, (comp,var) in enumerate(zip(eigen_vec.T,eigen_vals)):\n",
    "    plt.scatter(N_data.T.iloc[:,0],N_data.T.iloc[:,1],alpha = 0.3,label = \"Samples\")\n",
    "    comp = comp*var\n",
    "    plt.plot([0,comp[0]],[0,comp[1]],label = f\"Principal Component {i+1}\",linewidth = 3,color = f\"C{i+1}\")\n",
    "    plt.gca().set(title=\"2-D Dataset with Principal Components\",xlabel=\"Principal Component 1\",ylabel=\"Principal Component 2\")\n",
    "plt.legend()\n",
    "plt.show()"
   ]
  },
  {
   "cell_type": "code",
   "execution_count": 27,
   "id": "81d73745",
   "metadata": {},
   "outputs": [
    {
     "data": {
      "image/png": "[encoded data removed]",
      "text/plain": [
       "<Figure size 432x288 with 1 Axes>"
      ]
     },
     "metadata": {
      "needs_background": "light"
     },
     "output_type": "display_data"
    },
    {
     "data": {
      "image/png": "[encoded data removed]",
      "text/plain": [
       "<Figure size 432x288 with 1 Axes>"
      ]
     },
     "metadata": {
      "needs_background": "light"
     },
     "output_type": "display_data"
    }
   ],
   "source": [
    "for i, (comp,var) in enumerate(zip(eigen_vec.T,eigen_vals)):\n",
    "    plt.scatter(N_data.T.iloc[:,0],N_data.T.iloc[:,1],alpha = 0.3,label = \"Variables\")\n",
    "    comp = comp*var\n",
    "    plt.plot([0,comp[0]],[0,comp[1]],label = f\"Principal Component {i+1}\",linewidth = 3,color = f\"C{i+1}\")\n",
    "    plt.gca().set(title=\"Dataset with Principal Components\",xlabel=\"Principal Component 1\",ylabel=\"Principal Component 2\")\n",
    "    plt.legend()\n",
    "    plt.show()"
   ]
  },
  {
   "cell_type": "markdown",
   "id": "2eedbbd9",
   "metadata": {},
   "source": [
    "### Symmetric orthogonalization"
   ]
  },
  {
   "cell_type": "code",
   "execution_count": 28,
   "id": "559e4802",
   "metadata": {
    "scrolled": true
   },
   "outputs": [
    {
     "data": {
      "text/plain": [
       "array([[ 2.57989638e-01,  1.05004004e-01,  2.19692851e-02,\n",
       "        -8.70495070e-02,  2.75364811e-01,  2.91016797e-02,\n",
       "         3.78691602e-02, -9.50503674e-02,  2.91863243e-01,\n",
       "        -3.27301626e-01, -9.45523785e-04, -3.80020864e-03,\n",
       "         1.46408234e-01,  4.52437216e-02, -2.37724011e-01,\n",
       "        -2.23833000e-01, -1.09530347e-02,  8.41178090e-02,\n",
       "         2.36633137e-01, -2.40915843e-02, -1.88942490e-01,\n",
       "        -2.36194045e-01, -4.75791935e-01, -3.50935185e-01],\n",
       "       [ 3.37600714e-02, -4.64358647e-01, -1.59436914e-01,\n",
       "         2.16295436e-01, -3.46006527e-01, -1.95823179e-01,\n",
       "        -2.39176323e-02, -1.88688588e-02,  4.13017354e-01,\n",
       "         6.46340113e-02, -1.64864133e-04, -6.83912878e-02,\n",
       "         1.66202480e-01,  1.96613516e-01,  5.68861399e-02,\n",
       "        -2.89800542e-01, -1.04589401e-01, -3.33982013e-01,\n",
       "         4.20394237e-02, -4.52059183e-02, -2.94422190e-03,\n",
       "         1.75074610e-01, -1.91325936e-01,  1.59793959e-01],\n",
       "       [ 3.21958614e-01, -1.13895006e-01,  1.88282305e-01,\n",
       "        -3.25716163e-01, -2.62307428e-01, -2.59372678e-01,\n",
       "        -3.19724982e-01,  4.12244550e-01, -1.88205839e-01,\n",
       "        -1.42262167e-01, -1.54376672e-02,  3.94566596e-02,\n",
       "         3.05001491e-02,  1.55481390e-01, -1.92006450e-01,\n",
       "         4.37638104e-03, -1.11539438e-01,  2.82003721e-01,\n",
       "         7.05445628e-02,  1.65985151e-01, -1.46197325e-01,\n",
       "         2.56855844e-01,  1.99943342e-02,  4.34943407e-02],\n",
       "       [ 2.79611512e-01,  2.87712320e-01, -5.24681205e-02,\n",
       "         1.69450149e-01, -2.39026672e-02, -3.46448792e-01,\n",
       "         1.52477247e-01,  1.44513383e-01,  1.25353884e-02,\n",
       "        -8.96226467e-02,  2.72171446e-02, -1.57166692e-02,\n",
       "         9.47422711e-02, -1.85983150e-02, -6.84790983e-02,\n",
       "         3.82924356e-01, -1.07062320e-01, -1.08203846e-01,\n",
       "         2.74739851e-01, -2.99205850e-01,  4.93875845e-01,\n",
       "        -3.12191342e-02, -9.45892106e-02,  1.76096582e-01],\n",
       "       [ 1.16765228e-02,  2.79214014e-01,  2.48386527e-03,\n",
       "        -3.41350035e-03, -1.60490148e-01,  3.20911361e-01,\n",
       "        -2.23271477e-01, -1.37252503e-01,  2.27928918e-01,\n",
       "        -2.71758420e-01, -6.10827383e-02, -1.79703273e-01,\n",
       "         9.65421268e-02,  1.22635567e-01, -1.18176190e-02,\n",
       "         7.93459863e-02, -2.94990940e-01,  1.39500493e-01,\n",
       "        -4.70243160e-01,  2.02261163e-01,  2.42779910e-01,\n",
       "        -2.97297242e-02, -1.57751968e-01,  2.80360486e-01],\n",
       "       [ 2.40950720e-01,  2.57064472e-02,  1.00918598e-01,\n",
       "         3.08742842e-01,  8.63236738e-02, -9.54147916e-02,\n",
       "        -1.95417088e-02,  1.59896827e-01,  1.21815308e-01,\n",
       "        -1.35352005e-01,  1.55698440e-01, -3.30665629e-01,\n",
       "        -1.23824967e-01,  7.32682658e-04,  1.75800933e-01,\n",
       "        -1.94501526e-01, -3.37390331e-02,  1.47624218e-02,\n",
       "         1.58207349e-01,  3.20872187e-01, -9.61390973e-02,\n",
       "        -4.35757844e-01,  4.34829810e-01,  1.57830153e-01],\n",
       "       [-1.97101283e-01, -2.77167061e-01, -1.35127243e-01,\n",
       "        -1.58588024e-01,  3.82170108e-02,  1.45977798e-01,\n",
       "        -5.21341781e-03,  2.48397787e-01,  2.49153434e-01,\n",
       "        -2.16932676e-01, -4.42925654e-01, -1.99826068e-01,\n",
       "         1.74775063e-01, -6.18096280e-02, -3.11836969e-01,\n",
       "         2.11728157e-01,  3.53650003e-01,  6.21422218e-04,\n",
       "         5.42640159e-02, -4.17108892e-02,  1.28874654e-01,\n",
       "        -1.36838628e-01,  2.62557052e-01,  2.66423960e-02],\n",
       "       [-1.79283265e-01,  3.26452813e-03,  3.57866776e-03,\n",
       "         5.94575308e-02, -3.87728394e-02, -3.41914841e-01,\n",
       "        -7.20708369e-02, -2.21031179e-01,  1.57285566e-01,\n",
       "        -1.56676946e-01,  4.95154331e-01,  3.33229469e-01,\n",
       "         2.49655291e-01,  2.32787034e-02, -2.21893125e-01,\n",
       "         1.55788004e-01,  3.49867912e-01,  5.95729514e-02,\n",
       "        -1.64725333e-01,  2.74818379e-01,  4.96347789e-02,\n",
       "        -5.14205361e-02,  1.26796828e-01, -1.25440592e-02],\n",
       "       [-1.47104387e-01, -8.26197121e-02, -4.31565101e-01,\n",
       "         1.86177629e-01,  4.52769497e-01, -1.33965276e-01,\n",
       "        -3.58206949e-01,  4.72211318e-02, -2.47666150e-01,\n",
       "         8.32362305e-02, -1.31588259e-01,  1.97469542e-01,\n",
       "         1.63643109e-01,  9.36435735e-02, -1.02359095e-01,\n",
       "        -1.36561494e-01, -1.77465530e-01,  1.63127021e-01,\n",
       "         4.04806449e-02, -1.57138828e-02, -3.71644146e-02,\n",
       "        -1.48223792e-01, -8.27779827e-02,  3.43059685e-01],\n",
       "       [-4.53074512e-01, -3.86073430e-02,  4.48577329e-01,\n",
       "         2.30066161e-01,  6.90808508e-02,  1.48702416e-01,\n",
       "        -7.77275194e-02,  2.26926385e-01,  5.98042451e-02,\n",
       "        -2.39611865e-01,  9.56100079e-02,  1.06538474e-01,\n",
       "         8.66746110e-02, -3.67976111e-01,  1.43350690e-02,\n",
       "         9.82064783e-03, -2.02961778e-01, -4.01972296e-02,\n",
       "         3.12147778e-01,  6.41108614e-02, -3.05388631e-02,\n",
       "         1.93118362e-01, -1.48906447e-01,  1.58745158e-01],\n",
       "       [ 5.79027125e-02, -2.99742759e-01, -1.80986901e-01,\n",
       "        -1.89971331e-01, -1.50746829e-01,  2.20017449e-01,\n",
       "         3.83564479e-01, -2.12316049e-01, -2.80948546e-01,\n",
       "        -2.83374423e-01,  2.73379820e-01, -3.42891372e-02,\n",
       "         2.11254521e-01, -2.44251861e-02, -6.60528740e-02,\n",
       "         1.80295981e-01, -2.93536528e-01,  3.34230150e-02,\n",
       "         1.24868726e-01, -1.05572789e-01, -2.38061819e-01,\n",
       "        -1.44614441e-01,  9.46060783e-02,  2.38386881e-01],\n",
       "       [-2.57117048e-01,  4.31264394e-02,  8.07961227e-02,\n",
       "        -5.95856872e-01,  1.46260215e-01, -3.12497981e-01,\n",
       "         4.31261986e-02, -7.91040493e-02,  3.07228456e-02,\n",
       "        -1.39010633e-01,  8.01876581e-02, -2.07168069e-01,\n",
       "         1.49232271e-02, -2.01145230e-03,  3.61593886e-01,\n",
       "        -3.09041196e-01,  1.08388221e-01,  3.42977816e-02,\n",
       "         4.67240043e-02, -1.19456039e-01,  2.04141952e-01,\n",
       "        -5.14275378e-02, -6.42418827e-02,  2.63382448e-01],\n",
       "       [ 1.00216762e-01, -1.06537396e-01, -2.88394935e-01,\n",
       "         6.12608032e-02, -1.13449417e-01,  1.24331856e-01,\n",
       "        -2.76037684e-01, -2.63428942e-01, -3.05883650e-01,\n",
       "        -2.02474454e-01,  2.33665600e-02, -2.23518817e-01,\n",
       "        -1.24434930e-01, -1.86549614e-01,  1.39536261e-01,\n",
       "         3.97782320e-02,  2.85799331e-01, -6.43157358e-02,\n",
       "         3.32068489e-01,  3.49464516e-01,  2.43898342e-01,\n",
       "         1.83275745e-01, -2.05909932e-01, -8.75683283e-02],\n",
       "       [ 2.53527360e-02, -6.36224963e-02,  2.09898976e-01,\n",
       "        -1.87459150e-01,  2.55085586e-01,  1.65339763e-02,\n",
       "        -2.87738460e-01, -1.28383701e-01, -1.59433246e-02,\n",
       "         2.43916503e-01,  1.93459639e-02, -1.87460318e-01,\n",
       "         4.59277333e-01,  1.79561103e-01,  1.60837819e-01,\n",
       "         3.27023966e-01, -2.29189502e-01, -3.57702905e-01,\n",
       "         9.90822913e-02,  1.47999451e-01, -5.26172812e-03,\n",
       "        -2.35606475e-02,  1.13184754e-01, -2.33757871e-01],\n",
       "       [ 1.08088786e-01, -3.34481898e-01,  5.52556428e-01,\n",
       "         1.81498332e-01,  1.37764581e-01,  5.02345159e-02,\n",
       "         2.85875194e-02, -3.16329299e-01, -1.73622727e-01,\n",
       "         1.02012077e-01, -7.32472855e-02, -1.05852556e-01,\n",
       "        -1.03090256e-01,  3.13198180e-01, -1.85838287e-01,\n",
       "         2.80346195e-02,  2.26822724e-01,  1.86215088e-01,\n",
       "         3.06870330e-03, -1.08028740e-01,  1.64040262e-01,\n",
       "        -7.36721385e-02, -1.50074325e-01,  2.48932290e-01],\n",
       "       [-2.05079007e-01,  4.16892359e-01,  1.49288028e-02,\n",
       "         1.65048573e-03, -2.88721836e-01, -6.15285473e-02,\n",
       "        -2.72665863e-01, -2.09292180e-01, -6.41565621e-02,\n",
       "         1.05524731e-01,  2.12441363e-02, -3.17177196e-01,\n",
       "        -2.54770895e-02,  4.17651193e-02, -3.65230684e-01,\n",
       "        -4.06858420e-02,  1.15104702e-01, -1.84471439e-01,\n",
       "         1.99234062e-01, -2.42773774e-01, -3.75845774e-01,\n",
       "        -5.35936465e-02,  3.55854646e-02,  1.83206522e-01],\n",
       "       [-1.62815641e-01, -1.43572038e-01,  1.95812355e-02,\n",
       "         1.12558046e-01, -1.68390332e-01, -1.17783120e-01,\n",
       "         6.81363233e-04,  3.30151914e-01, -3.27232977e-01,\n",
       "         1.10933684e-01,  1.99246962e-01, -3.52368001e-01,\n",
       "         1.70432088e-01, -1.84490312e-01, -7.14501769e-02,\n",
       "        -4.21259716e-02,  2.20058515e-02,  4.75305520e-03,\n",
       "        -3.39493360e-01, -6.14629205e-02,  9.77922945e-02,\n",
       "        -3.64019331e-01, -3.37903702e-01, -2.44110877e-01],\n",
       "       [-6.69485085e-02, -8.64458449e-02, -1.19582554e-01,\n",
       "         1.55678993e-01,  2.33239194e-01, -2.14694380e-01,\n",
       "         5.86199772e-02, -1.60286819e-01,  1.72373981e-01,\n",
       "         2.79381602e-02,  1.25258422e-01, -4.90552061e-01,\n",
       "        -4.12831708e-03, -1.33269650e-01, -8.37430086e-02,\n",
       "         9.22497175e-02, -1.74077545e-01,  4.43142559e-01,\n",
       "        -6.62578679e-02, -1.29260844e-01, -6.34757344e-02,\n",
       "         4.46780922e-01,  1.32578898e-01, -1.75400472e-01],\n",
       "       [-5.39183536e-02, -3.73932178e-03, -1.23249918e-01,\n",
       "        -1.94858419e-01,  2.96029380e-02,  3.88598700e-01,\n",
       "        -1.32215394e-02,  2.05821134e-01,  1.69561307e-01,\n",
       "         3.97076543e-01,  4.68634524e-01, -3.74739542e-02,\n",
       "        -1.00367188e-01,  1.54672533e-01, -2.83586105e-01,\n",
       "        -1.46911704e-01, -4.95101976e-02,  1.14425660e-01,\n",
       "         2.71243269e-01,  5.07946801e-02,  3.36451449e-01,\n",
       "         3.28200275e-03,  2.60015919e-02,  2.16192588e-02],\n",
       "       [-7.35079101e-02, -4.18330204e-02,  4.82201110e-02,\n",
       "        -1.63421979e-01,  4.84611195e-03, -2.85811686e-01,\n",
       "         2.32629305e-01, -2.15262496e-01, -3.61243569e-02,\n",
       "         1.60751247e-01, -2.51519270e-01, -6.30705502e-03,\n",
       "        -2.10690056e-01, -2.54203035e-01, -4.36180498e-01,\n",
       "        -8.82427936e-02, -3.52723013e-01, -1.72118195e-01,\n",
       "        -5.17209187e-03,  4.47679560e-01,  1.51085338e-01,\n",
       "        -8.20415210e-02, -5.39505529e-03,  9.08483012e-03],\n",
       "       [ 3.25041428e-01, -2.37030027e-01,  4.93741271e-02,\n",
       "        -1.49522604e-01,  1.51358911e-01,  4.44054283e-02,\n",
       "        -4.01101363e-01, -8.43121495e-02,  1.42732902e-01,\n",
       "        -2.45712749e-02,  2.00681042e-01,  7.59688849e-02,\n",
       "        -2.46368915e-01, -5.04132104e-01, -1.05501804e-01,\n",
       "         3.44427468e-02, -2.98251334e-02, -2.20628173e-01,\n",
       "        -2.22062446e-01, -3.26947021e-01,  1.03646898e-02,\n",
       "        -7.18479610e-02,  6.85001134e-02,  1.02855470e-01],\n",
       "       [ 2.54430976e-02, -2.14949315e-02, -9.46659191e-02,\n",
       "        -1.02170474e-01,  1.63213004e-01, -4.91972754e-02,\n",
       "         1.33329199e-01,  1.88061779e-01,  2.04946308e-01,\n",
       "         2.08021121e-01,  7.79355124e-02, -1.22629626e-01,\n",
       "        -2.30304298e-01, -6.87890813e-03,  1.05867450e-01,\n",
       "         4.64463372e-01,  1.74058929e-01, -3.53240472e-02,\n",
       "        -3.68759606e-02,  2.62655026e-01, -3.63622325e-01,\n",
       "        -4.95965007e-03, -4.09871002e-01,  3.29767048e-01],\n",
       "       [-1.78980700e-01, -1.46212747e-01, -5.41457360e-03,\n",
       "        -4.14768189e-02, -3.40775748e-01, -1.03542301e-01,\n",
       "        -2.32667890e-01, -1.89744582e-01,  2.21929039e-01,\n",
       "         1.52637992e-01, -1.11061063e-01,  1.46890686e-01,\n",
       "        -1.65088308e-01, -5.30731110e-02,  2.28227331e-01,\n",
       "         2.55168475e-01, -1.89610385e-01,  4.19400148e-01,\n",
       "         2.49045639e-01, -8.56763620e-02,  1.76668309e-02,\n",
       "        -4.05877855e-01, -4.64586576e-02, -1.60311133e-01],\n",
       "       [-2.87813815e-01, -1.14762480e-01, -6.54084474e-02,\n",
       "         1.23263014e-02,  1.24116237e-01, -8.52186027e-02,\n",
       "        -9.51644876e-02,  9.02297643e-02, -6.08099375e-02,\n",
       "        -3.83239351e-01,  1.35555129e-01, -3.02823171e-02,\n",
       "        -5.31176909e-01,  4.54272357e-01, -6.99116417e-02,\n",
       "         1.63199582e-01, -1.87370598e-01, -2.65834875e-01,\n",
       "        -5.44081465e-02, -8.97253781e-02,  3.38207089e-02,\n",
       "        -2.04343140e-02,  1.69143035e-02, -2.26201342e-01]])"
      ]
     },
     "execution_count": 28,
     "metadata": {},
     "output_type": "execute_result"
    }
   ],
   "source": [
    "A = np.dot(eigen_vectors,r_eigen_vectors.T)\n",
    "A"
   ]
  },
  {
   "cell_type": "code",
   "execution_count": 29,
   "id": "33dbb46f",
   "metadata": {},
   "outputs": [
    {
     "data": {
      "text/plain": [
       "array([[ 1.23497844e-01,  1.21711934e-01,  1.24692601e-01,\n",
       "         1.27516353e-01,  1.07646555e-01,  9.06444977e-02,\n",
       "         6.35210679e-02,  4.45713404e-02,  1.16102278e-02,\n",
       "        -1.56236987e-02, -3.41388125e-02, -4.17658475e-02,\n",
       "        -5.63480374e-02, -6.03985511e-02, -6.51237045e-02,\n",
       "        -6.29745531e-02, -4.82738007e-02, -5.47002569e-02,\n",
       "        -4.48226838e-02, -4.08694009e-02, -4.41639141e-02,\n",
       "        -5.67317779e-02, -4.97051231e-02, -2.89448910e-02],\n",
       "       [ 1.21711934e-01,  1.20478163e-01,  1.24697242e-01,\n",
       "         1.29455870e-01,  1.07935804e-01,  9.03829034e-02,\n",
       "         5.63858078e-02,  3.47460686e-02,  5.12791460e-03,\n",
       "        -1.87786520e-02, -3.83164228e-02, -4.60542951e-02,\n",
       "        -5.96243568e-02, -6.35804639e-02, -6.73750567e-02,\n",
       "        -6.42565939e-02, -4.90070123e-02, -5.11298419e-02,\n",
       "        -4.22877363e-02, -3.60979677e-02, -3.83249393e-02,\n",
       "        -5.10053666e-02, -4.39032253e-02, -1.72124194e-02],\n",
       "       [ 1.24692601e-01,  1.24697242e-01,  1.32108626e-01,\n",
       "         1.41746062e-01,  1.15028551e-01,  9.51253900e-02,\n",
       "         4.27819267e-02,  1.34676782e-02, -9.96683805e-03,\n",
       "        -2.73878590e-02, -5.05145056e-02, -5.89748942e-02,\n",
       "        -7.09459287e-02, -7.49125496e-02, -7.67217429e-02,\n",
       "        -7.11155595e-02, -5.36571943e-02, -4.56825148e-02,\n",
       "        -3.87754678e-02, -2.69054680e-02, -2.67286014e-02,\n",
       "        -4.04289693e-02, -3.27260180e-02,  9.63718703e-03],\n",
       "       [ 1.27516353e-01,  1.29455870e-01,  1.41746062e-01,\n",
       "         1.58864637e-01,  1.24419266e-01,  1.01136604e-01,\n",
       "         2.08976768e-02, -1.99765128e-02, -3.34049178e-02,\n",
       "        -4.04365314e-02, -6.88305443e-02, -7.82954271e-02,\n",
       "        -8.75920698e-02, -9.15167965e-02, -9.01973247e-02,\n",
       "        -8.07866587e-02, -6.01338955e-02, -3.64997311e-02,\n",
       "        -3.27176484e-02, -1.21471616e-02, -8.21704621e-03,\n",
       "        -2.33095720e-02, -1.47811486e-02,  5.14463494e-02],\n",
       "       [ 1.07646555e-01,  1.07935804e-01,  1.15028551e-01,\n",
       "         1.24419266e-01,  1.00304050e-01,  8.26899549e-02,\n",
       "         3.35642383e-02,  6.65098055e-03, -1.20265014e-02,\n",
       "        -2.54761280e-02, -4.61406077e-02, -5.35642681e-02,\n",
       "        -6.34645582e-02, -6.68695044e-02, -6.79640768e-02,\n",
       "        -6.25821103e-02, -4.70977234e-02, -3.79311823e-02,\n",
       "        -3.24521302e-02, -2.09617395e-02, -2.02563044e-02,\n",
       "        -3.22432736e-02, -2.54973696e-02,  1.44514447e-02],\n",
       "       [ 9.06444977e-02,  9.03829034e-02,  9.51253900e-02,\n",
       "         1.01136604e-01,  8.26899549e-02,  6.86225769e-02,\n",
       "         3.42297991e-02,  1.44122214e-02, -4.06637593e-03,\n",
       "        -1.82073436e-02, -3.43694667e-02, -4.04083650e-02,\n",
       "        -4.95140194e-02, -5.24155687e-02, -5.41648346e-02,\n",
       "        -5.05930953e-02, -3.82851781e-02, -3.46078826e-02,\n",
       "        -2.91374608e-02, -2.16633655e-02, -2.20482555e-02,\n",
       "        -3.18594837e-02, -2.63490315e-02,  1.30978072e-03],\n",
       "       [ 6.35210679e-02,  5.63858078e-02,  4.27819267e-02,\n",
       "         2.08976768e-02,  3.35642383e-02,  3.42297991e-02,\n",
       "         1.06102038e-01,  1.31365881e-01,  8.05561861e-02,\n",
       "         3.18982495e-02,  3.76169821e-02,  3.63059851e-02,\n",
       "         1.93414052e-02,  1.68347875e-02,  4.21994238e-03,\n",
       "        -6.49102877e-03, -7.92339660e-03, -6.09646000e-02,\n",
       "        -4.53405623e-02, -7.03993197e-02, -8.41406736e-02,\n",
       "        -8.71286488e-02, -8.56063490e-02, -1.48525003e-01],\n",
       "       [ 4.45713404e-02,  3.47460686e-02,  1.34676782e-02,\n",
       "        -1.99765128e-02,  6.65098055e-03,  1.44122214e-02,\n",
       "         1.31365881e-01,  1.76230092e-01,  1.14335759e-01,\n",
       "         5.33358152e-02,  6.91627475e-02,  7.02674130e-02,\n",
       "         5.10279050e-02,  4.89410102e-02,  3.21953588e-02,\n",
       "         1.55206933e-02,  7.54452021e-03, -6.82240664e-02,\n",
       "        -4.90886289e-02, -8.76712173e-02, -1.06650850e-01,\n",
       "        -1.06052927e-01, -1.06606184e-01, -2.07800419e-01],\n",
       "       [ 1.16102278e-02,  5.12791460e-03, -9.96683805e-03,\n",
       "        -3.34049178e-02, -1.20265014e-02, -4.06637593e-03,\n",
       "         8.05561861e-02,  1.14335759e-01,  7.68485850e-02,\n",
       "         3.90933323e-02,  5.28343061e-02,  5.47703072e-02,\n",
       "         4.37863794e-02,  4.29756924e-02,  3.21868885e-02,\n",
       "         2.03867698e-02,  1.26337176e-02, -3.84881489e-02,\n",
       "        -2.68502654e-02, -5.39966811e-02, -6.65426264e-02,\n",
       "        -6.41931959e-02, -6.56573546e-02, -1.38459412e-01],\n",
       "       [-1.56236987e-02, -1.87786520e-02, -2.73878590e-02,\n",
       "        -4.04365314e-02, -2.54761280e-02, -1.82073436e-02,\n",
       "         3.18982495e-02,  5.33358152e-02,  3.90933323e-02,\n",
       "         2.36944840e-02,  3.43260493e-02,  3.67114403e-02,\n",
       "         3.34091858e-02,  3.36914416e-02,  2.87504844e-02,\n",
       "         2.20523525e-02,  1.53014165e-02, -1.09339498e-02,\n",
       "        -6.44955967e-03, -2.16835160e-02, -2.78182912e-02,\n",
       "        -2.43377750e-02, -2.63643555e-02, -6.90156649e-02],\n",
       "       [-3.41388125e-02, -3.83164228e-02, -5.05145056e-02,\n",
       "        -6.88305443e-02, -4.61406077e-02, -3.43694667e-02,\n",
       "         3.76169821e-02,  6.91627475e-02,  5.28343061e-02,\n",
       "         3.43260493e-02,  5.08972473e-02,  5.49682724e-02,\n",
       "         5.18877118e-02,  5.26893790e-02,  4.63428245e-02,\n",
       "         3.68697415e-02,  2.60479966e-02, -9.54762394e-03,\n",
       "        -4.35557255e-03, -2.58057681e-02, -3.39471982e-02,\n",
       "        -2.78608947e-02, -3.13751393e-02, -9.24154461e-02],\n",
       "       [-4.17658475e-02, -4.60542951e-02, -5.89748942e-02,\n",
       "        -7.82954271e-02, -5.35642681e-02, -4.04083650e-02,\n",
       "         3.63059851e-02,  7.02674130e-02,  5.47703072e-02,\n",
       "         3.67114403e-02,  5.49682724e-02,  5.96032411e-02,\n",
       "         5.70866032e-02,  5.81233689e-02,  5.17063629e-02,\n",
       "         4.16802331e-02,  2.96306794e-02, -7.33719489e-03,\n",
       "        -2.38012569e-03, -2.50381591e-02, -3.34046405e-02,\n",
       "        -2.64185104e-02, -3.04411194e-02, -9.53814397e-02],\n",
       "       [-5.63480374e-02, -5.96243568e-02, -7.09459287e-02,\n",
       "        -8.75920698e-02, -6.34645582e-02, -4.95140194e-02,\n",
       "         1.93414052e-02,  5.10279050e-02,  4.37863794e-02,\n",
       "         3.34091858e-02,  5.18877118e-02,  5.70866032e-02,\n",
       "         5.75116041e-02,  5.90811903e-02,  5.45347676e-02,\n",
       "         4.57778624e-02,  3.31516738e-02,  3.35294841e-03,\n",
       "         5.78477789e-03, -1.38481988e-02, -2.02729865e-02,\n",
       "        -1.22509404e-02, -1.68336169e-02, -7.47395145e-02],\n",
       "       [-6.03985511e-02, -6.35804639e-02, -7.49125496e-02,\n",
       "        -9.15167965e-02, -6.68695044e-02, -5.24155687e-02,\n",
       "         1.68347875e-02,  4.89410102e-02,  4.29756924e-02,\n",
       "         3.36914416e-02,  5.26893790e-02,  5.81233689e-02,\n",
       "         5.90811903e-02,  6.07860658e-02,  5.64533213e-02,\n",
       "         4.76940353e-02,  3.46375257e-02,  5.33624504e-03,\n",
       "         7.38333642e-03, -1.22231468e-02, -1.84704445e-02,\n",
       "        -1.00562311e-02, -1.48573126e-02, -7.30199113e-02],\n",
       "       [-6.51237045e-02, -6.73750567e-02, -7.67217429e-02,\n",
       "        -9.01973247e-02, -6.79640768e-02, -5.41648346e-02,\n",
       "         4.21994238e-03,  3.21953588e-02,  3.21868885e-02,\n",
       "         2.87504844e-02,  4.63428245e-02,  5.17063629e-02,\n",
       "         5.45347676e-02,  5.64533213e-02,  5.37139128e-02,\n",
       "         4.65112863e-02,  3.41397024e-02,  1.19824666e-02,\n",
       "         1.21892867e-02, -3.81087735e-03, -8.26127474e-03,\n",
       "         1.51648096e-04, -4.62814762e-03, -5.33774732e-02],\n",
       "       [-6.29745531e-02, -6.42565939e-02, -7.11155595e-02,\n",
       "        -8.07866587e-02, -6.25821103e-02, -5.05930953e-02,\n",
       "        -6.49102877e-03,  1.55206933e-02,  2.03867698e-02,\n",
       "         2.20523525e-02,  3.68697415e-02,  4.16802331e-02,\n",
       "         4.57778624e-02,  4.76940353e-02,  4.65112863e-02,\n",
       "         4.12475578e-02,  3.05790704e-02,  1.63134981e-02,\n",
       "         1.49955447e-02,  3.42385336e-03,  8.54703391e-04,\n",
       "         8.48950825e-03,  4.16861533e-03, -3.23762268e-02],\n",
       "       [-4.82738007e-02, -4.90070123e-02, -5.36571943e-02,\n",
       "        -6.01338955e-02, -4.70977234e-02, -3.82851781e-02,\n",
       "        -7.92339660e-03,  7.54452021e-03,  1.26337176e-02,\n",
       "         1.53014165e-02,  2.60479966e-02,  2.96306794e-02,\n",
       "         3.31516738e-02,  3.46375257e-02,  3.41397024e-02,\n",
       "         3.05790704e-02,  2.27620553e-02,  1.38231273e-02,\n",
       "         1.23895982e-02,  4.60673104e-03,  3.12090647e-03,\n",
       "         8.83389995e-03,  5.60564585e-03, -1.94538630e-02],\n",
       "       [-5.47002569e-02, -5.11298419e-02, -4.56825148e-02,\n",
       "        -3.64997311e-02, -3.79311823e-02, -3.46078826e-02,\n",
       "        -6.09646000e-02, -6.82240664e-02, -3.84881489e-02,\n",
       "        -1.09339498e-02, -9.54762394e-03, -7.33719489e-03,\n",
       "         3.35294841e-03,  5.33624504e-03,  1.19824666e-02,\n",
       "         1.63134981e-02,  1.38231273e-02,  3.89057378e-02,\n",
       "         2.98168566e-02,  4.01783671e-02,  4.70235573e-02,\n",
       "         5.10359695e-02,  4.88589306e-02,  7.25677688e-02],\n",
       "       [-4.48226838e-02, -4.22877363e-02, -3.87754678e-02,\n",
       "        -3.27176484e-02, -3.24521302e-02, -2.91374608e-02,\n",
       "        -4.53405623e-02, -4.90886289e-02, -2.68502654e-02,\n",
       "        -6.44955967e-03, -4.35557255e-03, -2.38012569e-03,\n",
       "         5.78477789e-03,  7.38333642e-03,  1.21892867e-02,\n",
       "         1.49955447e-02,  1.23895982e-02,  2.98168566e-02,\n",
       "         2.30319004e-02,  2.98195543e-02,  3.46714900e-02,\n",
       "         3.81778502e-02,  3.62624542e-02,  5.10642888e-02],\n",
       "       [-4.08694009e-02, -3.60979677e-02, -2.69054680e-02,\n",
       "        -1.21471616e-02, -2.09617395e-02, -2.16633655e-02,\n",
       "        -7.03993197e-02, -8.76712173e-02, -5.39966811e-02,\n",
       "        -2.16835160e-02, -2.58057681e-02, -2.50381591e-02,\n",
       "        -1.38481988e-02, -1.22231468e-02, -3.81087735e-03,\n",
       "         3.42385336e-03,  4.60673104e-03,  4.01783671e-02,\n",
       "         2.98195543e-02,  4.67294440e-02,  5.59206153e-02,\n",
       "         5.77420791e-02,  5.68234074e-02,  9.94434167e-02],\n",
       "       [-4.41639141e-02, -3.83249393e-02, -2.67286014e-02,\n",
       "        -8.21704621e-03, -2.02563044e-02, -2.20482555e-02,\n",
       "        -8.41406736e-02, -1.06650850e-01, -6.65426264e-02,\n",
       "        -2.78182912e-02, -3.39471982e-02, -3.34046405e-02,\n",
       "        -2.02729865e-02, -1.84704445e-02, -8.26127474e-03,\n",
       "         8.54703391e-04,  3.12090647e-03,  4.70235573e-02,\n",
       "         3.46714900e-02,  5.59206153e-02,  6.71760579e-02,\n",
       "         6.87624737e-02,  6.79995412e-02,  1.22139902e-01],\n",
       "       [-5.67317779e-02, -5.10053666e-02, -4.04289693e-02,\n",
       "        -2.33095720e-02, -3.22432736e-02, -3.18594837e-02,\n",
       "        -8.71286488e-02, -1.06052927e-01, -6.41931959e-02,\n",
       "        -2.43377750e-02, -2.78608947e-02, -2.64185104e-02,\n",
       "        -1.22509404e-02, -1.00562311e-02,  1.51648096e-04,\n",
       "         8.48950825e-03,  8.83389995e-03,  5.10359695e-02,\n",
       "         3.81778502e-02,  5.77420791e-02,  6.87624737e-02,\n",
       "         7.17924429e-02,  7.02154048e-02,  1.18758892e-01],\n",
       "       [-4.97051231e-02, -4.39032253e-02, -3.27260180e-02,\n",
       "        -1.47811486e-02, -2.54973696e-02, -2.63490315e-02,\n",
       "        -8.56063490e-02, -1.06606184e-01, -6.56573546e-02,\n",
       "        -2.63643555e-02, -3.13751393e-02, -3.04411194e-02,\n",
       "        -1.68336169e-02, -1.48573126e-02, -4.62814762e-03,\n",
       "         4.16861533e-03,  5.60564585e-03,  4.88589306e-02,\n",
       "         3.62624542e-02,  5.68234074e-02,  6.79995412e-02,\n",
       "         7.02154048e-02,  6.90977546e-02,  1.20919042e-01],\n",
       "       [-2.89448910e-02, -1.72124194e-02,  9.63718703e-03,\n",
       "         5.14463494e-02,  1.44514447e-02,  1.30978072e-03,\n",
       "        -1.48525003e-01, -2.07800419e-01, -1.38459412e-01,\n",
       "        -6.90156649e-02, -9.24154461e-02, -9.53814397e-02,\n",
       "        -7.47395145e-02, -7.30199113e-02, -5.33774732e-02,\n",
       "        -3.23762268e-02, -1.94538630e-02,  7.25677688e-02,\n",
       "         5.10642888e-02,  9.94434167e-02,  1.22139902e-01,\n",
       "         1.18758892e-01,  1.20919042e-01,  2.49993884e-01]])"
      ]
     },
     "execution_count": 29,
     "metadata": {},
     "output_type": "execute_result"
    }
   ],
   "source": [
    "B = np.dot(eigen_vec,r_eigen_vec)\n",
    "B"
   ]
  },
  {
   "cell_type": "markdown",
   "id": "fe128013",
   "metadata": {},
   "source": [
    "lam_s, l_s = np.linalg.eigh(cov)\n",
    "lam_s = lam_s * np.eye(len(lam_s))\n",
    "lam_sqrt_inv = np.sqrt(np.linalg.inv(lam_s))\n",
    "symm_orthog = np.dot(l_s, np.dot(lam_sqrt_inv, l_s.T))\n",
    "\n",
    "print(\"Symmetric orthogonalization matrix\")\n",
    "print(symm_orthog)"
   ]
  },
  {
   "cell_type": "code",
   "execution_count": 30,
   "id": "6522cc51",
   "metadata": {},
   "outputs": [],
   "source": [
    "lam_s, l_s = np.linalg.eigh(cov)"
   ]
  },
  {
   "cell_type": "code",
   "execution_count": 31,
   "id": "43c189f0",
   "metadata": {},
   "outputs": [
    {
     "data": {
      "text/plain": [
       "(24,)"
      ]
     },
     "execution_count": 31,
     "metadata": {},
     "output_type": "execute_result"
    }
   ],
   "source": [
    "lam_s.shape"
   ]
  },
  {
   "cell_type": "code",
   "execution_count": 32,
   "id": "0420e563",
   "metadata": {},
   "outputs": [
    {
     "data": {
      "text/plain": [
       "array([-6.41740021e-16, -2.91232235e-16, -1.42076444e-16, -1.24289866e-16,\n",
       "       -5.94839490e-17, -1.69255245e-17,  3.04567615e-17,  3.86633278e-17,\n",
       "        5.84620006e-17,  1.04608185e-16,  1.91039936e-16,  3.46318193e-16,\n",
       "        2.21681175e-15,  9.27097844e-05,  5.59756670e-04,  4.04041263e-03,\n",
       "        2.41813871e-02,  4.10626479e-02,  2.07592355e-01,  3.21038962e-01,\n",
       "        4.65037750e-01,  5.37401658e-01,  1.95582436e+00,  1.54708077e+01])"
      ]
     },
     "execution_count": 32,
     "metadata": {},
     "output_type": "execute_result"
    }
   ],
   "source": [
    "lam_s\n",
    "#np.eye(len(lam_s))"
   ]
  },
  {
   "cell_type": "code",
   "execution_count": 33,
   "id": "2490f19e",
   "metadata": {},
   "outputs": [],
   "source": [
    " lam_s = lam_s * np.eye(len(lam_s))"
   ]
  },
  {
   "cell_type": "code",
   "execution_count": 34,
   "id": "a48b3bc0",
   "metadata": {},
   "outputs": [
    {
     "data": {
      "text/plain": [
       "array([[-9.82211703e-02,  1.56261357e-01,  1.04118487e-01,\n",
       "         2.02480258e-02,  7.20790462e-03,  5.63005596e-02,\n",
       "         2.39090790e-02,  7.09815876e-03,  5.91754582e-02,\n",
       "        -6.35916818e-02,  3.73561007e-04,  1.43946453e-01,\n",
       "         5.78069282e-01,  1.32883861e-01, -4.56801426e-01,\n",
       "         3.04297948e-01, -2.73161020e-01,  2.61659628e-02,\n",
       "        -1.55655331e-01,  1.34156863e-01, -1.52781205e-01,\n",
       "         7.15476759e-02, -9.49832883e-02,  3.38343049e-01],\n",
       "       [ 4.69758006e-01,  9.07380811e-02, -2.91311818e-02,\n",
       "        -5.69072200e-02,  1.11484694e-02,  7.86634339e-02,\n",
       "         4.04437496e-02,  4.62011512e-02, -6.01876345e-02,\n",
       "         9.98404801e-04, -1.49362029e-02,  1.72332257e-01,\n",
       "        -6.20515848e-01,  6.10469943e-02, -4.56451337e-02,\n",
       "         3.26253327e-01, -2.65625572e-01, -3.75140310e-02,\n",
       "        -1.02850987e-01,  1.32277158e-01, -6.86943841e-02,\n",
       "         2.91750240e-02, -1.15697363e-01,  3.27249573e-01],\n",
       "       [-1.23589099e-01, -4.24572553e-01, -1.10101446e-01,\n",
       "        -1.80629103e-01, -1.56261631e-01,  1.73023303e-01,\n",
       "        -1.87944522e-02, -9.23011543e-02, -1.38250433e-01,\n",
       "        -2.04350124e-01, -2.80451351e-01, -2.29991493e-01,\n",
       "         1.74114719e-01,  9.13408833e-03,  5.19723623e-01,\n",
       "         1.97513010e-01, -1.09792828e-01, -9.52856901e-02,\n",
       "         1.60272525e-03,  9.43062628e-02, -2.63309393e-02,\n",
       "        -4.13590525e-02, -1.71770985e-01,  3.20317583e-01],\n",
       "       [ 2.58832752e-01, -3.44146844e-01, -6.74549547e-02,\n",
       "         1.42656684e-01,  4.34907961e-01, -1.31991660e-01,\n",
       "        -2.94229080e-03,  1.38403274e-01, -7.91599956e-02,\n",
       "         1.83442238e-01,  2.87831766e-01,  1.80105576e-01,\n",
       "         1.85624993e-01, -3.31416758e-03,  5.79402591e-02,\n",
       "        -3.34827065e-01,  1.45945567e-01, -9.98811974e-02,\n",
       "         5.86709531e-02,  1.60222357e-01, -9.03419442e-02,\n",
       "        -1.77155545e-01, -2.56857019e-01,  3.04777145e-01],\n",
       "       [-2.30331727e-01,  3.87564602e-01,  4.65600007e-01,\n",
       "         1.38724368e-01, -9.61406040e-03,  1.12386551e-01,\n",
       "         7.42726401e-02, -6.02483582e-02,  1.14051155e-01,\n",
       "        -2.03762554e-01,  3.78523497e-01, -1.52930479e-01,\n",
       "        -1.27162571e-01,  1.62968420e-01,  2.97644630e-01,\n",
       "        -2.44364861e-02,  2.02027846e-01,  7.15320169e-02,\n",
       "         1.04369296e-01,  1.16536832e-01, -6.05183288e-02,\n",
       "        -1.06574919e-01, -1.60259773e-01,  2.73168181e-01],\n",
       "       [ 3.46099049e-01,  4.78777073e-01, -3.22887859e-01,\n",
       "         8.64213095e-02, -2.86632906e-01,  1.62952667e-01,\n",
       "        -8.13047628e-02,  5.64613978e-03,  2.27876658e-02,\n",
       "         2.83748635e-01, -2.22350116e-01, -2.66116272e-01,\n",
       "         2.01374710e-01, -5.25946703e-02,  5.46492559e-02,\n",
       "        -2.35834347e-01,  1.19101889e-01,  8.92014029e-02,\n",
       "         8.16228547e-02, -6.29676635e-02,  7.38116163e-03,\n",
       "        -1.38743009e-01, -1.13747950e-01,  2.35974534e-01],\n",
       "       [-1.48907989e-01,  1.15792425e-01, -3.43842404e-01,\n",
       "         5.66542414e-02, -1.52467137e-01, -3.38537123e-01,\n",
       "         5.41450301e-02,  7.84539160e-02,  1.13399552e-01,\n",
       "        -9.10386338e-02,  7.97351767e-02,  1.31533674e-01,\n",
       "        -9.09296910e-03,  2.52130254e-02,  2.15402001e-02,\n",
       "         1.50580824e-01,  2.93817510e-01, -3.51244945e-01,\n",
       "        -5.03943617e-02,  2.92222645e-01,  4.67649515e-01,\n",
       "         7.03147006e-02,  2.12039532e-01,  2.47267618e-01],\n",
       "       [ 2.96000044e-01, -1.09529263e-01,  4.88790336e-01,\n",
       "        -2.59122076e-01,  1.53378601e-01,  2.12665948e-01,\n",
       "        -1.38062160e-01,  4.70944349e-02, -5.34664066e-03,\n",
       "         8.25113155e-02, -6.30010041e-02, -2.28881661e-01,\n",
       "         9.77140234e-02, -9.58662736e-02, -1.18447485e-01,\n",
       "        -9.07143721e-03,  1.86635710e-01, -1.37402912e-01,\n",
       "        -2.61525567e-02, -1.10830062e-01,  3.72752682e-01,\n",
       "         1.62476919e-01,  3.51005436e-01,  2.30272178e-01],\n",
       "       [-1.74961855e-01,  1.28210240e-01, -1.84584969e-01,\n",
       "         2.97317204e-02,  4.19306455e-01,  1.40047214e-01,\n",
       "         1.09506944e-01, -2.98814742e-01, -1.94821733e-01,\n",
       "         3.29792803e-01,  3.77249778e-03,  1.40703804e-01,\n",
       "         2.72189855e-02,  1.15127549e-01,  2.47380264e-01,\n",
       "         1.31394250e-01, -7.78112056e-02,  4.55678647e-01,\n",
       "        -5.74201064e-02,  2.06945041e-02,  2.48435779e-01,\n",
       "         7.93890643e-02,  2.56066405e-01,  1.06200666e-01],\n",
       "       [ 2.18902571e-01, -2.03069802e-01, -3.35878042e-02,\n",
       "         3.96308865e-02, -2.78791041e-01,  8.69602165e-02,\n",
       "         1.27340571e-02,  1.78745142e-01,  8.83984296e-02,\n",
       "        -3.96593026e-01,  1.10732195e-01,  7.81090756e-02,\n",
       "         4.68620066e-02,  1.31248887e-01, -2.66012919e-02,\n",
       "        -2.93328400e-01, -8.70714438e-02,  5.78788818e-01,\n",
       "        -1.30521450e-01,  2.54867689e-01,  2.29818808e-01,\n",
       "        -5.48853600e-03,  1.53901429e-01, -2.97223449e-03],\n",
       "       [ 7.16166607e-02,  7.51785659e-02,  1.43468899e-02,\n",
       "         3.42052951e-01,  1.06238087e-01,  1.10745643e-01,\n",
       "         3.81402837e-01, -2.75585439e-01, -9.54732987e-02,\n",
       "        -1.62328871e-01, -3.70738716e-02, -2.18678412e-01,\n",
       "         8.10140474e-03, -1.82729864e-01, -1.07265459e-03,\n",
       "        -3.34291828e-01, -3.81449453e-01, -3.45094178e-01,\n",
       "        -1.17854797e-01,  2.41329730e-01, -1.08276712e-02,\n",
       "         9.71601513e-02,  2.22295752e-01, -3.84947498e-02],\n",
       "       [-1.58155062e-01, -3.81171120e-02,  6.22017607e-02,\n",
       "         2.86200710e-01, -1.46773530e-01,  2.18547798e-01,\n",
       "        -4.93585948e-01,  3.66170087e-01,  8.87378167e-02,\n",
       "         3.60694327e-01,  1.42011881e-01,  4.93347550e-02,\n",
       "        -1.13751553e-02,  1.49473654e-02,  2.24571381e-01,\n",
       "         1.11643967e-02, -3.03151456e-01, -1.46861123e-01,\n",
       "        -6.26080031e-02,  2.05975123e-01, -7.14181176e-02,\n",
       "         6.88242196e-02,  2.37441992e-01, -5.67850482e-02],\n",
       "       [ 2.70791918e-01,  2.02826594e-01,  7.00316410e-02,\n",
       "        -2.63180422e-01, -8.31716419e-02, -5.23656717e-01,\n",
       "        -1.19755303e-01, -1.10315748e-02, -4.23601010e-01,\n",
       "        -4.64207245e-02,  2.67549257e-01, -1.23921007e-01,\n",
       "         2.10575405e-01,  1.01017654e-01,  2.47514851e-01,\n",
       "         5.84252573e-02, -1.87791002e-01,  6.25043663e-03,\n",
       "         3.14512123e-02,  4.02035029e-02, -1.69501791e-01,\n",
       "         6.21284764e-02,  2.15031194e-01, -1.06175279e-01],\n",
       "       [ 1.56941680e-01, -5.44014837e-03, -1.26158030e-01,\n",
       "        -2.09431920e-01,  1.84819846e-01,  2.19248604e-02,\n",
       "         4.32698688e-01,  2.96302872e-01,  5.71237357e-01,\n",
       "         9.81055975e-02,  3.89968864e-02, -1.87333511e-01,\n",
       "         1.05931472e-01,  1.93590904e-01,  2.08698760e-01,\n",
       "         1.46652919e-01, -1.13863204e-02, -1.35973703e-02,\n",
       "         1.83245406e-02,  2.74124091e-02, -2.37398774e-01,\n",
       "         3.22631634e-02,  2.16642732e-01, -1.17694488e-01],\n",
       "       [ 2.39170933e-01,  2.51010480e-02, -2.68625373e-01,\n",
       "         4.69168711e-03,  8.10249797e-02,  3.97630321e-01,\n",
       "        -3.20139770e-01, -3.76889288e-01,  8.23354610e-02,\n",
       "        -3.28131038e-01,  2.32159684e-01,  2.06010141e-01,\n",
       "         1.09996632e-01,  1.91742746e-01,  3.21632770e-02,\n",
       "         8.22059093e-02,  2.07784020e-01, -2.06938035e-01,\n",
       "         1.11888359e-01, -5.79164749e-02, -1.86192281e-01,\n",
       "         5.54895456e-02,  1.84091854e-01, -1.40798089e-01],\n",
       "       [ 9.84575386e-02, -5.53563261e-02,  1.27280386e-01,\n",
       "         4.00076539e-01, -1.91779880e-03,  6.80718503e-02,\n",
       "         1.73137575e-01,  2.34340398e-01, -4.10796707e-01,\n",
       "        -5.62285890e-03, -3.39603702e-01, -3.38209776e-02,\n",
       "         2.14443483e-02,  4.13843698e-01, -5.64586710e-02,\n",
       "         1.92521227e-01,  3.60577743e-01, -1.34210429e-02,\n",
       "         8.61360670e-02,  1.55383803e-01, -1.40937840e-01,\n",
       "        -3.66222801e-02,  1.40455728e-01, -1.46696101e-01],\n",
       "       [ 9.85161934e-02,  5.14099485e-02,  5.97216366e-02,\n",
       "         3.71946274e-02,  3.73451912e-02,  5.12844123e-02,\n",
       "         9.76056903e-03,  1.19642651e-02, -4.84395000e-03,\n",
       "        -4.56866033e-02, -3.50553629e-03,  6.72915396e-02,\n",
       "         8.97607850e-02, -7.36715105e-01,  5.77568109e-02,\n",
       "         3.17739695e-01,  2.38328928e-01,  1.94006045e-01,\n",
       "         3.24529824e-02,  3.77942844e-01, -1.82684707e-01,\n",
       "        -1.49056532e-01,  9.71949780e-02, -1.15391471e-01],\n",
       "       [-4.37320506e-02,  1.20175441e-01,  1.47372648e-01,\n",
       "        -3.78883967e-01,  1.26562076e-01, -5.01873240e-02,\n",
       "        -2.04095346e-01, -2.15988795e-01,  1.38959265e-01,\n",
       "         9.94977884e-02, -3.53533918e-01,  7.91778518e-02,\n",
       "        -5.06293990e-02,  2.39066238e-01, -3.82344587e-02,\n",
       "        -2.16423953e-01,  1.54678780e-03, -7.18537015e-02,\n",
       "        -3.03415668e-02,  5.86763718e-01, -3.00927018e-03,\n",
       "        -2.31854157e-01, -7.45717338e-02, -1.82605570e-01],\n",
       "       [ 5.00095977e-02, -1.49251790e-01,  1.04133457e-01,\n",
       "        -1.90010297e-01, -4.55963283e-01,  2.59279910e-01,\n",
       "         3.91635336e-01, -1.59201249e-01, -1.40866384e-01,\n",
       "         3.72029706e-01,  3.23588941e-01,  2.13276606e-01,\n",
       "         8.74837630e-02,  5.28728199e-02, -4.77148502e-02,\n",
       "         6.04934031e-02, -3.15382021e-02, -1.28143842e-01,\n",
       "         2.09068092e-01,  9.98244830e-02,  1.53402702e-01,\n",
       "        -1.78711916e-01, -4.47079454e-02, -1.45027929e-01],\n",
       "       [-8.23591318e-02,  2.41583440e-01, -1.62614673e-01,\n",
       "        -1.93728664e-01,  2.95750168e-01,  2.71294197e-01,\n",
       "         8.03655879e-03,  4.48659930e-01, -2.40589299e-01,\n",
       "        -2.67163080e-01,  4.78382395e-02, -3.74263388e-02,\n",
       "         4.52484935e-02, -5.19494678e-02, -4.82641141e-02,\n",
       "         2.54509102e-02, -2.29160162e-01, -9.84482281e-02,\n",
       "         3.76075354e-01,  3.47678001e-02,  3.03579049e-01,\n",
       "        -1.55053474e-01, -1.44005801e-01, -1.61219643e-01],\n",
       "       [ 2.72736280e-01, -9.35770970e-02,  1.49293530e-01,\n",
       "         3.87611934e-01,  5.56730191e-02, -2.39653721e-01,\n",
       "        -1.25976456e-01, -2.30537194e-01,  3.02554606e-01,\n",
       "         6.04505697e-03, -6.69728212e-02, -1.03982635e-01,\n",
       "         1.21040101e-01,  6.81315551e-02,  7.42528258e-02,\n",
       "         2.97914805e-01, -2.26123881e-01,  5.07264924e-02,\n",
       "         3.53196186e-01, -1.35536365e-02,  3.64154372e-01,\n",
       "        -1.26182478e-01, -1.84273888e-01, -1.82261330e-01],\n",
       "       [ 1.85028679e-02, -6.49680514e-02, -1.45557394e-01,\n",
       "         2.01961139e-02,  8.43168924e-02,  8.55001768e-02,\n",
       "        -8.18434994e-02, -3.38018272e-02, -8.41743094e-02,\n",
       "         5.64405449e-02,  2.99777120e-01, -4.85823498e-01,\n",
       "        -2.66672683e-02,  8.89317562e-02, -1.47093005e-01,\n",
       "         2.13846462e-01,  7.77821318e-02, -1.66222487e-02,\n",
       "        -5.76622034e-01,  5.34515255e-02,  1.44722142e-01,\n",
       "        -3.24067550e-01, -1.62256661e-01, -2.13225746e-01],\n",
       "       [ 1.70962491e-01,  2.06304880e-01,  1.95458762e-01,\n",
       "         4.13038290e-02,  1.01788390e-02,  4.89504583e-02,\n",
       "         1.00779951e-01,  1.18698270e-01,  1.75374290e-02,\n",
       "        -8.81669310e-02, -1.61867189e-01,  4.63243885e-01,\n",
       "         2.00421155e-01, -3.94139901e-02,  3.86417376e-01,\n",
       "        -1.80556033e-02,  8.44286175e-03, -1.54526987e-01,\n",
       "        -4.86385951e-01, -2.27249126e-01,  1.82715078e-01,\n",
       "        -8.16402023e-02, -1.75093217e-01, -1.96061520e-01],\n",
       "       [ 7.99964304e-02,  3.01029261e-02, -2.73414773e-02,\n",
       "        -2.83560258e-02,  1.12848514e-02,  8.06560744e-02,\n",
       "         1.04063598e-02,  1.20478596e-02, -3.23580919e-02,\n",
       "         9.31134489e-02,  8.08140309e-02, -1.05117316e-01,\n",
       "         5.06399617e-02, -7.83071347e-03,  4.95542009e-02,\n",
       "         5.48062230e-03,  1.34602470e-01,  3.68609631e-02,\n",
       "        -2.52164977e-02,  2.56534145e-01,  7.96143604e-02,\n",
       "         7.80764334e-01, -4.52546416e-01, -2.12592627e-01]])"
      ]
     },
     "execution_count": 34,
     "metadata": {},
     "output_type": "execute_result"
    }
   ],
   "source": [
    "l_s"
   ]
  },
  {
   "cell_type": "code",
   "execution_count": 35,
   "id": "6be93f05",
   "metadata": {},
   "outputs": [
    {
     "data": {
      "text/plain": [
       "array([[-1.55826342e+15, -0.00000000e+00, -0.00000000e+00,\n",
       "        -0.00000000e+00, -0.00000000e+00, -0.00000000e+00,\n",
       "        -0.00000000e+00, -0.00000000e+00, -0.00000000e+00,\n",
       "        -0.00000000e+00, -0.00000000e+00, -0.00000000e+00,\n",
       "        -0.00000000e+00, -0.00000000e+00, -0.00000000e+00,\n",
       "        -0.00000000e+00, -0.00000000e+00, -0.00000000e+00,\n",
       "        -0.00000000e+00, -0.00000000e+00, -0.00000000e+00,\n",
       "        -0.00000000e+00, -0.00000000e+00, -0.00000000e+00],\n",
       "       [-0.00000000e+00, -3.43368583e+15, -0.00000000e+00,\n",
       "        -0.00000000e+00, -0.00000000e+00, -0.00000000e+00,\n",
       "        -0.00000000e+00, -0.00000000e+00, -0.00000000e+00,\n",
       "        -0.00000000e+00, -0.00000000e+00, -0.00000000e+00,\n",
       "        -0.00000000e+00, -0.00000000e+00, -0.00000000e+00,\n",
       "        -0.00000000e+00, -0.00000000e+00, -0.00000000e+00,\n",
       "        -0.00000000e+00, -0.00000000e+00, -0.00000000e+00,\n",
       "        -0.00000000e+00, -0.00000000e+00, -0.00000000e+00],\n",
       "       [-0.00000000e+00, -0.00000000e+00, -7.03846446e+15,\n",
       "        -0.00000000e+00, -0.00000000e+00, -0.00000000e+00,\n",
       "        -0.00000000e+00, -0.00000000e+00, -0.00000000e+00,\n",
       "        -0.00000000e+00, -0.00000000e+00, -0.00000000e+00,\n",
       "        -0.00000000e+00, -0.00000000e+00, -0.00000000e+00,\n",
       "        -0.00000000e+00, -0.00000000e+00, -0.00000000e+00,\n",
       "        -0.00000000e+00, -0.00000000e+00, -0.00000000e+00,\n",
       "        -0.00000000e+00, -0.00000000e+00, -0.00000000e+00],\n",
       "       [-0.00000000e+00, -0.00000000e+00, -0.00000000e+00,\n",
       "        -8.04570825e+15, -0.00000000e+00, -0.00000000e+00,\n",
       "        -0.00000000e+00, -0.00000000e+00, -0.00000000e+00,\n",
       "        -0.00000000e+00, -0.00000000e+00, -0.00000000e+00,\n",
       "        -0.00000000e+00, -0.00000000e+00, -0.00000000e+00,\n",
       "        -0.00000000e+00, -0.00000000e+00, -0.00000000e+00,\n",
       "        -0.00000000e+00, -0.00000000e+00, -0.00000000e+00,\n",
       "        -0.00000000e+00, -0.00000000e+00, -0.00000000e+00],\n",
       "       [-0.00000000e+00, -0.00000000e+00, -0.00000000e+00,\n",
       "        -0.00000000e+00, -1.68112578e+16, -0.00000000e+00,\n",
       "        -0.00000000e+00, -0.00000000e+00, -0.00000000e+00,\n",
       "        -0.00000000e+00, -0.00000000e+00, -0.00000000e+00,\n",
       "        -0.00000000e+00, -0.00000000e+00, -0.00000000e+00,\n",
       "        -0.00000000e+00, -0.00000000e+00, -0.00000000e+00,\n",
       "        -0.00000000e+00, -0.00000000e+00, -0.00000000e+00,\n",
       "        -0.00000000e+00, -0.00000000e+00, -0.00000000e+00],\n",
       "       [-0.00000000e+00, -0.00000000e+00, -0.00000000e+00,\n",
       "        -0.00000000e+00, -0.00000000e+00, -5.90823641e+16,\n",
       "        -0.00000000e+00, -0.00000000e+00, -0.00000000e+00,\n",
       "        -0.00000000e+00, -0.00000000e+00, -0.00000000e+00,\n",
       "        -0.00000000e+00, -0.00000000e+00, -0.00000000e+00,\n",
       "        -0.00000000e+00, -0.00000000e+00, -0.00000000e+00,\n",
       "        -0.00000000e+00, -0.00000000e+00, -0.00000000e+00,\n",
       "        -0.00000000e+00, -0.00000000e+00, -0.00000000e+00],\n",
       "       [ 0.00000000e+00,  0.00000000e+00,  0.00000000e+00,\n",
       "         0.00000000e+00,  0.00000000e+00,  0.00000000e+00,\n",
       "         3.28334318e+16,  0.00000000e+00,  0.00000000e+00,\n",
       "         0.00000000e+00,  0.00000000e+00,  0.00000000e+00,\n",
       "         0.00000000e+00,  0.00000000e+00,  0.00000000e+00,\n",
       "         0.00000000e+00,  0.00000000e+00,  0.00000000e+00,\n",
       "         0.00000000e+00,  0.00000000e+00,  0.00000000e+00,\n",
       "         0.00000000e+00,  0.00000000e+00,  0.00000000e+00],\n",
       "       [ 0.00000000e+00,  0.00000000e+00,  0.00000000e+00,\n",
       "         0.00000000e+00,  0.00000000e+00,  0.00000000e+00,\n",
       "         0.00000000e+00,  2.58643024e+16,  0.00000000e+00,\n",
       "         0.00000000e+00,  0.00000000e+00,  0.00000000e+00,\n",
       "         0.00000000e+00,  0.00000000e+00,  0.00000000e+00,\n",
       "         0.00000000e+00,  0.00000000e+00,  0.00000000e+00,\n",
       "         0.00000000e+00,  0.00000000e+00,  0.00000000e+00,\n",
       "         0.00000000e+00,  0.00000000e+00,  0.00000000e+00],\n",
       "       [ 0.00000000e+00,  0.00000000e+00,  0.00000000e+00,\n",
       "         0.00000000e+00,  0.00000000e+00,  0.00000000e+00,\n",
       "         0.00000000e+00,  0.00000000e+00,  1.71051279e+16,\n",
       "         0.00000000e+00,  0.00000000e+00,  0.00000000e+00,\n",
       "         0.00000000e+00,  0.00000000e+00,  0.00000000e+00,\n",
       "         0.00000000e+00,  0.00000000e+00,  0.00000000e+00,\n",
       "         0.00000000e+00,  0.00000000e+00,  0.00000000e+00,\n",
       "         0.00000000e+00,  0.00000000e+00,  0.00000000e+00],\n",
       "       [ 0.00000000e+00,  0.00000000e+00,  0.00000000e+00,\n",
       "         0.00000000e+00,  0.00000000e+00,  0.00000000e+00,\n",
       "         0.00000000e+00,  0.00000000e+00,  0.00000000e+00,\n",
       "         9.55948137e+15,  0.00000000e+00,  0.00000000e+00,\n",
       "         0.00000000e+00,  0.00000000e+00,  0.00000000e+00,\n",
       "         0.00000000e+00,  0.00000000e+00,  0.00000000e+00,\n",
       "         0.00000000e+00,  0.00000000e+00,  0.00000000e+00,\n",
       "         0.00000000e+00,  0.00000000e+00,  0.00000000e+00],\n",
       "       [ 0.00000000e+00,  0.00000000e+00,  0.00000000e+00,\n",
       "         0.00000000e+00,  0.00000000e+00,  0.00000000e+00,\n",
       "         0.00000000e+00,  0.00000000e+00,  0.00000000e+00,\n",
       "         0.00000000e+00,  5.23450762e+15,  0.00000000e+00,\n",
       "         0.00000000e+00,  0.00000000e+00,  0.00000000e+00,\n",
       "         0.00000000e+00,  0.00000000e+00,  0.00000000e+00,\n",
       "         0.00000000e+00,  0.00000000e+00,  0.00000000e+00,\n",
       "         0.00000000e+00,  0.00000000e+00,  0.00000000e+00],\n",
       "       [ 0.00000000e+00,  0.00000000e+00,  0.00000000e+00,\n",
       "         0.00000000e+00,  0.00000000e+00,  0.00000000e+00,\n",
       "         0.00000000e+00,  0.00000000e+00,  0.00000000e+00,\n",
       "         0.00000000e+00,  0.00000000e+00,  2.88751795e+15,\n",
       "         0.00000000e+00,  0.00000000e+00,  0.00000000e+00,\n",
       "         0.00000000e+00,  0.00000000e+00,  0.00000000e+00,\n",
       "         0.00000000e+00,  0.00000000e+00,  0.00000000e+00,\n",
       "         0.00000000e+00,  0.00000000e+00,  0.00000000e+00],\n",
       "       [ 0.00000000e+00,  0.00000000e+00,  0.00000000e+00,\n",
       "         0.00000000e+00,  0.00000000e+00,  0.00000000e+00,\n",
       "         0.00000000e+00,  0.00000000e+00,  0.00000000e+00,\n",
       "         0.00000000e+00,  0.00000000e+00,  0.00000000e+00,\n",
       "         4.51098294e+14,  0.00000000e+00,  0.00000000e+00,\n",
       "         0.00000000e+00,  0.00000000e+00,  0.00000000e+00,\n",
       "         0.00000000e+00,  0.00000000e+00,  0.00000000e+00,\n",
       "         0.00000000e+00,  0.00000000e+00,  0.00000000e+00],\n",
       "       [ 0.00000000e+00,  0.00000000e+00,  0.00000000e+00,\n",
       "         0.00000000e+00,  0.00000000e+00,  0.00000000e+00,\n",
       "         0.00000000e+00,  0.00000000e+00,  0.00000000e+00,\n",
       "         0.00000000e+00,  0.00000000e+00,  0.00000000e+00,\n",
       "         0.00000000e+00,  1.07863480e+04,  0.00000000e+00,\n",
       "         0.00000000e+00,  0.00000000e+00,  0.00000000e+00,\n",
       "         0.00000000e+00,  0.00000000e+00,  0.00000000e+00,\n",
       "         0.00000000e+00,  0.00000000e+00,  0.00000000e+00],\n",
       "       [ 0.00000000e+00,  0.00000000e+00,  0.00000000e+00,\n",
       "         0.00000000e+00,  0.00000000e+00,  0.00000000e+00,\n",
       "         0.00000000e+00,  0.00000000e+00,  0.00000000e+00,\n",
       "         0.00000000e+00,  0.00000000e+00,  0.00000000e+00,\n",
       "         0.00000000e+00,  0.00000000e+00,  1.78649055e+03,\n",
       "         0.00000000e+00,  0.00000000e+00,  0.00000000e+00,\n",
       "         0.00000000e+00,  0.00000000e+00,  0.00000000e+00,\n",
       "         0.00000000e+00,  0.00000000e+00,  0.00000000e+00],\n",
       "       [ 0.00000000e+00,  0.00000000e+00,  0.00000000e+00,\n",
       "         0.00000000e+00,  0.00000000e+00,  0.00000000e+00,\n",
       "         0.00000000e+00,  0.00000000e+00,  0.00000000e+00,\n",
       "         0.00000000e+00,  0.00000000e+00,  0.00000000e+00,\n",
       "         0.00000000e+00,  0.00000000e+00,  0.00000000e+00,\n",
       "         2.47499474e+02,  0.00000000e+00,  0.00000000e+00,\n",
       "         0.00000000e+00,  0.00000000e+00,  0.00000000e+00,\n",
       "         0.00000000e+00,  0.00000000e+00,  0.00000000e+00],\n",
       "       [ 0.00000000e+00,  0.00000000e+00,  0.00000000e+00,\n",
       "         0.00000000e+00,  0.00000000e+00,  0.00000000e+00,\n",
       "         0.00000000e+00,  0.00000000e+00,  0.00000000e+00,\n",
       "         0.00000000e+00,  0.00000000e+00,  0.00000000e+00,\n",
       "         0.00000000e+00,  0.00000000e+00,  0.00000000e+00,\n",
       "         0.00000000e+00,  4.13541206e+01,  0.00000000e+00,\n",
       "         0.00000000e+00,  0.00000000e+00,  0.00000000e+00,\n",
       "         0.00000000e+00,  0.00000000e+00,  0.00000000e+00],\n",
       "       [ 0.00000000e+00,  0.00000000e+00,  0.00000000e+00,\n",
       "         0.00000000e+00,  0.00000000e+00,  0.00000000e+00,\n",
       "         0.00000000e+00,  0.00000000e+00,  0.00000000e+00,\n",
       "         0.00000000e+00,  0.00000000e+00,  0.00000000e+00,\n",
       "         0.00000000e+00,  0.00000000e+00,  0.00000000e+00,\n",
       "         0.00000000e+00,  0.00000000e+00,  2.43530325e+01,\n",
       "         0.00000000e+00,  0.00000000e+00,  0.00000000e+00,\n",
       "         0.00000000e+00,  0.00000000e+00,  0.00000000e+00],\n",
       "       [ 0.00000000e+00,  0.00000000e+00,  0.00000000e+00,\n",
       "         0.00000000e+00,  0.00000000e+00,  0.00000000e+00,\n",
       "         0.00000000e+00,  0.00000000e+00,  0.00000000e+00,\n",
       "         0.00000000e+00,  0.00000000e+00,  0.00000000e+00,\n",
       "         0.00000000e+00,  0.00000000e+00,  0.00000000e+00,\n",
       "         0.00000000e+00,  0.00000000e+00,  0.00000000e+00,\n",
       "         4.81713309e+00,  0.00000000e+00,  0.00000000e+00,\n",
       "         0.00000000e+00,  0.00000000e+00,  0.00000000e+00],\n",
       "       [ 0.00000000e+00,  0.00000000e+00,  0.00000000e+00,\n",
       "         0.00000000e+00,  0.00000000e+00,  0.00000000e+00,\n",
       "         0.00000000e+00,  0.00000000e+00,  0.00000000e+00,\n",
       "         0.00000000e+00,  0.00000000e+00,  0.00000000e+00,\n",
       "         0.00000000e+00,  0.00000000e+00,  0.00000000e+00,\n",
       "         0.00000000e+00,  0.00000000e+00,  0.00000000e+00,\n",
       "         0.00000000e+00,  3.11488672e+00,  0.00000000e+00,\n",
       "         0.00000000e+00,  0.00000000e+00,  0.00000000e+00],\n",
       "       [ 0.00000000e+00,  0.00000000e+00,  0.00000000e+00,\n",
       "         0.00000000e+00,  0.00000000e+00,  0.00000000e+00,\n",
       "         0.00000000e+00,  0.00000000e+00,  0.00000000e+00,\n",
       "         0.00000000e+00,  0.00000000e+00,  0.00000000e+00,\n",
       "         0.00000000e+00,  0.00000000e+00,  0.00000000e+00,\n",
       "         0.00000000e+00,  0.00000000e+00,  0.00000000e+00,\n",
       "         0.00000000e+00,  0.00000000e+00,  2.15036306e+00,\n",
       "         0.00000000e+00,  0.00000000e+00,  0.00000000e+00],\n",
       "       [ 0.00000000e+00,  0.00000000e+00,  0.00000000e+00,\n",
       "         0.00000000e+00,  0.00000000e+00,  0.00000000e+00,\n",
       "         0.00000000e+00,  0.00000000e+00,  0.00000000e+00,\n",
       "         0.00000000e+00,  0.00000000e+00,  0.00000000e+00,\n",
       "         0.00000000e+00,  0.00000000e+00,  0.00000000e+00,\n",
       "         0.00000000e+00,  0.00000000e+00,  0.00000000e+00,\n",
       "         0.00000000e+00,  0.00000000e+00,  0.00000000e+00,\n",
       "         1.86080557e+00,  0.00000000e+00,  0.00000000e+00],\n",
       "       [ 0.00000000e+00,  0.00000000e+00,  0.00000000e+00,\n",
       "         0.00000000e+00,  0.00000000e+00,  0.00000000e+00,\n",
       "         0.00000000e+00,  0.00000000e+00,  0.00000000e+00,\n",
       "         0.00000000e+00,  0.00000000e+00,  0.00000000e+00,\n",
       "         0.00000000e+00,  0.00000000e+00,  0.00000000e+00,\n",
       "         0.00000000e+00,  0.00000000e+00,  0.00000000e+00,\n",
       "         0.00000000e+00,  0.00000000e+00,  0.00000000e+00,\n",
       "         0.00000000e+00,  5.11293355e-01,  0.00000000e+00],\n",
       "       [ 0.00000000e+00,  0.00000000e+00,  0.00000000e+00,\n",
       "         0.00000000e+00,  0.00000000e+00,  0.00000000e+00,\n",
       "         0.00000000e+00,  0.00000000e+00,  0.00000000e+00,\n",
       "         0.00000000e+00,  0.00000000e+00,  0.00000000e+00,\n",
       "         0.00000000e+00,  0.00000000e+00,  0.00000000e+00,\n",
       "         0.00000000e+00,  0.00000000e+00,  0.00000000e+00,\n",
       "         0.00000000e+00,  0.00000000e+00,  0.00000000e+00,\n",
       "         0.00000000e+00,  0.00000000e+00,  6.46378664e-02]])"
      ]
     },
     "execution_count": 35,
     "metadata": {},
     "output_type": "execute_result"
    }
   ],
   "source": [
    "np.linalg.inv(lam_s)"
   ]
  },
  {
   "cell_type": "code",
   "execution_count": 36,
   "id": "2cb36758",
   "metadata": {},
   "outputs": [],
   "source": [
    "lam_sqrt_inv = np.sqrt(np.linalg.pinv(lam_s))"
   ]
  },
  {
   "cell_type": "code",
   "execution_count": 37,
   "id": "7663f677",
   "metadata": {},
   "outputs": [
    {
     "data": {
      "text/plain": [
       "array([[  0.        ,   0.        ,   0.        ,   0.        ,\n",
       "          0.        ,   0.        ,   0.        ,   0.        ,\n",
       "          0.        ,   0.        ,   0.        ,   0.        ,\n",
       "          0.        ,   0.        ,   0.        ,   0.        ,\n",
       "          0.        ,   0.        ,   0.        ,   0.        ,\n",
       "          0.        ,   0.        ,   0.        ,   0.        ],\n",
       "       [  0.        ,   0.        ,   0.        ,   0.        ,\n",
       "          0.        ,   0.        ,   0.        ,   0.        ,\n",
       "          0.        ,   0.        ,   0.        ,   0.        ,\n",
       "          0.        ,   0.        ,   0.        ,   0.        ,\n",
       "          0.        ,   0.        ,   0.        ,   0.        ,\n",
       "          0.        ,   0.        ,   0.        ,   0.        ],\n",
       "       [  0.        ,   0.        ,   0.        ,   0.        ,\n",
       "          0.        ,   0.        ,   0.        ,   0.        ,\n",
       "          0.        ,   0.        ,   0.        ,   0.        ,\n",
       "          0.        ,   0.        ,   0.        ,   0.        ,\n",
       "          0.        ,   0.        ,   0.        ,   0.        ,\n",
       "          0.        ,   0.        ,   0.        ,   0.        ],\n",
       "       [  0.        ,   0.        ,   0.        ,   0.        ,\n",
       "          0.        ,   0.        ,   0.        ,   0.        ,\n",
       "          0.        ,   0.        ,   0.        ,   0.        ,\n",
       "          0.        ,   0.        ,   0.        ,   0.        ,\n",
       "          0.        ,   0.        ,   0.        ,   0.        ,\n",
       "          0.        ,   0.        ,   0.        ,   0.        ],\n",
       "       [  0.        ,   0.        ,   0.        ,   0.        ,\n",
       "          0.        ,   0.        ,   0.        ,   0.        ,\n",
       "          0.        ,   0.        ,   0.        ,   0.        ,\n",
       "          0.        ,   0.        ,   0.        ,   0.        ,\n",
       "          0.        ,   0.        ,   0.        ,   0.        ,\n",
       "          0.        ,   0.        ,   0.        ,   0.        ],\n",
       "       [  0.        ,   0.        ,   0.        ,   0.        ,\n",
       "          0.        ,   0.        ,   0.        ,   0.        ,\n",
       "          0.        ,   0.        ,   0.        ,   0.        ,\n",
       "          0.        ,   0.        ,   0.        ,   0.        ,\n",
       "          0.        ,   0.        ,   0.        ,   0.        ,\n",
       "          0.        ,   0.        ,   0.        ,   0.        ],\n",
       "       [  0.        ,   0.        ,   0.        ,   0.        ,\n",
       "          0.        ,   0.        ,   0.        ,   0.        ,\n",
       "          0.        ,   0.        ,   0.        ,   0.        ,\n",
       "          0.        ,   0.        ,   0.        ,   0.        ,\n",
       "          0.        ,   0.        ,   0.        ,   0.        ,\n",
       "          0.        ,   0.        ,   0.        ,   0.        ],\n",
       "       [  0.        ,   0.        ,   0.        ,   0.        ,\n",
       "          0.        ,   0.        ,   0.        ,   0.        ,\n",
       "          0.        ,   0.        ,   0.        ,   0.        ,\n",
       "          0.        ,   0.        ,   0.        ,   0.        ,\n",
       "          0.        ,   0.        ,   0.        ,   0.        ,\n",
       "          0.        ,   0.        ,   0.        ,   0.        ],\n",
       "       [  0.        ,   0.        ,   0.        ,   0.        ,\n",
       "          0.        ,   0.        ,   0.        ,   0.        ,\n",
       "          0.        ,   0.        ,   0.        ,   0.        ,\n",
       "          0.        ,   0.        ,   0.        ,   0.        ,\n",
       "          0.        ,   0.        ,   0.        ,   0.        ,\n",
       "          0.        ,   0.        ,   0.        ,   0.        ],\n",
       "       [  0.        ,   0.        ,   0.        ,   0.        ,\n",
       "          0.        ,   0.        ,   0.        ,   0.        ,\n",
       "          0.        ,   0.        ,   0.        ,   0.        ,\n",
       "          0.        ,   0.        ,   0.        ,   0.        ,\n",
       "          0.        ,   0.        ,   0.        ,   0.        ,\n",
       "          0.        ,   0.        ,   0.        ,   0.        ],\n",
       "       [  0.        ,   0.        ,   0.        ,   0.        ,\n",
       "          0.        ,   0.        ,   0.        ,   0.        ,\n",
       "          0.        ,   0.        ,   0.        ,   0.        ,\n",
       "          0.        ,   0.        ,   0.        ,   0.        ,\n",
       "          0.        ,   0.        ,   0.        ,   0.        ,\n",
       "          0.        ,   0.        ,   0.        ,   0.        ],\n",
       "       [  0.        ,   0.        ,   0.        ,   0.        ,\n",
       "          0.        ,   0.        ,   0.        ,   0.        ,\n",
       "          0.        ,   0.        ,   0.        ,   0.        ,\n",
       "          0.        ,   0.        ,   0.        ,   0.        ,\n",
       "          0.        ,   0.        ,   0.        ,   0.        ,\n",
       "          0.        ,   0.        ,   0.        ,   0.        ],\n",
       "       [  0.        ,   0.        ,   0.        ,   0.        ,\n",
       "          0.        ,   0.        ,   0.        ,   0.        ,\n",
       "          0.        ,   0.        ,   0.        ,   0.        ,\n",
       "          0.        ,   0.        ,   0.        ,   0.        ,\n",
       "          0.        ,   0.        ,   0.        ,   0.        ,\n",
       "          0.        ,   0.        ,   0.        ,   0.        ],\n",
       "       [  0.        ,   0.        ,   0.        ,   0.        ,\n",
       "          0.        ,   0.        ,   0.        ,   0.        ,\n",
       "          0.        ,   0.        ,   0.        ,   0.        ,\n",
       "          0.        , 103.85734462,   0.        ,   0.        ,\n",
       "          0.        ,   0.        ,   0.        ,   0.        ,\n",
       "          0.        ,   0.        ,   0.        ,   0.        ],\n",
       "       [  0.        ,   0.        ,   0.        ,   0.        ,\n",
       "          0.        ,   0.        ,   0.        ,   0.        ,\n",
       "          0.        ,   0.        ,   0.        ,   0.        ,\n",
       "          0.        ,   0.        ,  42.26689661,   0.        ,\n",
       "          0.        ,   0.        ,   0.        ,   0.        ,\n",
       "          0.        ,   0.        ,   0.        ,   0.        ],\n",
       "       [  0.        ,   0.        ,   0.        ,   0.        ,\n",
       "          0.        ,   0.        ,   0.        ,   0.        ,\n",
       "          0.        ,   0.        ,   0.        ,   0.        ,\n",
       "          0.        ,   0.        ,   0.        ,  15.732116  ,\n",
       "          0.        ,   0.        ,   0.        ,   0.        ,\n",
       "          0.        ,   0.        ,   0.        ,   0.        ],\n",
       "       [  0.        ,   0.        ,   0.        ,   0.        ,\n",
       "          0.        ,   0.        ,   0.        ,   0.        ,\n",
       "          0.        ,   0.        ,   0.        ,   0.        ,\n",
       "          0.        ,   0.        ,   0.        ,   0.        ,\n",
       "          6.43071696,   0.        ,   0.        ,   0.        ,\n",
       "          0.        ,   0.        ,   0.        ,   0.        ],\n",
       "       [  0.        ,   0.        ,   0.        ,   0.        ,\n",
       "          0.        ,   0.        ,   0.        ,   0.        ,\n",
       "          0.        ,   0.        ,   0.        ,   0.        ,\n",
       "          0.        ,   0.        ,   0.        ,   0.        ,\n",
       "          0.        ,   4.93487918,   0.        ,   0.        ,\n",
       "          0.        ,   0.        ,   0.        ,   0.        ],\n",
       "       [  0.        ,   0.        ,   0.        ,   0.        ,\n",
       "          0.        ,   0.        ,   0.        ,   0.        ,\n",
       "          0.        ,   0.        ,   0.        ,   0.        ,\n",
       "          0.        ,   0.        ,   0.        ,   0.        ,\n",
       "          0.        ,   0.        ,   2.19479682,   0.        ,\n",
       "          0.        ,   0.        ,   0.        ,   0.        ],\n",
       "       [  0.        ,   0.        ,   0.        ,   0.        ,\n",
       "          0.        ,   0.        ,   0.        ,   0.        ,\n",
       "          0.        ,   0.        ,   0.        ,   0.        ,\n",
       "          0.        ,   0.        ,   0.        ,   0.        ,\n",
       "          0.        ,   0.        ,   0.        ,   1.76490417,\n",
       "          0.        ,   0.        ,   0.        ,   0.        ],\n",
       "       [  0.        ,   0.        ,   0.        ,   0.        ,\n",
       "          0.        ,   0.        ,   0.        ,   0.        ,\n",
       "          0.        ,   0.        ,   0.        ,   0.        ,\n",
       "          0.        ,   0.        ,   0.        ,   0.        ,\n",
       "          0.        ,   0.        ,   0.        ,   0.        ,\n",
       "          1.46641163,   0.        ,   0.        ,   0.        ],\n",
       "       [  0.        ,   0.        ,   0.        ,   0.        ,\n",
       "          0.        ,   0.        ,   0.        ,   0.        ,\n",
       "          0.        ,   0.        ,   0.        ,   0.        ,\n",
       "          0.        ,   0.        ,   0.        ,   0.        ,\n",
       "          0.        ,   0.        ,   0.        ,   0.        ,\n",
       "          0.        ,   1.36411347,   0.        ,   0.        ],\n",
       "       [  0.        ,   0.        ,   0.        ,   0.        ,\n",
       "          0.        ,   0.        ,   0.        ,   0.        ,\n",
       "          0.        ,   0.        ,   0.        ,   0.        ,\n",
       "          0.        ,   0.        ,   0.        ,   0.        ,\n",
       "          0.        ,   0.        ,   0.        ,   0.        ,\n",
       "          0.        ,   0.        ,   0.7150478 ,   0.        ],\n",
       "       [  0.        ,   0.        ,   0.        ,   0.        ,\n",
       "          0.        ,   0.        ,   0.        ,   0.        ,\n",
       "          0.        ,   0.        ,   0.        ,   0.        ,\n",
       "          0.        ,   0.        ,   0.        ,   0.        ,\n",
       "          0.        ,   0.        ,   0.        ,   0.        ,\n",
       "          0.        ,   0.        ,   0.        ,   0.25423978]])"
      ]
     },
     "execution_count": 37,
     "metadata": {},
     "output_type": "execute_result"
    }
   ],
   "source": [
    "lam_sqrt_inv"
   ]
  },
  {
   "cell_type": "code",
   "execution_count": 38,
   "id": "da7a8309",
   "metadata": {},
   "outputs": [],
   "source": [
    "symm_orthog = np.dot(l_s, np.dot(lam_sqrt_inv, l_s.T))"
   ]
  },
  {
   "cell_type": "code",
   "execution_count": 39,
   "id": "55203179",
   "metadata": {},
   "outputs": [
    {
     "data": {
      "text/plain": [
       "array([[ 1.27553338e+01,  3.86812306e+00, -8.71957627e+00,\n",
       "        -2.97208948e+00, -3.93083262e+00, -3.13766369e+00,\n",
       "         8.68284888e-02,  4.85876833e-01, -2.39455154e+00,\n",
       "         1.19062314e+00, -3.38507222e+00, -3.49077107e+00,\n",
       "        -2.75531458e+00, -6.05688429e-01,  1.99763932e+00,\n",
       "         7.10124567e+00, -1.00667727e+01,  3.10618704e+00,\n",
       "         1.87036738e+00,  5.19103858e-01,  1.11566044e+00,\n",
       "         5.09058474e+00, -8.06747466e+00, -1.13012269e+00],\n",
       "       [ 3.86812306e+00,  2.70931133e+00,  3.37692383e-01,\n",
       "        -2.00933743e+00,  1.67333513e-02, -1.87965607e+00,\n",
       "         4.92632331e-01, -7.80151756e-01,  9.59199349e-01,\n",
       "        -5.27892629e-01, -2.09050252e+00,  3.11615974e-01,\n",
       "         7.77652353e-01,  1.59919521e+00,  1.21418872e+00,\n",
       "         3.11321781e+00, -3.51877011e+00,  6.15203286e-01,\n",
       "         7.60542746e-01,  1.89016096e-01,  2.07015385e+00,\n",
       "         1.92629020e+00, -1.04062540e+00, -2.45482761e-01],\n",
       "       [-8.71957627e+00,  3.37692383e-01,  1.22277800e+01,\n",
       "         2.69876310e-01,  6.51082409e+00,  3.22286389e-01,\n",
       "         9.43238116e-01, -2.85469959e+00,  5.75875993e+00,\n",
       "        -1.56773488e+00, -7.99809226e-01,  5.26429952e+00,\n",
       "         5.81899303e+00,  5.21406277e+00,  1.05520472e+00,\n",
       "        -4.93221593e-01,  1.35483297e+00, -1.14787003e+00,\n",
       "        -7.12314694e-01, -8.13636430e-01,  2.75709850e+00,\n",
       "        -2.50733196e+00,  8.42523353e+00,  1.01955161e+00],\n",
       "       [-2.97208948e+00, -2.00933743e+00,  2.69876310e-01,\n",
       "         2.27138867e+00,  1.08666339e+00,  1.52644887e+00,\n",
       "        -3.22816058e-01, -1.36379243e-01, -5.16002370e-01,\n",
       "         1.06543881e+00,  1.62046797e+00,  2.68883745e-01,\n",
       "         5.94350107e-02, -3.47169058e-01, -1.58675567e-01,\n",
       "        -9.04404578e-01, -1.00614748e+00,  1.21896034e+00,\n",
       "        -3.45150531e-01, -3.31460564e-01, -1.60449373e+00,\n",
       "        -1.42280134e+00,  1.02468076e+00,  1.40054038e-01],\n",
       "       [-3.93083262e+00,  1.67333513e-02,  6.51082409e+00,\n",
       "         1.08666339e+00,  6.90603346e+00,  1.28898562e-01,\n",
       "         8.87283077e-01, -3.02497091e+00,  5.00555643e+00,\n",
       "         2.07583096e+00, -3.61383288e+00,  2.62143290e+00,\n",
       "         4.54887426e+00,  5.81939605e+00,  3.80656375e+00,\n",
       "         6.72716377e+00, -1.13827723e+01,  3.76871581e+00,\n",
       "         2.60996075e-01, -1.73451000e+00,  1.76950246e+00,\n",
       "        -4.15357294e-01,  4.00153706e+00,  6.40165071e-01],\n",
       "       [-3.13766369e+00, -1.87965607e+00,  3.22286389e-01,\n",
       "         1.52644887e+00,  1.28898562e-01,  1.49036337e+00,\n",
       "        -6.28388812e-01,  3.32357894e-01, -4.43335127e-01,\n",
       "         4.37144593e-01,  1.70504175e+00,  2.81985458e-02,\n",
       "        -3.74203494e-01, -1.16733132e+00, -1.21947692e+00,\n",
       "        -2.85164861e+00,  3.22188808e+00, -6.53337819e-01,\n",
       "        -6.47249871e-01, -4.28170411e-02, -1.36016508e+00,\n",
       "        -1.61262424e+00,  1.07132246e+00,  1.00342991e-01],\n",
       "       [ 8.68284888e-02,  4.92632331e-01,  9.43238116e-01,\n",
       "        -3.22816058e-01,  8.87283077e-01, -6.28388812e-01,\n",
       "         2.13776122e+00,  4.95080765e-01,  1.41595840e-01,\n",
       "        -1.21707376e+00, -1.22327238e+00,  5.50283413e-02,\n",
       "         1.95521424e-01,  9.24258931e-01,  1.33186233e+00,\n",
       "         2.17542702e+00, -9.50565560e-01,  4.64858307e-01,\n",
       "         5.01364583e-01, -2.44346627e-01,  5.88746520e-01,\n",
       "         9.02826059e-01,  5.04820812e-01,  4.10628628e-01],\n",
       "       [ 4.85876833e-01, -7.80151756e-01, -2.85469959e+00,\n",
       "        -1.36379243e-01, -3.02497091e+00,  3.32357894e-01,\n",
       "         4.95080765e-01,  2.23046362e+00, -2.58273845e+00,\n",
       "        -1.50819447e+00,  1.67730810e+00, -1.54318220e+00,\n",
       "        -2.52369405e+00, -3.07922147e+00, -1.73873246e+00,\n",
       "        -3.51718264e+00,  6.96399191e+00, -2.30283253e+00,\n",
       "        -2.54135170e-01,  6.04548556e-01, -1.30185181e+00,\n",
       "        -9.82112168e-02, -1.32592698e+00,  7.45462745e-03],\n",
       "       [-2.39455154e+00,  9.59199349e-01,  5.75875993e+00,\n",
       "        -5.16002370e-01,  5.00555643e+00, -4.43335127e-01,\n",
       "         1.41595840e-01, -2.58273845e+00,  5.45525410e+00,\n",
       "         2.16692714e+00, -3.40234771e+00,  2.41015149e+00,\n",
       "         4.00364777e+00,  4.72734635e+00,  2.18141567e+00,\n",
       "         4.50655309e+00, -7.28936950e+00,  1.82943804e+00,\n",
       "        -1.23177084e-02, -1.16294659e+00,  2.46939728e+00,\n",
       "        -5.21329630e-02,  3.25344360e+00,  4.88878257e-01],\n",
       "       [ 1.19062314e+00, -5.27892629e-01, -1.56773488e+00,\n",
       "         1.06543881e+00,  2.07583096e+00,  4.37144593e-01,\n",
       "        -1.21707376e+00, -1.50819447e+00,  2.16692714e+00,\n",
       "         5.12098567e+00, -1.55662463e+00, -2.37821102e-01,\n",
       "         9.27312302e-01,  1.64576362e+00,  1.38984434e+00,\n",
       "         4.58955704e+00, -1.10417635e+01,  4.35964904e+00,\n",
       "         1.80093988e-01, -9.28542530e-01, -2.61802164e-01,\n",
       "         5.22496872e-01, -1.25432213e+00, -6.38717901e-02],\n",
       "       [-3.38507222e+00, -2.09050252e+00, -7.99809226e-01,\n",
       "         1.62046797e+00, -3.61383288e+00,  1.70504175e+00,\n",
       "        -1.22327238e+00,  1.67730810e+00, -3.40234771e+00,\n",
       "        -1.55662463e+00,  6.93136799e+00,  7.93645383e-01,\n",
       "        -1.73044550e+00, -4.35300818e+00, -4.24258875e+00,\n",
       "        -9.66038333e+00,  1.15449041e+01, -3.06143821e+00,\n",
       "        -1.06716900e+00,  1.45486026e+00, -2.54197785e+00,\n",
       "        -2.86523240e+00,  1.05726569e+00, -1.27262484e-01],\n",
       "       [-3.49077107e+00,  3.11615974e-01,  5.26429952e+00,\n",
       "         2.68883745e-01,  2.62143290e+00,  2.81985458e-02,\n",
       "         5.50283413e-02, -1.54318220e+00,  2.41015149e+00,\n",
       "        -2.37821102e-01,  7.93645383e-01,  2.99276135e+00,\n",
       "         2.94996014e+00,  2.41311427e+00,  3.83864707e-01,\n",
       "        -4.70915415e-01, -9.88623462e-01,  2.05249676e-01,\n",
       "        -2.36627726e-01, -1.23713400e-01,  1.13485689e+00,\n",
       "        -1.33155378e+00,  3.62955121e+00,  2.57972065e-01],\n",
       "       [-2.75531458e+00,  7.77652353e-01,  5.81899303e+00,\n",
       "         5.94350107e-02,  4.54887426e+00, -3.74203494e-01,\n",
       "         1.95521424e-01, -2.52369405e+00,  4.00364777e+00,\n",
       "         9.27312302e-01, -1.73044550e+00,  2.94996014e+00,\n",
       "         4.01826734e+00,  4.46395211e+00,  2.25309002e+00,\n",
       "         3.56671003e+00, -7.03484374e+00,  1.91923885e+00,\n",
       "         1.10550070e-01, -8.30811607e-01,  1.93887239e+00,\n",
       "        -6.22347192e-01,  3.47384636e+00,  2.78888683e-01],\n",
       "       [-6.05688429e-01,  1.59919521e+00,  5.21406277e+00,\n",
       "        -3.47169058e-01,  5.81939605e+00, -1.16733132e+00,\n",
       "         9.24258931e-01, -3.07922147e+00,  4.72734635e+00,\n",
       "         1.64576362e+00, -4.35300818e+00,  2.41311427e+00,\n",
       "         4.46395211e+00,  6.19655640e+00,  4.42888483e+00,\n",
       "         8.32590645e+00, -1.35050544e+01,  3.98666541e+00,\n",
       "         7.42016662e-01, -1.50130643e+00,  2.58345344e+00,\n",
       "         8.75327427e-01,  2.46523513e+00,  2.34292993e-01],\n",
       "       [ 1.99763932e+00,  1.21418872e+00,  1.05520472e+00,\n",
       "        -1.58675567e-01,  3.80656375e+00, -1.21947692e+00,\n",
       "         1.33186233e+00, -1.73873246e+00,  2.18141567e+00,\n",
       "         1.38984434e+00, -4.24258875e+00,  3.83864707e-01,\n",
       "         2.25309002e+00,  4.42888483e+00,  4.57505911e+00,\n",
       "         8.97369752e+00, -1.40362321e+01,  4.41687524e+00,\n",
       "         1.14002579e+00, -1.29188996e+00,  1.45045274e+00,\n",
       "         1.74364628e+00, -2.82149642e-01,  1.37133864e-02],\n",
       "       [ 7.10124567e+00,  3.11321781e+00, -4.93221593e-01,\n",
       "        -9.04404578e-01,  6.72716377e+00, -2.85164861e+00,\n",
       "         2.17542702e+00, -3.51718264e+00,  4.50655309e+00,\n",
       "         4.58955704e+00, -9.66038333e+00, -4.70915415e-01,\n",
       "         3.56671003e+00,  8.32590645e+00,  8.97369752e+00,\n",
       "         1.94515442e+01, -3.01311737e+01,  9.88602647e+00,\n",
       "         2.54999502e+00, -2.54822940e+00,  3.10816370e+00,\n",
       "         4.88609692e+00, -2.83926483e+00, -1.55947810e-01],\n",
       "       [-1.00667727e+01, -3.51877011e+00,  1.35483297e+00,\n",
       "        -1.00614748e+00, -1.13827723e+01,  3.22188808e+00,\n",
       "        -9.50565560e-01,  6.96399191e+00, -7.28936950e+00,\n",
       "        -1.10417635e+01,  1.15449041e+01, -9.88623462e-01,\n",
       "        -7.03484374e+00, -1.35050544e+01, -1.40362321e+01,\n",
       "        -3.01311737e+01,  5.89925812e+01, -1.90959897e+01,\n",
       "        -3.95271791e+00,  3.53365326e+00, -3.90374842e+00,\n",
       "        -5.97460445e+00,  3.50876574e+00,  9.53132274e-01],\n",
       "       [ 3.10618704e+00,  6.15203286e-01, -1.14787003e+00,\n",
       "         1.21896034e+00,  3.76871581e+00, -6.53337819e-01,\n",
       "         4.64858307e-01, -2.30283253e+00,  1.82943804e+00,\n",
       "         4.35964904e+00, -3.06143821e+00,  2.05249676e-01,\n",
       "         1.91923885e+00,  3.98666541e+00,  4.41687524e+00,\n",
       "         9.88602647e+00, -1.90959897e+01,  7.45534800e+00,\n",
       "         1.38344992e+00, -1.19204692e+00,  5.56081114e-01,\n",
       "         1.93849899e+00, -1.64621028e+00, -2.50847289e-01],\n",
       "       [ 1.87036738e+00,  7.60542746e-01, -7.12314694e-01,\n",
       "        -3.45150531e-01,  2.60996075e-01, -6.47249871e-01,\n",
       "         5.01364583e-01, -2.54135170e-01, -1.23177084e-02,\n",
       "         1.80093988e-01, -1.06716900e+00, -2.36627726e-01,\n",
       "         1.10550070e-01,  7.42016662e-01,  1.14002579e+00,\n",
       "         2.54999502e+00, -3.95271791e+00,  1.38344992e+00,\n",
       "         7.29940741e-01,  2.40354976e-01,  8.06651072e-01,\n",
       "         8.52681518e-01, -1.10630841e+00, -3.04829028e-01],\n",
       "       [ 5.19103858e-01,  1.89016096e-01, -8.13636430e-01,\n",
       "        -3.31460564e-01, -1.73451000e+00, -4.28170411e-02,\n",
       "        -2.44346627e-01,  6.04548556e-01, -1.16294659e+00,\n",
       "        -9.28542530e-01,  1.45486026e+00, -1.23713400e-01,\n",
       "        -8.30811607e-01, -1.50130643e+00, -1.29188996e+00,\n",
       "        -2.54822940e+00,  3.53365326e+00, -1.19204692e+00,\n",
       "         2.40354976e-01,  1.27639321e+00,  4.14749265e-01,\n",
       "        -5.14927972e-01, -8.10965977e-01, -3.52369875e-01],\n",
       "       [ 1.11566044e+00,  2.07015385e+00,  2.75709850e+00,\n",
       "        -1.60449373e+00,  1.76950246e+00, -1.36016508e+00,\n",
       "         5.88746520e-01, -1.30185181e+00,  2.46939728e+00,\n",
       "        -2.61802164e-01, -2.54197785e+00,  1.13485689e+00,\n",
       "         1.93887239e+00,  2.58345344e+00,  1.45045274e+00,\n",
       "         3.10816370e+00, -3.90374842e+00,  5.56081114e-01,\n",
       "         8.06651072e-01,  4.14749265e-01,  2.97594813e+00,\n",
       "         7.68680932e-01,  5.70442435e-01, -1.08783813e-01],\n",
       "       [ 5.09058474e+00,  1.92629020e+00, -2.50733196e+00,\n",
       "        -1.42280134e+00, -4.15357294e-01, -1.61262424e+00,\n",
       "         9.02826059e-01, -9.82112168e-02, -5.21329630e-02,\n",
       "         5.22496872e-01, -2.86523240e+00, -1.33155378e+00,\n",
       "        -6.22347192e-01,  8.75327427e-01,  1.74364628e+00,\n",
       "         4.88609692e+00, -5.97460445e+00,  1.93849899e+00,\n",
       "         8.52681518e-01, -5.14927972e-01,  7.68680932e-01,\n",
       "         3.43475203e+00, -2.11037537e+00, -5.05779778e-01],\n",
       "       [-8.06747466e+00, -1.04062540e+00,  8.42523353e+00,\n",
       "         1.02468076e+00,  4.00153706e+00,  1.07132246e+00,\n",
       "         5.04820812e-01, -1.32592698e+00,  3.25344360e+00,\n",
       "        -1.25432213e+00,  1.05726569e+00,  3.62955121e+00,\n",
       "         3.47384636e+00,  2.46523513e+00, -2.82149642e-01,\n",
       "        -2.83926483e+00,  3.50876574e+00, -1.64621028e+00,\n",
       "        -1.10630841e+00, -8.10965977e-01,  5.70442435e-01,\n",
       "        -2.11037537e+00,  7.29610040e+00,  7.44715253e-01],\n",
       "       [-1.13012269e+00, -2.45482761e-01,  1.01955161e+00,\n",
       "         1.40054038e-01,  6.40165071e-01,  1.00342991e-01,\n",
       "         4.10628628e-01,  7.45462745e-03,  4.88878257e-01,\n",
       "        -6.38717901e-02, -1.27262484e-01,  2.57972065e-01,\n",
       "         2.78888683e-01,  2.34292993e-01,  1.37133864e-02,\n",
       "        -1.55947810e-01,  9.53132274e-01, -2.50847289e-01,\n",
       "        -3.04829028e-01, -3.52369875e-01, -1.08783813e-01,\n",
       "        -5.05779778e-01,  7.44715253e-01,  1.35017159e+00]])"
      ]
     },
     "execution_count": 39,
     "metadata": {},
     "output_type": "execute_result"
    }
   ],
   "source": [
    "symm_orthog"
   ]
  },
  {
   "cell_type": "markdown",
   "id": "057ee330",
   "metadata": {},
   "source": [
    "### Canonical Orthogonalization"
   ]
  },
  {
   "cell_type": "code",
   "execution_count": 40,
   "id": "fb1b3fc1",
   "metadata": {},
   "outputs": [],
   "source": [
    "#consider the covariance matrix cov for this also.\n",
    "e_values,e_vectors = np.linalg.eigh(cov) "
   ]
  },
  {
   "cell_type": "code",
   "execution_count": 41,
   "id": "e218bc12",
   "metadata": {},
   "outputs": [
    {
     "data": {
      "text/plain": [
       "array([-6.41740021e-16, -2.91232235e-16, -1.42076444e-16, -1.24289866e-16,\n",
       "       -5.94839490e-17, -1.69255245e-17,  3.04567615e-17,  3.86633278e-17,\n",
       "        5.84620006e-17,  1.04608185e-16,  1.91039936e-16,  3.46318193e-16,\n",
       "        2.21681175e-15,  9.27097844e-05,  5.59756670e-04,  4.04041263e-03,\n",
       "        2.41813871e-02,  4.10626479e-02,  2.07592355e-01,  3.21038962e-01,\n",
       "        4.65037750e-01,  5.37401658e-01,  1.95582436e+00,  1.54708077e+01])"
      ]
     },
     "execution_count": 41,
     "metadata": {},
     "output_type": "execute_result"
    }
   ],
   "source": [
    "e_values"
   ]
  },
  {
   "cell_type": "code",
   "execution_count": 42,
   "id": "81614b6e",
   "metadata": {},
   "outputs": [
    {
     "data": {
      "text/plain": [
       "(24, 24)"
      ]
     },
     "execution_count": 42,
     "metadata": {},
     "output_type": "execute_result"
    }
   ],
   "source": [
    "np.eye(len(e_values)).shape"
   ]
  },
  {
   "cell_type": "code",
   "execution_count": 43,
   "id": "ff7dbc10",
   "metadata": {},
   "outputs": [
    {
     "data": {
      "text/plain": [
       "array([[-6.41740021e-16, -0.00000000e+00, -0.00000000e+00,\n",
       "        -0.00000000e+00, -0.00000000e+00, -0.00000000e+00,\n",
       "         0.00000000e+00,  0.00000000e+00,  0.00000000e+00,\n",
       "         0.00000000e+00,  0.00000000e+00,  0.00000000e+00,\n",
       "         0.00000000e+00,  0.00000000e+00,  0.00000000e+00,\n",
       "         0.00000000e+00,  0.00000000e+00,  0.00000000e+00,\n",
       "         0.00000000e+00,  0.00000000e+00,  0.00000000e+00,\n",
       "         0.00000000e+00,  0.00000000e+00,  0.00000000e+00],\n",
       "       [-0.00000000e+00, -2.91232235e-16, -0.00000000e+00,\n",
       "        -0.00000000e+00, -0.00000000e+00, -0.00000000e+00,\n",
       "         0.00000000e+00,  0.00000000e+00,  0.00000000e+00,\n",
       "         0.00000000e+00,  0.00000000e+00,  0.00000000e+00,\n",
       "         0.00000000e+00,  0.00000000e+00,  0.00000000e+00,\n",
       "         0.00000000e+00,  0.00000000e+00,  0.00000000e+00,\n",
       "         0.00000000e+00,  0.00000000e+00,  0.00000000e+00,\n",
       "         0.00000000e+00,  0.00000000e+00,  0.00000000e+00],\n",
       "       [-0.00000000e+00, -0.00000000e+00, -1.42076444e-16,\n",
       "        -0.00000000e+00, -0.00000000e+00, -0.00000000e+00,\n",
       "         0.00000000e+00,  0.00000000e+00,  0.00000000e+00,\n",
       "         0.00000000e+00,  0.00000000e+00,  0.00000000e+00,\n",
       "         0.00000000e+00,  0.00000000e+00,  0.00000000e+00,\n",
       "         0.00000000e+00,  0.00000000e+00,  0.00000000e+00,\n",
       "         0.00000000e+00,  0.00000000e+00,  0.00000000e+00,\n",
       "         0.00000000e+00,  0.00000000e+00,  0.00000000e+00],\n",
       "       [-0.00000000e+00, -0.00000000e+00, -0.00000000e+00,\n",
       "        -1.24289866e-16, -0.00000000e+00, -0.00000000e+00,\n",
       "         0.00000000e+00,  0.00000000e+00,  0.00000000e+00,\n",
       "         0.00000000e+00,  0.00000000e+00,  0.00000000e+00,\n",
       "         0.00000000e+00,  0.00000000e+00,  0.00000000e+00,\n",
       "         0.00000000e+00,  0.00000000e+00,  0.00000000e+00,\n",
       "         0.00000000e+00,  0.00000000e+00,  0.00000000e+00,\n",
       "         0.00000000e+00,  0.00000000e+00,  0.00000000e+00],\n",
       "       [-0.00000000e+00, -0.00000000e+00, -0.00000000e+00,\n",
       "        -0.00000000e+00, -5.94839490e-17, -0.00000000e+00,\n",
       "         0.00000000e+00,  0.00000000e+00,  0.00000000e+00,\n",
       "         0.00000000e+00,  0.00000000e+00,  0.00000000e+00,\n",
       "         0.00000000e+00,  0.00000000e+00,  0.00000000e+00,\n",
       "         0.00000000e+00,  0.00000000e+00,  0.00000000e+00,\n",
       "         0.00000000e+00,  0.00000000e+00,  0.00000000e+00,\n",
       "         0.00000000e+00,  0.00000000e+00,  0.00000000e+00],\n",
       "       [-0.00000000e+00, -0.00000000e+00, -0.00000000e+00,\n",
       "        -0.00000000e+00, -0.00000000e+00, -1.69255245e-17,\n",
       "         0.00000000e+00,  0.00000000e+00,  0.00000000e+00,\n",
       "         0.00000000e+00,  0.00000000e+00,  0.00000000e+00,\n",
       "         0.00000000e+00,  0.00000000e+00,  0.00000000e+00,\n",
       "         0.00000000e+00,  0.00000000e+00,  0.00000000e+00,\n",
       "         0.00000000e+00,  0.00000000e+00,  0.00000000e+00,\n",
       "         0.00000000e+00,  0.00000000e+00,  0.00000000e+00],\n",
       "       [-0.00000000e+00, -0.00000000e+00, -0.00000000e+00,\n",
       "        -0.00000000e+00, -0.00000000e+00, -0.00000000e+00,\n",
       "         3.04567615e-17,  0.00000000e+00,  0.00000000e+00,\n",
       "         0.00000000e+00,  0.00000000e+00,  0.00000000e+00,\n",
       "         0.00000000e+00,  0.00000000e+00,  0.00000000e+00,\n",
       "         0.00000000e+00,  0.00000000e+00,  0.00000000e+00,\n",
       "         0.00000000e+00,  0.00000000e+00,  0.00000000e+00,\n",
       "         0.00000000e+00,  0.00000000e+00,  0.00000000e+00],\n",
       "       [-0.00000000e+00, -0.00000000e+00, -0.00000000e+00,\n",
       "        -0.00000000e+00, -0.00000000e+00, -0.00000000e+00,\n",
       "         0.00000000e+00,  3.86633278e-17,  0.00000000e+00,\n",
       "         0.00000000e+00,  0.00000000e+00,  0.00000000e+00,\n",
       "         0.00000000e+00,  0.00000000e+00,  0.00000000e+00,\n",
       "         0.00000000e+00,  0.00000000e+00,  0.00000000e+00,\n",
       "         0.00000000e+00,  0.00000000e+00,  0.00000000e+00,\n",
       "         0.00000000e+00,  0.00000000e+00,  0.00000000e+00],\n",
       "       [-0.00000000e+00, -0.00000000e+00, -0.00000000e+00,\n",
       "        -0.00000000e+00, -0.00000000e+00, -0.00000000e+00,\n",
       "         0.00000000e+00,  0.00000000e+00,  5.84620006e-17,\n",
       "         0.00000000e+00,  0.00000000e+00,  0.00000000e+00,\n",
       "         0.00000000e+00,  0.00000000e+00,  0.00000000e+00,\n",
       "         0.00000000e+00,  0.00000000e+00,  0.00000000e+00,\n",
       "         0.00000000e+00,  0.00000000e+00,  0.00000000e+00,\n",
       "         0.00000000e+00,  0.00000000e+00,  0.00000000e+00],\n",
       "       [-0.00000000e+00, -0.00000000e+00, -0.00000000e+00,\n",
       "        -0.00000000e+00, -0.00000000e+00, -0.00000000e+00,\n",
       "         0.00000000e+00,  0.00000000e+00,  0.00000000e+00,\n",
       "         1.04608185e-16,  0.00000000e+00,  0.00000000e+00,\n",
       "         0.00000000e+00,  0.00000000e+00,  0.00000000e+00,\n",
       "         0.00000000e+00,  0.00000000e+00,  0.00000000e+00,\n",
       "         0.00000000e+00,  0.00000000e+00,  0.00000000e+00,\n",
       "         0.00000000e+00,  0.00000000e+00,  0.00000000e+00],\n",
       "       [-0.00000000e+00, -0.00000000e+00, -0.00000000e+00,\n",
       "        -0.00000000e+00, -0.00000000e+00, -0.00000000e+00,\n",
       "         0.00000000e+00,  0.00000000e+00,  0.00000000e+00,\n",
       "         0.00000000e+00,  1.91039936e-16,  0.00000000e+00,\n",
       "         0.00000000e+00,  0.00000000e+00,  0.00000000e+00,\n",
       "         0.00000000e+00,  0.00000000e+00,  0.00000000e+00,\n",
       "         0.00000000e+00,  0.00000000e+00,  0.00000000e+00,\n",
       "         0.00000000e+00,  0.00000000e+00,  0.00000000e+00],\n",
       "       [-0.00000000e+00, -0.00000000e+00, -0.00000000e+00,\n",
       "        -0.00000000e+00, -0.00000000e+00, -0.00000000e+00,\n",
       "         0.00000000e+00,  0.00000000e+00,  0.00000000e+00,\n",
       "         0.00000000e+00,  0.00000000e+00,  3.46318193e-16,\n",
       "         0.00000000e+00,  0.00000000e+00,  0.00000000e+00,\n",
       "         0.00000000e+00,  0.00000000e+00,  0.00000000e+00,\n",
       "         0.00000000e+00,  0.00000000e+00,  0.00000000e+00,\n",
       "         0.00000000e+00,  0.00000000e+00,  0.00000000e+00],\n",
       "       [-0.00000000e+00, -0.00000000e+00, -0.00000000e+00,\n",
       "        -0.00000000e+00, -0.00000000e+00, -0.00000000e+00,\n",
       "         0.00000000e+00,  0.00000000e+00,  0.00000000e+00,\n",
       "         0.00000000e+00,  0.00000000e+00,  0.00000000e+00,\n",
       "         2.21681175e-15,  0.00000000e+00,  0.00000000e+00,\n",
       "         0.00000000e+00,  0.00000000e+00,  0.00000000e+00,\n",
       "         0.00000000e+00,  0.00000000e+00,  0.00000000e+00,\n",
       "         0.00000000e+00,  0.00000000e+00,  0.00000000e+00],\n",
       "       [-0.00000000e+00, -0.00000000e+00, -0.00000000e+00,\n",
       "        -0.00000000e+00, -0.00000000e+00, -0.00000000e+00,\n",
       "         0.00000000e+00,  0.00000000e+00,  0.00000000e+00,\n",
       "         0.00000000e+00,  0.00000000e+00,  0.00000000e+00,\n",
       "         0.00000000e+00,  9.27097844e-05,  0.00000000e+00,\n",
       "         0.00000000e+00,  0.00000000e+00,  0.00000000e+00,\n",
       "         0.00000000e+00,  0.00000000e+00,  0.00000000e+00,\n",
       "         0.00000000e+00,  0.00000000e+00,  0.00000000e+00],\n",
       "       [-0.00000000e+00, -0.00000000e+00, -0.00000000e+00,\n",
       "        -0.00000000e+00, -0.00000000e+00, -0.00000000e+00,\n",
       "         0.00000000e+00,  0.00000000e+00,  0.00000000e+00,\n",
       "         0.00000000e+00,  0.00000000e+00,  0.00000000e+00,\n",
       "         0.00000000e+00,  0.00000000e+00,  5.59756670e-04,\n",
       "         0.00000000e+00,  0.00000000e+00,  0.00000000e+00,\n",
       "         0.00000000e+00,  0.00000000e+00,  0.00000000e+00,\n",
       "         0.00000000e+00,  0.00000000e+00,  0.00000000e+00],\n",
       "       [-0.00000000e+00, -0.00000000e+00, -0.00000000e+00,\n",
       "        -0.00000000e+00, -0.00000000e+00, -0.00000000e+00,\n",
       "         0.00000000e+00,  0.00000000e+00,  0.00000000e+00,\n",
       "         0.00000000e+00,  0.00000000e+00,  0.00000000e+00,\n",
       "         0.00000000e+00,  0.00000000e+00,  0.00000000e+00,\n",
       "         4.04041263e-03,  0.00000000e+00,  0.00000000e+00,\n",
       "         0.00000000e+00,  0.00000000e+00,  0.00000000e+00,\n",
       "         0.00000000e+00,  0.00000000e+00,  0.00000000e+00],\n",
       "       [-0.00000000e+00, -0.00000000e+00, -0.00000000e+00,\n",
       "        -0.00000000e+00, -0.00000000e+00, -0.00000000e+00,\n",
       "         0.00000000e+00,  0.00000000e+00,  0.00000000e+00,\n",
       "         0.00000000e+00,  0.00000000e+00,  0.00000000e+00,\n",
       "         0.00000000e+00,  0.00000000e+00,  0.00000000e+00,\n",
       "         0.00000000e+00,  2.41813871e-02,  0.00000000e+00,\n",
       "         0.00000000e+00,  0.00000000e+00,  0.00000000e+00,\n",
       "         0.00000000e+00,  0.00000000e+00,  0.00000000e+00],\n",
       "       [-0.00000000e+00, -0.00000000e+00, -0.00000000e+00,\n",
       "        -0.00000000e+00, -0.00000000e+00, -0.00000000e+00,\n",
       "         0.00000000e+00,  0.00000000e+00,  0.00000000e+00,\n",
       "         0.00000000e+00,  0.00000000e+00,  0.00000000e+00,\n",
       "         0.00000000e+00,  0.00000000e+00,  0.00000000e+00,\n",
       "         0.00000000e+00,  0.00000000e+00,  4.10626479e-02,\n",
       "         0.00000000e+00,  0.00000000e+00,  0.00000000e+00,\n",
       "         0.00000000e+00,  0.00000000e+00,  0.00000000e+00],\n",
       "       [-0.00000000e+00, -0.00000000e+00, -0.00000000e+00,\n",
       "        -0.00000000e+00, -0.00000000e+00, -0.00000000e+00,\n",
       "         0.00000000e+00,  0.00000000e+00,  0.00000000e+00,\n",
       "         0.00000000e+00,  0.00000000e+00,  0.00000000e+00,\n",
       "         0.00000000e+00,  0.00000000e+00,  0.00000000e+00,\n",
       "         0.00000000e+00,  0.00000000e+00,  0.00000000e+00,\n",
       "         2.07592355e-01,  0.00000000e+00,  0.00000000e+00,\n",
       "         0.00000000e+00,  0.00000000e+00,  0.00000000e+00],\n",
       "       [-0.00000000e+00, -0.00000000e+00, -0.00000000e+00,\n",
       "        -0.00000000e+00, -0.00000000e+00, -0.00000000e+00,\n",
       "         0.00000000e+00,  0.00000000e+00,  0.00000000e+00,\n",
       "         0.00000000e+00,  0.00000000e+00,  0.00000000e+00,\n",
       "         0.00000000e+00,  0.00000000e+00,  0.00000000e+00,\n",
       "         0.00000000e+00,  0.00000000e+00,  0.00000000e+00,\n",
       "         0.00000000e+00,  3.21038962e-01,  0.00000000e+00,\n",
       "         0.00000000e+00,  0.00000000e+00,  0.00000000e+00],\n",
       "       [-0.00000000e+00, -0.00000000e+00, -0.00000000e+00,\n",
       "        -0.00000000e+00, -0.00000000e+00, -0.00000000e+00,\n",
       "         0.00000000e+00,  0.00000000e+00,  0.00000000e+00,\n",
       "         0.00000000e+00,  0.00000000e+00,  0.00000000e+00,\n",
       "         0.00000000e+00,  0.00000000e+00,  0.00000000e+00,\n",
       "         0.00000000e+00,  0.00000000e+00,  0.00000000e+00,\n",
       "         0.00000000e+00,  0.00000000e+00,  4.65037750e-01,\n",
       "         0.00000000e+00,  0.00000000e+00,  0.00000000e+00],\n",
       "       [-0.00000000e+00, -0.00000000e+00, -0.00000000e+00,\n",
       "        -0.00000000e+00, -0.00000000e+00, -0.00000000e+00,\n",
       "         0.00000000e+00,  0.00000000e+00,  0.00000000e+00,\n",
       "         0.00000000e+00,  0.00000000e+00,  0.00000000e+00,\n",
       "         0.00000000e+00,  0.00000000e+00,  0.00000000e+00,\n",
       "         0.00000000e+00,  0.00000000e+00,  0.00000000e+00,\n",
       "         0.00000000e+00,  0.00000000e+00,  0.00000000e+00,\n",
       "         5.37401658e-01,  0.00000000e+00,  0.00000000e+00],\n",
       "       [-0.00000000e+00, -0.00000000e+00, -0.00000000e+00,\n",
       "        -0.00000000e+00, -0.00000000e+00, -0.00000000e+00,\n",
       "         0.00000000e+00,  0.00000000e+00,  0.00000000e+00,\n",
       "         0.00000000e+00,  0.00000000e+00,  0.00000000e+00,\n",
       "         0.00000000e+00,  0.00000000e+00,  0.00000000e+00,\n",
       "         0.00000000e+00,  0.00000000e+00,  0.00000000e+00,\n",
       "         0.00000000e+00,  0.00000000e+00,  0.00000000e+00,\n",
       "         0.00000000e+00,  1.95582436e+00,  0.00000000e+00],\n",
       "       [-0.00000000e+00, -0.00000000e+00, -0.00000000e+00,\n",
       "        -0.00000000e+00, -0.00000000e+00, -0.00000000e+00,\n",
       "         0.00000000e+00,  0.00000000e+00,  0.00000000e+00,\n",
       "         0.00000000e+00,  0.00000000e+00,  0.00000000e+00,\n",
       "         0.00000000e+00,  0.00000000e+00,  0.00000000e+00,\n",
       "         0.00000000e+00,  0.00000000e+00,  0.00000000e+00,\n",
       "         0.00000000e+00,  0.00000000e+00,  0.00000000e+00,\n",
       "         0.00000000e+00,  0.00000000e+00,  1.54708077e+01]])"
      ]
     },
     "execution_count": 43,
     "metadata": {},
     "output_type": "execute_result"
    }
   ],
   "source": [
    "e_values = e_values*np.eye(len(e_values))\n",
    "e_values"
   ]
  },
  {
   "cell_type": "code",
   "execution_count": 44,
   "id": "4ccc0188",
   "metadata": {},
   "outputs": [],
   "source": [
    "sqrt_inv = np.sqrt(np.linalg.pinv(e_values))"
   ]
  },
  {
   "cell_type": "code",
   "execution_count": 45,
   "id": "c8647e6d",
   "metadata": {},
   "outputs": [
    {
     "data": {
      "text/plain": [
       "array([[  0.        ,   0.        ,   0.        ,   0.        ,\n",
       "          0.        ,   0.        ,   0.        ,   0.        ,\n",
       "          0.        ,   0.        ,   0.        ,   0.        ,\n",
       "          0.        ,   0.        ,   0.        ,   0.        ,\n",
       "          0.        ,   0.        ,   0.        ,   0.        ,\n",
       "          0.        ,   0.        ,   0.        ,   0.        ],\n",
       "       [  0.        ,   0.        ,   0.        ,   0.        ,\n",
       "          0.        ,   0.        ,   0.        ,   0.        ,\n",
       "          0.        ,   0.        ,   0.        ,   0.        ,\n",
       "          0.        ,   0.        ,   0.        ,   0.        ,\n",
       "          0.        ,   0.        ,   0.        ,   0.        ,\n",
       "          0.        ,   0.        ,   0.        ,   0.        ],\n",
       "       [  0.        ,   0.        ,   0.        ,   0.        ,\n",
       "          0.        ,   0.        ,   0.        ,   0.        ,\n",
       "          0.        ,   0.        ,   0.        ,   0.        ,\n",
       "          0.        ,   0.        ,   0.        ,   0.        ,\n",
       "          0.        ,   0.        ,   0.        ,   0.        ,\n",
       "          0.        ,   0.        ,   0.        ,   0.        ],\n",
       "       [  0.        ,   0.        ,   0.        ,   0.        ,\n",
       "          0.        ,   0.        ,   0.        ,   0.        ,\n",
       "          0.        ,   0.        ,   0.        ,   0.        ,\n",
       "          0.        ,   0.        ,   0.        ,   0.        ,\n",
       "          0.        ,   0.        ,   0.        ,   0.        ,\n",
       "          0.        ,   0.        ,   0.        ,   0.        ],\n",
       "       [  0.        ,   0.        ,   0.        ,   0.        ,\n",
       "          0.        ,   0.        ,   0.        ,   0.        ,\n",
       "          0.        ,   0.        ,   0.        ,   0.        ,\n",
       "          0.        ,   0.        ,   0.        ,   0.        ,\n",
       "          0.        ,   0.        ,   0.        ,   0.        ,\n",
       "          0.        ,   0.        ,   0.        ,   0.        ],\n",
       "       [  0.        ,   0.        ,   0.        ,   0.        ,\n",
       "          0.        ,   0.        ,   0.        ,   0.        ,\n",
       "          0.        ,   0.        ,   0.        ,   0.        ,\n",
       "          0.        ,   0.        ,   0.        ,   0.        ,\n",
       "          0.        ,   0.        ,   0.        ,   0.        ,\n",
       "          0.        ,   0.        ,   0.        ,   0.        ],\n",
       "       [  0.        ,   0.        ,   0.        ,   0.        ,\n",
       "          0.        ,   0.        ,   0.        ,   0.        ,\n",
       "          0.        ,   0.        ,   0.        ,   0.        ,\n",
       "          0.        ,   0.        ,   0.        ,   0.        ,\n",
       "          0.        ,   0.        ,   0.        ,   0.        ,\n",
       "          0.        ,   0.        ,   0.        ,   0.        ],\n",
       "       [  0.        ,   0.        ,   0.        ,   0.        ,\n",
       "          0.        ,   0.        ,   0.        ,   0.        ,\n",
       "          0.        ,   0.        ,   0.        ,   0.        ,\n",
       "          0.        ,   0.        ,   0.        ,   0.        ,\n",
       "          0.        ,   0.        ,   0.        ,   0.        ,\n",
       "          0.        ,   0.        ,   0.        ,   0.        ],\n",
       "       [  0.        ,   0.        ,   0.        ,   0.        ,\n",
       "          0.        ,   0.        ,   0.        ,   0.        ,\n",
       "          0.        ,   0.        ,   0.        ,   0.        ,\n",
       "          0.        ,   0.        ,   0.        ,   0.        ,\n",
       "          0.        ,   0.        ,   0.        ,   0.        ,\n",
       "          0.        ,   0.        ,   0.        ,   0.        ],\n",
       "       [  0.        ,   0.        ,   0.        ,   0.        ,\n",
       "          0.        ,   0.        ,   0.        ,   0.        ,\n",
       "          0.        ,   0.        ,   0.        ,   0.        ,\n",
       "          0.        ,   0.        ,   0.        ,   0.        ,\n",
       "          0.        ,   0.        ,   0.        ,   0.        ,\n",
       "          0.        ,   0.        ,   0.        ,   0.        ],\n",
       "       [  0.        ,   0.        ,   0.        ,   0.        ,\n",
       "          0.        ,   0.        ,   0.        ,   0.        ,\n",
       "          0.        ,   0.        ,   0.        ,   0.        ,\n",
       "          0.        ,   0.        ,   0.        ,   0.        ,\n",
       "          0.        ,   0.        ,   0.        ,   0.        ,\n",
       "          0.        ,   0.        ,   0.        ,   0.        ],\n",
       "       [  0.        ,   0.        ,   0.        ,   0.        ,\n",
       "          0.        ,   0.        ,   0.        ,   0.        ,\n",
       "          0.        ,   0.        ,   0.        ,   0.        ,\n",
       "          0.        ,   0.        ,   0.        ,   0.        ,\n",
       "          0.        ,   0.        ,   0.        ,   0.        ,\n",
       "          0.        ,   0.        ,   0.        ,   0.        ],\n",
       "       [  0.        ,   0.        ,   0.        ,   0.        ,\n",
       "          0.        ,   0.        ,   0.        ,   0.        ,\n",
       "          0.        ,   0.        ,   0.        ,   0.        ,\n",
       "          0.        ,   0.        ,   0.        ,   0.        ,\n",
       "          0.        ,   0.        ,   0.        ,   0.        ,\n",
       "          0.        ,   0.        ,   0.        ,   0.        ],\n",
       "       [  0.        ,   0.        ,   0.        ,   0.        ,\n",
       "          0.        ,   0.        ,   0.        ,   0.        ,\n",
       "          0.        ,   0.        ,   0.        ,   0.        ,\n",
       "          0.        , 103.85734462,   0.        ,   0.        ,\n",
       "          0.        ,   0.        ,   0.        ,   0.        ,\n",
       "          0.        ,   0.        ,   0.        ,   0.        ],\n",
       "       [  0.        ,   0.        ,   0.        ,   0.        ,\n",
       "          0.        ,   0.        ,   0.        ,   0.        ,\n",
       "          0.        ,   0.        ,   0.        ,   0.        ,\n",
       "          0.        ,   0.        ,  42.26689661,   0.        ,\n",
       "          0.        ,   0.        ,   0.        ,   0.        ,\n",
       "          0.        ,   0.        ,   0.        ,   0.        ],\n",
       "       [  0.        ,   0.        ,   0.        ,   0.        ,\n",
       "          0.        ,   0.        ,   0.        ,   0.        ,\n",
       "          0.        ,   0.        ,   0.        ,   0.        ,\n",
       "          0.        ,   0.        ,   0.        ,  15.732116  ,\n",
       "          0.        ,   0.        ,   0.        ,   0.        ,\n",
       "          0.        ,   0.        ,   0.        ,   0.        ],\n",
       "       [  0.        ,   0.        ,   0.        ,   0.        ,\n",
       "          0.        ,   0.        ,   0.        ,   0.        ,\n",
       "          0.        ,   0.        ,   0.        ,   0.        ,\n",
       "          0.        ,   0.        ,   0.        ,   0.        ,\n",
       "          6.43071696,   0.        ,   0.        ,   0.        ,\n",
       "          0.        ,   0.        ,   0.        ,   0.        ],\n",
       "       [  0.        ,   0.        ,   0.        ,   0.        ,\n",
       "          0.        ,   0.        ,   0.        ,   0.        ,\n",
       "          0.        ,   0.        ,   0.        ,   0.        ,\n",
       "          0.        ,   0.        ,   0.        ,   0.        ,\n",
       "          0.        ,   4.93487918,   0.        ,   0.        ,\n",
       "          0.        ,   0.        ,   0.        ,   0.        ],\n",
       "       [  0.        ,   0.        ,   0.        ,   0.        ,\n",
       "          0.        ,   0.        ,   0.        ,   0.        ,\n",
       "          0.        ,   0.        ,   0.        ,   0.        ,\n",
       "          0.        ,   0.        ,   0.        ,   0.        ,\n",
       "          0.        ,   0.        ,   2.19479682,   0.        ,\n",
       "          0.        ,   0.        ,   0.        ,   0.        ],\n",
       "       [  0.        ,   0.        ,   0.        ,   0.        ,\n",
       "          0.        ,   0.        ,   0.        ,   0.        ,\n",
       "          0.        ,   0.        ,   0.        ,   0.        ,\n",
       "          0.        ,   0.        ,   0.        ,   0.        ,\n",
       "          0.        ,   0.        ,   0.        ,   1.76490417,\n",
       "          0.        ,   0.        ,   0.        ,   0.        ],\n",
       "       [  0.        ,   0.        ,   0.        ,   0.        ,\n",
       "          0.        ,   0.        ,   0.        ,   0.        ,\n",
       "          0.        ,   0.        ,   0.        ,   0.        ,\n",
       "          0.        ,   0.        ,   0.        ,   0.        ,\n",
       "          0.        ,   0.        ,   0.        ,   0.        ,\n",
       "          1.46641163,   0.        ,   0.        ,   0.        ],\n",
       "       [  0.        ,   0.        ,   0.        ,   0.        ,\n",
       "          0.        ,   0.        ,   0.        ,   0.        ,\n",
       "          0.        ,   0.        ,   0.        ,   0.        ,\n",
       "          0.        ,   0.        ,   0.        ,   0.        ,\n",
       "          0.        ,   0.        ,   0.        ,   0.        ,\n",
       "          0.        ,   1.36411347,   0.        ,   0.        ],\n",
       "       [  0.        ,   0.        ,   0.        ,   0.        ,\n",
       "          0.        ,   0.        ,   0.        ,   0.        ,\n",
       "          0.        ,   0.        ,   0.        ,   0.        ,\n",
       "          0.        ,   0.        ,   0.        ,   0.        ,\n",
       "          0.        ,   0.        ,   0.        ,   0.        ,\n",
       "          0.        ,   0.        ,   0.7150478 ,   0.        ],\n",
       "       [  0.        ,   0.        ,   0.        ,   0.        ,\n",
       "          0.        ,   0.        ,   0.        ,   0.        ,\n",
       "          0.        ,   0.        ,   0.        ,   0.        ,\n",
       "          0.        ,   0.        ,   0.        ,   0.        ,\n",
       "          0.        ,   0.        ,   0.        ,   0.        ,\n",
       "          0.        ,   0.        ,   0.        ,   0.25423978]])"
      ]
     },
     "execution_count": 45,
     "metadata": {},
     "output_type": "execute_result"
    }
   ],
   "source": [
    "sqrt_inv"
   ]
  },
  {
   "cell_type": "code",
   "execution_count": 46,
   "id": "652c6040",
   "metadata": {},
   "outputs": [
    {
     "data": {
      "text/plain": [
       "(24, 24)"
      ]
     },
     "execution_count": 46,
     "metadata": {},
     "output_type": "execute_result"
    }
   ],
   "source": [
    "sqrt_inv.shape"
   ]
  },
  {
   "cell_type": "code",
   "execution_count": 47,
   "id": "301b0c64",
   "metadata": {},
   "outputs": [],
   "source": [
    "canonical_ortho = np.dot(cov,np.dot(e_vectors,sqrt_inv))"
   ]
  },
  {
   "cell_type": "code",
   "execution_count": 48,
   "id": "e176f8f3",
   "metadata": {},
   "outputs": [
    {
     "data": {
      "text/plain": [
       "array([[ 0.00000000e+00,  0.00000000e+00,  0.00000000e+00,\n",
       "         0.00000000e+00,  0.00000000e+00,  0.00000000e+00,\n",
       "         0.00000000e+00,  0.00000000e+00,  0.00000000e+00,\n",
       "         0.00000000e+00,  0.00000000e+00,  0.00000000e+00,\n",
       "         0.00000000e+00,  1.27948449e-03, -1.08075459e-02,\n",
       "         1.93424678e-02, -4.24775373e-02,  5.30224993e-03,\n",
       "        -7.09201549e-02,  7.60136813e-02, -1.04187121e-01,\n",
       "         5.24499444e-02, -1.32834880e-01,  1.33080294e+00],\n",
       "       [ 0.00000000e+00,  0.00000000e+00,  0.00000000e+00,\n",
       "         0.00000000e+00,  0.00000000e+00,  0.00000000e+00,\n",
       "         0.00000000e+00,  0.00000000e+00,  0.00000000e+00,\n",
       "         0.00000000e+00,  0.00000000e+00,  0.00000000e+00,\n",
       "         0.00000000e+00,  5.87796602e-04, -1.07992631e-03,\n",
       "         2.07380448e-02, -4.13057477e-02, -7.60181347e-03,\n",
       "        -4.68612792e-02,  7.49486346e-02, -4.68452260e-02,\n",
       "         2.13875345e-02, -1.61803677e-01,  1.28716903e+00],\n",
       "       [ 0.00000000e+00,  0.00000000e+00,  0.00000000e+00,\n",
       "         0.00000000e+00,  0.00000000e+00,  0.00000000e+00,\n",
       "         0.00000000e+00,  0.00000000e+00,  0.00000000e+00,\n",
       "         0.00000000e+00,  0.00000000e+00,  0.00000000e+00,\n",
       "         0.00000000e+00,  8.79484100e-05,  1.22962333e-02,\n",
       "         1.25547644e-02, -1.70731862e-02, -1.93086166e-02,\n",
       "         7.30238551e-04,  5.34342116e-02, -1.79560355e-02,\n",
       "        -3.03193636e-02, -2.40223081e-01,  1.25990347e+00],\n",
       "       [ 0.00000000e+00,  0.00000000e+00,  0.00000000e+00,\n",
       "         0.00000000e+00,  0.00000000e+00,  0.00000000e+00,\n",
       "         0.00000000e+00,  0.00000000e+00,  0.00000000e+00,\n",
       "         0.00000000e+00,  0.00000000e+00,  0.00000000e+00,\n",
       "         0.00000000e+00, -3.19107675e-05,  1.37081886e-03,\n",
       "        -2.12830280e-02,  2.26950693e-02, -2.02398466e-02,\n",
       "         2.67318380e-02,  9.07824685e-02, -6.16074931e-02,\n",
       "        -1.29868628e-01, -3.59216572e-01,  1.19877835e+00],\n",
       "       [ 0.00000000e+00,  0.00000000e+00,  0.00000000e+00,\n",
       "         0.00000000e+00,  0.00000000e+00,  0.00000000e+00,\n",
       "         0.00000000e+00,  0.00000000e+00,  0.00000000e+00,\n",
       "         0.00000000e+00,  0.00000000e+00,  0.00000000e+00,\n",
       "         0.00000000e+00,  1.56915642e-03,  7.04202707e-03,\n",
       "        -1.55328667e-03,  3.14160687e-02,  1.44951911e-02,\n",
       "         4.75530557e-02,  6.60301188e-02, -4.12696733e-02,\n",
       "        -7.81276055e-02, -2.24124560e-01,  1.07445098e+00],\n",
       "       [ 0.00000000e+00,  0.00000000e+00,  0.00000000e+00,\n",
       "         0.00000000e+00,  0.00000000e+00,  0.00000000e+00,\n",
       "         0.00000000e+00,  0.00000000e+00,  0.00000000e+00,\n",
       "         0.00000000e+00,  0.00000000e+00,  0.00000000e+00,\n",
       "         0.00000000e+00, -5.06412623e-04,  1.29295643e-03,\n",
       "        -1.49906311e-02,  1.85207792e-02,  1.80757015e-02,\n",
       "         3.71892532e-02, -3.56776672e-02,  5.03348547e-03,\n",
       "        -1.01709287e-01, -1.59077407e-01,  9.28157400e-01],\n",
       "       [ 0.00000000e+00,  0.00000000e+00,  0.00000000e+00,\n",
       "         0.00000000e+00,  0.00000000e+00,  0.00000000e+00,\n",
       "         0.00000000e+00,  0.00000000e+00,  0.00000000e+00,\n",
       "         0.00000000e+00,  0.00000000e+00,  0.00000000e+00,\n",
       "         0.00000000e+00,  2.42765935e-04,  5.09623413e-04,\n",
       "         9.57155566e-03,  4.56896970e-02, -7.11759968e-02,\n",
       "        -2.29608323e-02,  1.65574228e-01,  3.18907397e-01,\n",
       "         5.15460787e-02,  2.96538961e-01,  9.72576428e-01],\n",
       "       [ 0.00000000e+00,  0.00000000e+00,  0.00000000e+00,\n",
       "         0.00000000e+00,  0.00000000e+00,  0.00000000e+00,\n",
       "         0.00000000e+00,  0.00000000e+00,  0.00000000e+00,\n",
       "         0.00000000e+00,  0.00000000e+00,  0.00000000e+00,\n",
       "         0.00000000e+00, -9.23057237e-04, -2.80237004e-03,\n",
       "        -5.76619014e-04,  2.90225352e-02, -2.78432170e-02,\n",
       "        -1.19157074e-02, -6.27966461e-02,  2.54193757e-01,\n",
       "         1.19108067e-01,  4.90883877e-01,  9.05728352e-01],\n",
       "       [ 0.00000000e+00,  0.00000000e+00,  0.00000000e+00,\n",
       "         0.00000000e+00,  0.00000000e+00,  0.00000000e+00,\n",
       "         0.00000000e+00,  0.00000000e+00,  0.00000000e+00,\n",
       "         0.00000000e+00,  0.00000000e+00,  0.00000000e+00,\n",
       "         0.00000000e+00,  1.10851620e-03,  5.85281351e-03,\n",
       "         8.35197567e-03, -1.20999270e-02,  9.23383593e-02,\n",
       "        -2.61619234e-02,  1.17255682e-02,  1.69417491e-01,\n",
       "         5.81982846e-02,  3.58110891e-01,  4.17718521e-01],\n",
       "       [ 0.00000000e+00,  0.00000000e+00,  0.00000000e+00,\n",
       "         0.00000000e+00,  0.00000000e+00,  0.00000000e+00,\n",
       "         0.00000000e+00,  0.00000000e+00,  0.00000000e+00,\n",
       "         0.00000000e+00,  0.00000000e+00,  0.00000000e+00,\n",
       "         0.00000000e+00,  1.26374198e-03, -6.29364682e-04,\n",
       "        -1.86451968e-02, -1.35399279e-02,  1.17285307e-01,\n",
       "        -5.94685797e-02,  1.44408798e-01,  1.56721894e-01,\n",
       "        -4.02351865e-03,  2.15232365e-01, -1.16906743e-02],\n",
       "       [ 0.00000000e+00,  0.00000000e+00,  0.00000000e+00,\n",
       "         0.00000000e+00,  0.00000000e+00,  0.00000000e+00,\n",
       "         0.00000000e+00,  0.00000000e+00,  0.00000000e+00,\n",
       "         0.00000000e+00,  0.00000000e+00,  0.00000000e+00,\n",
       "         0.00000000e+00, -1.75943131e-03, -2.53781251e-05,\n",
       "        -2.12490060e-02, -5.93167847e-02, -6.99296103e-02,\n",
       "        -5.36973608e-02,  1.36738150e-01, -7.38378709e-03,\n",
       "         7.12258570e-02,  3.10882367e-01, -1.51411198e-01],\n",
       "       [ 0.00000000e+00,  0.00000000e+00,  0.00000000e+00,\n",
       "         0.00000000e+00,  0.00000000e+00,  0.00000000e+00,\n",
       "         0.00000000e+00,  0.00000000e+00,  0.00000000e+00,\n",
       "         0.00000000e+00,  0.00000000e+00,  0.00000000e+00,\n",
       "         0.00000000e+00,  1.43922083e-04,  5.31317412e-03,\n",
       "         7.09656390e-04, -4.71411598e-02, -2.97598215e-02,\n",
       "        -2.85256487e-02,  1.16706123e-01, -4.87026400e-02,\n",
       "         5.04534417e-02,  3.32064502e-01, -2.23352333e-01],\n",
       "       [ 0.00000000e+00,  0.00000000e+00,  0.00000000e+00,\n",
       "         0.00000000e+00,  0.00000000e+00,  0.00000000e+00,\n",
       "         0.00000000e+00,  0.00000000e+00,  0.00000000e+00,\n",
       "         0.00000000e+00,  0.00000000e+00,  0.00000000e+00,\n",
       "         0.00000000e+00,  9.72657774e-04,  5.85599774e-03,\n",
       "         3.71375709e-03, -2.92021874e-02,  1.26658352e-03,\n",
       "         1.43298969e-02,  2.27794254e-02, -1.15589502e-01,\n",
       "         4.55449474e-02,  3.00722824e-01, -4.17618668e-01],\n",
       "       [ 0.00000000e+00,  0.00000000e+00,  0.00000000e+00,\n",
       "         0.00000000e+00,  0.00000000e+00,  0.00000000e+00,\n",
       "         0.00000000e+00,  0.00000000e+00,  0.00000000e+00,\n",
       "         0.00000000e+00,  0.00000000e+00,  0.00000000e+00,\n",
       "         0.00000000e+00,  1.86400783e-03,  4.93764095e-03,\n",
       "         9.32188133e-03, -1.77061446e-03, -2.75536033e-03,\n",
       "         8.34908291e-03,  1.55319533e-02, -1.61890952e-01,\n",
       "         2.36513780e-02,  3.02976573e-01, -4.62927115e-01],\n",
       "       [ 0.00000000e+00,  0.00000000e+00,  0.00000000e+00,\n",
       "         0.00000000e+00,  0.00000000e+00,  0.00000000e+00,\n",
       "         0.00000000e+00,  0.00000000e+00,  0.00000000e+00,\n",
       "         0.00000000e+00,  0.00000000e+00,  0.00000000e+00,\n",
       "         0.00000000e+00,  1.84621268e-03,  7.60956672e-04,\n",
       "         5.22535616e-03,  3.23111749e-02, -4.19337592e-02,\n",
       "         5.09789143e-02, -3.28156486e-02, -1.26971362e-01,\n",
       "         4.06781009e-02,  2.57453914e-01, -5.53800387e-01],\n",
       "       [ 0.00000000e+00,  0.00000000e+00,  0.00000000e+00,\n",
       "         0.00000000e+00,  0.00000000e+00,  0.00000000e+00,\n",
       "         0.00000000e+00,  0.00000000e+00,  0.00000000e+00,\n",
       "         0.00000000e+00,  0.00000000e+00,  0.00000000e+00,\n",
       "         0.00000000e+00,  3.98473213e-03, -1.33576571e-03,\n",
       "         1.22374655e-02,  5.60711574e-02, -2.71962948e-03,\n",
       "         3.92455767e-02,  8.80409291e-02, -9.61106946e-02,\n",
       "        -2.68469455e-02,  1.96428446e-01, -5.76999007e-01],\n",
       "       [ 0.00000000e+00,  0.00000000e+00,  0.00000000e+00,\n",
       "         0.00000000e+00,  0.00000000e+00,  0.00000000e+00,\n",
       "         0.00000000e+00,  0.00000000e+00,  0.00000000e+00,\n",
       "         0.00000000e+00,  0.00000000e+00,  0.00000000e+00,\n",
       "         0.00000000e+00, -7.09352918e-03,  1.36647863e-03,\n",
       "         2.01968823e-02,  3.70610197e-02,  3.93132310e-02,\n",
       "         1.47863265e-02,  2.14143550e-01, -1.24579418e-01,\n",
       "        -1.09269892e-01,  1.35927945e-01, -4.53868668e-01],\n",
       "       [ 0.00000000e+00,  0.00000000e+00,  0.00000000e+00,\n",
       "         0.00000000e+00,  0.00000000e+00,  0.00000000e+00,\n",
       "         0.00000000e+00,  0.00000000e+00,  0.00000000e+00,\n",
       "         0.00000000e+00,  0.00000000e+00,  0.00000000e+00,\n",
       "         0.00000000e+00,  2.30187128e-03, -9.04595837e-04,\n",
       "        -1.37568241e-02,  2.40531159e-04, -1.45603770e-02,\n",
       "        -1.38243169e-02,  3.32462085e-01, -2.05213196e-03,\n",
       "        -1.69966913e-01, -1.04289159e-01, -7.18241533e-01],\n",
       "       [ 0.00000000e+00,  0.00000000e+00,  0.00000000e+00,\n",
       "         0.00000000e+00,  0.00000000e+00,  0.00000000e+00,\n",
       "         0.00000000e+00,  0.00000000e+00,  0.00000000e+00,\n",
       "         0.00000000e+00,  0.00000000e+00,  0.00000000e+00,\n",
       "         0.00000000e+00,  5.09090812e-04, -1.12889410e-03,\n",
       "         3.84521720e-03, -4.90430575e-03, -2.59669664e-02,\n",
       "         9.52562399e-02,  5.65608518e-02,  1.04610942e-01,\n",
       "        -1.31009567e-01, -6.25244151e-02, -5.70437592e-01],\n",
       "       [ 0.00000000e+00,  0.00000000e+00,  0.00000000e+00,\n",
       "         0.00000000e+00,  0.00000000e+00,  0.00000000e+00,\n",
       "         0.00000000e+00,  0.00000000e+00,  0.00000000e+00,\n",
       "         0.00000000e+00,  0.00000000e+00,  0.00000000e+00,\n",
       "         0.00000000e+00, -5.00200232e-04, -1.14188923e-03,\n",
       "         1.61776777e-03, -3.56352431e-02, -1.99494708e-02,\n",
       "         1.71348596e-01,  1.96995399e-02,  2.07021714e-01,\n",
       "        -1.13666111e-01, -2.01393252e-01, -6.34124376e-01],\n",
       "       [ 0.00000000e+00,  0.00000000e+00,  0.00000000e+00,\n",
       "         0.00000000e+00,  0.00000000e+00,  0.00000000e+00,\n",
       "         0.00000000e+00,  0.00000000e+00,  0.00000000e+00,\n",
       "         0.00000000e+00,  0.00000000e+00,  0.00000000e+00,\n",
       "         0.00000000e+00,  6.56010948e-04,  1.75676077e-03,\n",
       "         1.89367282e-02, -3.51630902e-02,  1.02791762e-02,\n",
       "         1.60924320e-01, -7.67953113e-03,  2.48330254e-01,\n",
       "        -9.25014526e-02, -2.57708489e-01, -7.16887533e-01],\n",
       "       [ 0.00000000e+00,  0.00000000e+00,  0.00000000e+00,\n",
       "         0.00000000e+00,  0.00000000e+00,  0.00000000e+00,\n",
       "         0.00000000e+00,  0.00000000e+00,  0.00000000e+00,\n",
       "         0.00000000e+00,  0.00000000e+00,  0.00000000e+00,\n",
       "         0.00000000e+00,  8.56287599e-04, -3.48009947e-03,\n",
       "         1.35929879e-02,  1.20954059e-02, -3.36831929e-03,\n",
       "        -2.62722284e-01,  3.02857949e-02,  9.86913494e-02,\n",
       "        -2.37566416e-01, -2.26917223e-01, -8.38679711e-01],\n",
       "       [ 0.00000000e+00,  0.00000000e+00,  0.00000000e+00,\n",
       "         0.00000000e+00,  0.00000000e+00,  0.00000000e+00,\n",
       "         0.00000000e+00,  0.00000000e+00,  0.00000000e+00,\n",
       "         0.00000000e+00,  0.00000000e+00,  0.00000000e+00,\n",
       "         0.00000000e+00, -3.79501231e-04,  9.14231720e-03,\n",
       "        -1.14769071e-03,  1.31289587e-03, -3.13132260e-02,\n",
       "        -2.21608646e-01, -1.28760037e-01,  1.24600129e-01,\n",
       "        -5.98485418e-02, -2.44869249e-01, -7.71167751e-01],\n",
       "       [ 0.00000000e+00,  0.00000000e+00,  0.00000000e+00,\n",
       "         0.00000000e+00,  0.00000000e+00,  0.00000000e+00,\n",
       "         0.00000000e+00,  0.00000000e+00,  0.00000000e+00,\n",
       "         0.00000000e+00,  0.00000000e+00,  0.00000000e+00,\n",
       "         0.00000000e+00, -7.53987452e-05,  1.17241163e-03,\n",
       "         3.48371592e-04,  2.09311763e-02,  7.46947630e-03,\n",
       "        -1.14892173e-02,  1.45353017e-01,  5.42919592e-02,\n",
       "         5.72360253e-01, -6.32889740e-01, -8.36189467e-01]])"
      ]
     },
     "execution_count": 48,
     "metadata": {},
     "output_type": "execute_result"
    }
   ],
   "source": [
    "canonical_ortho"
   ]
  },
  {
   "cell_type": "markdown",
   "id": "6f0dc08c",
   "metadata": {},
   "source": [
    "### 3-D Projection of PCA"
   ]
  },
  {
   "cell_type": "code",
   "execution_count": 49,
   "id": "d25679c2",
   "metadata": {},
   "outputs": [],
   "source": [
    "eigen_vals1 = eigen_values[Sort][:3]\n",
    "eigen_vec1 = eigen_vectors[:,Sort][:,:3]\n",
    "r_eigen_vec1 = r_eigen_vectors[:,Sort][:3]"
   ]
  },
  {
   "cell_type": "code",
   "execution_count": 50,
   "id": "9668aa36",
   "metadata": {},
   "outputs": [],
   "source": [
    "transform1 = np.dot(N_data.T,eigen_vec1)\n",
    "variance_ratio1 = eigen_vals1/np.sum(eigen_vals1)"
   ]
  },
  {
   "cell_type": "code",
   "execution_count": 51,
   "id": "b51731e1",
   "metadata": {},
   "outputs": [
    {
     "name": "stderr",
     "output_type": "stream",
     "text": [
      "C:\\Users\\hp\\AppData\\Local\\Temp/ipykernel_27168/1382907956.py:2: MatplotlibDeprecationWarning: Calling gca() with keyword arguments was deprecated in Matplotlib 3.4. Starting two minor releases later, gca() will take no keyword arguments. The gca() function should only be used to get the current axes, or if no axes exist, create new axes with default keyword arguments. To create a new axes with non-default arguments, use plt.axes() or plt.subplot().\n",
      "  ax = fig.gca(projection = '3d')\n"
     ]
    },
    {
     "data": {
      "image/png": "[encoded data removed]",
      "text/plain": [
       "<Figure size 1440x720 with 1 Axes>"
      ]
     },
     "metadata": {
      "needs_background": "light"
     },
     "output_type": "display_data"
    }
   ],
   "source": [
    "fig = plt.figure(figsize = (20,10))\n",
    "ax = fig.gca(projection = '3d')\n",
    "ax.set_xlabel('Principal Component - 1')\n",
    "ax.set_ylabel('Principal Component - 2')\n",
    "ax.set_zlabel('Principal Component - 3')\n",
    "ax.scatter(N_data.T.iloc[:,0],N_data.T.iloc[:,1],alpha = 0.3,label = \"Samples\")\n",
    "for i, (comp1,var1) in enumerate(zip(eigen_vec1.T,eigen_vals1)):\n",
    "    comp1 = comp1*var1\n",
    "    ax.plot([0,comp1[0]],[0,comp1[1]],[0,comp1[2]],label = f\"Principal Component {i+1}\",linewidth = 3,color = f\"C{i+1}\")\n",
    "    ax.set(title=\"3-D Dataset with Principal Components\",xlabel=\"Principal Component 1\",ylabel=\"Principal Component 2\",zlabel = \"Principal Component 3\")    \n",
    "ax.legend(loc = 0)\n",
    "plt.show()"
   ]
  },
  {
   "cell_type": "code",
   "execution_count": 52,
   "id": "0291842d",
   "metadata": {
    "scrolled": true
   },
   "outputs": [
    {
     "name": "stdout",
     "output_type": "stream",
     "text": [
      "[[ 1.27553338e+01  3.86812306e+00 -8.71957627e+00 -2.97208948e+00\n",
      "  -3.93083262e+00 -3.13766369e+00  8.68284888e-02  4.85876833e-01\n",
      "  -2.39455154e+00  1.19062314e+00 -3.38507222e+00 -3.49077107e+00\n",
      "  -2.75531458e+00 -6.05688429e-01  1.99763932e+00  7.10124567e+00\n",
      "  -1.00667727e+01  3.10618704e+00  1.87036738e+00  5.19103858e-01\n",
      "   1.11566044e+00  5.09058474e+00 -8.06747466e+00 -1.13012269e+00]\n",
      " [ 3.86812306e+00  2.70931133e+00  3.37692383e-01 -2.00933743e+00\n",
      "   1.67333513e-02 -1.87965607e+00  4.92632331e-01 -7.80151756e-01\n",
      "   9.59199349e-01 -5.27892629e-01 -2.09050252e+00  3.11615974e-01\n",
      "   7.77652353e-01  1.59919521e+00  1.21418872e+00  3.11321781e+00\n",
      "  -3.51877011e+00  6.15203286e-01  7.60542746e-01  1.89016096e-01\n",
      "   2.07015385e+00  1.92629020e+00 -1.04062540e+00 -2.45482761e-01]\n",
      " [-8.71957627e+00  3.37692383e-01  1.22277800e+01  2.69876310e-01\n",
      "   6.51082409e+00  3.22286389e-01  9.43238116e-01 -2.85469959e+00\n",
      "   5.75875993e+00 -1.56773488e+00 -7.99809226e-01  5.26429952e+00\n",
      "   5.81899303e+00  5.21406277e+00  1.05520472e+00 -4.93221593e-01\n",
      "   1.35483297e+00 -1.14787003e+00 -7.12314694e-01 -8.13636430e-01\n",
      "   2.75709850e+00 -2.50733196e+00  8.42523353e+00  1.01955161e+00]\n",
      " [-2.97208948e+00 -2.00933743e+00  2.69876310e-01  2.27138867e+00\n",
      "   1.08666339e+00  1.52644887e+00 -3.22816058e-01 -1.36379243e-01\n",
      "  -5.16002370e-01  1.06543881e+00  1.62046797e+00  2.68883745e-01\n",
      "   5.94350107e-02 -3.47169058e-01 -1.58675567e-01 -9.04404578e-01\n",
      "  -1.00614748e+00  1.21896034e+00 -3.45150531e-01 -3.31460564e-01\n",
      "  -1.60449373e+00 -1.42280134e+00  1.02468076e+00  1.40054038e-01]\n",
      " [-3.93083262e+00  1.67333513e-02  6.51082409e+00  1.08666339e+00\n",
      "   6.90603346e+00  1.28898562e-01  8.87283077e-01 -3.02497091e+00\n",
      "   5.00555643e+00  2.07583096e+00 -3.61383288e+00  2.62143290e+00\n",
      "   4.54887426e+00  5.81939605e+00  3.80656375e+00  6.72716377e+00\n",
      "  -1.13827723e+01  3.76871581e+00  2.60996075e-01 -1.73451000e+00\n",
      "   1.76950246e+00 -4.15357294e-01  4.00153706e+00  6.40165071e-01]\n",
      " [-3.13766369e+00 -1.87965607e+00  3.22286389e-01  1.52644887e+00\n",
      "   1.28898562e-01  1.49036337e+00 -6.28388812e-01  3.32357894e-01\n",
      "  -4.43335127e-01  4.37144593e-01  1.70504175e+00  2.81985458e-02\n",
      "  -3.74203494e-01 -1.16733132e+00 -1.21947692e+00 -2.85164861e+00\n",
      "   3.22188808e+00 -6.53337819e-01 -6.47249871e-01 -4.28170411e-02\n",
      "  -1.36016508e+00 -1.61262424e+00  1.07132246e+00  1.00342991e-01]\n",
      " [ 8.68284888e-02  4.92632331e-01  9.43238116e-01 -3.22816058e-01\n",
      "   8.87283077e-01 -6.28388812e-01  2.13776122e+00  4.95080765e-01\n",
      "   1.41595840e-01 -1.21707376e+00 -1.22327238e+00  5.50283413e-02\n",
      "   1.95521424e-01  9.24258931e-01  1.33186233e+00  2.17542702e+00\n",
      "  -9.50565560e-01  4.64858307e-01  5.01364583e-01 -2.44346627e-01\n",
      "   5.88746520e-01  9.02826059e-01  5.04820812e-01  4.10628628e-01]\n",
      " [ 4.85876833e-01 -7.80151756e-01 -2.85469959e+00 -1.36379243e-01\n",
      "  -3.02497091e+00  3.32357894e-01  4.95080765e-01  2.23046362e+00\n",
      "  -2.58273845e+00 -1.50819447e+00  1.67730810e+00 -1.54318220e+00\n",
      "  -2.52369405e+00 -3.07922147e+00 -1.73873246e+00 -3.51718264e+00\n",
      "   6.96399191e+00 -2.30283253e+00 -2.54135170e-01  6.04548556e-01\n",
      "  -1.30185181e+00 -9.82112168e-02 -1.32592698e+00  7.45462745e-03]\n",
      " [-2.39455154e+00  9.59199349e-01  5.75875993e+00 -5.16002370e-01\n",
      "   5.00555643e+00 -4.43335127e-01  1.41595840e-01 -2.58273845e+00\n",
      "   5.45525410e+00  2.16692714e+00 -3.40234771e+00  2.41015149e+00\n",
      "   4.00364777e+00  4.72734635e+00  2.18141567e+00  4.50655309e+00\n",
      "  -7.28936950e+00  1.82943804e+00 -1.23177084e-02 -1.16294659e+00\n",
      "   2.46939728e+00 -5.21329630e-02  3.25344360e+00  4.88878257e-01]\n",
      " [ 1.19062314e+00 -5.27892629e-01 -1.56773488e+00  1.06543881e+00\n",
      "   2.07583096e+00  4.37144593e-01 -1.21707376e+00 -1.50819447e+00\n",
      "   2.16692714e+00  5.12098567e+00 -1.55662463e+00 -2.37821102e-01\n",
      "   9.27312302e-01  1.64576362e+00  1.38984434e+00  4.58955704e+00\n",
      "  -1.10417635e+01  4.35964904e+00  1.80093988e-01 -9.28542530e-01\n",
      "  -2.61802164e-01  5.22496872e-01 -1.25432213e+00 -6.38717901e-02]\n",
      " [-3.38507222e+00 -2.09050252e+00 -7.99809226e-01  1.62046797e+00\n",
      "  -3.61383288e+00  1.70504175e+00 -1.22327238e+00  1.67730810e+00\n",
      "  -3.40234771e+00 -1.55662463e+00  6.93136799e+00  7.93645383e-01\n",
      "  -1.73044550e+00 -4.35300818e+00 -4.24258875e+00 -9.66038333e+00\n",
      "   1.15449041e+01 -3.06143821e+00 -1.06716900e+00  1.45486026e+00\n",
      "  -2.54197785e+00 -2.86523240e+00  1.05726569e+00 -1.27262484e-01]\n",
      " [-3.49077107e+00  3.11615974e-01  5.26429952e+00  2.68883745e-01\n",
      "   2.62143290e+00  2.81985458e-02  5.50283413e-02 -1.54318220e+00\n",
      "   2.41015149e+00 -2.37821102e-01  7.93645383e-01  2.99276135e+00\n",
      "   2.94996014e+00  2.41311427e+00  3.83864707e-01 -4.70915415e-01\n",
      "  -9.88623462e-01  2.05249676e-01 -2.36627726e-01 -1.23713400e-01\n",
      "   1.13485689e+00 -1.33155378e+00  3.62955121e+00  2.57972065e-01]\n",
      " [-2.75531458e+00  7.77652353e-01  5.81899303e+00  5.94350107e-02\n",
      "   4.54887426e+00 -3.74203494e-01  1.95521424e-01 -2.52369405e+00\n",
      "   4.00364777e+00  9.27312302e-01 -1.73044550e+00  2.94996014e+00\n",
      "   4.01826734e+00  4.46395211e+00  2.25309002e+00  3.56671003e+00\n",
      "  -7.03484374e+00  1.91923885e+00  1.10550070e-01 -8.30811607e-01\n",
      "   1.93887239e+00 -6.22347192e-01  3.47384636e+00  2.78888683e-01]\n",
      " [-6.05688429e-01  1.59919521e+00  5.21406277e+00 -3.47169058e-01\n",
      "   5.81939605e+00 -1.16733132e+00  9.24258931e-01 -3.07922147e+00\n",
      "   4.72734635e+00  1.64576362e+00 -4.35300818e+00  2.41311427e+00\n",
      "   4.46395211e+00  6.19655640e+00  4.42888483e+00  8.32590645e+00\n",
      "  -1.35050544e+01  3.98666541e+00  7.42016662e-01 -1.50130643e+00\n",
      "   2.58345344e+00  8.75327427e-01  2.46523513e+00  2.34292993e-01]\n",
      " [ 1.99763932e+00  1.21418872e+00  1.05520472e+00 -1.58675567e-01\n",
      "   3.80656375e+00 -1.21947692e+00  1.33186233e+00 -1.73873246e+00\n",
      "   2.18141567e+00  1.38984434e+00 -4.24258875e+00  3.83864707e-01\n",
      "   2.25309002e+00  4.42888483e+00  4.57505911e+00  8.97369752e+00\n",
      "  -1.40362321e+01  4.41687524e+00  1.14002579e+00 -1.29188996e+00\n",
      "   1.45045274e+00  1.74364628e+00 -2.82149642e-01  1.37133864e-02]\n",
      " [ 7.10124567e+00  3.11321781e+00 -4.93221593e-01 -9.04404578e-01\n",
      "   6.72716377e+00 -2.85164861e+00  2.17542702e+00 -3.51718264e+00\n",
      "   4.50655309e+00  4.58955704e+00 -9.66038333e+00 -4.70915415e-01\n",
      "   3.56671003e+00  8.32590645e+00  8.97369752e+00  1.94515442e+01\n",
      "  -3.01311737e+01  9.88602647e+00  2.54999502e+00 -2.54822940e+00\n",
      "   3.10816370e+00  4.88609692e+00 -2.83926483e+00 -1.55947810e-01]\n",
      " [-1.00667727e+01 -3.51877011e+00  1.35483297e+00 -1.00614748e+00\n",
      "  -1.13827723e+01  3.22188808e+00 -9.50565560e-01  6.96399191e+00\n",
      "  -7.28936950e+00 -1.10417635e+01  1.15449041e+01 -9.88623462e-01\n",
      "  -7.03484374e+00 -1.35050544e+01 -1.40362321e+01 -3.01311737e+01\n",
      "   5.89925812e+01 -1.90959897e+01 -3.95271791e+00  3.53365326e+00\n",
      "  -3.90374842e+00 -5.97460445e+00  3.50876574e+00  9.53132274e-01]\n",
      " [ 3.10618704e+00  6.15203286e-01 -1.14787003e+00  1.21896034e+00\n",
      "   3.76871581e+00 -6.53337819e-01  4.64858307e-01 -2.30283253e+00\n",
      "   1.82943804e+00  4.35964904e+00 -3.06143821e+00  2.05249676e-01\n",
      "   1.91923885e+00  3.98666541e+00  4.41687524e+00  9.88602647e+00\n",
      "  -1.90959897e+01  7.45534800e+00  1.38344992e+00 -1.19204692e+00\n",
      "   5.56081114e-01  1.93849899e+00 -1.64621028e+00 -2.50847289e-01]\n",
      " [ 1.87036738e+00  7.60542746e-01 -7.12314694e-01 -3.45150531e-01\n",
      "   2.60996075e-01 -6.47249871e-01  5.01364583e-01 -2.54135170e-01\n",
      "  -1.23177084e-02  1.80093988e-01 -1.06716900e+00 -2.36627726e-01\n",
      "   1.10550070e-01  7.42016662e-01  1.14002579e+00  2.54999502e+00\n",
      "  -3.95271791e+00  1.38344992e+00  7.29940741e-01  2.40354976e-01\n",
      "   8.06651072e-01  8.52681518e-01 -1.10630841e+00 -3.04829028e-01]\n",
      " [ 5.19103858e-01  1.89016096e-01 -8.13636430e-01 -3.31460564e-01\n",
      "  -1.73451000e+00 -4.28170411e-02 -2.44346627e-01  6.04548556e-01\n",
      "  -1.16294659e+00 -9.28542530e-01  1.45486026e+00 -1.23713400e-01\n",
      "  -8.30811607e-01 -1.50130643e+00 -1.29188996e+00 -2.54822940e+00\n",
      "   3.53365326e+00 -1.19204692e+00  2.40354976e-01  1.27639321e+00\n",
      "   4.14749265e-01 -5.14927972e-01 -8.10965977e-01 -3.52369875e-01]\n",
      " [ 1.11566044e+00  2.07015385e+00  2.75709850e+00 -1.60449373e+00\n",
      "   1.76950246e+00 -1.36016508e+00  5.88746520e-01 -1.30185181e+00\n",
      "   2.46939728e+00 -2.61802164e-01 -2.54197785e+00  1.13485689e+00\n",
      "   1.93887239e+00  2.58345344e+00  1.45045274e+00  3.10816370e+00\n",
      "  -3.90374842e+00  5.56081114e-01  8.06651072e-01  4.14749265e-01\n",
      "   2.97594813e+00  7.68680932e-01  5.70442435e-01 -1.08783813e-01]\n",
      " [ 5.09058474e+00  1.92629020e+00 -2.50733196e+00 -1.42280134e+00\n",
      "  -4.15357294e-01 -1.61262424e+00  9.02826059e-01 -9.82112168e-02\n",
      "  -5.21329630e-02  5.22496872e-01 -2.86523240e+00 -1.33155378e+00\n",
      "  -6.22347192e-01  8.75327427e-01  1.74364628e+00  4.88609692e+00\n",
      "  -5.97460445e+00  1.93849899e+00  8.52681518e-01 -5.14927972e-01\n",
      "   7.68680932e-01  3.43475203e+00 -2.11037537e+00 -5.05779778e-01]\n",
      " [-8.06747466e+00 -1.04062540e+00  8.42523353e+00  1.02468076e+00\n",
      "   4.00153706e+00  1.07132246e+00  5.04820812e-01 -1.32592698e+00\n",
      "   3.25344360e+00 -1.25432213e+00  1.05726569e+00  3.62955121e+00\n",
      "   3.47384636e+00  2.46523513e+00 -2.82149642e-01 -2.83926483e+00\n",
      "   3.50876574e+00 -1.64621028e+00 -1.10630841e+00 -8.10965977e-01\n",
      "   5.70442435e-01 -2.11037537e+00  7.29610040e+00  7.44715253e-01]\n",
      " [-1.13012269e+00 -2.45482761e-01  1.01955161e+00  1.40054038e-01\n",
      "   6.40165071e-01  1.00342991e-01  4.10628628e-01  7.45462745e-03\n",
      "   4.88878257e-01 -6.38717901e-02 -1.27262484e-01  2.57972065e-01\n",
      "   2.78888683e-01  2.34292993e-01  1.37133864e-02 -1.55947810e-01\n",
      "   9.53132274e-01 -2.50847289e-01 -3.04829028e-01 -3.52369875e-01\n",
      "  -1.08783813e-01 -5.05779778e-01  7.44715253e-01  1.35017159e+00]]\n"
     ]
    }
   ],
   "source": [
    "np. save(\"sample.npy\", symm_orthog)\n",
    "cov1 = np. load(\"sample.npy\")\n",
    "print(cov1)"
   ]
  },
  {
   "cell_type": "code",
   "execution_count": 53,
   "id": "9b5e010c",
   "metadata": {},
   "outputs": [
    {
     "data": {
      "text/plain": [
       "array([ 12.75533384,   3.86812306,  -8.71957627,  -2.97208948,\n",
       "        -3.93083262,  -3.13766369,   0.08682849,   0.48587683,\n",
       "        -2.39455154,   1.19062314,  -3.38507222,  -3.49077107,\n",
       "        -2.75531458,  -0.60568843,   1.99763932,   7.10124567,\n",
       "       -10.0667727 ,   3.10618704,   1.87036738,   0.51910386,\n",
       "         1.11566044,   5.09058474,  -8.06747466,  -1.13012269])"
      ]
     },
     "execution_count": 53,
     "metadata": {},
     "output_type": "execute_result"
    }
   ],
   "source": [
    "symm_orthog[0]"
   ]
  },
  {
   "cell_type": "code",
   "execution_count": 54,
   "id": "06c53ea3",
   "metadata": {},
   "outputs": [
    {
     "data": {
      "text/plain": [
       "Text(0.5, 1.0, 'Symmetric Orthogonalization')"
      ]
     },
     "execution_count": 54,
     "metadata": {},
     "output_type": "execute_result"
    },
    {
     "data": {
      "image/png": "[encoded data removed]",
      "text/plain": [
       "<Figure size 432x288 with 1 Axes>"
      ]
     },
     "metadata": {
      "needs_background": "light"
     },
     "output_type": "display_data"
    }
   ],
   "source": [
    "plt.scatter(symm_orthog[0],symm_orthog[1])\n",
    "plt.xlabel(\"Parameter 1\")\n",
    "plt.ylabel(\"Parameter 2\")\n",
    "plt.title(\"Symmetric Orthogonalization\")"
   ]
  },
  {
   "cell_type": "code",
   "execution_count": 55,
   "id": "05c9025f",
   "metadata": {},
   "outputs": [
    {
     "data": {
      "text/plain": [
       "Text(0.5, 1.0, 'Symmetric Orthogonalization')"
      ]
     },
     "execution_count": 55,
     "metadata": {},
     "output_type": "execute_result"
    },
    {
     "data": {
      "image/png": "[encoded data removed]",
      "text/plain": [
       "<Figure size 432x288 with 1 Axes>"
      ]
     },
     "metadata": {
      "needs_background": "light"
     },
     "output_type": "display_data"
    }
   ],
   "source": [
    "plt.scatter(symm_orthog[1],symm_orthog[2])\n",
    "plt.xlabel(\"Parameter 2\")\n",
    "plt.ylabel(\"Parameter 3\")\n",
    "plt.title(\"Symmetric Orthogonalization\")"
   ]
  },
  {
   "cell_type": "code",
   "execution_count": 56,
   "id": "c2380fc3",
   "metadata": {},
   "outputs": [
    {
     "data": {
      "text/plain": [
       "Text(0.5, 1.0, 'Symmetric Orthogonalization')"
      ]
     },
     "execution_count": 56,
     "metadata": {},
     "output_type": "execute_result"
    },
    {
     "data": {
      "image/png": "[encoded data removed]",
      "text/plain": [
       "<Figure size 432x288 with 1 Axes>"
      ]
     },
     "metadata": {
      "needs_background": "light"
     },
     "output_type": "display_data"
    }
   ],
   "source": [
    "plt.scatter(symm_orthog[0],symm_orthog[2])\n",
    "plt.xlabel(\"Parameter 1\")\n",
    "plt.ylabel(\"Parameter 3\")\n",
    "plt.title(\"Symmetric Orthogonalization\")"
   ]
  },
  {
   "cell_type": "code",
   "execution_count": 57,
   "id": "dc766299",
   "metadata": {},
   "outputs": [
    {
     "data": {
      "text/plain": [
       "Text(0.5, 1.0, 'Symmetric Orthogonalization')"
      ]
     },
     "execution_count": 57,
     "metadata": {},
     "output_type": "execute_result"
    },
    {
     "data": {
      "image/png": "[encoded data removed]",
      "text/plain": [
       "<Figure size 432x288 with 1 Axes>"
      ]
     },
     "metadata": {
      "needs_background": "light"
     },
     "output_type": "display_data"
    }
   ],
   "source": [
    "plt.scatter(symm_orthog[0],symm_orthog[3])\n",
    "plt.xlabel(\"Parameter 1\")\n",
    "plt.ylabel(\"Parameter 4\")\n",
    "plt.title(\"Symmetric Orthogonalization\")"
   ]
  },
  {
   "cell_type": "code",
   "execution_count": 58,
   "id": "6983eecf",
   "metadata": {},
   "outputs": [
    {
     "data": {
      "text/plain": [
       "Text(0.5, 1.0, 'Symmetric Orthogonalization')"
      ]
     },
     "execution_count": 58,
     "metadata": {},
     "output_type": "execute_result"
    },
    {
     "data": {
      "image/png": "[encoded data removed]",
      "text/plain": [
       "<Figure size 432x288 with 1 Axes>"
      ]
     },
     "metadata": {
      "needs_background": "light"
     },
     "output_type": "display_data"
    }
   ],
   "source": [
    "plt.scatter(symm_orthog[1],symm_orthog[3])\n",
    "plt.xlabel(\"Parameter 2\")\n",
    "plt.ylabel(\"Parameter 4\")\n",
    "plt.title(\"Symmetric Orthogonalization\")"
   ]
  },
  {
   "cell_type": "code",
   "execution_count": 59,
   "id": "17088be0",
   "metadata": {},
   "outputs": [
    {
     "data": {
      "text/plain": [
       "Text(0.5, 1.0, 'Symmetric Orthogonalization')"
      ]
     },
     "execution_count": 59,
     "metadata": {},
     "output_type": "execute_result"
    },
    {
     "data": {
      "image/png": "[encoded data removed]",
      "text/plain": [
       "<Figure size 432x288 with 1 Axes>"
      ]
     },
     "metadata": {
      "needs_background": "light"
     },
     "output_type": "display_data"
    }
   ],
   "source": [
    "plt.scatter(symm_orthog[2],symm_orthog[3])\n",
    "plt.xlabel(\"Parameter 3\")\n",
    "plt.ylabel(\"Parameter 4\")\n",
    "plt.title(\"Symmetric Orthogonalization\")"
   ]
  },
  {
   "cell_type": "code",
   "execution_count": 60,
   "id": "abf42af0",
   "metadata": {
    "scrolled": true
   },
   "outputs": [
    {
     "data": {
      "text/plain": [
       "Text(0.5, 1.0, 'Canonical Orthogonalization')"
      ]
     },
     "execution_count": 60,
     "metadata": {},
     "output_type": "execute_result"
    },
    {
     "data": {
      "image/png": "[encoded data removed]",
      "text/plain": [
       "<Figure size 432x288 with 1 Axes>"
      ]
     },
     "metadata": {
      "needs_background": "light"
     },
     "output_type": "display_data"
    }
   ],
   "source": [
    "plt.scatter(canonical_ortho[0],canonical_ortho[1])\n",
    "plt.xlabel(\"Parameter 1\")\n",
    "plt.ylabel(\"Parameter 2\")\n",
    "plt.title(\"Canonical Orthogonalization\")"
   ]
  },
  {
   "cell_type": "code",
   "execution_count": 65,
   "id": "f8d769b8",
   "metadata": {},
   "outputs": [
    {
     "data": {
      "text/plain": [
       "Text(0.5, 1.0, 'Canonical Orthogonalization')"
      ]
     },
     "execution_count": 65,
     "metadata": {},
     "output_type": "execute_result"
    },
    {
     "data": {
      "image/png": "[encoded data removed]",
      "text/plain": [
       "<Figure size 432x288 with 1 Axes>"
      ]
     },
     "metadata": {
      "needs_background": "light"
     },
     "output_type": "display_data"
    }
   ],
   "source": [
    "plt.scatter(canonical_ortho[0],canonical_ortho[1])\n",
    "plt.yscale(\"log\")\n",
    "plt.xscale(\"log\")\n",
    "plt.xlabel(\"Parameter 1\")\n",
    "plt.ylabel(\"Parameter 2\")\n",
    "plt.title(\"Canonical Orthogonalization\")"
   ]
  },
  {
   "cell_type": "code",
   "execution_count": 79,
   "id": "3bc506b8",
   "metadata": {
    "scrolled": true
   },
   "outputs": [
    {
     "data": {
      "text/plain": [
       "Text(0.5, 1.0, 'Canonical Orthogonalization - Scaled')"
      ]
     },
     "execution_count": 79,
     "metadata": {},
     "output_type": "execute_result"
    },
    {
     "data": {
      "image/png": "[encoded data removed]",
      "text/plain": [
       "<Figure size 432x288 with 1 Axes>"
      ]
     },
     "metadata": {
      "needs_background": "light"
     },
     "output_type": "display_data"
    }
   ],
   "source": [
    "plt.scatter(canonical_ortho[0],canonical_ortho[1])\n",
    "plt.xlim(-0.15,0.1)\n",
    "plt.ylim(-0.2,0.1)\n",
    "plt.xlabel(\"Parameter 1\")\n",
    "plt.ylabel(\"Parameter 2\")\n",
    "plt.title(\"Canonical Orthogonalization - Scaled\")"
   ]
  },
  {
   "cell_type": "code",
   "execution_count": 80,
   "id": "0562a60c",
   "metadata": {
    "scrolled": true
   },
   "outputs": [
    {
     "data": {
      "text/plain": [
       "Text(0.5, 1.0, 'Canonical Orthogonalization')"
      ]
     },
     "execution_count": 80,
     "metadata": {},
     "output_type": "execute_result"
    },
    {
     "data": {
      "image/png": "[encoded data removed]",
      "text/plain": [
       "<Figure size 432x288 with 1 Axes>"
      ]
     },
     "metadata": {
      "needs_background": "light"
     },
     "output_type": "display_data"
    }
   ],
   "source": [
    "plt.scatter(canonical_ortho[1],canonical_ortho[2])\n",
    "plt.xlabel(\"Parameter 2\")\n",
    "plt.ylabel(\"Parameter 3\")\n",
    "plt.title(\"Canonical Orthogonalization\")"
   ]
  },
  {
   "cell_type": "code",
   "execution_count": 67,
   "id": "2a5dc506",
   "metadata": {},
   "outputs": [
    {
     "data": {
      "text/plain": [
       "Text(0.5, 1.0, 'Canonical Orthogonalization')"
      ]
     },
     "execution_count": 67,
     "metadata": {},
     "output_type": "execute_result"
    },
    {
     "data": {
      "image/png": "[encoded data removed]",
      "text/plain": [
       "<Figure size 432x288 with 1 Axes>"
      ]
     },
     "metadata": {
      "needs_background": "light"
     },
     "output_type": "display_data"
    }
   ],
   "source": [
    "plt.scatter(canonical_ortho[1],canonical_ortho[2])\n",
    "plt.yscale(\"log\")\n",
    "plt.xscale(\"log\")\n",
    "plt.xlabel(\"Parameter 1\")\n",
    "plt.ylabel(\"Parameter 2\")\n",
    "plt.title(\"Canonical Orthogonalization\")"
   ]
  },
  {
   "cell_type": "code",
   "execution_count": 81,
   "id": "b364bea9",
   "metadata": {},
   "outputs": [
    {
     "data": {
      "text/plain": [
       "Text(0.5, 1.0, 'Canonical Orthogonalization - Scaled')"
      ]
     },
     "execution_count": 81,
     "metadata": {},
     "output_type": "execute_result"
    },
    {
     "data": {
      "image/png": "[encoded data removed]",
      "text/plain": [
       "<Figure size 432x288 with 1 Axes>"
      ]
     },
     "metadata": {
      "needs_background": "light"
     },
     "output_type": "display_data"
    }
   ],
   "source": [
    "plt.scatter(canonical_ortho[1],canonical_ortho[2])\n",
    "plt.xlim(-0.1,0.1)\n",
    "plt.ylim(-0.10,0.1)\n",
    "plt.xlabel(\"Parameter 2\")\n",
    "plt.ylabel(\"Parameter 3\")\n",
    "plt.title(\"Canonical Orthogonalization - Scaled\")"
   ]
  },
  {
   "cell_type": "code",
   "execution_count": 82,
   "id": "581e9472",
   "metadata": {},
   "outputs": [
    {
     "data": {
      "text/plain": [
       "Text(0.5, 1.0, 'Canonical Orthogonalization')"
      ]
     },
     "execution_count": 82,
     "metadata": {},
     "output_type": "execute_result"
    },
    {
     "data": {
      "image/png": "[encoded data removed]",
      "text/plain": [
       "<Figure size 432x288 with 1 Axes>"
      ]
     },
     "metadata": {
      "needs_background": "light"
     },
     "output_type": "display_data"
    }
   ],
   "source": [
    "plt.scatter(canonical_ortho[0],canonical_ortho[2])\n",
    "plt.xlabel(\"Parameter 1\")\n",
    "plt.ylabel(\"Parameter 3\")\n",
    "plt.title(\"Canonical Orthogonalization\")"
   ]
  },
  {
   "cell_type": "code",
   "execution_count": 83,
   "id": "3a9e0bb1",
   "metadata": {},
   "outputs": [
    {
     "data": {
      "text/plain": [
       "Text(0.5, 1.0, 'Canonical Orthogonalization')"
      ]
     },
     "execution_count": 83,
     "metadata": {},
     "output_type": "execute_result"
    },
    {
     "data": {
      "image/png": "[encoded data removed]",
      "text/plain": [
       "<Figure size 432x288 with 1 Axes>"
      ]
     },
     "metadata": {
      "needs_background": "light"
     },
     "output_type": "display_data"
    }
   ],
   "source": [
    "plt.scatter(canonical_ortho[2],canonical_ortho[3])\n",
    "plt.xlabel(\"Parameter 3\")\n",
    "plt.ylabel(\"Parameter 4\")\n",
    "plt.title(\"Canonical Orthogonalization\")"
   ]
  },
  {
   "cell_type": "code",
   "execution_count": 84,
   "id": "0f510939",
   "metadata": {},
   "outputs": [
    {
     "data": {
      "text/plain": [
       "Text(0.5, 1.0, 'Canonical Orthogonalization')"
      ]
     },
     "execution_count": 84,
     "metadata": {},
     "output_type": "execute_result"
    },
    {
     "data": {
      "image/png": "[encoded data removed]",
      "text/plain": [
       "<Figure size 432x288 with 1 Axes>"
      ]
     },
     "metadata": {
      "needs_background": "light"
     },
     "output_type": "display_data"
    }
   ],
   "source": [
    "plt.scatter(canonical_ortho[1],canonical_ortho[3])\n",
    "plt.xlabel(\"Parameter 2\")\n",
    "plt.ylabel(\"Parameter 4\")\n",
    "plt.title(\"Canonical Orthogonalization\")"
   ]
  },
  {
   "cell_type": "code",
   "execution_count": 85,
   "id": "33c1f58e",
   "metadata": {},
   "outputs": [
    {
     "data": {
      "text/plain": [
       "Text(0.5, 1.0, 'Canonical Orthogonalization')"
      ]
     },
     "execution_count": 85,
     "metadata": {},
     "output_type": "execute_result"
    },
    {
     "data": {
      "image/png": "[encoded data removed]",
      "text/plain": [
       "<Figure size 432x288 with 1 Axes>"
      ]
     },
     "metadata": {
      "needs_background": "light"
     },
     "output_type": "display_data"
    }
   ],
   "source": [
    "plt.scatter(canonical_ortho[0],canonical_ortho[3])\n",
    "plt.xlabel(\"Parameter 1\")\n",
    "plt.ylabel(\"Parameter 4\")\n",
    "plt.title(\"Canonical Orthogonalization\")"
   ]
  },
  {
   "cell_type": "code",
   "execution_count": 86,
   "id": "11ee4ebe",
   "metadata": {},
   "outputs": [
    {
     "name": "stdout",
     "output_type": "stream",
     "text": [
      "[[ 0.00000000e+00  0.00000000e+00  0.00000000e+00  0.00000000e+00\n",
      "   0.00000000e+00  0.00000000e+00  0.00000000e+00  0.00000000e+00\n",
      "   0.00000000e+00  0.00000000e+00  0.00000000e+00  0.00000000e+00\n",
      "   0.00000000e+00  1.27948449e-03 -1.08075459e-02  1.93424678e-02\n",
      "  -4.24775373e-02  5.30224993e-03 -7.09201549e-02  7.60136813e-02\n",
      "  -1.04187121e-01  5.24499444e-02 -1.32834880e-01  1.33080294e+00]\n",
      " [ 0.00000000e+00  0.00000000e+00  0.00000000e+00  0.00000000e+00\n",
      "   0.00000000e+00  0.00000000e+00  0.00000000e+00  0.00000000e+00\n",
      "   0.00000000e+00  0.00000000e+00  0.00000000e+00  0.00000000e+00\n",
      "   0.00000000e+00  5.87796602e-04 -1.07992631e-03  2.07380448e-02\n",
      "  -4.13057477e-02 -7.60181347e-03 -4.68612792e-02  7.49486346e-02\n",
      "  -4.68452260e-02  2.13875345e-02 -1.61803677e-01  1.28716903e+00]\n",
      " [ 0.00000000e+00  0.00000000e+00  0.00000000e+00  0.00000000e+00\n",
      "   0.00000000e+00  0.00000000e+00  0.00000000e+00  0.00000000e+00\n",
      "   0.00000000e+00  0.00000000e+00  0.00000000e+00  0.00000000e+00\n",
      "   0.00000000e+00  8.79484100e-05  1.22962333e-02  1.25547644e-02\n",
      "  -1.70731862e-02 -1.93086166e-02  7.30238551e-04  5.34342116e-02\n",
      "  -1.79560355e-02 -3.03193636e-02 -2.40223081e-01  1.25990347e+00]\n",
      " [ 0.00000000e+00  0.00000000e+00  0.00000000e+00  0.00000000e+00\n",
      "   0.00000000e+00  0.00000000e+00  0.00000000e+00  0.00000000e+00\n",
      "   0.00000000e+00  0.00000000e+00  0.00000000e+00  0.00000000e+00\n",
      "   0.00000000e+00 -3.19107675e-05  1.37081886e-03 -2.12830280e-02\n",
      "   2.26950693e-02 -2.02398466e-02  2.67318380e-02  9.07824685e-02\n",
      "  -6.16074931e-02 -1.29868628e-01 -3.59216572e-01  1.19877835e+00]\n",
      " [ 0.00000000e+00  0.00000000e+00  0.00000000e+00  0.00000000e+00\n",
      "   0.00000000e+00  0.00000000e+00  0.00000000e+00  0.00000000e+00\n",
      "   0.00000000e+00  0.00000000e+00  0.00000000e+00  0.00000000e+00\n",
      "   0.00000000e+00  1.56915642e-03  7.04202707e-03 -1.55328667e-03\n",
      "   3.14160687e-02  1.44951911e-02  4.75530557e-02  6.60301188e-02\n",
      "  -4.12696733e-02 -7.81276055e-02 -2.24124560e-01  1.07445098e+00]\n",
      " [ 0.00000000e+00  0.00000000e+00  0.00000000e+00  0.00000000e+00\n",
      "   0.00000000e+00  0.00000000e+00  0.00000000e+00  0.00000000e+00\n",
      "   0.00000000e+00  0.00000000e+00  0.00000000e+00  0.00000000e+00\n",
      "   0.00000000e+00 -5.06412623e-04  1.29295643e-03 -1.49906311e-02\n",
      "   1.85207792e-02  1.80757015e-02  3.71892532e-02 -3.56776672e-02\n",
      "   5.03348547e-03 -1.01709287e-01 -1.59077407e-01  9.28157400e-01]\n",
      " [ 0.00000000e+00  0.00000000e+00  0.00000000e+00  0.00000000e+00\n",
      "   0.00000000e+00  0.00000000e+00  0.00000000e+00  0.00000000e+00\n",
      "   0.00000000e+00  0.00000000e+00  0.00000000e+00  0.00000000e+00\n",
      "   0.00000000e+00  2.42765935e-04  5.09623413e-04  9.57155566e-03\n",
      "   4.56896970e-02 -7.11759968e-02 -2.29608323e-02  1.65574228e-01\n",
      "   3.18907397e-01  5.15460787e-02  2.96538961e-01  9.72576428e-01]\n",
      " [ 0.00000000e+00  0.00000000e+00  0.00000000e+00  0.00000000e+00\n",
      "   0.00000000e+00  0.00000000e+00  0.00000000e+00  0.00000000e+00\n",
      "   0.00000000e+00  0.00000000e+00  0.00000000e+00  0.00000000e+00\n",
      "   0.00000000e+00 -9.23057237e-04 -2.80237004e-03 -5.76619014e-04\n",
      "   2.90225352e-02 -2.78432170e-02 -1.19157074e-02 -6.27966461e-02\n",
      "   2.54193757e-01  1.19108067e-01  4.90883877e-01  9.05728352e-01]\n",
      " [ 0.00000000e+00  0.00000000e+00  0.00000000e+00  0.00000000e+00\n",
      "   0.00000000e+00  0.00000000e+00  0.00000000e+00  0.00000000e+00\n",
      "   0.00000000e+00  0.00000000e+00  0.00000000e+00  0.00000000e+00\n",
      "   0.00000000e+00  1.10851620e-03  5.85281351e-03  8.35197567e-03\n",
      "  -1.20999270e-02  9.23383593e-02 -2.61619234e-02  1.17255682e-02\n",
      "   1.69417491e-01  5.81982846e-02  3.58110891e-01  4.17718521e-01]\n",
      " [ 0.00000000e+00  0.00000000e+00  0.00000000e+00  0.00000000e+00\n",
      "   0.00000000e+00  0.00000000e+00  0.00000000e+00  0.00000000e+00\n",
      "   0.00000000e+00  0.00000000e+00  0.00000000e+00  0.00000000e+00\n",
      "   0.00000000e+00  1.26374198e-03 -6.29364682e-04 -1.86451968e-02\n",
      "  -1.35399279e-02  1.17285307e-01 -5.94685797e-02  1.44408798e-01\n",
      "   1.56721894e-01 -4.02351865e-03  2.15232365e-01 -1.16906743e-02]\n",
      " [ 0.00000000e+00  0.00000000e+00  0.00000000e+00  0.00000000e+00\n",
      "   0.00000000e+00  0.00000000e+00  0.00000000e+00  0.00000000e+00\n",
      "   0.00000000e+00  0.00000000e+00  0.00000000e+00  0.00000000e+00\n",
      "   0.00000000e+00 -1.75943131e-03 -2.53781251e-05 -2.12490060e-02\n",
      "  -5.93167847e-02 -6.99296103e-02 -5.36973608e-02  1.36738150e-01\n",
      "  -7.38378709e-03  7.12258570e-02  3.10882367e-01 -1.51411198e-01]\n",
      " [ 0.00000000e+00  0.00000000e+00  0.00000000e+00  0.00000000e+00\n",
      "   0.00000000e+00  0.00000000e+00  0.00000000e+00  0.00000000e+00\n",
      "   0.00000000e+00  0.00000000e+00  0.00000000e+00  0.00000000e+00\n",
      "   0.00000000e+00  1.43922083e-04  5.31317412e-03  7.09656390e-04\n",
      "  -4.71411598e-02 -2.97598215e-02 -2.85256487e-02  1.16706123e-01\n",
      "  -4.87026400e-02  5.04534417e-02  3.32064502e-01 -2.23352333e-01]\n",
      " [ 0.00000000e+00  0.00000000e+00  0.00000000e+00  0.00000000e+00\n",
      "   0.00000000e+00  0.00000000e+00  0.00000000e+00  0.00000000e+00\n",
      "   0.00000000e+00  0.00000000e+00  0.00000000e+00  0.00000000e+00\n",
      "   0.00000000e+00  9.72657774e-04  5.85599774e-03  3.71375709e-03\n",
      "  -2.92021874e-02  1.26658352e-03  1.43298969e-02  2.27794254e-02\n",
      "  -1.15589502e-01  4.55449474e-02  3.00722824e-01 -4.17618668e-01]\n",
      " [ 0.00000000e+00  0.00000000e+00  0.00000000e+00  0.00000000e+00\n",
      "   0.00000000e+00  0.00000000e+00  0.00000000e+00  0.00000000e+00\n",
      "   0.00000000e+00  0.00000000e+00  0.00000000e+00  0.00000000e+00\n",
      "   0.00000000e+00  1.86400783e-03  4.93764095e-03  9.32188133e-03\n",
      "  -1.77061446e-03 -2.75536033e-03  8.34908291e-03  1.55319533e-02\n",
      "  -1.61890952e-01  2.36513780e-02  3.02976573e-01 -4.62927115e-01]\n",
      " [ 0.00000000e+00  0.00000000e+00  0.00000000e+00  0.00000000e+00\n",
      "   0.00000000e+00  0.00000000e+00  0.00000000e+00  0.00000000e+00\n",
      "   0.00000000e+00  0.00000000e+00  0.00000000e+00  0.00000000e+00\n",
      "   0.00000000e+00  1.84621268e-03  7.60956672e-04  5.22535616e-03\n",
      "   3.23111749e-02 -4.19337592e-02  5.09789143e-02 -3.28156486e-02\n",
      "  -1.26971362e-01  4.06781009e-02  2.57453914e-01 -5.53800387e-01]\n",
      " [ 0.00000000e+00  0.00000000e+00  0.00000000e+00  0.00000000e+00\n",
      "   0.00000000e+00  0.00000000e+00  0.00000000e+00  0.00000000e+00\n",
      "   0.00000000e+00  0.00000000e+00  0.00000000e+00  0.00000000e+00\n",
      "   0.00000000e+00  3.98473213e-03 -1.33576571e-03  1.22374655e-02\n",
      "   5.60711574e-02 -2.71962948e-03  3.92455767e-02  8.80409291e-02\n",
      "  -9.61106946e-02 -2.68469455e-02  1.96428446e-01 -5.76999007e-01]\n",
      " [ 0.00000000e+00  0.00000000e+00  0.00000000e+00  0.00000000e+00\n",
      "   0.00000000e+00  0.00000000e+00  0.00000000e+00  0.00000000e+00\n",
      "   0.00000000e+00  0.00000000e+00  0.00000000e+00  0.00000000e+00\n",
      "   0.00000000e+00 -7.09352918e-03  1.36647863e-03  2.01968823e-02\n",
      "   3.70610197e-02  3.93132310e-02  1.47863265e-02  2.14143550e-01\n",
      "  -1.24579418e-01 -1.09269892e-01  1.35927945e-01 -4.53868668e-01]\n",
      " [ 0.00000000e+00  0.00000000e+00  0.00000000e+00  0.00000000e+00\n",
      "   0.00000000e+00  0.00000000e+00  0.00000000e+00  0.00000000e+00\n",
      "   0.00000000e+00  0.00000000e+00  0.00000000e+00  0.00000000e+00\n",
      "   0.00000000e+00  2.30187128e-03 -9.04595837e-04 -1.37568241e-02\n",
      "   2.40531159e-04 -1.45603770e-02 -1.38243169e-02  3.32462085e-01\n",
      "  -2.05213196e-03 -1.69966913e-01 -1.04289159e-01 -7.18241533e-01]\n",
      " [ 0.00000000e+00  0.00000000e+00  0.00000000e+00  0.00000000e+00\n",
      "   0.00000000e+00  0.00000000e+00  0.00000000e+00  0.00000000e+00\n",
      "   0.00000000e+00  0.00000000e+00  0.00000000e+00  0.00000000e+00\n",
      "   0.00000000e+00  5.09090812e-04 -1.12889410e-03  3.84521720e-03\n",
      "  -4.90430575e-03 -2.59669664e-02  9.52562399e-02  5.65608518e-02\n",
      "   1.04610942e-01 -1.31009567e-01 -6.25244151e-02 -5.70437592e-01]\n",
      " [ 0.00000000e+00  0.00000000e+00  0.00000000e+00  0.00000000e+00\n",
      "   0.00000000e+00  0.00000000e+00  0.00000000e+00  0.00000000e+00\n",
      "   0.00000000e+00  0.00000000e+00  0.00000000e+00  0.00000000e+00\n",
      "   0.00000000e+00 -5.00200232e-04 -1.14188923e-03  1.61776777e-03\n",
      "  -3.56352431e-02 -1.99494708e-02  1.71348596e-01  1.96995399e-02\n",
      "   2.07021714e-01 -1.13666111e-01 -2.01393252e-01 -6.34124376e-01]\n",
      " [ 0.00000000e+00  0.00000000e+00  0.00000000e+00  0.00000000e+00\n",
      "   0.00000000e+00  0.00000000e+00  0.00000000e+00  0.00000000e+00\n",
      "   0.00000000e+00  0.00000000e+00  0.00000000e+00  0.00000000e+00\n",
      "   0.00000000e+00  6.56010948e-04  1.75676077e-03  1.89367282e-02\n",
      "  -3.51630902e-02  1.02791762e-02  1.60924320e-01 -7.67953113e-03\n",
      "   2.48330254e-01 -9.25014526e-02 -2.57708489e-01 -7.16887533e-01]\n",
      " [ 0.00000000e+00  0.00000000e+00  0.00000000e+00  0.00000000e+00\n",
      "   0.00000000e+00  0.00000000e+00  0.00000000e+00  0.00000000e+00\n",
      "   0.00000000e+00  0.00000000e+00  0.00000000e+00  0.00000000e+00\n",
      "   0.00000000e+00  8.56287599e-04 -3.48009947e-03  1.35929879e-02\n",
      "   1.20954059e-02 -3.36831929e-03 -2.62722284e-01  3.02857949e-02\n",
      "   9.86913494e-02 -2.37566416e-01 -2.26917223e-01 -8.38679711e-01]\n",
      " [ 0.00000000e+00  0.00000000e+00  0.00000000e+00  0.00000000e+00\n",
      "   0.00000000e+00  0.00000000e+00  0.00000000e+00  0.00000000e+00\n",
      "   0.00000000e+00  0.00000000e+00  0.00000000e+00  0.00000000e+00\n",
      "   0.00000000e+00 -3.79501231e-04  9.14231720e-03 -1.14769071e-03\n",
      "   1.31289587e-03 -3.13132260e-02 -2.21608646e-01 -1.28760037e-01\n",
      "   1.24600129e-01 -5.98485418e-02 -2.44869249e-01 -7.71167751e-01]\n",
      " [ 0.00000000e+00  0.00000000e+00  0.00000000e+00  0.00000000e+00\n",
      "   0.00000000e+00  0.00000000e+00  0.00000000e+00  0.00000000e+00\n",
      "   0.00000000e+00  0.00000000e+00  0.00000000e+00  0.00000000e+00\n",
      "   0.00000000e+00 -7.53987452e-05  1.17241163e-03  3.48371592e-04\n",
      "   2.09311763e-02  7.46947630e-03 -1.14892173e-02  1.45353017e-01\n",
      "   5.42919592e-02  5.72360253e-01 -6.32889740e-01 -8.36189467e-01]]\n"
     ]
    }
   ],
   "source": [
    "np. save(\"sample1.npy\", canonical_ortho)\n",
    "cov2 = np. load(\"sample1.npy\")\n",
    "print(cov2)"
   ]
  },
  {
   "cell_type": "code",
   "execution_count": 87,
   "id": "c7108ee1",
   "metadata": {
    "scrolled": true
   },
   "outputs": [
    {
     "name": "stdout",
     "output_type": "stream",
     "text": [
      "[[ 1.8154203   1.75161229  1.71361664  1.64616836  1.46014102  1.24412164\n",
      "   1.23647045  1.11461213  0.49758279 -0.04464843 -0.22235134 -0.32093178\n",
      "  -0.57931065 -0.6374247  -0.7634452  -0.78359008 -0.60058717 -0.92477436\n",
      "  -0.77090348 -0.85387704 -0.96062812 -1.08801319 -1.00428021 -0.99336172]\n",
      " [ 1.75161229  1.69564525  1.66584014  1.60558626  1.42080025  1.21239194\n",
      "   1.20238976  1.07189358  0.47510919 -0.04440852 -0.22801976 -0.3255947\n",
      "  -0.57751134 -0.63574249 -0.75342935 -0.76782833 -0.58876002 -0.88577973\n",
      "  -0.73157885 -0.80066319 -0.90101991 -1.03811716 -0.95923505 -0.95369828]\n",
      " [ 1.71361664  1.66584014  1.65013446  1.60630426  1.41346819  1.20787935\n",
      "   1.15637902  1.0116692   0.43465994 -0.06372723 -0.25810854 -0.35415815\n",
      "  -0.59588464 -0.65273824 -0.75991794 -0.76764413 -0.58860249 -0.85682405\n",
      "  -0.69787136 -0.74864962 -0.84258757 -0.99530105 -0.91955828 -0.91253613]\n",
      " [ 1.64616836  1.60558626  1.60630426  1.59710303  1.3889545   1.18082753\n",
      "   1.0497325   0.87351658  0.35216886 -0.09122739 -0.29047824 -0.38122792\n",
      "  -0.60575891 -0.65542197 -0.75397056 -0.7427397  -0.55159634 -0.7709464\n",
      "  -0.64278724 -0.67989532 -0.76790415 -0.9033314  -0.85331458 -0.83953135]\n",
      " [ 1.46014102  1.42080025  1.41346819  1.3889545   1.22035664  1.04093947\n",
      "   0.97156946  0.83912025  0.3575364  -0.0589448  -0.23399198 -0.31186299\n",
      "  -0.51357464 -0.55911337 -0.65000635 -0.64853809 -0.48790173 -0.71386752\n",
      "  -0.58525491 -0.62783276 -0.70934964 -0.84598156 -0.7935544  -0.79373143]\n",
      " [ 1.24412164  1.21239194  1.20787935  1.18082753  1.04093947  0.90070423\n",
      "   0.84454937  0.75357205  0.32561014 -0.04910777 -0.20618797 -0.27214632\n",
      "  -0.44151457 -0.48154694 -0.55691666 -0.56542587 -0.43838858 -0.64520469\n",
      "  -0.50475322 -0.53930375 -0.60821938 -0.72856645 -0.67425764 -0.73847218]\n",
      " [ 1.23647045  1.20238976  1.15637902  1.0497325   0.97156946  0.84454937\n",
      "   1.17338672  1.10683678  0.56498563  0.11835789 -0.02781699 -0.11173575\n",
      "  -0.34944769 -0.40820933 -0.50275552 -0.51841215 -0.41227118 -0.68260582\n",
      "  -0.53788855 -0.61715968 -0.70634466 -0.85177434 -0.79993061 -0.92935848]\n",
      " [ 1.11461213  1.07189358  1.0116692   0.87351658  0.83912025  0.75357205\n",
      "   1.10683678  1.14582402  0.60075813  0.12241702  0.01436902 -0.05320575\n",
      "  -0.2570899  -0.30996494 -0.39909124 -0.45810948 -0.40269074 -0.7427837\n",
      "  -0.54047231 -0.63787489 -0.72646243 -0.87254073 -0.78251505 -0.99465717]\n",
      " [ 0.49758279  0.47510919  0.43465994  0.35216886  0.3575364   0.32561014\n",
      "   0.56498563  0.60075813  0.34442146  0.11259576  0.04806651  0.02027708\n",
      "  -0.08325831 -0.1110852  -0.16421081 -0.18935047 -0.16290271 -0.34481438\n",
      "  -0.25471584 -0.31420515 -0.35781369 -0.42183433 -0.39077091 -0.53097708]\n",
      " [-0.04464843 -0.04440852 -0.06372723 -0.09122739 -0.0589448  -0.04910777\n",
      "   0.11835789  0.12241702  0.11259576  0.10971881  0.08317318  0.08192767\n",
      "   0.05421849  0.04642797  0.02860206  0.04314818  0.049245    0.03369414\n",
      "   0.00958712 -0.01226326 -0.01714593 -0.00342399 -0.03301047 -0.09797807]\n",
      " [-0.22235134 -0.22801976 -0.25810854 -0.29047824 -0.23399198 -0.20618797\n",
      "  -0.02781699  0.01436902  0.04806651  0.08317318  0.15514482  0.16335606\n",
      "   0.16472721  0.16893409  0.16140126  0.1537561   0.12723882  0.11173207\n",
      "   0.06147242  0.02074742  0.01127772  0.05626789  0.03188517 -0.01105881]\n",
      " [-0.32093178 -0.3255947  -0.35415815 -0.38122792 -0.31186299 -0.27214632\n",
      "  -0.11173575 -0.05320575  0.02027708  0.08192767  0.16335606  0.18264132\n",
      "   0.20468544  0.21485452  0.21186888  0.20402256  0.16873737  0.15691717\n",
      "   0.09982624  0.05862007  0.05366918  0.10572753  0.07405395  0.01892681]\n",
      " [-0.57931065 -0.57751134 -0.59588464 -0.60575891 -0.51357464 -0.44151457\n",
      "  -0.34944769 -0.2570899  -0.08325831  0.05421849  0.16472721  0.20468544\n",
      "   0.2819025   0.30481608  0.32424088  0.31089128  0.24397764  0.26838059\n",
      "   0.20413605  0.17907052  0.19222165  0.25638005  0.22515021  0.18122921]\n",
      " [-0.6374247  -0.63574249 -0.65273824 -0.65542197 -0.55911337 -0.48154694\n",
      "  -0.40820933 -0.30996494 -0.1110852   0.04642797  0.16893409  0.21485452\n",
      "   0.30481608  0.33330081  0.3559195   0.34326442  0.27233237  0.30216822\n",
      "   0.22687873  0.19819578  0.21284149  0.29627686  0.25748525  0.20220469]\n",
      " [-0.7634452  -0.75342935 -0.75991794 -0.75397056 -0.65000635 -0.55691666\n",
      "  -0.50275552 -0.39909124 -0.16421081  0.02860206  0.16140126  0.21186888\n",
      "   0.32424088  0.3559195   0.39726328  0.3823324   0.2910899   0.35319473\n",
      "   0.28515017  0.27619981  0.30236097  0.37006057  0.34005902  0.31154121]\n",
      " [-0.78359008 -0.76782833 -0.76764413 -0.7427397  -0.64853809 -0.56542587\n",
      "  -0.51841215 -0.45810948 -0.18935047  0.04314818  0.1537561   0.20402256\n",
      "   0.31089128  0.34326442  0.3823324   0.39408022  0.32511076  0.42732246\n",
      "   0.31888761  0.31601887  0.34551017  0.42945447  0.36659278  0.35108061]\n",
      " [-0.60058717 -0.58876002 -0.58860249 -0.55159634 -0.48790173 -0.43838858\n",
      "  -0.41227118 -0.40269074 -0.16290271  0.049245    0.12723882  0.16873737\n",
      "   0.24397764  0.27233237  0.2910899   0.32511076  0.30138836  0.40077073\n",
      "   0.2640785   0.25174571  0.26972988  0.36665036  0.27570107  0.25622248]\n",
      " [-0.92477436 -0.88577973 -0.85682405 -0.7709464  -0.71386752 -0.64520469\n",
      "  -0.68260582 -0.7427837  -0.34481438  0.03369414  0.11173207  0.15691717\n",
      "   0.26838059  0.30216822  0.35319473  0.42732246  0.40077073  0.66676967\n",
      "   0.4560989   0.49979234  0.55179065  0.67978642  0.55005714  0.61756927]\n",
      " [-0.77090348 -0.73157885 -0.69787136 -0.64278724 -0.58525491 -0.50475322\n",
      "  -0.53788855 -0.54047231 -0.25471584  0.00958712  0.06147242  0.09982624\n",
      "   0.20413605  0.22687873  0.28515017  0.31888761  0.2640785   0.4560989\n",
      "   0.37040284  0.42900476  0.47802069  0.5108218   0.44848801  0.45409007]\n",
      " [-0.85387704 -0.80066319 -0.74864962 -0.67989532 -0.62783276 -0.53930375\n",
      "  -0.61715968 -0.63787489 -0.31420515 -0.01226326  0.02074742  0.05862007\n",
      "   0.17907052  0.19819578  0.27619981  0.31601887  0.25174571  0.49979234\n",
      "   0.42900476  0.52987138  0.5969198   0.58020258  0.53098591  0.60388859]\n",
      " [-0.96062812 -0.90101991 -0.84258757 -0.76790415 -0.70934964 -0.60821938\n",
      "  -0.70634466 -0.72646243 -0.35781369 -0.01714593  0.01127772  0.05366918\n",
      "   0.19222165  0.21284149  0.30236097  0.34551017  0.26972988  0.55179065\n",
      "   0.47802069  0.5969198   0.67822567  0.66348174  0.61737612  0.71947729]\n",
      " [-1.08801319 -1.03811716 -0.99530105 -0.9033314  -0.84598156 -0.72856645\n",
      "  -0.85177434 -0.87254073 -0.42183433 -0.00342399  0.05626789  0.10572753\n",
      "   0.25638005  0.29627686  0.37006057  0.42945447  0.36665036  0.67978642\n",
      "   0.5108218   0.58020258  0.66348174  0.89134835  0.7832383   0.7219425 ]\n",
      " [-1.00428021 -0.95923505 -0.91955828 -0.85331458 -0.7935544  -0.67425764\n",
      "  -0.79993061 -0.78251505 -0.39077091 -0.03301047  0.03188517  0.07405395\n",
      "   0.22515021  0.25748525  0.34005902  0.36659278  0.27570107  0.55005714\n",
      "   0.44848801  0.53098591  0.61737612  0.7832383   0.74052451  0.75596183]\n",
      " [-0.99336172 -0.95369828 -0.91253613 -0.83953135 -0.79373143 -0.73847218\n",
      "  -0.92935848 -0.99465717 -0.53097708 -0.09797807 -0.01105881  0.01892681\n",
      "   0.18122921  0.20220469  0.31154121  0.35108061  0.25622248  0.61756927\n",
      "   0.45409007  0.60388859  0.71947729  0.7219425   0.75596183  1.45206104]]\n"
     ]
    }
   ],
   "source": [
    "np. save(\"sample2.npy\", cov)\n",
    "cov2 = np. load(\"sample2.npy\")\n",
    "print(cov2)"
   ]
  },
  {
   "cell_type": "code",
   "execution_count": 147,
   "id": "b4abc336",
   "metadata": {},
   "outputs": [
    {
     "data": {
      "text/plain": [
       "array([[3., 0., 0.],\n",
       "       [0., 3., 0.],\n",
       "       [0., 0., 3.]])"
      ]
     },
     "execution_count": 147,
     "metadata": {},
     "output_type": "execute_result"
    }
   ],
   "source": [
    "np.dot(np.array(3,int),np.eye(3))"
   ]
  },
  {
   "cell_type": "code",
   "execution_count": 148,
   "id": "5e8e8f61",
   "metadata": {},
   "outputs": [
    {
     "data": {
      "text/plain": [
       "array(3)"
      ]
     },
     "execution_count": 148,
     "metadata": {},
     "output_type": "execute_result"
    }
   ],
   "source": [
    "np.array(3,int)"
   ]
  },
  {
   "cell_type": "code",
   "execution_count": null,
   "id": "d58edcac",
   "metadata": {},
   "outputs": [],
   "source": []
  }
 ],
 "metadata": {
  "kernelspec": {
   "display_name": "Python 3 (ipykernel)",
   "language": "python",
   "name": "python3"
  },
  "language_info": {
   "codemirror_mode": {
    "name": "ipython",
    "version": 3
   },
   "file_extension": ".py",
   "mimetype": "text/x-python",
   "name": "python",
   "nbconvert_exporter": "python",
   "pygments_lexer": "ipython3",
   "version": "3.9.7"
  }
 },
 "nbformat": 4,
 "nbformat_minor": 5
}
