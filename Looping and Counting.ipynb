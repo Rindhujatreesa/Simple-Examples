{
 "cells": [
  {
   "cell_type": "markdown",
   "id": "96111c09",
   "metadata": {},
   "source": [
    "<b><i>This is a basic looping and counting code that do not use numpy, scipy, pandas or sympy packages</b></i>."
   ]
  },
  {
   "cell_type": "markdown",
   "id": "5b920595",
   "metadata": {},
   "source": [
    "Write a recursive function that calculates the dot product of two list vectors. Do not use <code>while</code> or <code>for</code> loops. Use your function for calculating the dot product $x.y$ (and print the result), where x and y are:"
   ]
  },
  {
   "cell_type": "code",
   "execution_count": 1,
   "id": "8b679977",
   "metadata": {},
   "outputs": [],
   "source": [
    "#Call your function for this pair of x and y\n",
    "x = [1,2,3]\n",
    "y = [-6,2,3]"
   ]
  },
  {
   "cell_type": "code",
   "execution_count": 2,
   "id": "548a0397",
   "metadata": {},
   "outputs": [],
   "source": [
    "#Your answers go here\n",
    "def dot_func(A,B): # we define a function dot_func with two arguments A and B\n",
    "    if not A:    #this if condition ensures that the function returns 0 when there are no more list elements in A.\n",
    "# We can use this for B also as both the lists will be of same length to find dot product\n",
    "        return 0\n",
    "    return A[0]*B[0] + dot_func(A[1:],B[1:])\n",
    "# when the list has an element, it will continue to call the dot_func repetitively until the list is empty. We use the \n",
    "# index slicing technique to continue the function without for loops.\n",
    "# Each time the dot_func evaluates the consecutive list element.\n",
    "# reference: https://stackoverflow.com/questions/52347018/how-to-find-dot-product-of-two-lists-using-only-recursionno-loops-or-list-compr"
   ]
  },
  {
   "cell_type": "code",
   "execution_count": 3,
   "id": "30d2ec9d",
   "metadata": {},
   "outputs": [
    {
     "name": "stdout",
     "output_type": "stream",
     "text": [
      "The dot product of x and y is:  7\n"
     ]
    }
   ],
   "source": [
    "dot_prod = dot_func(A = x, B = y) #we call the dot_func passing the parameters x and y as keyword aruments. As list is also a\n",
    "# data type in python, we can pass it directly without *args.\n",
    "print(\"The dot product of x and y is: \",dot_prod)"
   ]
  },
  {
   "cell_type": "markdown",
   "id": "ec2a581c",
   "metadata": {},
   "source": [
    " Write a recursive function that will find the number of occurrences of a string element in an arbitrary nested list structure. (For example James is present 3 times in <code>my_list</code>. Then use the function to find (and print):\n",
    "1. How many times does Adam occur in <code>my_list</code>\n",
    "2. How many times does Susan occur in <code>my_list2</code>\n",
    "3. How many times does UMBC occur in <code>my_list3</code>\n",
    "\n",
    "For this question you are allowed to use loops within the function as well (but recursion is mandatory)"
   ]
  },
  {
   "cell_type": "code",
   "execution_count": 4,
   "id": "b6f23c24",
   "metadata": {},
   "outputs": [],
   "source": [
    "my_list = [\"Adam\",\"Sam\",\"Maddy\",[\"Joel\",\"Adam\",\"Harvey\",\"Adam\"],\"James\",\"Adam\",[\"Jordan\",\"Nico\",[\"Adam\",\"Valtteri\",\"Oscar\",\"James\",[\"Adam\",\"James\"]]]]\n",
    "my_list2 = [[\"Susan\",\"Sam\",\"John\"],\"Susan\",\"Jane\",\"Zach\",[[[\"Susan\",\"Jame\",\"Loren\",[\"Natalie\",\"Susan\"]]]],\"Susan\"]\n",
    "my_list3 = [\"UMBC\",\"GMU\",\"GWU\",\"Georgetown\",\"JHU\",\"Towson\",\"UMD\",[\"JHU\",\"UMBC\",\"Towson\",\"UMD\",[\"JHU\",\"UMBC\",\"Towson\",[\"UMBC\",\"Towson\",[\"UMBC\"]]]]]"
   ]
  },
  {
   "cell_type": "code",
   "execution_count": 5,
   "id": "fa31a658",
   "metadata": {
    "scrolled": true
   },
   "outputs": [],
   "source": [
    "# We define a function find_str() which can be used to find the number of times a word occcurs in any arbitrary nested lists \n",
    "# with the following parameters -\n",
    "# word: the word whose number of occurances has to be found\n",
    "# str_list: the list that contains the words\n",
    "# pos: the position index of the list. The user can define from where to start the search in the list\n",
    "# count: the initial count of the word, usually set to zero.\n",
    "def find_str(word,str_list,pos,count):\n",
    "# we loop through the elemnts of the list starting from the required position\n",
    "    for names in range(pos,len(str_list)):\n",
    "        #print(pos,str_list[names]) #this helps us to monitoe the function when running\n",
    "# we increment position index each time to make sure that the function moves to the next element in the list\n",
    "        pos = names +1\n",
    "# We check for each element, whether it is a string  or a list within the parent list.\n",
    "# If it is a string we further check if it is the word which we are counting and increments the count value by 1 if it is.\n",
    "        if type(str_list[names]) == str and str_list[names] == word:\n",
    "            count+=1\n",
    "            #print(count,pos)\n",
    "# Each time we encounter the word, w make sure that the search does not stop by calling the function again by returning\n",
    "# the current positio and count along with the outer list.\n",
    "            return find_str(word,str_list,pos,count)\n",
    "# If the element is a list, we directly call the find_str() again with the count value to return the number of occurances\n",
    "# in the inner list and thereby keeps the searching going on without stopping after a list is encountered\n",
    "# If we do not pass the outer list and inner list, the code will loose its access to the outer list and \n",
    "# the search will be incomplete\n",
    "        elif type(str_list[names]) == list:\n",
    "            #print(count,pos)\n",
    "            return find_str(word,str_list,pos,(find_str(word,str_list[names],pos=0,count=count)))\n",
    "# the count is returned by the find_str()\n",
    "    return count"
   ]
  },
  {
   "cell_type": "code",
   "execution_count": 6,
   "id": "c4616e41",
   "metadata": {
    "scrolled": true
   },
   "outputs": [
    {
     "name": "stdout",
     "output_type": "stream",
     "text": [
      "Occurances of Adam =  6\n",
      "Occurances of Susan =  5\n",
      "Occurances of UMBC =  5\n"
     ]
    }
   ],
   "source": [
    "# we define three different variables that holds the return value for their respective counts from different lists\n",
    "occurances = find_str(word =\"Adam\", str_list = my_list,pos = 0, count = 0)\n",
    "occurances_1 = find_str(word = \"Susan\", str_list = my_list2,pos = 0, count = 0)\n",
    "occurances_2 = find_str(word = \"UMBC\", str_list = my_list3, pos = 0, count = 0)\n",
    "print(\"Occurances of Adam = \", occurances)\n",
    "print(\"Occurances of Susan = \", occurances_1)\n",
    "print(\"Occurances of UMBC = \", occurances_2)\n",
    "# We get the right number of occurances"
   ]
  },
  {
   "cell_type": "markdown",
   "id": "75b629ab",
   "metadata": {},
   "source": [
    "You have a text file <code>shakespeare_play.txt</code>. You will need to read the file and:\n",
    "Get the following information of each unique word (can be single letter and numeric) : \n",
    "    1. the word itself\n",
    "    2. the length of the word \n",
    "    3. the number of times that word appears (frequency). \n",
    "A word is defined here as a contiguous string of alphanumeric characters that does not contain : comma, brackets and parenthesis, semi-colon,colon, periods, exclaimation, question marks, equal to,  tabs, or spaces inside it (everything else is ok to be either a word in itself or to be the part of a word). To simplify, make all words lowercase.\n",
    "\n",
    "Save the information extracted above as a <code>.csv</code> file such that it appears like the following (just an example, not accurate to the file in question). The table is sorted with respect to the Word field.\n",
    "| Word      | Length | Frequency |\n",
    "| ----------- | ----------- |  ----------- |\n",
    "| adam      | 4       | 5 |\n",
    "|... | ... | ... |\n",
    "| where   | 5        | 16 |\n",
    "<br>\n",
    "\n",
    "The first row should be the column names\n",
    "\n",
    "Save the above information also as a list of dictionaries in a <code>.json</code> file. This list of dictionaries looks something like this<br>\n",
    "<code>[{'Word':'adam','Length':4,'Frequency':5}...{'Word':'where','Length':5,'Frequency':16}]</code>\n"
   ]
  },
  {
   "cell_type": "code",
   "execution_count": 7,
   "id": "bfce23f7",
   "metadata": {},
   "outputs": [
    {
     "data": {
      "text/plain": [
       "'C:\\\\Users\\\\hp\\\\DATA 601'"
      ]
     },
     "execution_count": 7,
     "metadata": {},
     "output_type": "execute_result"
    }
   ],
   "source": [
    "#Your answers go here\n",
    "# We obtain the current working directory to start with as this involves files\n",
    "import os\n",
    "filepath = os.getcwd()\n",
    "filepath"
   ]
  },
  {
   "cell_type": "code",
   "execution_count": 8,
   "id": "266fd0aa",
   "metadata": {},
   "outputs": [],
   "source": [
    "# the regular expression module is imported to use multiple delimiters to identify words from the text file\n",
    "import re"
   ]
  },
  {
   "cell_type": "code",
   "execution_count": 9,
   "id": "d8880481",
   "metadata": {
    "scrolled": true
   },
   "outputs": [],
   "source": [
    "# We initiate two lists which will be used to store the words at different stages\n",
    "words = []\n",
    "word_list = []\n",
    "# We use the file location to open the file and open it in the read mode\n",
    "# The below code makes sure that the shakespeare.txt file is located if it is in the current working directory\n",
    "file_path = filepath+'\\\\shakespeare_play.txt'\n",
    "play = open(file_path,'r')\n",
    "#play = open(\"C:\\\\Users\\\\hp\\\\DATA 601\\\\shakespeare_play.txt\",'r')\n",
    "# Once the .txt file is opened, we use the loop to go through each line of the text.\n",
    "for line in play:\n",
    "    words.extend(re.split(r',| |\\n',line)) #using the extend method, we add each word to the words list. Notice the re.split()\n",
    "# allows using multiple separators\n",
    "play.close() # we close the file once the words are extracted\n",
    "# Now we loop through the words list,which consists of unnecessary symbols, to purify it so that only alphanumerics are present\n",
    "for i in range(len(words)):\n",
    "    words[i] = words[i].lower() # we make all the words in lower case for ease\n",
    "    if words[i].isalnum(): #we recognise the alphanumeric strings from the list and append them to the new list word_list\n",
    "        word_list.append(words[i])\n",
    "#Once we have the list of words, we have to shorten them by picking the unique words.\n",
    "# We know that set does not alow duplicate values. Therefore, just converting the list into set makes it unique\n",
    "unique_words = set(word_list)\n",
    "# we convert the set back into list which now consists of unique words only\n",
    "unique_words_list = list(unique_words)  \n",
    "unique_words_list.sort() # Now, the list is sorted by the words in ascendiing order"
   ]
  },
  {
   "cell_type": "code",
   "execution_count": 10,
   "id": "c025a0f5",
   "metadata": {
    "scrolled": true
   },
   "outputs": [],
   "source": [
    "#to_csv =[['Word','Length','Frequency']]\n",
    "to_csv = []\n",
    "# the following loop counts the number of time each word in the word_list appears\n",
    "# For this, we take each word from the unique_word_list and counts number of times they appear in the word_list\n",
    "for k in range(0,len(unique_words_list)):\n",
    "    count=0\n",
    "    for j in range(0,len(word_list)):\n",
    "# We check whether a word is same as the selected word \n",
    "        if word_list[j] == unique_words_list[k]:\n",
    "            count+=1 \n",
    "# Also, here we count the number of letters or the length of each word in the loop, simply using the len()   \n",
    "            no_of_letters =  len(unique_words_list[k])\n",
    "# We append the word, length and frequency to the new list to_csv\n",
    "    to_csv.append([unique_words_list[k],no_of_letters,count])"
   ]
  },
  {
   "cell_type": "code",
   "execution_count": 11,
   "id": "3e4c56b4",
   "metadata": {
    "scrolled": true
   },
   "outputs": [
    {
     "name": "stdout",
     "output_type": "stream",
     "text": [
      "[['1', 1, 3], ['2', 1, 2], ['a', 1, 34], ['abbess', 6, 1], ['able', 4, 1], ['about', 5, 1], ['absence', 7, 1], ['according', 9, 1], ['act', 3, 2], ['adjudged', 8, 1], ['admit', 5, 1], ['adriana', 7, 14], ['adverse', 7, 1], ['adversity', 9, 1], ['advocate', 8, 1], ['after', 5, 1], ['afterward', 9, 1], ['again', 5, 3], ['against', 7, 2], ['alas', 4, 1], ['alike', 5, 1], ['all', 3, 5], ['almanac', 7, 1], ['am', 2, 8], ['amain', 5, 1], ['amount', 6, 1], ['an', 2, 5], ['and', 3, 75], ['angelo', 6, 2], ['another', 7, 2], ['answer', 6, 1], ['antipholus', 10, 22], ['any', 3, 4], ['apprehended', 11, 1], ['approached', 10, 1], ['are', 3, 6], ['arrival', 7, 1], ['arrived', 7, 1], ['art', 3, 4], ['as', 2, 11], ['asia', 4, 1], ['asses', 5, 1], ['at', 2, 18], ['attend', 6, 2], ['attendants', 10, 1], ['ay', 2, 2], ['babes', 5, 1], ['balthasar', 9, 1], ['barbara', 7, 1], ['bark', 4, 1], ['bay', 3, 1], ['be', 2, 15], ['bear', 4, 5], ['beasts', 6, 1], ['became', 6, 2], ['because', 7, 4], ['been', 4, 6], ['before', 6, 4], ['beg', 3, 1], ['being', 5, 4], ['bend', 4, 1], ['beneficial', 10, 1], ['benefit', 7, 1], ['bereft', 6, 1], ['beshrew', 7, 1], ['bestowed', 8, 1], ['betrothed', 9, 1], ['between', 7, 1], ['bid', 3, 1], ['bliss', 5, 1], ['bloods', 6, 1], ['blows', 5, 1], ['boat', 4, 1], ['body', 4, 1], ['born', 4, 3], ['borne', 5, 1], ['borrow', 6, 1], ['both', 4, 3], ['bought', 6, 1], ['bound', 5, 2], ['bounds', 6, 1], ['boy', 3, 1], ['boys', 4, 1], ['break', 5, 2], ['bridle', 6, 1], ['bridled', 7, 1], ['brief', 5, 1], ['broke', 5, 1], ['brother', 7, 4], ['brought', 7, 1], ['bruised', 7, 1], ['buildings', 9, 1], ['burden', 6, 1], ['burdened', 8, 2], ['business', 8, 2], ['but', 3, 23], ['buy', 3, 1], ['by', 2, 20], ['called', 6, 3], ['calls', 5, 1], ['calm', 4, 1], ['came', 4, 2], ['can', 3, 2], ['cannot', 6, 2], ['capon', 5, 1], ['care', 4, 5], ['careful', 7, 1], ['carried', 7, 2], ['case', 4, 1], ['cause', 5, 2], ['centaur', 7, 2], ['certain', 7, 1], ['chance', 6, 1], ['change', 6, 1], ['characters', 10, 1], ['charge', 6, 3], ['cheaters', 8, 1], ['children', 8, 1], ['christian', 9, 1], ['citizen', 7, 3], ['clean', 5, 1], ['clock', 5, 2], ['coasting', 8, 1], ['cold', 4, 1], ['come', 4, 11], ['comedy', 6, 1], ['comes', 5, 2], ['coming', 6, 1], ['commend', 7, 1], ['commends', 8, 2], ['company', 7, 1], ['condemned', 9, 1], ['confiscate', 10, 1], ['confounds', 9, 1], ['consort', 7, 1], ['content', 7, 1], ['convey', 6, 1], ['corinth', 7, 3], ['could', 5, 7], ['couldst', 7, 1], ['countrymen', 10, 2], ['courtesan', 9, 1], ['cozenage', 8, 1], ['crave', 5, 1], ['crown', 5, 1], ['cry', 3, 1], ['daily', 5, 1], ['dally', 5, 1], ['day', 3, 3], ['death', 5, 5], ['deceive', 7, 1], ['decreed', 7, 1], ['deep', 4, 1], ['default', 7, 1], ['deform', 6, 1], ['delays', 6, 1], ['delight', 7, 1], ['delivered', 9, 1], ['departedst', 10, 1], ['device', 6, 1], ['did', 3, 4], ['didst', 5, 1], ['dies', 4, 2], ['dignity', 7, 1], ['dilate', 6, 1], ['dine', 4, 2], ['dinner', 6, 3], ['dire', 4, 1], ['disannul', 8, 1], ['discord', 7, 1], ['discovered', 10, 1], ['disguised', 9, 1], ['disparagement', 13, 1], ['dispersed', 9, 1], ['dispose', 7, 1], ['disposed', 8, 2], ['distinguished', 13, 1], ['divine', 6, 1], ['divorce', 7, 1], ['do', 2, 2], ['done', 4, 3], ['doom', 4, 1], ['doomed', 6, 1], ['doth', 4, 2], ['doubtful', 8, 1], ['doubtfully', 10, 2], ['down', 4, 1], ['drew', 4, 1], ['dromio', 6, 20], ['drop', 4, 2], ['duke', 4, 8], ['dull', 4, 1], ['ears', 4, 1], ['earth', 5, 2], ['edited', 6, 1], ['egeon', 5, 10], ['eighteen', 8, 1], ['either', 6, 1], ['eldest', 6, 1], ['embraced', 8, 1], ['embracements', 12, 1], ['encountered', 11, 1], ['end', 3, 5], ['endued', 6, 1], ['engaged', 7, 1], ['enmity', 6, 1], ['ephesian', 8, 3], ['ephesus', 7, 28], ['epidamium', 9, 3], ['epidaurus', 9, 1], ['ere', 3, 4], ['errors', 6, 1], ['evening', 7, 1], ['exceeding', 9, 1], ['excludes', 8, 1], ['exorcist', 8, 1], ['extremity', 9, 1], ['eye', 3, 2], ['eyes', 4, 1], ['face', 4, 1], ['fainting', 8, 1], ['fall', 4, 1], ['falling', 7, 1], ['falls', 5, 1], ['far', 3, 1], ['farewell', 8, 1], ['farthest', 8, 1], ['fashion', 7, 1], ['fast', 4, 2], ['fastened', 8, 2], ['fates', 5, 1], ['fault', 5, 1], ['favor', 5, 2], ['fear', 4, 2], ['fearful', 7, 1], ['feel', 4, 2], ['fellow', 6, 1], ['females', 7, 1], ['fetch', 5, 1], ['find', 4, 3], ['first', 5, 5], ['fish', 4, 1], ['fishermen', 9, 1], ['fishers', 7, 1], ['fishes', 6, 1], ['five', 4, 3], ['fixed', 5, 1], ['fixing', 6, 1], ['floating', 8, 1], ['flout', 5, 1], ['folger', 6, 1], ['following', 9, 1], ['foolishness', 11, 1], ['for', 3, 26], ['forced', 6, 1], ['forth', 5, 1], ['fortune', 7, 1], ['forward', 7, 1], ['fowls', 5, 2], ['friends', 7, 1], ['from', 4, 15], ['full', 4, 2], ['gather', 6, 1], ['gave', 4, 5], ['gaze', 4, 1], ['gazing', 6, 1], ['get', 3, 1], ['give', 4, 1], ['gives', 5, 2], ['gladly', 6, 1], ['go', 2, 6], ['gods', 4, 1], ['gold', 4, 2], ['goldsmith', 9, 1], ['gone', 4, 2], ['good', 4, 2], ['goodly', 6, 1], ['goods', 5, 3], ['grant', 5, 1], ['great', 5, 4], ['greatly', 7, 1], ['greece', 6, 1], ['griefs', 6, 1], ['grieve', 6, 1], ['guests', 6, 1], ['guilders', 8, 1], ['had', 3, 14], ['hadst', 5, 1], ['hand', 4, 1], ['hands', 5, 1], ['hap', 3, 2], ['hapless', 7, 1], ['happy', 5, 2], ['harbors', 7, 1], ['hast', 4, 4], ['haste', 5, 1], ['hath', 4, 5], ['have', 4, 15], ['having', 6, 2], ['hazarded', 8, 1], ['he', 2, 10], ['head', 4, 1], ['headsman', 8, 1], ['headstrong', 10, 1], ['healthful', 9, 1], ['hear', 4, 1], ['heard', 5, 1], ['heavens', 7, 1], ['heavier', 7, 1], ['heedful', 7, 1], ['helpful', 7, 1], ['helpless', 8, 2], ['her', 3, 5], ['here', 4, 5], ['hie', 3, 1], ['highest', 7, 1], ['him', 3, 7], ['his', 3, 23], ['hold', 4, 1], ['home', 4, 8], ['homeward', 8, 2], ['hope', 4, 2], ['hopeless', 8, 2], ['host', 4, 1], ['hostess', 7, 1], ['hot', 3, 1], ['hour', 4, 3], ['house', 5, 1], ['how', 3, 4], ['humor', 5, 2], ['hundred', 7, 1], ['husband', 7, 3], ['i', 1, 57], ['if', 2, 9], ['ignorant', 8, 1], ['immediate', 9, 1], ['importuned', 10, 1], ['imposed', 7, 1], ['in', 2, 30], ['incessant', 9, 1], ['increased', 9, 1], ['indeed', 6, 2], ['infringe', 8, 1], ['inn', 3, 3], ['inquisitive', 11, 2], ['instance', 8, 1], ['intellectual', 12, 1], ['intestine', 9, 1], ['invited', 7, 3], ['is', 2, 19], ['it', 2, 14], ['jailer', 6, 3], ['jars', 4, 1], ['jest', 4, 1], ['jests', 5, 1], ['joyful', 6, 1], ['jugglers', 8, 1], ['keep', 4, 1], ['kept', 4, 1], ['kind', 4, 1], ['kitchen', 7, 1], ['knave', 5, 1], ['know', 4, 2], ['knowing', 7, 1], ['labored', 7, 1], ['lady', 4, 1], ['lashed', 6, 1], ['last', 4, 1], ['late', 4, 1], ['law', 3, 2], ['laws', 4, 1], ['league', 6, 1], ['leagues', 7, 1], ['learn', 5, 1], ['leave', 5, 1], ['left', 4, 4], ['length', 6, 2], ['lesser', 6, 2], ['lest', 4, 1], ['let', 3, 3], ['levied', 6, 1], ['liberties', 9, 1], ['liberty', 7, 2], ['library', 7, 1], ['lies', 4, 1], ['life', 4, 4], ['lifeless', 8, 1], ['light', 5, 2], ['lightens', 8, 1], ['like', 4, 7], ['likewise', 8, 1], ['limit', 5, 1], ['live', 4, 1], ['lived', 5, 1], ['lives', 5, 1], ['loath', 5, 1], ['long', 4, 2], ['longer', 6, 1], ['look', 4, 1], ['lord', 4, 1], ['lose', 4, 2], ['loss', 4, 1], ['love', 4, 2], ['luce', 4, 1], ['luciana', 7, 12], ['made', 4, 4], ['maid', 4, 1], ['make', 4, 2], ['makes', 5, 1], ['making', 6, 1], ['male', 4, 1], ['man', 3, 3], ['manners', 7, 1], ['many', 4, 2], ['marked', 6, 1], ['marks', 5, 5], ['marriage', 8, 1], ['marry', 5, 1], ['mart', 4, 3], ['marts', 5, 1], ['marvel', 6, 1], ['mast', 4, 2], ['master', 6, 4], ['masters', 7, 1], ['mate', 4, 1], ['maw', 3, 1], ['may', 3, 4], ['me', 2, 23], ['mean', 4, 2], ['meanly', 6, 1], ['means', 5, 1], ['meat', 4, 2], ['meek', 4, 1], ['meet', 4, 2], ['melancholy', 10, 1], ['men', 3, 1], ['merchant', 8, 13], ['merchants', 9, 2], ['merciless', 9, 1], ['merrier', 7, 1], ['merry', 5, 2], ['messenger', 9, 1], ['methinks', 8, 1], ['michael', 7, 1], ['might', 5, 1], ['mighty', 6, 1], ['mind', 4, 2], ['minds', 5, 1], ['mine', 4, 4], ['misfortunes', 11, 1], ['mishap', 6, 1], ['mistress', 8, 5], ['money', 5, 6], ['months', 6, 1], ['more', 4, 6], ['mortal', 6, 1], ['mother', 6, 3], ['motions', 7, 1], ['mountebanks', 11, 1], ['mourned', 7, 1], ['mowat', 5, 1], ['much', 4, 3], ['must', 4, 2], ['my', 2, 50], ['myself', 6, 2], ['native', 6, 1], ['nature', 6, 1], ['nay', 3, 5], ['neither', 7, 1], ['never', 5, 1], ['niles', 5, 1], ['nimble', 6, 1], ['no', 2, 10], ['none', 4, 1], ['nor', 3, 1], ['not', 3, 27], ['nothing', 7, 1], ['now', 3, 5], ['o', 1, 3], ['oath', 4, 1], ['obedient', 8, 1], ['obscured', 8, 1], ['ocean', 5, 1], ['of', 2, 108], ['off', 3, 1], ['offended', 8, 1], ['offense', 7, 1], ['officer', 7, 2], ['officers', 8, 1], ['oft', 3, 1], ['often', 5, 1], ['old', 3, 2], ['on', 2, 5], ['one', 3, 4], ['or', 2, 7], ['other', 5, 6], ['our', 3, 16], ['ours', 4, 1], ['ourselves', 9, 3], ['out', 3, 4], ['outrage', 7, 1], ['owes', 4, 1], ['own', 3, 4], ['pain', 4, 1], ['pardon', 6, 1], ['parents', 7, 1], ['part', 4, 1], ['partial', 7, 1], ['passed', 6, 1], ['pate', 4, 1], ['patience', 8, 3], ['patient', 7, 1], ['paul', 4, 1], ['pay', 3, 2], ['penalty', 7, 1], ['penitent', 8, 1], ['perchance', 9, 1], ['perhaps', 7, 1], ['peruse', 6, 1], ['phoenix', 7, 2], ['pig', 3, 1], ['pinch', 5, 2], ['piteous', 7, 1], ['pity', 4, 2], ['place', 5, 2], ['plainings', 9, 1], ['plainly', 7, 1], ['play', 4, 1], ['plead', 5, 1], ['please', 6, 2], ['pleasing', 8, 1], ['poor', 4, 2], ['post', 4, 1], ['poston', 6, 1], ['practice', 8, 1], ['prating', 7, 1], ['pray', 4, 2], ['prays', 5, 1], ['preeminence', 11, 1], ['present', 7, 1], ['pretty', 6, 1], ['prey', 4, 1], ['princes', 7, 1], ['priory', 6, 1], ['prithee', 7, 1], ['proceed', 7, 1], ['procrastinate', 13, 1], ['procure', 7, 1], ['prolonged', 9, 1], ['prosperous', 10, 1], ['proud', 5, 1], ['prove', 5, 1], ['provide', 7, 1], ['provision', 9, 1], ['punishment', 10, 1], ['quest', 5, 2], ['quiet', 5, 1], ['quit', 4, 1], ['rancorous', 9, 1], ['random', 6, 1], ['ransom', 6, 1], ['rate', 4, 1], ['rather', 6, 1], ['rebecca', 7, 1], ['recalled', 8, 1], ['redeem', 6, 1], ['reft', 4, 2], ['relieve', 7, 1], ['reserve', 7, 1], ['retain', 6, 1], ['retained', 8, 1], ['return', 6, 2], ['returned', 8, 3], ['right', 5, 1], ['rigorous', 8, 1], ['roaming', 7, 1], ['rock', 4, 1], ['sad', 3, 1], ['saddler', 7, 2], ['safe', 4, 2], ['safety', 6, 1], ['sailed', 6, 1], ['sailors', 7, 1], ['sake', 4, 2], ['save', 4, 1], ['saw', 3, 1], ['say', 3, 6], ['scarce', 6, 2], ['scene', 5, 3], ['schoolmaster', 12, 1], ['sconce', 6, 1], ['scour', 5, 1], ['sea', 3, 1], ['seafaring', 9, 1], ['sealed', 6, 1], ['search', 6, 1], ['seas', 4, 2], ['second', 6, 1], ['seditious', 9, 1], ['see', 3, 3], ['seek', 4, 4], ['seeks', 5, 1], ['seeming', 7, 1], ['seems', 5, 1], ['seen', 4, 1], ['seized', 6, 1], ['selfsame', 8, 1], ['sense', 5, 1], ['sent', 4, 1], ['sentence', 8, 1], ['sequel', 6, 1], ['servant', 7, 3], ['servants', 8, 1], ['serve', 5, 1], ['servitude', 9, 1], ['set', 3, 1], ['severed', 7, 1], ['shakespeare', 11, 2], ['shall', 5, 2], ['she', 3, 7], ['ship', 4, 3], ['ships', 5, 2], ['shipwracked', 11, 1], ['should', 6, 5], ['shoulders', 9, 1], ['sight', 5, 1], ['since', 5, 1], ['sir', 3, 8], ['sister', 6, 3], ['sit', 3, 1], ['situate', 7, 1], ['six', 3, 1], ['sixpence', 8, 1], ['slave', 5, 2], ['sleep', 5, 1], ['slow', 4, 1], ['small', 5, 1], ['so', 2, 17], ['solemn', 6, 1], ['solinus', 7, 3], ['some', 4, 6], ['somewhere', 9, 1], ['sons', 4, 1], ['soon', 4, 4], ['sorcerers', 9, 1], ['sorrow', 6, 2], ['sorrowest', 9, 1], ['sought', 6, 1], ['soul', 4, 3], ['souls', 5, 1], ['spake', 5, 1], ['spare', 5, 1], ['speak', 5, 2], ['speed', 5, 1], ['spent', 5, 1], ['splitted', 8, 1], ['sportive', 8, 1], ['sprung', 6, 1], ['stands', 6, 1], ['start', 5, 1], ['statute', 7, 1], ['statutes', 8, 1], ['stay', 4, 1], ['stays', 5, 1], ['stiff', 5, 1], ['still', 5, 1], ['stomach', 7, 1], ['stop', 4, 1], ['stories', 7, 1], ['story', 5, 1], ['straight', 8, 1], ['strange', 7, 1], ['strangers', 9, 1], ['stream', 6, 1], ['strike', 6, 1], ['struck', 6, 1], ['strucken', 8, 1], ['subjects', 8, 1], ['substance', 9, 1], ['such', 4, 4], ['suchlike', 8, 1], ['sue', 3, 1], ['sum', 3, 1], ['summers', 7, 1], ['sun', 3, 2], ['sure', 4, 1], ['synods', 6, 1], ['syracusa', 8, 2], ['syracuse', 8, 19], ['syracusian', 10, 4], ['syracusians', 11, 1], ['take', 4, 4], ['taken', 5, 1], ['takes', 5, 1], ['tardy', 5, 1], ['task', 4, 1], ['tell', 4, 4], ['termed', 6, 1], ['than', 4, 4], ['that', 4, 35], ['the', 3, 101], ['thee', 4, 6], ['their', 5, 16], ['them', 4, 7], ['then', 4, 5], ['there', 5, 5], ['therefore', 9, 4], ['these', 5, 2], ['they', 4, 8], ['thine', 5, 1], ['thing', 5, 1], ['this', 4, 12], ['those', 5, 3], ['thou', 4, 18], ['though', 6, 4], ['thousand', 8, 3], ['three', 5, 1], ['through', 7, 1], ['thus', 4, 3], ['thy', 3, 7], ['till', 4, 9], ['time', 4, 2], ['timely', 6, 1], ['to', 2, 85], ['told', 4, 1], ['too', 3, 4], ['towards', 7, 1], ['town', 4, 4], ['traders', 7, 1], ['traffic', 7, 1], ['tragic', 6, 1], ['travel', 6, 1], ['traveler', 8, 1], ['travels', 7, 1], ['tricks', 6, 1], ['troubles', 8, 1], ['true', 4, 1], ['trust', 5, 2], ['trusty', 6, 1], ['try', 3, 1], ['twelve', 6, 1], ['twice', 5, 1], ['twins', 5, 2], ['two', 3, 6], ['under', 5, 2], ['understand', 10, 2], ['unhappy', 7, 1], ['unjust', 6, 1], ['unkind', 6, 1], ['unless', 6, 1], ['unseen', 6, 1], ['unsought', 8, 1], ['unto', 4, 5], ['unwilling', 9, 1], ['up', 2, 4], ['upon', 4, 11], ['urging', 6, 1], ['us', 2, 7], ['utter', 5, 1], ['valued', 6, 1], ['vapors', 6, 1], ['very', 4, 4], ['view', 4, 2], ['vile', 4, 1], ['villain', 7, 2], ['violently', 9, 1], ['voyages', 7, 1], ['walk', 4, 1], ['wander', 6, 1], ['wanting', 7, 1], ['warrant', 7, 2], ['was', 3, 16], ['water', 5, 1], ['waxed', 5, 1], ['we', 2, 15], ['wealth', 6, 1], ['weary', 5, 1], ['wed', 3, 1], ['wedded', 6, 1], ['wednesday', 9, 1], ['weeping', 7, 1], ['weepings', 8, 1], ['weight', 6, 2], ['welcome', 7, 1], ['well', 4, 3], ['wend', 4, 1], ['went', 4, 1], ['were', 4, 7], ['werstine', 8, 1], ['what', 4, 16], ['when', 4, 6], ['where', 5, 6], ['which', 5, 5], ['whilst', 6, 2], ['who', 3, 2], ['whom', 4, 8], ['why', 3, 4], ['wide', 4, 1], ['wife', 4, 7], ['wild', 4, 1], ['will', 4, 14], ['william', 7, 1], ['wilt', 4, 1], ['wind', 4, 2], ['winged', 6, 1], ['wished', 6, 1], ['witches', 7, 1], ['with', 4, 22], ['withal', 6, 1], ['within', 6, 2], ['without', 7, 1], ['witness', 7, 1], ['woe', 3, 1], ['woes', 4, 2], ['woman', 5, 2], ['women', 5, 1], ['word', 4, 1], ['words', 5, 1], ['world', 5, 3], ['worship', 7, 1], ['worthily', 8, 1], ['would', 5, 7], ['wretched', 8, 1], ['wrought', 7, 1], ['years', 5, 1], ['yet', 3, 6], ['you', 3, 32], ['youngest', 8, 1], ['your', 4, 24], ['yours', 5, 2]]\n"
     ]
    }
   ],
   "source": [
    "print(to_csv) # this is the list of lists which can be converted to csv or other file type"
   ]
  },
  {
   "cell_type": "markdown",
   "id": "5ca3b300",
   "metadata": {},
   "source": [
    "Save the information extracted above as a <code>.csv</code> file such that it appears like the following (just an example, not accurate to the file in question). The table is sorted with respect to the Word field.\n",
    "| Word      | Length | Frequency |\n",
    "| ----------- | ----------- |  ----------- |\n",
    "| adam      | 4       | 5 |\n",
    "|... | ... | ... |\n",
    "| where   | 5        | 16 |\n",
    "<br>\n",
    "\n",
    "The first row should be the column names"
   ]
  },
  {
   "cell_type": "code",
   "execution_count": 12,
   "id": "bc4d5ff8",
   "metadata": {
    "scrolled": true
   },
   "outputs": [],
   "source": [
    "# Now we are writing our to_csv list into a csv file with the headers as the column names\n",
    "import csv\n",
    "column_names = ['Word', 'Length', \"Frequency\"]\n",
    "# we open the file, it was non-existant initially, created during the first execution and edited for the following.\n",
    "with open(\"words.csv\",'w',newline = '') as freq_file:\n",
    "#we create an object of the csv.writer class named write_func and uses the delimiter as space, instead of the conventional comma\n",
    "    write_func = csv.writer(freq_file,delimiter = ' ')\n",
    "    #write_func = csv.writer(freq_file,delimiter = ',') #this will write the list separated by commas\n",
    "    write_func.writerow(column_names) #we use the writerow() method of the write_func object to add the headers. \n",
    "    #P.S.: This is outside the loop to make sure it does not repeat\n",
    "# Now we use a for loop to write line by line or here, list by list into the csv file\n",
    "    for element in to_csv:\n",
    "    #by giving three elements in each row, we make sure that the characteristics(word, length, and frequency) corresponding to \n",
    "    # each word is on a single line\n",
    "        word, length, frequency = element[0],element[1], element[2]\n",
    "        to_write = (word,length,frequency)\n",
    "        #we again uses the writerow method to enter each line\n",
    "        write_func.writerow(to_write)"
   ]
  },
  {
   "cell_type": "markdown",
   "id": "02fe28b5",
   "metadata": {},
   "source": [
    "Save the above information also as a list of dictionaries in a <code>.json</code> file. This list of dictionaries looks something like this<br>\n",
    "<code>[{'Word':'adam','Length':4,'Frequency':5}...{'Word':'where','Length':5,'Frequency':16}]</code>"
   ]
  },
  {
   "cell_type": "code",
   "execution_count": 13,
   "id": "72f70f3f",
   "metadata": {
    "scrolled": true
   },
   "outputs": [
    {
     "name": "stdout",
     "output_type": "stream",
     "text": [
      "[{'Word': '1', 'Length': 1, 'Frequency': 3}, {'Word': '2', 'Length': 1, 'Frequency': 2}, {'Word': 'a', 'Length': 1, 'Frequency': 34}, {'Word': 'abbess', 'Length': 6, 'Frequency': 1}, {'Word': 'able', 'Length': 4, 'Frequency': 1}, {'Word': 'about', 'Length': 5, 'Frequency': 1}, {'Word': 'absence', 'Length': 7, 'Frequency': 1}, {'Word': 'according', 'Length': 9, 'Frequency': 1}, {'Word': 'act', 'Length': 3, 'Frequency': 2}, {'Word': 'adjudged', 'Length': 8, 'Frequency': 1}, {'Word': 'admit', 'Length': 5, 'Frequency': 1}, {'Word': 'adriana', 'Length': 7, 'Frequency': 14}, {'Word': 'adverse', 'Length': 7, 'Frequency': 1}, {'Word': 'adversity', 'Length': 9, 'Frequency': 1}, {'Word': 'advocate', 'Length': 8, 'Frequency': 1}, {'Word': 'after', 'Length': 5, 'Frequency': 1}, {'Word': 'afterward', 'Length': 9, 'Frequency': 1}, {'Word': 'again', 'Length': 5, 'Frequency': 3}, {'Word': 'against', 'Length': 7, 'Frequency': 2}, {'Word': 'alas', 'Length': 4, 'Frequency': 1}, {'Word': 'alike', 'Length': 5, 'Frequency': 1}, {'Word': 'all', 'Length': 3, 'Frequency': 5}, {'Word': 'almanac', 'Length': 7, 'Frequency': 1}, {'Word': 'am', 'Length': 2, 'Frequency': 8}, {'Word': 'amain', 'Length': 5, 'Frequency': 1}, {'Word': 'amount', 'Length': 6, 'Frequency': 1}, {'Word': 'an', 'Length': 2, 'Frequency': 5}, {'Word': 'and', 'Length': 3, 'Frequency': 75}, {'Word': 'angelo', 'Length': 6, 'Frequency': 2}, {'Word': 'another', 'Length': 7, 'Frequency': 2}, {'Word': 'answer', 'Length': 6, 'Frequency': 1}, {'Word': 'antipholus', 'Length': 10, 'Frequency': 22}, {'Word': 'any', 'Length': 3, 'Frequency': 4}, {'Word': 'apprehended', 'Length': 11, 'Frequency': 1}, {'Word': 'approached', 'Length': 10, 'Frequency': 1}, {'Word': 'are', 'Length': 3, 'Frequency': 6}, {'Word': 'arrival', 'Length': 7, 'Frequency': 1}, {'Word': 'arrived', 'Length': 7, 'Frequency': 1}, {'Word': 'art', 'Length': 3, 'Frequency': 4}, {'Word': 'as', 'Length': 2, 'Frequency': 11}, {'Word': 'asia', 'Length': 4, 'Frequency': 1}, {'Word': 'asses', 'Length': 5, 'Frequency': 1}, {'Word': 'at', 'Length': 2, 'Frequency': 18}, {'Word': 'attend', 'Length': 6, 'Frequency': 2}, {'Word': 'attendants', 'Length': 10, 'Frequency': 1}, {'Word': 'ay', 'Length': 2, 'Frequency': 2}, {'Word': 'babes', 'Length': 5, 'Frequency': 1}, {'Word': 'balthasar', 'Length': 9, 'Frequency': 1}, {'Word': 'barbara', 'Length': 7, 'Frequency': 1}, {'Word': 'bark', 'Length': 4, 'Frequency': 1}, {'Word': 'bay', 'Length': 3, 'Frequency': 1}, {'Word': 'be', 'Length': 2, 'Frequency': 15}, {'Word': 'bear', 'Length': 4, 'Frequency': 5}, {'Word': 'beasts', 'Length': 6, 'Frequency': 1}, {'Word': 'became', 'Length': 6, 'Frequency': 2}, {'Word': 'because', 'Length': 7, 'Frequency': 4}, {'Word': 'been', 'Length': 4, 'Frequency': 6}, {'Word': 'before', 'Length': 6, 'Frequency': 4}, {'Word': 'beg', 'Length': 3, 'Frequency': 1}, {'Word': 'being', 'Length': 5, 'Frequency': 4}, {'Word': 'bend', 'Length': 4, 'Frequency': 1}, {'Word': 'beneficial', 'Length': 10, 'Frequency': 1}, {'Word': 'benefit', 'Length': 7, 'Frequency': 1}, {'Word': 'bereft', 'Length': 6, 'Frequency': 1}, {'Word': 'beshrew', 'Length': 7, 'Frequency': 1}, {'Word': 'bestowed', 'Length': 8, 'Frequency': 1}, {'Word': 'betrothed', 'Length': 9, 'Frequency': 1}, {'Word': 'between', 'Length': 7, 'Frequency': 1}, {'Word': 'bid', 'Length': 3, 'Frequency': 1}, {'Word': 'bliss', 'Length': 5, 'Frequency': 1}, {'Word': 'bloods', 'Length': 6, 'Frequency': 1}, {'Word': 'blows', 'Length': 5, 'Frequency': 1}, {'Word': 'boat', 'Length': 4, 'Frequency': 1}, {'Word': 'body', 'Length': 4, 'Frequency': 1}, {'Word': 'born', 'Length': 4, 'Frequency': 3}, {'Word': 'borne', 'Length': 5, 'Frequency': 1}, {'Word': 'borrow', 'Length': 6, 'Frequency': 1}, {'Word': 'both', 'Length': 4, 'Frequency': 3}, {'Word': 'bought', 'Length': 6, 'Frequency': 1}, {'Word': 'bound', 'Length': 5, 'Frequency': 2}, {'Word': 'bounds', 'Length': 6, 'Frequency': 1}, {'Word': 'boy', 'Length': 3, 'Frequency': 1}, {'Word': 'boys', 'Length': 4, 'Frequency': 1}, {'Word': 'break', 'Length': 5, 'Frequency': 2}, {'Word': 'bridle', 'Length': 6, 'Frequency': 1}, {'Word': 'bridled', 'Length': 7, 'Frequency': 1}, {'Word': 'brief', 'Length': 5, 'Frequency': 1}, {'Word': 'broke', 'Length': 5, 'Frequency': 1}, {'Word': 'brother', 'Length': 7, 'Frequency': 4}, {'Word': 'brought', 'Length': 7, 'Frequency': 1}, {'Word': 'bruised', 'Length': 7, 'Frequency': 1}, {'Word': 'buildings', 'Length': 9, 'Frequency': 1}, {'Word': 'burden', 'Length': 6, 'Frequency': 1}, {'Word': 'burdened', 'Length': 8, 'Frequency': 2}, {'Word': 'business', 'Length': 8, 'Frequency': 2}, {'Word': 'but', 'Length': 3, 'Frequency': 23}, {'Word': 'buy', 'Length': 3, 'Frequency': 1}, {'Word': 'by', 'Length': 2, 'Frequency': 20}, {'Word': 'called', 'Length': 6, 'Frequency': 3}, {'Word': 'calls', 'Length': 5, 'Frequency': 1}, {'Word': 'calm', 'Length': 4, 'Frequency': 1}, {'Word': 'came', 'Length': 4, 'Frequency': 2}, {'Word': 'can', 'Length': 3, 'Frequency': 2}, {'Word': 'cannot', 'Length': 6, 'Frequency': 2}, {'Word': 'capon', 'Length': 5, 'Frequency': 1}, {'Word': 'care', 'Length': 4, 'Frequency': 5}, {'Word': 'careful', 'Length': 7, 'Frequency': 1}, {'Word': 'carried', 'Length': 7, 'Frequency': 2}, {'Word': 'case', 'Length': 4, 'Frequency': 1}, {'Word': 'cause', 'Length': 5, 'Frequency': 2}, {'Word': 'centaur', 'Length': 7, 'Frequency': 2}, {'Word': 'certain', 'Length': 7, 'Frequency': 1}, {'Word': 'chance', 'Length': 6, 'Frequency': 1}, {'Word': 'change', 'Length': 6, 'Frequency': 1}, {'Word': 'characters', 'Length': 10, 'Frequency': 1}, {'Word': 'charge', 'Length': 6, 'Frequency': 3}, {'Word': 'cheaters', 'Length': 8, 'Frequency': 1}, {'Word': 'children', 'Length': 8, 'Frequency': 1}, {'Word': 'christian', 'Length': 9, 'Frequency': 1}, {'Word': 'citizen', 'Length': 7, 'Frequency': 3}, {'Word': 'clean', 'Length': 5, 'Frequency': 1}, {'Word': 'clock', 'Length': 5, 'Frequency': 2}, {'Word': 'coasting', 'Length': 8, 'Frequency': 1}, {'Word': 'cold', 'Length': 4, 'Frequency': 1}, {'Word': 'come', 'Length': 4, 'Frequency': 11}, {'Word': 'comedy', 'Length': 6, 'Frequency': 1}, {'Word': 'comes', 'Length': 5, 'Frequency': 2}, {'Word': 'coming', 'Length': 6, 'Frequency': 1}, {'Word': 'commend', 'Length': 7, 'Frequency': 1}, {'Word': 'commends', 'Length': 8, 'Frequency': 2}, {'Word': 'company', 'Length': 7, 'Frequency': 1}, {'Word': 'condemned', 'Length': 9, 'Frequency': 1}, {'Word': 'confiscate', 'Length': 10, 'Frequency': 1}, {'Word': 'confounds', 'Length': 9, 'Frequency': 1}, {'Word': 'consort', 'Length': 7, 'Frequency': 1}, {'Word': 'content', 'Length': 7, 'Frequency': 1}, {'Word': 'convey', 'Length': 6, 'Frequency': 1}, {'Word': 'corinth', 'Length': 7, 'Frequency': 3}, {'Word': 'could', 'Length': 5, 'Frequency': 7}, {'Word': 'couldst', 'Length': 7, 'Frequency': 1}, {'Word': 'countrymen', 'Length': 10, 'Frequency': 2}, {'Word': 'courtesan', 'Length': 9, 'Frequency': 1}, {'Word': 'cozenage', 'Length': 8, 'Frequency': 1}, {'Word': 'crave', 'Length': 5, 'Frequency': 1}, {'Word': 'crown', 'Length': 5, 'Frequency': 1}, {'Word': 'cry', 'Length': 3, 'Frequency': 1}, {'Word': 'daily', 'Length': 5, 'Frequency': 1}, {'Word': 'dally', 'Length': 5, 'Frequency': 1}, {'Word': 'day', 'Length': 3, 'Frequency': 3}, {'Word': 'death', 'Length': 5, 'Frequency': 5}, {'Word': 'deceive', 'Length': 7, 'Frequency': 1}, {'Word': 'decreed', 'Length': 7, 'Frequency': 1}, {'Word': 'deep', 'Length': 4, 'Frequency': 1}, {'Word': 'default', 'Length': 7, 'Frequency': 1}, {'Word': 'deform', 'Length': 6, 'Frequency': 1}, {'Word': 'delays', 'Length': 6, 'Frequency': 1}, {'Word': 'delight', 'Length': 7, 'Frequency': 1}, {'Word': 'delivered', 'Length': 9, 'Frequency': 1}, {'Word': 'departedst', 'Length': 10, 'Frequency': 1}, {'Word': 'device', 'Length': 6, 'Frequency': 1}, {'Word': 'did', 'Length': 3, 'Frequency': 4}, {'Word': 'didst', 'Length': 5, 'Frequency': 1}, {'Word': 'dies', 'Length': 4, 'Frequency': 2}, {'Word': 'dignity', 'Length': 7, 'Frequency': 1}, {'Word': 'dilate', 'Length': 6, 'Frequency': 1}, {'Word': 'dine', 'Length': 4, 'Frequency': 2}, {'Word': 'dinner', 'Length': 6, 'Frequency': 3}, {'Word': 'dire', 'Length': 4, 'Frequency': 1}, {'Word': 'disannul', 'Length': 8, 'Frequency': 1}, {'Word': 'discord', 'Length': 7, 'Frequency': 1}, {'Word': 'discovered', 'Length': 10, 'Frequency': 1}, {'Word': 'disguised', 'Length': 9, 'Frequency': 1}, {'Word': 'disparagement', 'Length': 13, 'Frequency': 1}, {'Word': 'dispersed', 'Length': 9, 'Frequency': 1}, {'Word': 'dispose', 'Length': 7, 'Frequency': 1}, {'Word': 'disposed', 'Length': 8, 'Frequency': 2}, {'Word': 'distinguished', 'Length': 13, 'Frequency': 1}, {'Word': 'divine', 'Length': 6, 'Frequency': 1}, {'Word': 'divorce', 'Length': 7, 'Frequency': 1}, {'Word': 'do', 'Length': 2, 'Frequency': 2}, {'Word': 'done', 'Length': 4, 'Frequency': 3}, {'Word': 'doom', 'Length': 4, 'Frequency': 1}, {'Word': 'doomed', 'Length': 6, 'Frequency': 1}, {'Word': 'doth', 'Length': 4, 'Frequency': 2}, {'Word': 'doubtful', 'Length': 8, 'Frequency': 1}, {'Word': 'doubtfully', 'Length': 10, 'Frequency': 2}, {'Word': 'down', 'Length': 4, 'Frequency': 1}, {'Word': 'drew', 'Length': 4, 'Frequency': 1}, {'Word': 'dromio', 'Length': 6, 'Frequency': 20}, {'Word': 'drop', 'Length': 4, 'Frequency': 2}, {'Word': 'duke', 'Length': 4, 'Frequency': 8}, {'Word': 'dull', 'Length': 4, 'Frequency': 1}, {'Word': 'ears', 'Length': 4, 'Frequency': 1}, {'Word': 'earth', 'Length': 5, 'Frequency': 2}, {'Word': 'edited', 'Length': 6, 'Frequency': 1}, {'Word': 'egeon', 'Length': 5, 'Frequency': 10}, {'Word': 'eighteen', 'Length': 8, 'Frequency': 1}, {'Word': 'either', 'Length': 6, 'Frequency': 1}, {'Word': 'eldest', 'Length': 6, 'Frequency': 1}, {'Word': 'embraced', 'Length': 8, 'Frequency': 1}, {'Word': 'embracements', 'Length': 12, 'Frequency': 1}, {'Word': 'encountered', 'Length': 11, 'Frequency': 1}, {'Word': 'end', 'Length': 3, 'Frequency': 5}, {'Word': 'endued', 'Length': 6, 'Frequency': 1}, {'Word': 'engaged', 'Length': 7, 'Frequency': 1}, {'Word': 'enmity', 'Length': 6, 'Frequency': 1}, {'Word': 'ephesian', 'Length': 8, 'Frequency': 3}, {'Word': 'ephesus', 'Length': 7, 'Frequency': 28}, {'Word': 'epidamium', 'Length': 9, 'Frequency': 3}, {'Word': 'epidaurus', 'Length': 9, 'Frequency': 1}, {'Word': 'ere', 'Length': 3, 'Frequency': 4}, {'Word': 'errors', 'Length': 6, 'Frequency': 1}, {'Word': 'evening', 'Length': 7, 'Frequency': 1}, {'Word': 'exceeding', 'Length': 9, 'Frequency': 1}, {'Word': 'excludes', 'Length': 8, 'Frequency': 1}, {'Word': 'exorcist', 'Length': 8, 'Frequency': 1}, {'Word': 'extremity', 'Length': 9, 'Frequency': 1}, {'Word': 'eye', 'Length': 3, 'Frequency': 2}, {'Word': 'eyes', 'Length': 4, 'Frequency': 1}, {'Word': 'face', 'Length': 4, 'Frequency': 1}, {'Word': 'fainting', 'Length': 8, 'Frequency': 1}, {'Word': 'fall', 'Length': 4, 'Frequency': 1}, {'Word': 'falling', 'Length': 7, 'Frequency': 1}, {'Word': 'falls', 'Length': 5, 'Frequency': 1}, {'Word': 'far', 'Length': 3, 'Frequency': 1}, {'Word': 'farewell', 'Length': 8, 'Frequency': 1}, {'Word': 'farthest', 'Length': 8, 'Frequency': 1}, {'Word': 'fashion', 'Length': 7, 'Frequency': 1}, {'Word': 'fast', 'Length': 4, 'Frequency': 2}, {'Word': 'fastened', 'Length': 8, 'Frequency': 2}, {'Word': 'fates', 'Length': 5, 'Frequency': 1}, {'Word': 'fault', 'Length': 5, 'Frequency': 1}, {'Word': 'favor', 'Length': 5, 'Frequency': 2}, {'Word': 'fear', 'Length': 4, 'Frequency': 2}, {'Word': 'fearful', 'Length': 7, 'Frequency': 1}, {'Word': 'feel', 'Length': 4, 'Frequency': 2}, {'Word': 'fellow', 'Length': 6, 'Frequency': 1}, {'Word': 'females', 'Length': 7, 'Frequency': 1}, {'Word': 'fetch', 'Length': 5, 'Frequency': 1}, {'Word': 'find', 'Length': 4, 'Frequency': 3}, {'Word': 'first', 'Length': 5, 'Frequency': 5}, {'Word': 'fish', 'Length': 4, 'Frequency': 1}, {'Word': 'fishermen', 'Length': 9, 'Frequency': 1}, {'Word': 'fishers', 'Length': 7, 'Frequency': 1}, {'Word': 'fishes', 'Length': 6, 'Frequency': 1}, {'Word': 'five', 'Length': 4, 'Frequency': 3}, {'Word': 'fixed', 'Length': 5, 'Frequency': 1}, {'Word': 'fixing', 'Length': 6, 'Frequency': 1}, {'Word': 'floating', 'Length': 8, 'Frequency': 1}, {'Word': 'flout', 'Length': 5, 'Frequency': 1}, {'Word': 'folger', 'Length': 6, 'Frequency': 1}, {'Word': 'following', 'Length': 9, 'Frequency': 1}, {'Word': 'foolishness', 'Length': 11, 'Frequency': 1}, {'Word': 'for', 'Length': 3, 'Frequency': 26}, {'Word': 'forced', 'Length': 6, 'Frequency': 1}, {'Word': 'forth', 'Length': 5, 'Frequency': 1}, {'Word': 'fortune', 'Length': 7, 'Frequency': 1}, {'Word': 'forward', 'Length': 7, 'Frequency': 1}, {'Word': 'fowls', 'Length': 5, 'Frequency': 2}, {'Word': 'friends', 'Length': 7, 'Frequency': 1}, {'Word': 'from', 'Length': 4, 'Frequency': 15}, {'Word': 'full', 'Length': 4, 'Frequency': 2}, {'Word': 'gather', 'Length': 6, 'Frequency': 1}, {'Word': 'gave', 'Length': 4, 'Frequency': 5}, {'Word': 'gaze', 'Length': 4, 'Frequency': 1}, {'Word': 'gazing', 'Length': 6, 'Frequency': 1}, {'Word': 'get', 'Length': 3, 'Frequency': 1}, {'Word': 'give', 'Length': 4, 'Frequency': 1}, {'Word': 'gives', 'Length': 5, 'Frequency': 2}, {'Word': 'gladly', 'Length': 6, 'Frequency': 1}, {'Word': 'go', 'Length': 2, 'Frequency': 6}, {'Word': 'gods', 'Length': 4, 'Frequency': 1}, {'Word': 'gold', 'Length': 4, 'Frequency': 2}, {'Word': 'goldsmith', 'Length': 9, 'Frequency': 1}, {'Word': 'gone', 'Length': 4, 'Frequency': 2}, {'Word': 'good', 'Length': 4, 'Frequency': 2}, {'Word': 'goodly', 'Length': 6, 'Frequency': 1}, {'Word': 'goods', 'Length': 5, 'Frequency': 3}, {'Word': 'grant', 'Length': 5, 'Frequency': 1}, {'Word': 'great', 'Length': 5, 'Frequency': 4}, {'Word': 'greatly', 'Length': 7, 'Frequency': 1}, {'Word': 'greece', 'Length': 6, 'Frequency': 1}, {'Word': 'griefs', 'Length': 6, 'Frequency': 1}, {'Word': 'grieve', 'Length': 6, 'Frequency': 1}, {'Word': 'guests', 'Length': 6, 'Frequency': 1}, {'Word': 'guilders', 'Length': 8, 'Frequency': 1}, {'Word': 'had', 'Length': 3, 'Frequency': 14}, {'Word': 'hadst', 'Length': 5, 'Frequency': 1}, {'Word': 'hand', 'Length': 4, 'Frequency': 1}, {'Word': 'hands', 'Length': 5, 'Frequency': 1}, {'Word': 'hap', 'Length': 3, 'Frequency': 2}, {'Word': 'hapless', 'Length': 7, 'Frequency': 1}, {'Word': 'happy', 'Length': 5, 'Frequency': 2}, {'Word': 'harbors', 'Length': 7, 'Frequency': 1}, {'Word': 'hast', 'Length': 4, 'Frequency': 4}, {'Word': 'haste', 'Length': 5, 'Frequency': 1}, {'Word': 'hath', 'Length': 4, 'Frequency': 5}, {'Word': 'have', 'Length': 4, 'Frequency': 15}, {'Word': 'having', 'Length': 6, 'Frequency': 2}, {'Word': 'hazarded', 'Length': 8, 'Frequency': 1}, {'Word': 'he', 'Length': 2, 'Frequency': 10}, {'Word': 'head', 'Length': 4, 'Frequency': 1}, {'Word': 'headsman', 'Length': 8, 'Frequency': 1}, {'Word': 'headstrong', 'Length': 10, 'Frequency': 1}, {'Word': 'healthful', 'Length': 9, 'Frequency': 1}, {'Word': 'hear', 'Length': 4, 'Frequency': 1}, {'Word': 'heard', 'Length': 5, 'Frequency': 1}, {'Word': 'heavens', 'Length': 7, 'Frequency': 1}, {'Word': 'heavier', 'Length': 7, 'Frequency': 1}, {'Word': 'heedful', 'Length': 7, 'Frequency': 1}, {'Word': 'helpful', 'Length': 7, 'Frequency': 1}, {'Word': 'helpless', 'Length': 8, 'Frequency': 2}, {'Word': 'her', 'Length': 3, 'Frequency': 5}, {'Word': 'here', 'Length': 4, 'Frequency': 5}, {'Word': 'hie', 'Length': 3, 'Frequency': 1}, {'Word': 'highest', 'Length': 7, 'Frequency': 1}, {'Word': 'him', 'Length': 3, 'Frequency': 7}, {'Word': 'his', 'Length': 3, 'Frequency': 23}, {'Word': 'hold', 'Length': 4, 'Frequency': 1}, {'Word': 'home', 'Length': 4, 'Frequency': 8}, {'Word': 'homeward', 'Length': 8, 'Frequency': 2}, {'Word': 'hope', 'Length': 4, 'Frequency': 2}, {'Word': 'hopeless', 'Length': 8, 'Frequency': 2}, {'Word': 'host', 'Length': 4, 'Frequency': 1}, {'Word': 'hostess', 'Length': 7, 'Frequency': 1}, {'Word': 'hot', 'Length': 3, 'Frequency': 1}, {'Word': 'hour', 'Length': 4, 'Frequency': 3}, {'Word': 'house', 'Length': 5, 'Frequency': 1}, {'Word': 'how', 'Length': 3, 'Frequency': 4}, {'Word': 'humor', 'Length': 5, 'Frequency': 2}, {'Word': 'hundred', 'Length': 7, 'Frequency': 1}, {'Word': 'husband', 'Length': 7, 'Frequency': 3}, {'Word': 'i', 'Length': 1, 'Frequency': 57}, {'Word': 'if', 'Length': 2, 'Frequency': 9}, {'Word': 'ignorant', 'Length': 8, 'Frequency': 1}, {'Word': 'immediate', 'Length': 9, 'Frequency': 1}, {'Word': 'importuned', 'Length': 10, 'Frequency': 1}, {'Word': 'imposed', 'Length': 7, 'Frequency': 1}, {'Word': 'in', 'Length': 2, 'Frequency': 30}, {'Word': 'incessant', 'Length': 9, 'Frequency': 1}, {'Word': 'increased', 'Length': 9, 'Frequency': 1}, {'Word': 'indeed', 'Length': 6, 'Frequency': 2}, {'Word': 'infringe', 'Length': 8, 'Frequency': 1}, {'Word': 'inn', 'Length': 3, 'Frequency': 3}, {'Word': 'inquisitive', 'Length': 11, 'Frequency': 2}, {'Word': 'instance', 'Length': 8, 'Frequency': 1}, {'Word': 'intellectual', 'Length': 12, 'Frequency': 1}, {'Word': 'intestine', 'Length': 9, 'Frequency': 1}, {'Word': 'invited', 'Length': 7, 'Frequency': 3}, {'Word': 'is', 'Length': 2, 'Frequency': 19}, {'Word': 'it', 'Length': 2, 'Frequency': 14}, {'Word': 'jailer', 'Length': 6, 'Frequency': 3}, {'Word': 'jars', 'Length': 4, 'Frequency': 1}, {'Word': 'jest', 'Length': 4, 'Frequency': 1}, {'Word': 'jests', 'Length': 5, 'Frequency': 1}, {'Word': 'joyful', 'Length': 6, 'Frequency': 1}, {'Word': 'jugglers', 'Length': 8, 'Frequency': 1}, {'Word': 'keep', 'Length': 4, 'Frequency': 1}, {'Word': 'kept', 'Length': 4, 'Frequency': 1}, {'Word': 'kind', 'Length': 4, 'Frequency': 1}, {'Word': 'kitchen', 'Length': 7, 'Frequency': 1}, {'Word': 'knave', 'Length': 5, 'Frequency': 1}, {'Word': 'know', 'Length': 4, 'Frequency': 2}, {'Word': 'knowing', 'Length': 7, 'Frequency': 1}, {'Word': 'labored', 'Length': 7, 'Frequency': 1}, {'Word': 'lady', 'Length': 4, 'Frequency': 1}, {'Word': 'lashed', 'Length': 6, 'Frequency': 1}, {'Word': 'last', 'Length': 4, 'Frequency': 1}, {'Word': 'late', 'Length': 4, 'Frequency': 1}, {'Word': 'law', 'Length': 3, 'Frequency': 2}, {'Word': 'laws', 'Length': 4, 'Frequency': 1}, {'Word': 'league', 'Length': 6, 'Frequency': 1}, {'Word': 'leagues', 'Length': 7, 'Frequency': 1}, {'Word': 'learn', 'Length': 5, 'Frequency': 1}, {'Word': 'leave', 'Length': 5, 'Frequency': 1}, {'Word': 'left', 'Length': 4, 'Frequency': 4}, {'Word': 'length', 'Length': 6, 'Frequency': 2}, {'Word': 'lesser', 'Length': 6, 'Frequency': 2}, {'Word': 'lest', 'Length': 4, 'Frequency': 1}, {'Word': 'let', 'Length': 3, 'Frequency': 3}, {'Word': 'levied', 'Length': 6, 'Frequency': 1}, {'Word': 'liberties', 'Length': 9, 'Frequency': 1}, {'Word': 'liberty', 'Length': 7, 'Frequency': 2}, {'Word': 'library', 'Length': 7, 'Frequency': 1}, {'Word': 'lies', 'Length': 4, 'Frequency': 1}, {'Word': 'life', 'Length': 4, 'Frequency': 4}, {'Word': 'lifeless', 'Length': 8, 'Frequency': 1}, {'Word': 'light', 'Length': 5, 'Frequency': 2}, {'Word': 'lightens', 'Length': 8, 'Frequency': 1}, {'Word': 'like', 'Length': 4, 'Frequency': 7}, {'Word': 'likewise', 'Length': 8, 'Frequency': 1}, {'Word': 'limit', 'Length': 5, 'Frequency': 1}, {'Word': 'live', 'Length': 4, 'Frequency': 1}, {'Word': 'lived', 'Length': 5, 'Frequency': 1}, {'Word': 'lives', 'Length': 5, 'Frequency': 1}, {'Word': 'loath', 'Length': 5, 'Frequency': 1}, {'Word': 'long', 'Length': 4, 'Frequency': 2}, {'Word': 'longer', 'Length': 6, 'Frequency': 1}, {'Word': 'look', 'Length': 4, 'Frequency': 1}, {'Word': 'lord', 'Length': 4, 'Frequency': 1}, {'Word': 'lose', 'Length': 4, 'Frequency': 2}, {'Word': 'loss', 'Length': 4, 'Frequency': 1}, {'Word': 'love', 'Length': 4, 'Frequency': 2}, {'Word': 'luce', 'Length': 4, 'Frequency': 1}, {'Word': 'luciana', 'Length': 7, 'Frequency': 12}, {'Word': 'made', 'Length': 4, 'Frequency': 4}, {'Word': 'maid', 'Length': 4, 'Frequency': 1}, {'Word': 'make', 'Length': 4, 'Frequency': 2}, {'Word': 'makes', 'Length': 5, 'Frequency': 1}, {'Word': 'making', 'Length': 6, 'Frequency': 1}, {'Word': 'male', 'Length': 4, 'Frequency': 1}, {'Word': 'man', 'Length': 3, 'Frequency': 3}, {'Word': 'manners', 'Length': 7, 'Frequency': 1}, {'Word': 'many', 'Length': 4, 'Frequency': 2}, {'Word': 'marked', 'Length': 6, 'Frequency': 1}, {'Word': 'marks', 'Length': 5, 'Frequency': 5}, {'Word': 'marriage', 'Length': 8, 'Frequency': 1}, {'Word': 'marry', 'Length': 5, 'Frequency': 1}, {'Word': 'mart', 'Length': 4, 'Frequency': 3}, {'Word': 'marts', 'Length': 5, 'Frequency': 1}, {'Word': 'marvel', 'Length': 6, 'Frequency': 1}, {'Word': 'mast', 'Length': 4, 'Frequency': 2}, {'Word': 'master', 'Length': 6, 'Frequency': 4}, {'Word': 'masters', 'Length': 7, 'Frequency': 1}, {'Word': 'mate', 'Length': 4, 'Frequency': 1}, {'Word': 'maw', 'Length': 3, 'Frequency': 1}, {'Word': 'may', 'Length': 3, 'Frequency': 4}, {'Word': 'me', 'Length': 2, 'Frequency': 23}, {'Word': 'mean', 'Length': 4, 'Frequency': 2}, {'Word': 'meanly', 'Length': 6, 'Frequency': 1}, {'Word': 'means', 'Length': 5, 'Frequency': 1}, {'Word': 'meat', 'Length': 4, 'Frequency': 2}, {'Word': 'meek', 'Length': 4, 'Frequency': 1}, {'Word': 'meet', 'Length': 4, 'Frequency': 2}, {'Word': 'melancholy', 'Length': 10, 'Frequency': 1}, {'Word': 'men', 'Length': 3, 'Frequency': 1}, {'Word': 'merchant', 'Length': 8, 'Frequency': 13}, {'Word': 'merchants', 'Length': 9, 'Frequency': 2}, {'Word': 'merciless', 'Length': 9, 'Frequency': 1}, {'Word': 'merrier', 'Length': 7, 'Frequency': 1}, {'Word': 'merry', 'Length': 5, 'Frequency': 2}, {'Word': 'messenger', 'Length': 9, 'Frequency': 1}, {'Word': 'methinks', 'Length': 8, 'Frequency': 1}, {'Word': 'michael', 'Length': 7, 'Frequency': 1}, {'Word': 'might', 'Length': 5, 'Frequency': 1}, {'Word': 'mighty', 'Length': 6, 'Frequency': 1}, {'Word': 'mind', 'Length': 4, 'Frequency': 2}, {'Word': 'minds', 'Length': 5, 'Frequency': 1}, {'Word': 'mine', 'Length': 4, 'Frequency': 4}, {'Word': 'misfortunes', 'Length': 11, 'Frequency': 1}, {'Word': 'mishap', 'Length': 6, 'Frequency': 1}, {'Word': 'mistress', 'Length': 8, 'Frequency': 5}, {'Word': 'money', 'Length': 5, 'Frequency': 6}, {'Word': 'months', 'Length': 6, 'Frequency': 1}, {'Word': 'more', 'Length': 4, 'Frequency': 6}, {'Word': 'mortal', 'Length': 6, 'Frequency': 1}, {'Word': 'mother', 'Length': 6, 'Frequency': 3}, {'Word': 'motions', 'Length': 7, 'Frequency': 1}, {'Word': 'mountebanks', 'Length': 11, 'Frequency': 1}, {'Word': 'mourned', 'Length': 7, 'Frequency': 1}, {'Word': 'mowat', 'Length': 5, 'Frequency': 1}, {'Word': 'much', 'Length': 4, 'Frequency': 3}, {'Word': 'must', 'Length': 4, 'Frequency': 2}, {'Word': 'my', 'Length': 2, 'Frequency': 50}, {'Word': 'myself', 'Length': 6, 'Frequency': 2}, {'Word': 'native', 'Length': 6, 'Frequency': 1}, {'Word': 'nature', 'Length': 6, 'Frequency': 1}, {'Word': 'nay', 'Length': 3, 'Frequency': 5}, {'Word': 'neither', 'Length': 7, 'Frequency': 1}, {'Word': 'never', 'Length': 5, 'Frequency': 1}, {'Word': 'niles', 'Length': 5, 'Frequency': 1}, {'Word': 'nimble', 'Length': 6, 'Frequency': 1}, {'Word': 'no', 'Length': 2, 'Frequency': 10}, {'Word': 'none', 'Length': 4, 'Frequency': 1}, {'Word': 'nor', 'Length': 3, 'Frequency': 1}, {'Word': 'not', 'Length': 3, 'Frequency': 27}, {'Word': 'nothing', 'Length': 7, 'Frequency': 1}, {'Word': 'now', 'Length': 3, 'Frequency': 5}, {'Word': 'o', 'Length': 1, 'Frequency': 3}, {'Word': 'oath', 'Length': 4, 'Frequency': 1}, {'Word': 'obedient', 'Length': 8, 'Frequency': 1}, {'Word': 'obscured', 'Length': 8, 'Frequency': 1}, {'Word': 'ocean', 'Length': 5, 'Frequency': 1}, {'Word': 'of', 'Length': 2, 'Frequency': 108}, {'Word': 'off', 'Length': 3, 'Frequency': 1}, {'Word': 'offended', 'Length': 8, 'Frequency': 1}, {'Word': 'offense', 'Length': 7, 'Frequency': 1}, {'Word': 'officer', 'Length': 7, 'Frequency': 2}, {'Word': 'officers', 'Length': 8, 'Frequency': 1}, {'Word': 'oft', 'Length': 3, 'Frequency': 1}, {'Word': 'often', 'Length': 5, 'Frequency': 1}, {'Word': 'old', 'Length': 3, 'Frequency': 2}, {'Word': 'on', 'Length': 2, 'Frequency': 5}, {'Word': 'one', 'Length': 3, 'Frequency': 4}, {'Word': 'or', 'Length': 2, 'Frequency': 7}, {'Word': 'other', 'Length': 5, 'Frequency': 6}, {'Word': 'our', 'Length': 3, 'Frequency': 16}, {'Word': 'ours', 'Length': 4, 'Frequency': 1}, {'Word': 'ourselves', 'Length': 9, 'Frequency': 3}, {'Word': 'out', 'Length': 3, 'Frequency': 4}, {'Word': 'outrage', 'Length': 7, 'Frequency': 1}, {'Word': 'owes', 'Length': 4, 'Frequency': 1}, {'Word': 'own', 'Length': 3, 'Frequency': 4}, {'Word': 'pain', 'Length': 4, 'Frequency': 1}, {'Word': 'pardon', 'Length': 6, 'Frequency': 1}, {'Word': 'parents', 'Length': 7, 'Frequency': 1}, {'Word': 'part', 'Length': 4, 'Frequency': 1}, {'Word': 'partial', 'Length': 7, 'Frequency': 1}, {'Word': 'passed', 'Length': 6, 'Frequency': 1}, {'Word': 'pate', 'Length': 4, 'Frequency': 1}, {'Word': 'patience', 'Length': 8, 'Frequency': 3}, {'Word': 'patient', 'Length': 7, 'Frequency': 1}, {'Word': 'paul', 'Length': 4, 'Frequency': 1}, {'Word': 'pay', 'Length': 3, 'Frequency': 2}, {'Word': 'penalty', 'Length': 7, 'Frequency': 1}, {'Word': 'penitent', 'Length': 8, 'Frequency': 1}, {'Word': 'perchance', 'Length': 9, 'Frequency': 1}, {'Word': 'perhaps', 'Length': 7, 'Frequency': 1}, {'Word': 'peruse', 'Length': 6, 'Frequency': 1}, {'Word': 'phoenix', 'Length': 7, 'Frequency': 2}, {'Word': 'pig', 'Length': 3, 'Frequency': 1}, {'Word': 'pinch', 'Length': 5, 'Frequency': 2}, {'Word': 'piteous', 'Length': 7, 'Frequency': 1}, {'Word': 'pity', 'Length': 4, 'Frequency': 2}, {'Word': 'place', 'Length': 5, 'Frequency': 2}, {'Word': 'plainings', 'Length': 9, 'Frequency': 1}, {'Word': 'plainly', 'Length': 7, 'Frequency': 1}, {'Word': 'play', 'Length': 4, 'Frequency': 1}, {'Word': 'plead', 'Length': 5, 'Frequency': 1}, {'Word': 'please', 'Length': 6, 'Frequency': 2}, {'Word': 'pleasing', 'Length': 8, 'Frequency': 1}, {'Word': 'poor', 'Length': 4, 'Frequency': 2}, {'Word': 'post', 'Length': 4, 'Frequency': 1}, {'Word': 'poston', 'Length': 6, 'Frequency': 1}, {'Word': 'practice', 'Length': 8, 'Frequency': 1}, {'Word': 'prating', 'Length': 7, 'Frequency': 1}, {'Word': 'pray', 'Length': 4, 'Frequency': 2}, {'Word': 'prays', 'Length': 5, 'Frequency': 1}, {'Word': 'preeminence', 'Length': 11, 'Frequency': 1}, {'Word': 'present', 'Length': 7, 'Frequency': 1}, {'Word': 'pretty', 'Length': 6, 'Frequency': 1}, {'Word': 'prey', 'Length': 4, 'Frequency': 1}, {'Word': 'princes', 'Length': 7, 'Frequency': 1}, {'Word': 'priory', 'Length': 6, 'Frequency': 1}, {'Word': 'prithee', 'Length': 7, 'Frequency': 1}, {'Word': 'proceed', 'Length': 7, 'Frequency': 1}, {'Word': 'procrastinate', 'Length': 13, 'Frequency': 1}, {'Word': 'procure', 'Length': 7, 'Frequency': 1}, {'Word': 'prolonged', 'Length': 9, 'Frequency': 1}, {'Word': 'prosperous', 'Length': 10, 'Frequency': 1}, {'Word': 'proud', 'Length': 5, 'Frequency': 1}, {'Word': 'prove', 'Length': 5, 'Frequency': 1}, {'Word': 'provide', 'Length': 7, 'Frequency': 1}, {'Word': 'provision', 'Length': 9, 'Frequency': 1}, {'Word': 'punishment', 'Length': 10, 'Frequency': 1}, {'Word': 'quest', 'Length': 5, 'Frequency': 2}, {'Word': 'quiet', 'Length': 5, 'Frequency': 1}, {'Word': 'quit', 'Length': 4, 'Frequency': 1}, {'Word': 'rancorous', 'Length': 9, 'Frequency': 1}, {'Word': 'random', 'Length': 6, 'Frequency': 1}, {'Word': 'ransom', 'Length': 6, 'Frequency': 1}, {'Word': 'rate', 'Length': 4, 'Frequency': 1}, {'Word': 'rather', 'Length': 6, 'Frequency': 1}, {'Word': 'rebecca', 'Length': 7, 'Frequency': 1}, {'Word': 'recalled', 'Length': 8, 'Frequency': 1}, {'Word': 'redeem', 'Length': 6, 'Frequency': 1}, {'Word': 'reft', 'Length': 4, 'Frequency': 2}, {'Word': 'relieve', 'Length': 7, 'Frequency': 1}, {'Word': 'reserve', 'Length': 7, 'Frequency': 1}, {'Word': 'retain', 'Length': 6, 'Frequency': 1}, {'Word': 'retained', 'Length': 8, 'Frequency': 1}, {'Word': 'return', 'Length': 6, 'Frequency': 2}, {'Word': 'returned', 'Length': 8, 'Frequency': 3}, {'Word': 'right', 'Length': 5, 'Frequency': 1}, {'Word': 'rigorous', 'Length': 8, 'Frequency': 1}, {'Word': 'roaming', 'Length': 7, 'Frequency': 1}, {'Word': 'rock', 'Length': 4, 'Frequency': 1}, {'Word': 'sad', 'Length': 3, 'Frequency': 1}, {'Word': 'saddler', 'Length': 7, 'Frequency': 2}, {'Word': 'safe', 'Length': 4, 'Frequency': 2}, {'Word': 'safety', 'Length': 6, 'Frequency': 1}, {'Word': 'sailed', 'Length': 6, 'Frequency': 1}, {'Word': 'sailors', 'Length': 7, 'Frequency': 1}, {'Word': 'sake', 'Length': 4, 'Frequency': 2}, {'Word': 'save', 'Length': 4, 'Frequency': 1}, {'Word': 'saw', 'Length': 3, 'Frequency': 1}, {'Word': 'say', 'Length': 3, 'Frequency': 6}, {'Word': 'scarce', 'Length': 6, 'Frequency': 2}, {'Word': 'scene', 'Length': 5, 'Frequency': 3}, {'Word': 'schoolmaster', 'Length': 12, 'Frequency': 1}, {'Word': 'sconce', 'Length': 6, 'Frequency': 1}, {'Word': 'scour', 'Length': 5, 'Frequency': 1}, {'Word': 'sea', 'Length': 3, 'Frequency': 1}, {'Word': 'seafaring', 'Length': 9, 'Frequency': 1}, {'Word': 'sealed', 'Length': 6, 'Frequency': 1}, {'Word': 'search', 'Length': 6, 'Frequency': 1}, {'Word': 'seas', 'Length': 4, 'Frequency': 2}, {'Word': 'second', 'Length': 6, 'Frequency': 1}, {'Word': 'seditious', 'Length': 9, 'Frequency': 1}, {'Word': 'see', 'Length': 3, 'Frequency': 3}, {'Word': 'seek', 'Length': 4, 'Frequency': 4}, {'Word': 'seeks', 'Length': 5, 'Frequency': 1}, {'Word': 'seeming', 'Length': 7, 'Frequency': 1}, {'Word': 'seems', 'Length': 5, 'Frequency': 1}, {'Word': 'seen', 'Length': 4, 'Frequency': 1}, {'Word': 'seized', 'Length': 6, 'Frequency': 1}, {'Word': 'selfsame', 'Length': 8, 'Frequency': 1}, {'Word': 'sense', 'Length': 5, 'Frequency': 1}, {'Word': 'sent', 'Length': 4, 'Frequency': 1}, {'Word': 'sentence', 'Length': 8, 'Frequency': 1}, {'Word': 'sequel', 'Length': 6, 'Frequency': 1}, {'Word': 'servant', 'Length': 7, 'Frequency': 3}, {'Word': 'servants', 'Length': 8, 'Frequency': 1}, {'Word': 'serve', 'Length': 5, 'Frequency': 1}, {'Word': 'servitude', 'Length': 9, 'Frequency': 1}, {'Word': 'set', 'Length': 3, 'Frequency': 1}, {'Word': 'severed', 'Length': 7, 'Frequency': 1}, {'Word': 'shakespeare', 'Length': 11, 'Frequency': 2}, {'Word': 'shall', 'Length': 5, 'Frequency': 2}, {'Word': 'she', 'Length': 3, 'Frequency': 7}, {'Word': 'ship', 'Length': 4, 'Frequency': 3}, {'Word': 'ships', 'Length': 5, 'Frequency': 2}, {'Word': 'shipwracked', 'Length': 11, 'Frequency': 1}, {'Word': 'should', 'Length': 6, 'Frequency': 5}, {'Word': 'shoulders', 'Length': 9, 'Frequency': 1}, {'Word': 'sight', 'Length': 5, 'Frequency': 1}, {'Word': 'since', 'Length': 5, 'Frequency': 1}, {'Word': 'sir', 'Length': 3, 'Frequency': 8}, {'Word': 'sister', 'Length': 6, 'Frequency': 3}, {'Word': 'sit', 'Length': 3, 'Frequency': 1}, {'Word': 'situate', 'Length': 7, 'Frequency': 1}, {'Word': 'six', 'Length': 3, 'Frequency': 1}, {'Word': 'sixpence', 'Length': 8, 'Frequency': 1}, {'Word': 'slave', 'Length': 5, 'Frequency': 2}, {'Word': 'sleep', 'Length': 5, 'Frequency': 1}, {'Word': 'slow', 'Length': 4, 'Frequency': 1}, {'Word': 'small', 'Length': 5, 'Frequency': 1}, {'Word': 'so', 'Length': 2, 'Frequency': 17}, {'Word': 'solemn', 'Length': 6, 'Frequency': 1}, {'Word': 'solinus', 'Length': 7, 'Frequency': 3}, {'Word': 'some', 'Length': 4, 'Frequency': 6}, {'Word': 'somewhere', 'Length': 9, 'Frequency': 1}, {'Word': 'sons', 'Length': 4, 'Frequency': 1}, {'Word': 'soon', 'Length': 4, 'Frequency': 4}, {'Word': 'sorcerers', 'Length': 9, 'Frequency': 1}, {'Word': 'sorrow', 'Length': 6, 'Frequency': 2}, {'Word': 'sorrowest', 'Length': 9, 'Frequency': 1}, {'Word': 'sought', 'Length': 6, 'Frequency': 1}, {'Word': 'soul', 'Length': 4, 'Frequency': 3}, {'Word': 'souls', 'Length': 5, 'Frequency': 1}, {'Word': 'spake', 'Length': 5, 'Frequency': 1}, {'Word': 'spare', 'Length': 5, 'Frequency': 1}, {'Word': 'speak', 'Length': 5, 'Frequency': 2}, {'Word': 'speed', 'Length': 5, 'Frequency': 1}, {'Word': 'spent', 'Length': 5, 'Frequency': 1}, {'Word': 'splitted', 'Length': 8, 'Frequency': 1}, {'Word': 'sportive', 'Length': 8, 'Frequency': 1}, {'Word': 'sprung', 'Length': 6, 'Frequency': 1}, {'Word': 'stands', 'Length': 6, 'Frequency': 1}, {'Word': 'start', 'Length': 5, 'Frequency': 1}, {'Word': 'statute', 'Length': 7, 'Frequency': 1}, {'Word': 'statutes', 'Length': 8, 'Frequency': 1}, {'Word': 'stay', 'Length': 4, 'Frequency': 1}, {'Word': 'stays', 'Length': 5, 'Frequency': 1}, {'Word': 'stiff', 'Length': 5, 'Frequency': 1}, {'Word': 'still', 'Length': 5, 'Frequency': 1}, {'Word': 'stomach', 'Length': 7, 'Frequency': 1}, {'Word': 'stop', 'Length': 4, 'Frequency': 1}, {'Word': 'stories', 'Length': 7, 'Frequency': 1}, {'Word': 'story', 'Length': 5, 'Frequency': 1}, {'Word': 'straight', 'Length': 8, 'Frequency': 1}, {'Word': 'strange', 'Length': 7, 'Frequency': 1}, {'Word': 'strangers', 'Length': 9, 'Frequency': 1}, {'Word': 'stream', 'Length': 6, 'Frequency': 1}, {'Word': 'strike', 'Length': 6, 'Frequency': 1}, {'Word': 'struck', 'Length': 6, 'Frequency': 1}, {'Word': 'strucken', 'Length': 8, 'Frequency': 1}, {'Word': 'subjects', 'Length': 8, 'Frequency': 1}, {'Word': 'substance', 'Length': 9, 'Frequency': 1}, {'Word': 'such', 'Length': 4, 'Frequency': 4}, {'Word': 'suchlike', 'Length': 8, 'Frequency': 1}, {'Word': 'sue', 'Length': 3, 'Frequency': 1}, {'Word': 'sum', 'Length': 3, 'Frequency': 1}, {'Word': 'summers', 'Length': 7, 'Frequency': 1}, {'Word': 'sun', 'Length': 3, 'Frequency': 2}, {'Word': 'sure', 'Length': 4, 'Frequency': 1}, {'Word': 'synods', 'Length': 6, 'Frequency': 1}, {'Word': 'syracusa', 'Length': 8, 'Frequency': 2}, {'Word': 'syracuse', 'Length': 8, 'Frequency': 19}, {'Word': 'syracusian', 'Length': 10, 'Frequency': 4}, {'Word': 'syracusians', 'Length': 11, 'Frequency': 1}, {'Word': 'take', 'Length': 4, 'Frequency': 4}, {'Word': 'taken', 'Length': 5, 'Frequency': 1}, {'Word': 'takes', 'Length': 5, 'Frequency': 1}, {'Word': 'tardy', 'Length': 5, 'Frequency': 1}, {'Word': 'task', 'Length': 4, 'Frequency': 1}, {'Word': 'tell', 'Length': 4, 'Frequency': 4}, {'Word': 'termed', 'Length': 6, 'Frequency': 1}, {'Word': 'than', 'Length': 4, 'Frequency': 4}, {'Word': 'that', 'Length': 4, 'Frequency': 35}, {'Word': 'the', 'Length': 3, 'Frequency': 101}, {'Word': 'thee', 'Length': 4, 'Frequency': 6}, {'Word': 'their', 'Length': 5, 'Frequency': 16}, {'Word': 'them', 'Length': 4, 'Frequency': 7}, {'Word': 'then', 'Length': 4, 'Frequency': 5}, {'Word': 'there', 'Length': 5, 'Frequency': 5}, {'Word': 'therefore', 'Length': 9, 'Frequency': 4}, {'Word': 'these', 'Length': 5, 'Frequency': 2}, {'Word': 'they', 'Length': 4, 'Frequency': 8}, {'Word': 'thine', 'Length': 5, 'Frequency': 1}, {'Word': 'thing', 'Length': 5, 'Frequency': 1}, {'Word': 'this', 'Length': 4, 'Frequency': 12}, {'Word': 'those', 'Length': 5, 'Frequency': 3}, {'Word': 'thou', 'Length': 4, 'Frequency': 18}, {'Word': 'though', 'Length': 6, 'Frequency': 4}, {'Word': 'thousand', 'Length': 8, 'Frequency': 3}, {'Word': 'three', 'Length': 5, 'Frequency': 1}, {'Word': 'through', 'Length': 7, 'Frequency': 1}, {'Word': 'thus', 'Length': 4, 'Frequency': 3}, {'Word': 'thy', 'Length': 3, 'Frequency': 7}, {'Word': 'till', 'Length': 4, 'Frequency': 9}, {'Word': 'time', 'Length': 4, 'Frequency': 2}, {'Word': 'timely', 'Length': 6, 'Frequency': 1}, {'Word': 'to', 'Length': 2, 'Frequency': 85}, {'Word': 'told', 'Length': 4, 'Frequency': 1}, {'Word': 'too', 'Length': 3, 'Frequency': 4}, {'Word': 'towards', 'Length': 7, 'Frequency': 1}, {'Word': 'town', 'Length': 4, 'Frequency': 4}, {'Word': 'traders', 'Length': 7, 'Frequency': 1}, {'Word': 'traffic', 'Length': 7, 'Frequency': 1}, {'Word': 'tragic', 'Length': 6, 'Frequency': 1}, {'Word': 'travel', 'Length': 6, 'Frequency': 1}, {'Word': 'traveler', 'Length': 8, 'Frequency': 1}, {'Word': 'travels', 'Length': 7, 'Frequency': 1}, {'Word': 'tricks', 'Length': 6, 'Frequency': 1}, {'Word': 'troubles', 'Length': 8, 'Frequency': 1}, {'Word': 'true', 'Length': 4, 'Frequency': 1}, {'Word': 'trust', 'Length': 5, 'Frequency': 2}, {'Word': 'trusty', 'Length': 6, 'Frequency': 1}, {'Word': 'try', 'Length': 3, 'Frequency': 1}, {'Word': 'twelve', 'Length': 6, 'Frequency': 1}, {'Word': 'twice', 'Length': 5, 'Frequency': 1}, {'Word': 'twins', 'Length': 5, 'Frequency': 2}, {'Word': 'two', 'Length': 3, 'Frequency': 6}, {'Word': 'under', 'Length': 5, 'Frequency': 2}, {'Word': 'understand', 'Length': 10, 'Frequency': 2}, {'Word': 'unhappy', 'Length': 7, 'Frequency': 1}, {'Word': 'unjust', 'Length': 6, 'Frequency': 1}, {'Word': 'unkind', 'Length': 6, 'Frequency': 1}, {'Word': 'unless', 'Length': 6, 'Frequency': 1}, {'Word': 'unseen', 'Length': 6, 'Frequency': 1}, {'Word': 'unsought', 'Length': 8, 'Frequency': 1}, {'Word': 'unto', 'Length': 4, 'Frequency': 5}, {'Word': 'unwilling', 'Length': 9, 'Frequency': 1}, {'Word': 'up', 'Length': 2, 'Frequency': 4}, {'Word': 'upon', 'Length': 4, 'Frequency': 11}, {'Word': 'urging', 'Length': 6, 'Frequency': 1}, {'Word': 'us', 'Length': 2, 'Frequency': 7}, {'Word': 'utter', 'Length': 5, 'Frequency': 1}, {'Word': 'valued', 'Length': 6, 'Frequency': 1}, {'Word': 'vapors', 'Length': 6, 'Frequency': 1}, {'Word': 'very', 'Length': 4, 'Frequency': 4}, {'Word': 'view', 'Length': 4, 'Frequency': 2}, {'Word': 'vile', 'Length': 4, 'Frequency': 1}, {'Word': 'villain', 'Length': 7, 'Frequency': 2}, {'Word': 'violently', 'Length': 9, 'Frequency': 1}, {'Word': 'voyages', 'Length': 7, 'Frequency': 1}, {'Word': 'walk', 'Length': 4, 'Frequency': 1}, {'Word': 'wander', 'Length': 6, 'Frequency': 1}, {'Word': 'wanting', 'Length': 7, 'Frequency': 1}, {'Word': 'warrant', 'Length': 7, 'Frequency': 2}, {'Word': 'was', 'Length': 3, 'Frequency': 16}, {'Word': 'water', 'Length': 5, 'Frequency': 1}, {'Word': 'waxed', 'Length': 5, 'Frequency': 1}, {'Word': 'we', 'Length': 2, 'Frequency': 15}, {'Word': 'wealth', 'Length': 6, 'Frequency': 1}, {'Word': 'weary', 'Length': 5, 'Frequency': 1}, {'Word': 'wed', 'Length': 3, 'Frequency': 1}, {'Word': 'wedded', 'Length': 6, 'Frequency': 1}, {'Word': 'wednesday', 'Length': 9, 'Frequency': 1}, {'Word': 'weeping', 'Length': 7, 'Frequency': 1}, {'Word': 'weepings', 'Length': 8, 'Frequency': 1}, {'Word': 'weight', 'Length': 6, 'Frequency': 2}, {'Word': 'welcome', 'Length': 7, 'Frequency': 1}, {'Word': 'well', 'Length': 4, 'Frequency': 3}, {'Word': 'wend', 'Length': 4, 'Frequency': 1}, {'Word': 'went', 'Length': 4, 'Frequency': 1}, {'Word': 'were', 'Length': 4, 'Frequency': 7}, {'Word': 'werstine', 'Length': 8, 'Frequency': 1}, {'Word': 'what', 'Length': 4, 'Frequency': 16}, {'Word': 'when', 'Length': 4, 'Frequency': 6}, {'Word': 'where', 'Length': 5, 'Frequency': 6}, {'Word': 'which', 'Length': 5, 'Frequency': 5}, {'Word': 'whilst', 'Length': 6, 'Frequency': 2}, {'Word': 'who', 'Length': 3, 'Frequency': 2}, {'Word': 'whom', 'Length': 4, 'Frequency': 8}, {'Word': 'why', 'Length': 3, 'Frequency': 4}, {'Word': 'wide', 'Length': 4, 'Frequency': 1}, {'Word': 'wife', 'Length': 4, 'Frequency': 7}, {'Word': 'wild', 'Length': 4, 'Frequency': 1}, {'Word': 'will', 'Length': 4, 'Frequency': 14}, {'Word': 'william', 'Length': 7, 'Frequency': 1}, {'Word': 'wilt', 'Length': 4, 'Frequency': 1}, {'Word': 'wind', 'Length': 4, 'Frequency': 2}, {'Word': 'winged', 'Length': 6, 'Frequency': 1}, {'Word': 'wished', 'Length': 6, 'Frequency': 1}, {'Word': 'witches', 'Length': 7, 'Frequency': 1}, {'Word': 'with', 'Length': 4, 'Frequency': 22}, {'Word': 'withal', 'Length': 6, 'Frequency': 1}, {'Word': 'within', 'Length': 6, 'Frequency': 2}, {'Word': 'without', 'Length': 7, 'Frequency': 1}, {'Word': 'witness', 'Length': 7, 'Frequency': 1}, {'Word': 'woe', 'Length': 3, 'Frequency': 1}, {'Word': 'woes', 'Length': 4, 'Frequency': 2}, {'Word': 'woman', 'Length': 5, 'Frequency': 2}, {'Word': 'women', 'Length': 5, 'Frequency': 1}, {'Word': 'word', 'Length': 4, 'Frequency': 1}, {'Word': 'words', 'Length': 5, 'Frequency': 1}, {'Word': 'world', 'Length': 5, 'Frequency': 3}, {'Word': 'worship', 'Length': 7, 'Frequency': 1}, {'Word': 'worthily', 'Length': 8, 'Frequency': 1}, {'Word': 'would', 'Length': 5, 'Frequency': 7}, {'Word': 'wretched', 'Length': 8, 'Frequency': 1}, {'Word': 'wrought', 'Length': 7, 'Frequency': 1}, {'Word': 'years', 'Length': 5, 'Frequency': 1}, {'Word': 'yet', 'Length': 3, 'Frequency': 6}, {'Word': 'you', 'Length': 3, 'Frequency': 32}, {'Word': 'youngest', 'Length': 8, 'Frequency': 1}, {'Word': 'your', 'Length': 4, 'Frequency': 24}, {'Word': 'yours', 'Length': 5, 'Frequency': 2}]\n"
     ]
    }
   ],
   "source": [
    "# A list is initialized to  hold the dictionaries \n",
    "dict_list = []\n",
    "#we use a for loop to read each list within in the to_csv list and assigns a key to the value\n",
    "for word in to_csv:\n",
    "    #divt key-value pairs are designed\n",
    "    dict_ele = {'Word':word[0],'Length':word[1],'Frequency':word[2]}\n",
    "    #each dict is appended to the dict_list\n",
    "    dict_list.append(dict_ele)\n",
    "print(dict_list)"
   ]
  },
  {
   "cell_type": "code",
   "execution_count": 14,
   "id": "933b1599",
   "metadata": {},
   "outputs": [],
   "source": [
    "#now we use the json module to write the list of dictionaries into a json file\n",
    "import json"
   ]
  },
  {
   "cell_type": "code",
   "execution_count": 15,
   "id": "3b0da0ff",
   "metadata": {},
   "outputs": [],
   "source": [
    "#Initially, we convert the list into json file type(which is no different from our dict_list) before writing it into a file\n",
    "json_type = json.dumps(dict_list)\n",
    "#print(json_type)\n",
    "#Then we open the json file in the write mode and write into it dictionary by dictionary\n",
    "with open('words.json','w') as json_file:\n",
    "    json_file.write(json_type)"
   ]
  },
  {
   "cell_type": "markdown",
   "id": "82de6398",
   "metadata": {},
   "source": [
    "Write a function prep\\_vec\\_mat with only \\*\\*kwargs called prep_vec_mat(\\*\\*details). This function will return a list-based vector of the desired length or a list-based matrix of the desired dimensions (with all values being 0). The rules to be followed are as follows: <br>\n",
    "- The argument vartype can be either 'int' or 'float' for producing integer (0) or float (0.0) values respectively. If vartype is not provided the values in the vector (or matrix) should be int.\n",
    "-If I want to create a vector of a particular length (say 3) : [0,0,0]. I will call prep_vec_mat(n=3). \n",
    " - For floats [0.0,0.0,0.0], I will call prep_vec_mat(n=3,vartype='float')\n",
    "- If I want to create a matrix of dimensions 2 rows and 3 columns :[[0,0,0],[0,0,0]]. I will  call prep_vec_mat(m=2, n=3).\n",
    " - For floats [[0.0,0.0,0.0],[0.0,0.0,0.0]], I will call prep_vec_mat(m=2,n=3,vartype='float')\n",
    "\n",
    "After creating the function, use it to prepare (Print these vectors) :\n",
    "- a length 4 vector of ints zeros\n",
    "- a 5 x 2 (5 rows 2 columns) matrix of floats zeros"
   ]
  },
  {
   "cell_type": "code",
   "execution_count": 16,
   "id": "a07e9ba7",
   "metadata": {},
   "outputs": [],
   "source": [
    "#Your answers go here\n",
    "# We define a function prep_vec_mat() which can accept dictionaries as arguments\n",
    "def prep_vec_mat(**details):\n",
    "    cust_list = []\n",
    "    #Case1: when all the three(n,m,varchar)are passed as arguments. We assign them local variables for our understanding\n",
    "    if 'm' in details and 'vartype' in details and 'n' in details:\n",
    "        rows = details[\"m\"]\n",
    "        columns = details[\"n\"]\n",
    "        vartype = details[\"vartype\"]\n",
    "    #Case2: When the user gives only the rows and columns count. the vartype is by default int\n",
    "    elif 'm' in details and 'n' in details:\n",
    "        rows = details[\"m\"]\n",
    "        columns = details[\"n\"]\n",
    "        vartype = int\n",
    "    #Case3: When the user gives only the variable data type and the columns count. the rows count is by default 1\n",
    "    elif 'vartype' in details and 'n' in details:\n",
    "        columns = details[\"n\"]\n",
    "        vartype = details[\"vartype\"]\n",
    "        rows = 1\n",
    "    #Case4: When only the rows count is given by the user. By default, vartype = int and columns = 1\n",
    "    elif 'n' in details:\n",
    "        columns = details[\"n\"]\n",
    "        rows = 1\n",
    "        vartype = int\n",
    "    #Case5: When the rows count is not given. It does not matter whether other arguments are passed.\n",
    "    # the function is returned without any operations\n",
    "    else:\n",
    "        print(\"Cannot proceed without the n value!!!!\")\n",
    "        rows = details[\"m\"]\n",
    "        vartype = details[\"vartype\"]\n",
    "        columns = None\n",
    "        return \n",
    "    #If any of the cases from 1 to 4 are satisfied, then the following loop is executed\n",
    "    for i in range(rows):\n",
    "        #for each row, the list is appended\n",
    "        list_1 = []\n",
    "        for j in range(columns):\n",
    "            #zeroes are appended to the list according to the number of columns \n",
    "            #before appending, it is made sure that the right variable data type is used\n",
    "            if vartype ==float:\n",
    "                list_1.append(0.0)\n",
    "            elif vartype == int:\n",
    "                list_1.append(0)\n",
    "        cust_list.append(list_1)\n",
    "    return cust_list\n",
    "#the list with the vector or a list-matrix is returned"
   ]
  },
  {
   "cell_type": "markdown",
   "id": "d7d5f4a2",
   "metadata": {},
   "source": [
    "- a length 4 vector of ints zeros"
   ]
  },
  {
   "cell_type": "code",
   "execution_count": 17,
   "id": "955fe531",
   "metadata": {},
   "outputs": [
    {
     "data": {
      "text/plain": [
       "[[0, 0, 0, 0]]"
      ]
     },
     "execution_count": 17,
     "metadata": {},
     "output_type": "execute_result"
    }
   ],
   "source": [
    "prep_vec_mat(n=4,vartype = int)\n",
    "        "
   ]
  },
  {
   "cell_type": "markdown",
   "id": "081937e8",
   "metadata": {},
   "source": [
    "- a 5 x 2 (5 rows 2 columns) matrix of floats zeros"
   ]
  },
  {
   "cell_type": "code",
   "execution_count": 18,
   "id": "1ee18ca9",
   "metadata": {},
   "outputs": [
    {
     "data": {
      "text/plain": [
       "[[0.0, 0.0], [0.0, 0.0], [0.0, 0.0], [0.0, 0.0], [0.0, 0.0]]"
      ]
     },
     "execution_count": 18,
     "metadata": {},
     "output_type": "execute_result"
    }
   ],
   "source": [
    "prep_vec_mat(m = 5, n = 2, vartype = float)"
   ]
  },
  {
   "cell_type": "code",
   "execution_count": null,
   "id": "152b646d",
   "metadata": {},
   "outputs": [],
   "source": []
  }
 ],
 "metadata": {
  "kernelspec": {
   "display_name": "Python 3 (ipykernel)",
   "language": "python",
   "name": "python3"
  },
  "language_info": {
   "codemirror_mode": {
    "name": "ipython",
    "version": 3
   },
   "file_extension": ".py",
   "mimetype": "text/x-python",
   "name": "python",
   "nbconvert_exporter": "python",
   "pygments_lexer": "ipython3",
   "version": "3.9.7"
  }
 },
 "nbformat": 4,
 "nbformat_minor": 5
}
